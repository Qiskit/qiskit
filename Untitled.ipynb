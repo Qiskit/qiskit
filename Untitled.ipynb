{
 "cells": [
  {
   "cell_type": "code",
   "execution_count": 8,
   "id": "925359df",
   "metadata": {},
   "outputs": [
    {
     "data": {
      "text/plain": [
       "True"
      ]
     },
     "execution_count": 8,
     "metadata": {},
     "output_type": "execute_result"
    }
   ],
   "source": [
    "from qiskit.quantum_info import PauliList,Pauli\n",
    "pauli_list=PauliList([Pauli(\"II\"),Pauli(\"IX\"), Pauli(\"IY\"), Pauli(\"XX\"),Pauli(\"YY\"),Pauli(\"YX\")])\n",
    "pauli_list.group_subops_pauli_list()\n",
    "#returns [PauliList(['YX']), PauliList(['XX', 'IX']), PauliList(['IY', 'II', 'YY'])]\n",
    "pauli_list[3].qw_anticommutes(pauli_list[4])\n",
    "#returns True because pauli_list[0]=Pauli(\"XX\") qubit-wise anticommutes with pauli_list[1]=Pauli(\"YY\")"
   ]
  },
  {
   "cell_type": "code",
   "execution_count": null,
   "id": "a6332c8e",
   "metadata": {},
   "outputs": [],
   "source": []
  },
  {
   "cell_type": "code",
   "execution_count": null,
   "id": "dc8eb4cd",
   "metadata": {},
   "outputs": [],
   "source": []
  },
  {
   "cell_type": "code",
   "execution_count": null,
   "id": "7e3bbde8",
   "metadata": {},
   "outputs": [],
   "source": [
    " "
   ]
  }
 ],
 "metadata": {
  "kernelspec": {
   "display_name": "Python (newfixissueenv)",
   "language": "python",
   "name": "newfixissueenv"
  },
  "language_info": {
   "codemirror_mode": {
    "name": "ipython",
    "version": 3
   },
   "file_extension": ".py",
   "mimetype": "text/x-python",
   "name": "python",
   "nbconvert_exporter": "python",
   "pygments_lexer": "ipython3",
   "version": "3.9.5"
  }
 },
 "nbformat": 4,
 "nbformat_minor": 5
}
