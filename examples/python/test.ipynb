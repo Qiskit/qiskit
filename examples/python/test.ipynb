{
 "cells": [
  {
   "cell_type": "code",
   "execution_count": null,
   "metadata": {},
   "outputs": [],
   "source": [
    "from qiskit import QuantumCircuit\n",
    "import qiskit.quantum_info as qi\n",
    "\n",
    "# Create circuit with gate that modifies Pauli phase\n",
    "qc = QuantumCircuit(2)\n",
    "qc.cz(0, 1)\n",
    "\n",
    "# Generate random Pauli\n",
    "pauli = qi.random_pauli(2, seed=123)\n",
    "\n",
    "# Try and evolve\n",
    "pauli.evolve(qc)"
   ]
  }
 ],
 "metadata": {
  "kernelspec": {
   "display_name": "Python 3.10.4 ('fixissue8438env')",
   "language": "python",
   "name": "python3"
  },
  "language_info": {
   "name": "python",
   "version": "3.10.4"
  },
  "orig_nbformat": 4,
  "vscode": {
   "interpreter": {
    "hash": "2e68f811ef85e2fbf74a4e0922904597c80a3b892fd5c21357ea30c5c6603dd1"
   }
  }
 },
 "nbformat": 4,
 "nbformat_minor": 2
}
