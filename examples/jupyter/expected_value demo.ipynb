{
 "cells": [
  {
   "cell_type": "code",
   "execution_count": 1,
   "id": "922eaef5",
   "metadata": {},
   "outputs": [],
   "source": [
    "import numpy as np\n",
    "from qiskit.quantum_info.states import Statevector\n",
    "from qiskit.quantum_info.operators import Pauli, SparsePauliOp"
   ]
  },
  {
   "cell_type": "markdown",
   "id": "d872ce15",
   "metadata": {},
   "source": [
    "### The `expected_value` function\n",
    "\n",
    "An MD method does not need to belong to a class (but it can). So there is latitude in how to organize it. For the moment it lives in a file in the top-level of qiskit. This is mostly to avoid cyclic imports. Moving the method definitions to live near the types in their signature would avoid this problem."
   ]
  },
  {
   "cell_type": "code",
   "execution_count": 2,
   "id": "6a4a6ae1",
   "metadata": {},
   "outputs": [],
   "source": [
    "from qiskit.operations import expectation_value"
   ]
  },
  {
   "cell_type": "markdown",
   "id": "e41fa7fd",
   "metadata": {},
   "source": [
    "To demonstrate `expectation_value`, we create a 2-qubit state and a diagonal operator."
   ]
  },
  {
   "cell_type": "code",
   "execution_count": 3,
   "id": "9e786aba",
   "metadata": {},
   "outputs": [],
   "source": [
    "state = Statevector([1, 2, 3, -4])\n",
    "state = state / np.linalg.norm(state.data)\n",
    "diagop = Pauli('ZZ')"
   ]
  },
  {
   "cell_type": "markdown",
   "id": "327e5eeb",
   "metadata": {},
   "source": [
    "### API\n",
    "\n",
    "`expectation_value` is called like this:\n",
    "\n",
    "```python\n",
    "expectation_value([oper], state, [qargs])\n",
    "```\n",
    "In some cases (e.g. for state of type `Counts`) the first argument may be ommitted and a default value is used. \n",
    "\n",
    "`qargs` is optional, and applies an operator to a selected subsystem.\n",
    "\n",
    "Here we compute the expecation value with the operator and state constructed above."
   ]
  },
  {
   "cell_type": "code",
   "execution_count": 4,
   "id": "3ef32773",
   "metadata": {},
   "outputs": [
    {
     "data": {
      "text/plain": [
       "0.1333333333333333"
      ]
     },
     "execution_count": 4,
     "metadata": {},
     "output_type": "execute_result"
    }
   ],
   "source": [
    "expectation_value(diagop, state)"
   ]
  },
  {
   "cell_type": "markdown",
   "id": "7865799b",
   "metadata": {},
   "source": [
    "We can also sample counts and compute the expectation value of a diagonal operator. Recall that this simulates measuring in the $ZZ$ basis."
   ]
  },
  {
   "cell_type": "code",
   "execution_count": 5,
   "id": "5ffa557a",
   "metadata": {},
   "outputs": [],
   "source": [
    "state_counts = state.sample_counts(1_000_000)"
   ]
  },
  {
   "cell_type": "code",
   "execution_count": 6,
   "id": "fffdf898",
   "metadata": {},
   "outputs": [
    {
     "data": {
      "text/plain": [
       "0.131966"
      ]
     },
     "execution_count": 6,
     "metadata": {},
     "output_type": "execute_result"
    }
   ],
   "source": [
    "expectation_value(diagop, state_counts)"
   ]
  },
  {
   "cell_type": "markdown",
   "id": "b1b39879",
   "metadata": {},
   "source": [
    "Because you can only measure a diagonal operator, passing the operator is not required, it is assumed to be diagonal with no `I` operators."
   ]
  },
  {
   "cell_type": "code",
   "execution_count": 7,
   "id": "2922d07d",
   "metadata": {},
   "outputs": [
    {
     "data": {
      "text/plain": [
       "0.131966"
      ]
     },
     "execution_count": 7,
     "metadata": {},
     "output_type": "execute_result"
    }
   ],
   "source": [
    "expectation_value(state_counts)"
   ]
  },
  {
   "cell_type": "markdown",
   "id": "e04a472d",
   "metadata": {},
   "source": [
    "We try another diagonal operator `ZI`."
   ]
  },
  {
   "cell_type": "code",
   "execution_count": 8,
   "id": "f5b883f9",
   "metadata": {},
   "outputs": [
    {
     "data": {
      "text/plain": [
       "-0.6666666666666665"
      ]
     },
     "execution_count": 8,
     "metadata": {},
     "output_type": "execute_result"
    }
   ],
   "source": [
    "expectation_value(Pauli('ZI'), state)"
   ]
  },
  {
   "cell_type": "markdown",
   "id": "cbde8409",
   "metadata": {},
   "source": [
    "Any diagonal operator, including `ZI`, also works with `Counts`."
   ]
  },
  {
   "cell_type": "code",
   "execution_count": 9,
   "id": "14f3f945",
   "metadata": {},
   "outputs": [
    {
     "data": {
      "text/plain": [
       "-0.666502"
      ]
     },
     "execution_count": 9,
     "metadata": {},
     "output_type": "execute_result"
    }
   ],
   "source": [
    "expectation_value(Pauli('ZI'), state_counts)"
   ]
  },
  {
   "cell_type": "markdown",
   "id": "fada001d",
   "metadata": {},
   "source": [
    "By passing `qargs` we can select a subsystem to use with a smaller operator. Note that qubits are counted from right to left, starting with `0`."
   ]
  },
  {
   "cell_type": "code",
   "execution_count": 10,
   "id": "3649ec53",
   "metadata": {},
   "outputs": [
    {
     "data": {
      "text/plain": [
       "[-0.33333333333333326, -0.6666666666666665]"
      ]
     },
     "execution_count": 10,
     "metadata": {},
     "output_type": "execute_result"
    }
   ],
   "source": [
    "[expectation_value(Pauli('Z'), state, [qbit_num]) for qbit_num in (0,1)]"
   ]
  },
  {
   "cell_type": "markdown",
   "id": "f6b986ff",
   "metadata": {},
   "source": [
    "The same works with `Counts` again. But, passing the operator explicitly is not yet supported. Instead the operator is assumed to be the non-trivial diagonal one-qubit operator on each qubit specified."
   ]
  },
  {
   "cell_type": "code",
   "execution_count": 11,
   "id": "1788ab40",
   "metadata": {},
   "outputs": [
    {
     "data": {
      "text/plain": [
       "[-0.331216, -0.666502]"
      ]
     },
     "execution_count": 11,
     "metadata": {},
     "output_type": "execute_result"
    }
   ],
   "source": [
    "[expectation_value(state_counts, [qbit_num]) for qbit_num in (0,1)]"
   ]
  },
  {
   "cell_type": "markdown",
   "id": "5d70b8df",
   "metadata": {},
   "source": [
    "For taking the expectation value of `Counts` it would be more performant to allow simply passing `ZZ` rather than `Paul(ZZ)`. So we do allow this. In fact, a `Pauli` is translated to a string internally. A string passed as the first argument is interpreted as Pauli operator."
   ]
  },
  {
   "cell_type": "code",
   "execution_count": 12,
   "id": "0e9e196d",
   "metadata": {},
   "outputs": [
    {
     "data": {
      "text/plain": [
       "0.131966"
      ]
     },
     "execution_count": 12,
     "metadata": {},
     "output_type": "execute_result"
    }
   ],
   "source": [
    "expectation_value('ZZ', state_counts)"
   ]
  },
  {
   "cell_type": "markdown",
   "id": "3807fa3d",
   "metadata": {},
   "source": [
    "In order to make the interface more uniform, we allow this for subclasses of `QuantumState` as well."
   ]
  },
  {
   "cell_type": "code",
   "execution_count": 13,
   "id": "99c816dd",
   "metadata": {},
   "outputs": [
    {
     "data": {
      "text/plain": [
       "[0.1333333333333333, 0.0]"
      ]
     },
     "execution_count": 13,
     "metadata": {},
     "output_type": "execute_result"
    }
   ],
   "source": [
    "[expectation_value('ZZ', state), expectation_value('XY', state)]"
   ]
  },
  {
   "cell_type": "markdown",
   "id": "203d2599",
   "metadata": {},
   "source": [
    "There are arguments for and against allowing the latter signature. For the moment, it is present."
   ]
  },
  {
   "cell_type": "markdown",
   "id": "34730239",
   "metadata": {},
   "source": [
    "### Diagonal operators and `Counts`\n",
    "\n",
    "Because phase information is lost when building an empirical probability distribution as `Counts` (or `QuasiDistribution`) only diagonal operators will give sensible results. So:\n",
    "\n",
    "*We assume that any operator passed to `expected_value` is diagonal*"
   ]
  },
  {
   "cell_type": "markdown",
   "id": "212342de",
   "metadata": {},
   "source": [
    "To see a bit more about how this works, let's use the operator `XZ`. First with the original state."
   ]
  },
  {
   "cell_type": "code",
   "execution_count": 14,
   "id": "a6be89eb",
   "metadata": {},
   "outputs": [
    {
     "data": {
      "text/plain": [
       "0.7333333333333332"
      ]
     },
     "execution_count": 14,
     "metadata": {},
     "output_type": "execute_result"
    }
   ],
   "source": [
    "expectation_value(Pauli('XZ'), state)"
   ]
  },
  {
   "cell_type": "markdown",
   "id": "dafbedde",
   "metadata": {},
   "source": [
    "And then with the counts"
   ]
  },
  {
   "cell_type": "code",
   "execution_count": 15,
   "id": "609c7b41",
   "metadata": {},
   "outputs": [
    {
     "data": {
      "text/plain": [
       "0.131966"
      ]
     },
     "execution_count": 15,
     "metadata": {},
     "output_type": "execute_result"
    }
   ],
   "source": [
    "expectation_value(Pauli('XZ'), state_counts)"
   ]
  },
  {
   "cell_type": "markdown",
   "id": "68c73817",
   "metadata": {},
   "source": [
    "Now `state` and `state_counts` give different results. In fact the latter result is the same that we got with `ZZ`. This holds in general. Since the caller passed `XZ`, we assume that when collecting counts, the qubits were measured in `XZ` basis. Otherwise, we would not, in general, be able to compute the expectation value.\n",
    "\n",
    "In constrast, the expectation value of any operator may be computed for `state`. So we do just that."
   ]
  },
  {
   "cell_type": "markdown",
   "id": "bede3ab5",
   "metadata": {},
   "source": [
    "The user needs to know what basis the counts were measured in. But, the algorithm in `expectation_value` does not. So, we allow passing a string with each `0` representing `I` and each `1` representing the measurement-basis operator on the corresponding qubit. In fact, for `Counts` and `QuasiDistribution` this more performant way to pass the operator. For example:"
   ]
  },
  {
   "cell_type": "code",
   "execution_count": 16,
   "id": "a150f8b5",
   "metadata": {},
   "outputs": [
    {
     "data": {
      "text/plain": [
       "[0.131966, -0.666502, -0.331216]"
      ]
     },
     "execution_count": 16,
     "metadata": {},
     "output_type": "execute_result"
    }
   ],
   "source": [
    "[expectation_value(oper, state_counts) for oper in ('11', '10', '01')]"
   ]
  },
  {
   "cell_type": "markdown",
   "id": "3f5de03c",
   "metadata": {},
   "source": [
    "#### `SparsePauliOp` and `Counts`"
   ]
  },
  {
   "cell_type": "markdown",
   "id": "cd569895",
   "metadata": {},
   "source": [
    "A weighted Pauli sum also works with `Counts` as long as each term is diagonal. Here we use the same operator for the states `state` and `state_counts`."
   ]
  },
  {
   "cell_type": "code",
   "execution_count": 17,
   "id": "4952246f",
   "metadata": {},
   "outputs": [
    {
     "data": {
      "text/plain": [
       "[(-1.1999999999999997+0j), (-1.201038+0j)]"
      ]
     },
     "execution_count": 17,
     "metadata": {},
     "output_type": "execute_result"
    }
   ],
   "source": [
    "sp_op = SparsePauliOp(['ZZ', 'ZI'], [1.0, 2.0])\n",
    "[expectation_value(sp_op, state), expectation_value(sp_op, state_counts)]"
   ]
  },
  {
   "cell_type": "markdown",
   "id": "daa33239",
   "metadata": {},
   "source": [
    "#### `QuasiDistribution`\n",
    "\n",
    "We can take the expection value of `QuasiDistribution`."
   ]
  },
  {
   "cell_type": "code",
   "execution_count": 18,
   "id": "f2d552b7",
   "metadata": {},
   "outputs": [
    {
     "name": "stdout",
     "output_type": "stream",
     "text": [
      "[{'00': 0.4999999999999999, '01': 0.0, '10': 0.0, '11': 0.4999999999999999}]\n"
     ]
    }
   ],
   "source": [
    "from qiskit import QuantumCircuit\n",
    "from qiskit.primitives import Sampler\n",
    "\n",
    "bell = QuantumCircuit(2)\n",
    "bell.h(0)\n",
    "bell.cx(0, 1)\n",
    "bell.measure_all()\n",
    "\n",
    "# executes a Bell circuit\n",
    "sampler = Sampler()\n",
    "result = sampler.run(circuits=[bell]).result()\n",
    "print([q.binary_probabilities() for q in result.quasi_dists])\n"
   ]
  },
  {
   "cell_type": "markdown",
   "id": "6dc22432",
   "metadata": {},
   "source": [
    "The instance of `SamplerResult` contains `QuasiDistribution`s:"
   ]
  },
  {
   "cell_type": "code",
   "execution_count": 19,
   "id": "2b0977b6",
   "metadata": {},
   "outputs": [
    {
     "data": {
      "text/plain": [
       "qiskit.result.distributions.quasi.QuasiDistribution"
      ]
     },
     "execution_count": 19,
     "metadata": {},
     "output_type": "execute_result"
    }
   ],
   "source": [
    "qdist = result.quasi_dists[0]\n",
    "type(qdist)"
   ]
  },
  {
   "cell_type": "markdown",
   "id": "03308f89",
   "metadata": {},
   "source": [
    "The simplest call to `expectation_value` is"
   ]
  },
  {
   "cell_type": "code",
   "execution_count": 20,
   "id": "7bc61b41",
   "metadata": {},
   "outputs": [
    {
     "data": {
      "text/plain": [
       "0.9999999999999998"
      ]
     },
     "execution_count": 20,
     "metadata": {},
     "output_type": "execute_result"
    }
   ],
   "source": [
    "expectation_value(qdist)"
   ]
  },
  {
   "cell_type": "markdown",
   "id": "fabe8cf7",
   "metadata": {},
   "source": [
    "The semantics of `expectation_value` for `Counts` and `QuasiDistribution` is the same."
   ]
  },
  {
   "cell_type": "code",
   "execution_count": 21,
   "id": "3c69a9b4",
   "metadata": {
    "scrolled": true
   },
   "outputs": [
    {
     "data": {
      "text/plain": [
       "[0.9999999999999998, 0.9999999999999998, 0.9999999999999998, 0.0, 0.0, 0.0]"
      ]
     },
     "execution_count": 21,
     "metadata": {},
     "output_type": "execute_result"
    }
   ],
   "source": [
    "[expectation_value(oper, qdist) for oper in ('11', 'ZZ', Pauli('ZZ'), '10', 'ZI', Pauli('ZI'))]"
   ]
  },
  {
   "cell_type": "markdown",
   "id": "f91a010a",
   "metadata": {},
   "source": [
    "`SamplerResult` contains a list of `QuasiDistribution`s (and some metadata). We can operate on this directly with a list of expectation values:"
   ]
  },
  {
   "cell_type": "code",
   "execution_count": 22,
   "id": "b83b2b3c",
   "metadata": {},
   "outputs": [
    {
     "data": {
      "text/plain": [
       "[0.9999999999999998]"
      ]
     },
     "execution_count": 22,
     "metadata": {},
     "output_type": "execute_result"
    }
   ],
   "source": [
    "expectation_value(result)"
   ]
  },
  {
   "cell_type": "markdown",
   "id": "9b1eccb4",
   "metadata": {},
   "source": [
    "### `DensityMatrix` and `StabilizerState`\n",
    "\n",
    "The semantics of `expectation_value` for these is the same as for `Statevector`. We will not give examples here."
   ]
  },
  {
   "cell_type": "code",
   "execution_count": null,
   "id": "c5d57e68",
   "metadata": {},
   "outputs": [],
   "source": []
  }
 ],
 "metadata": {
  "kernelspec": {
   "display_name": "Python 3",
   "language": "python",
   "name": "python3"
  },
  "language_info": {
   "codemirror_mode": {
    "name": "ipython",
    "version": 3
   },
   "file_extension": ".py",
   "mimetype": "text/x-python",
   "name": "python",
   "nbconvert_exporter": "python",
   "pygments_lexer": "ipython3",
   "version": "3.10.5"
  }
 },
 "nbformat": 4,
 "nbformat_minor": 5
}
