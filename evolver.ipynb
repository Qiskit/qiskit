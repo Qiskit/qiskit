{
 "cells": [
  {
   "cell_type": "code",
   "execution_count": 20,
   "metadata": {},
   "outputs": [],
   "source": [
    "from math import trunc\n",
    "import unittest\n",
    "import numpy as np\n",
    "import scipy.sparse as sp\n",
    "from qiskit.algorithms.evolvers.classical_real_evolver import ClassicalRealEvolver\n",
    "from test.python.algorithms import QiskitAlgorithmsTestCase\n",
    "from ddt import data, ddt, unpack\n",
    "from numpy.testing import assert_raises\n",
    "\n",
    "from qiskit.quantum_info import Statevector\n",
    "from qiskit.algorithms.evolvers.evolution_problem import EvolutionProblem\n",
    "from qiskit.circuit import Parameter\n",
    "from qiskit.opflow import Y, Z, I, One, X, Zero, VectorStateFn, StateFn, SummedOp, PauliSumOp\n",
    "from scipy.sparse.linalg import bicg,norm\n",
    "import matplotlib.pyplot as plt\n",
    "import time"
   ]
  },
  {
   "cell_type": "code",
   "execution_count": 21,
   "metadata": {},
   "outputs": [],
   "source": [
    "def create_hamiltonian(num_sites):\n",
    "    J = 0.1\n",
    "    g = -1.0\n",
    "\n",
    "    zz = [\"I\" * i + \"ZZ\" + \"I\" * (num_sites - i - 2) for i in range(num_sites - 1)]\n",
    "    x = [\"I\" * i + \"X\" + \"I\" * (num_sites - i - 1) for i in range(num_sites)]\n",
    "    return PauliSumOp.from_list(list(zip(zz, len(zz) * [J])) + list(zip(x, len(x) * [g])))\n"
   ]
  },
  {
   "cell_type": "code",
   "execution_count": 24,
   "metadata": {},
   "outputs": [
    {
     "name": "stdout",
     "output_type": "stream",
     "text": [
      "0.1 * ZZIII\n",
      "+ 0.1 * IZZII\n",
      "+ 0.1 * IIZZI\n",
      "+ 0.1 * IIIZZ\n",
      "- 1.0 * XIIII\n",
      "- 1.0 * IXIII\n",
      "- 1.0 * IIXII\n",
      "- 1.0 * IIIXI\n",
      "- 1.0 * IIIIX\n"
     ]
    }
   ],
   "source": [
    "print(create_hamiltonian(5))"
   ]
  },
  {
   "cell_type": "code",
   "execution_count": 3,
   "metadata": {},
   "outputs": [],
   "source": [
    "\n",
    "def time_step(num_sites):\n",
    "    initial_state = np.zeros(2 ** num_sites, dtype=np.complex128)\n",
    "    initial_state[0] = 1.0\n",
    "    initial_state = VectorStateFn(initial_state)\n",
    "\n",
    "    evolution_problem = EvolutionProblem(create_hamiltonian(num_sites),1.0,initial_state,truncation_threshold=1e-5)\n",
    "    classic_evolver = ClassicalRealEvolver(timesteps=10)\n",
    "    a = time.time()\n",
    "    state, lhs_operator, rhs_operator, timesteps = classic_evolver._start(evolution_problem=evolution_problem)\n",
    "    b = time.time()\n",
    "    classic_evolver._step(state, lhs_operator, rhs_operator)\n",
    "    c = time.time()\n",
    "    return b-a, c-b\n"
   ]
  },
  {
   "cell_type": "code",
   "execution_count": 11,
   "metadata": {},
   "outputs": [],
   "source": [
    "def state_steps(num_sites, timesteps):\n",
    "    hamiltonian = create_hamiltonian(num_sites)\n",
    "    initial_state = np.zeros(2 ** num_sites, dtype=np.complex128)\n",
    "    initial_state[0] = 1.0\n",
    "    initial_state = VectorStateFn(initial_state)\n",
    "    evolution_problem = EvolutionProblem(hamiltonian,1.0,initial_state)\n",
    "    classic_evolver = ClassicalRealEvolver(timesteps=timesteps)\n",
    "    return classic_evolver.evolve(evolution_problem).evolved_state.to_matrix()\n",
    "\n",
    "def recomended_steps(num_sites,  threshold , t =1.0):\n",
    "    norm_hamiltonian = sp.linalg.norm(create_hamiltonian(num_sites).to_spmatrix(), ord = 1)\n",
    "    return int( np.power(norm_hamiltonian * t, 3 / 2) * np.power(12 * threshold, -1 / 2) ) + 1"
   ]
  },
  {
   "cell_type": "code",
   "execution_count": 19,
   "metadata": {},
   "outputs": [
    {
     "data": {
      "text/plain": [
       "[<matplotlib.lines.Line2D at 0x7fac66970a00>]"
      ]
     },
     "execution_count": 19,
     "metadata": {},
     "output_type": "execute_result"
    },
    {
     "data": {
      "image/png": "[encoded data removed]",
      "text/plain": [
       "<Figure size 432x288 with 1 Axes>"
      ]
     },
     "metadata": {
      "needs_background": "light"
     },
     "output_type": "display_data"
    }
   ],
   "source": [
    "steps = np.arange(5,100,10)\n",
    "n_qubits = 14\n",
    "reference_state = state_steps(n_qubits,10000)\n",
    "states = [state_steps(n_qubits,i) for i in steps]\n",
    "errors = [np.linalg.norm(state-reference_state) for state in states]\n",
    "\n",
    "errrs = np.arange(-3,-1,step = 1e-1)\n",
    "stpss = [recomended_steps(n_qubits, 10**errr ) for errr in errrs]\n",
    "\n",
    "plt.scatter(np.log10(steps),np.log10(errors))\n",
    "plt.plot(np.log10(stpss),errrs)"
   ]
  },
  {
   "cell_type": "code",
   "execution_count": 18,
   "metadata": {},
   "outputs": [
    {
     "data": {
      "text/plain": [
       "[<matplotlib.lines.Line2D at 0x7fac66aff250>]"
      ]
     },
     "execution_count": 18,
     "metadata": {},
     "output_type": "execute_result"
    },
    {
     "data": {
      "image/png": "[encoded data removed]",
      "text/plain": [
       "<Figure size 432x288 with 1 Axes>"
      ]
     },
     "metadata": {
      "needs_background": "light"
     },
     "output_type": "display_data"
    }
   ],
   "source": [
    "plt.scatter(steps,errors)\n",
    "plt.plot(stpss,10**errrs)"
   ]
  },
  {
   "cell_type": "code",
   "execution_count": 38,
   "metadata": {},
   "outputs": [
    {
     "name": "stdout",
     "output_type": "stream",
     "text": [
      "The inf norm of the hamiltonian is: 8.7\n",
      "The recomended number of steps is: 91\n"
     ]
    },
    {
     "name": "stderr",
     "output_type": "stream",
     "text": [
      "/home/msd/anaconda3/envs/terra/lib/python3.10/site-packages/scipy/sparse/linalg/_dsolve/linsolve.py:322: SparseEfficiencyWarning: splu requires CSC matrix format\n",
      "  warn('splu requires CSC matrix format', SparseEfficiencyWarning)\n",
      "/home/msd/anaconda3/envs/terra/lib/python3.10/site-packages/scipy/sparse/linalg/_dsolve/linsolve.py:215: SparseEfficiencyWarning: spsolve is more efficient when sparse b is in the CSC matrix format\n",
      "  warn('spsolve is more efficient when sparse b '\n"
     ]
    },
    {
     "name": "stdout",
     "output_type": "stream",
     "text": [
      "1.0\n",
      "1.001567212429437\n",
      "0.002783557463746078\n"
     ]
    }
   ],
   "source": [
    "num_sites = 8\n",
    "\n",
    "hamiltonian = create_hamiltonian(num_sites)\n",
    "sphamiltonian = hamiltonian.to_spmatrix()\n",
    "\n",
    "initial_state = np.zeros(2 ** num_sites, dtype=np.complex128)\n",
    "initial_state[0] = 1.0\n",
    "initial_state = VectorStateFn(initial_state)\n",
    "\n",
    "evolution_problem = EvolutionProblem(hamiltonian,1.0,initial_state)\n",
    "classic_evolver = ClassicalRealEvolver(timesteps=None, threshold = 1e-5)\n",
    "print(\"The inf norm of the hamiltonian is:\", sp.linalg.norm(sphamiltonian, ord=np.inf))\n",
    "recomended_steps = classic_evolver.minimal_number_steps(1,1.0,1e-5)\n",
    "print(\"The recomended number of steps is:\",recomended_steps)\n",
    "result = classic_evolver.evolve(evolution_problem)\n",
    "\n",
    "time_evolution_operator = sp.linalg.expm(-1.0j * sphamiltonian)\n",
    "exact_evolved = time_evolution_operator.dot(initial_state.primitive)\n",
    "\n",
    "print(np.linalg.norm(exact_evolved))\n",
    "print(np.linalg.norm(result.evolved_state.to_matrix()))\n",
    "print(np.linalg.norm(exact_evolved - result.evolved_state.to_matrix()))\n",
    "\n",
    "\n"
   ]
  },
  {
   "cell_type": "code",
   "execution_count": 4,
   "metadata": {},
   "outputs": [
    {
     "ename": "ValueError",
     "evalue": "too many values to unpack (expected 3)",
     "output_type": "error",
     "traceback": [
      "\u001b[0;31m---------------------------------------------------------------------------\u001b[0m",
      "\u001b[0;31mValueError\u001b[0m                                Traceback (most recent call last)",
      "\u001b[0;32m<ipython-input-4-39fe8b277c37>\u001b[0m in \u001b[0;36m<module>\u001b[0;34m\u001b[0m\n\u001b[1;32m      1\u001b[0m \u001b[0mlist_timesteps\u001b[0m \u001b[0;34m=\u001b[0m \u001b[0mnp\u001b[0m\u001b[0;34m.\u001b[0m\u001b[0marange\u001b[0m\u001b[0;34m(\u001b[0m\u001b[0;36m10\u001b[0m\u001b[0;34m,\u001b[0m\u001b[0;36m23\u001b[0m\u001b[0;34m)\u001b[0m\u001b[0;34m\u001b[0m\u001b[0;34m\u001b[0m\u001b[0m\n\u001b[0;32m----> 2\u001b[0;31m \u001b[0maa\u001b[0m \u001b[0;34m=\u001b[0m \u001b[0;34m[\u001b[0m\u001b[0mtime_step\u001b[0m\u001b[0;34m(\u001b[0m\u001b[0mi\u001b[0m\u001b[0;34m)\u001b[0m \u001b[0;32mfor\u001b[0m \u001b[0mi\u001b[0m \u001b[0;32min\u001b[0m \u001b[0mlist_timesteps\u001b[0m\u001b[0;34m]\u001b[0m\u001b[0;34m\u001b[0m\u001b[0;34m\u001b[0m\u001b[0m\n\u001b[0m\u001b[1;32m      3\u001b[0m \u001b[0mbb\u001b[0m \u001b[0;34m=\u001b[0m \u001b[0mlist\u001b[0m\u001b[0;34m(\u001b[0m\u001b[0mzip\u001b[0m\u001b[0;34m(\u001b[0m\u001b[0;34m*\u001b[0m\u001b[0maa\u001b[0m\u001b[0;34m)\u001b[0m\u001b[0;34m)\u001b[0m\u001b[0;34m\u001b[0m\u001b[0;34m\u001b[0m\u001b[0m\n\u001b[1;32m      4\u001b[0m \u001b[0minit_time\u001b[0m \u001b[0;34m=\u001b[0m \u001b[0mnp\u001b[0m\u001b[0;34m.\u001b[0m\u001b[0marray\u001b[0m\u001b[0;34m(\u001b[0m\u001b[0mlist\u001b[0m\u001b[0;34m(\u001b[0m\u001b[0mbb\u001b[0m\u001b[0;34m[\u001b[0m\u001b[0;36m0\u001b[0m\u001b[0;34m]\u001b[0m\u001b[0;34m)\u001b[0m\u001b[0;34m)\u001b[0m\u001b[0;34m\u001b[0m\u001b[0;34m\u001b[0m\u001b[0m\n\u001b[1;32m      5\u001b[0m \u001b[0mstep_time\u001b[0m \u001b[0;34m=\u001b[0m \u001b[0mnp\u001b[0m\u001b[0;34m.\u001b[0m\u001b[0marray\u001b[0m\u001b[0;34m(\u001b[0m\u001b[0mlist\u001b[0m\u001b[0;34m(\u001b[0m\u001b[0mbb\u001b[0m\u001b[0;34m[\u001b[0m\u001b[0;36m1\u001b[0m\u001b[0;34m]\u001b[0m\u001b[0;34m)\u001b[0m\u001b[0;34m)\u001b[0m\u001b[0;34m\u001b[0m\u001b[0;34m\u001b[0m\u001b[0m\n",
      "\u001b[0;32m<ipython-input-4-39fe8b277c37>\u001b[0m in \u001b[0;36m<listcomp>\u001b[0;34m(.0)\u001b[0m\n\u001b[1;32m      1\u001b[0m \u001b[0mlist_timesteps\u001b[0m \u001b[0;34m=\u001b[0m \u001b[0mnp\u001b[0m\u001b[0;34m.\u001b[0m\u001b[0marange\u001b[0m\u001b[0;34m(\u001b[0m\u001b[0;36m10\u001b[0m\u001b[0;34m,\u001b[0m\u001b[0;36m23\u001b[0m\u001b[0;34m)\u001b[0m\u001b[0;34m\u001b[0m\u001b[0;34m\u001b[0m\u001b[0m\n\u001b[0;32m----> 2\u001b[0;31m \u001b[0maa\u001b[0m \u001b[0;34m=\u001b[0m \u001b[0;34m[\u001b[0m\u001b[0mtime_step\u001b[0m\u001b[0;34m(\u001b[0m\u001b[0mi\u001b[0m\u001b[0;34m)\u001b[0m \u001b[0;32mfor\u001b[0m \u001b[0mi\u001b[0m \u001b[0;32min\u001b[0m \u001b[0mlist_timesteps\u001b[0m\u001b[0;34m]\u001b[0m\u001b[0;34m\u001b[0m\u001b[0;34m\u001b[0m\u001b[0m\n\u001b[0m\u001b[1;32m      3\u001b[0m \u001b[0mbb\u001b[0m \u001b[0;34m=\u001b[0m \u001b[0mlist\u001b[0m\u001b[0;34m(\u001b[0m\u001b[0mzip\u001b[0m\u001b[0;34m(\u001b[0m\u001b[0;34m*\u001b[0m\u001b[0maa\u001b[0m\u001b[0;34m)\u001b[0m\u001b[0;34m)\u001b[0m\u001b[0;34m\u001b[0m\u001b[0;34m\u001b[0m\u001b[0m\n\u001b[1;32m      4\u001b[0m \u001b[0minit_time\u001b[0m \u001b[0;34m=\u001b[0m \u001b[0mnp\u001b[0m\u001b[0;34m.\u001b[0m\u001b[0marray\u001b[0m\u001b[0;34m(\u001b[0m\u001b[0mlist\u001b[0m\u001b[0;34m(\u001b[0m\u001b[0mbb\u001b[0m\u001b[0;34m[\u001b[0m\u001b[0;36m0\u001b[0m\u001b[0;34m]\u001b[0m\u001b[0;34m)\u001b[0m\u001b[0;34m)\u001b[0m\u001b[0;34m\u001b[0m\u001b[0;34m\u001b[0m\u001b[0m\n\u001b[1;32m      5\u001b[0m \u001b[0mstep_time\u001b[0m \u001b[0;34m=\u001b[0m \u001b[0mnp\u001b[0m\u001b[0;34m.\u001b[0m\u001b[0marray\u001b[0m\u001b[0;34m(\u001b[0m\u001b[0mlist\u001b[0m\u001b[0;34m(\u001b[0m\u001b[0mbb\u001b[0m\u001b[0;34m[\u001b[0m\u001b[0;36m1\u001b[0m\u001b[0;34m]\u001b[0m\u001b[0;34m)\u001b[0m\u001b[0;34m)\u001b[0m\u001b[0;34m\u001b[0m\u001b[0;34m\u001b[0m\u001b[0m\n",
      "\u001b[0;32m<ipython-input-3-d3c1d82d2cc8>\u001b[0m in \u001b[0;36mtime_step\u001b[0;34m(num_sites)\u001b[0m\n\u001b[1;32m      7\u001b[0m     \u001b[0mclassic_evolver\u001b[0m \u001b[0;34m=\u001b[0m \u001b[0mClassicalRealEvolver\u001b[0m\u001b[0;34m(\u001b[0m\u001b[0mtimesteps\u001b[0m\u001b[0;34m=\u001b[0m\u001b[0;36m10\u001b[0m\u001b[0;34m)\u001b[0m\u001b[0;34m\u001b[0m\u001b[0;34m\u001b[0m\u001b[0m\n\u001b[1;32m      8\u001b[0m     \u001b[0ma\u001b[0m \u001b[0;34m=\u001b[0m \u001b[0mtime\u001b[0m\u001b[0;34m.\u001b[0m\u001b[0mtime\u001b[0m\u001b[0;34m(\u001b[0m\u001b[0;34m)\u001b[0m\u001b[0;34m\u001b[0m\u001b[0;34m\u001b[0m\u001b[0m\n\u001b[0;32m----> 9\u001b[0;31m     \u001b[0mstate\u001b[0m\u001b[0;34m,\u001b[0m \u001b[0mlhs_operator\u001b[0m\u001b[0;34m,\u001b[0m \u001b[0mrhs_operator\u001b[0m \u001b[0;34m=\u001b[0m \u001b[0mclassic_evolver\u001b[0m\u001b[0;34m.\u001b[0m\u001b[0m_start\u001b[0m\u001b[0;34m(\u001b[0m\u001b[0mevolution_problem\u001b[0m\u001b[0;34m=\u001b[0m\u001b[0mevolution_problem\u001b[0m\u001b[0;34m)\u001b[0m\u001b[0;34m\u001b[0m\u001b[0;34m\u001b[0m\u001b[0m\n\u001b[0m\u001b[1;32m     10\u001b[0m     \u001b[0mb\u001b[0m \u001b[0;34m=\u001b[0m \u001b[0mtime\u001b[0m\u001b[0;34m.\u001b[0m\u001b[0mtime\u001b[0m\u001b[0;34m(\u001b[0m\u001b[0;34m)\u001b[0m\u001b[0;34m\u001b[0m\u001b[0;34m\u001b[0m\u001b[0m\n\u001b[1;32m     11\u001b[0m     \u001b[0mclassic_evolver\u001b[0m\u001b[0;34m.\u001b[0m\u001b[0m_step\u001b[0m\u001b[0;34m(\u001b[0m\u001b[0mstate\u001b[0m\u001b[0;34m,\u001b[0m \u001b[0mlhs_operator\u001b[0m\u001b[0;34m,\u001b[0m \u001b[0mrhs_operator\u001b[0m\u001b[0;34m)\u001b[0m\u001b[0;34m\u001b[0m\u001b[0;34m\u001b[0m\u001b[0m\n",
      "\u001b[0;31mValueError\u001b[0m: too many values to unpack (expected 3)"
     ]
    }
   ],
   "source": [
    "list_timesteps = np.arange(10,23)\n",
    "aa = [time_step(i) for i in list_timesteps]\n",
    "bb = list(zip(*aa))\n",
    "init_time = np.array(list(bb[0]))\n",
    "step_time = np.array(list(bb[1]))"
   ]
  },
  {
   "cell_type": "code",
   "execution_count": 5,
   "metadata": {},
   "outputs": [
    {
     "ename": "NameError",
     "evalue": "name 'init_time' is not defined",
     "output_type": "error",
     "traceback": [
      "\u001b[0;31m---------------------------------------------------------------------------\u001b[0m",
      "\u001b[0;31mNameError\u001b[0m                                 Traceback (most recent call last)",
      "\u001b[0;32m<ipython-input-5-46fef665c917>\u001b[0m in \u001b[0;36m<module>\u001b[0;34m\u001b[0m\n\u001b[1;32m      4\u001b[0m \u001b[0;34m\u001b[0m\u001b[0m\n\u001b[1;32m      5\u001b[0m \u001b[0;34m\u001b[0m\u001b[0m\n\u001b[0;32m----> 6\u001b[0;31m \u001b[0mslope_A\u001b[0m\u001b[0;34m,\u001b[0m \u001b[0mintercept_A\u001b[0m\u001b[0;34m,\u001b[0m \u001b[0mr_value\u001b[0m\u001b[0;34m,\u001b[0m \u001b[0mp_value\u001b[0m\u001b[0;34m,\u001b[0m \u001b[0mstd_err\u001b[0m \u001b[0;34m=\u001b[0m \u001b[0mlinregress\u001b[0m\u001b[0;34m(\u001b[0m\u001b[0mlist_timesteps\u001b[0m\u001b[0;34m,\u001b[0m \u001b[0mnp\u001b[0m\u001b[0;34m.\u001b[0m\u001b[0mlog10\u001b[0m\u001b[0;34m(\u001b[0m\u001b[0minit_time\u001b[0m\u001b[0;34m)\u001b[0m\u001b[0;34m)\u001b[0m\u001b[0;34m\u001b[0m\u001b[0;34m\u001b[0m\u001b[0m\n\u001b[0m\u001b[1;32m      7\u001b[0m \u001b[0mprint\u001b[0m\u001b[0;34m(\u001b[0m\u001b[0mslope_A\u001b[0m\u001b[0;34m,\u001b[0m \u001b[0mintercept_A\u001b[0m\u001b[0;34m,\u001b[0m \u001b[0mr_value\u001b[0m\u001b[0;34m,\u001b[0m \u001b[0mp_value\u001b[0m\u001b[0;34m,\u001b[0m \u001b[0mstd_err\u001b[0m\u001b[0;34m)\u001b[0m\u001b[0;34m\u001b[0m\u001b[0;34m\u001b[0m\u001b[0m\n\u001b[1;32m      8\u001b[0m \u001b[0;34m\u001b[0m\u001b[0m\n",
      "\u001b[0;31mNameError\u001b[0m: name 'init_time' is not defined"
     ]
    }
   ],
   "source": [
    "from scipy.stats import linregress\n",
    "\n",
    "ext_qubits = 27\n",
    "\n",
    "\n",
    "slope_A, intercept_A, r_value, p_value, std_err = linregress(list_timesteps, np.log10(init_time))\n",
    "print(slope_A, intercept_A, r_value, p_value, std_err)\n",
    "\n",
    "\n",
    "time_A = 10**(intercept_A + ext_qubits * slope_A)\n",
    "print(f\"For {ext_qubits} qubits it would take {time.strftime('%H:%M:%S', time.gmtime(time_A)) } to initialize.\")\n",
    "\n",
    "slope_B, intercept_B, r_value, p_value, std_err = linregress(list_timesteps, np.log10(step_time))\n",
    "print(slope_B, intercept_B, r_value, p_value, std_err)\n",
    "\n",
    "time_B = 10**(intercept_B + ext_qubits * slope_B)\n",
    "print(f\"For {ext_qubits} qubits it would take {time.strftime('%H:%M:%S', time.gmtime(time_B))} to make a step.\")\n",
    "\n",
    "\n",
    "plt.scatter(list_timesteps,np.log10(init_time))\n",
    "plt.plot(list_timesteps,intercept_A + list_timesteps*slope_A)\n",
    "plt.scatter(list_timesteps,np.log10(step_time))\n",
    "plt.plot(list_timesteps,intercept_B + list_timesteps*slope_B)\n",
    "plt.legend(['Initialization','Init Regression','Step','Step Regresion'])"
   ]
  },
  {
   "cell_type": "code",
   "execution_count": 6,
   "metadata": {},
   "outputs": [
    {
     "name": "stdout",
     "output_type": "stream",
     "text": [
      "(113.99851536750793, 18.394944429397583)\n"
     ]
    }
   ],
   "source": [
    "print(time_step(22))"
   ]
  }
 ],
 "metadata": {
  "interpreter": {
   "hash": "47c450eb13c661720497eef86b3289c3a8d19a09631d1a10f9979d1969c286bb"
  },
  "kernelspec": {
   "display_name": "Python 3.10.4 ('terra')",
   "language": "python",
   "name": "python3"
  },
  "language_info": {
   "codemirror_mode": {
    "name": "ipython",
    "version": 3
   },
   "file_extension": ".py",
   "mimetype": "text/x-python",
   "name": "python",
   "nbconvert_exporter": "python",
   "pygments_lexer": "ipython3",
   "version": "3.10.4"
  },
  "orig_nbformat": 4
 },
 "nbformat": 4,
 "nbformat_minor": 2
}
