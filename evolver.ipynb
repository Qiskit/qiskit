{
 "cells": [
  {
   "cell_type": "code",
   "execution_count": 1,
   "metadata": {},
   "outputs": [],
   "source": [
    "from math import trunc\n",
    "import unittest\n",
    "import numpy as np\n",
    "import scipy.sparse as sp\n",
    "from qiskit.algorithms.evolvers.classical_real_evolver import ClassicalRealEvolver\n",
    "from test.python.algorithms import QiskitAlgorithmsTestCase\n",
    "from ddt import data, ddt, unpack\n",
    "from numpy.testing import assert_raises\n",
    "\n",
    "from qiskit.quantum_info import Statevector\n",
    "from qiskit.algorithms.evolvers.evolution_problem import EvolutionProblem\n",
    "from qiskit.circuit import Parameter\n",
    "from qiskit.opflow import Y, Z, I, One, X, Zero, VectorStateFn, StateFn, SummedOp, PauliSumOp\n",
    "from scipy.sparse.linalg import bicg,norm\n",
    "import matplotlib.pyplot as plt\n",
    "import time"
   ]
  },
  {
   "cell_type": "code",
   "execution_count": 2,
   "metadata": {},
   "outputs": [],
   "source": [
    "def create_hamiltonian(num_sites):\n",
    "    J = 0.1\n",
    "    g = -1.0\n",
    "\n",
    "    zz = [\"I\" * i + \"ZZ\" + \"I\" * (num_sites - i - 2) for i in range(num_sites - 1)]\n",
    "    x = [\"I\" * i + \"X\" + \"I\" * (num_sites - i - 1) for i in range(num_sites)]\n",
    "    return PauliSumOp.from_list(list(zip(zz, len(zz) * [J])) + list(zip(x, len(x) * [g])))\n"
   ]
  },
  {
   "cell_type": "code",
   "execution_count": 3,
   "metadata": {},
   "outputs": [],
   "source": [
    "\n",
    "def time_step(num_sites):\n",
    "    initial_state = np.zeros(2 ** num_sites, dtype=np.complex128)\n",
    "    initial_state[0] = 1.0\n",
    "    initial_state = VectorStateFn(initial_state)\n",
    "\n",
    "    evolution_problem = EvolutionProblem(create_hamiltonian(num_sites),1.0,initial_state,truncation_threshold=1e-5)\n",
    "    classic_evolver = ClassicalRealEvolver(timesteps=10)\n",
    "    a = time.time()\n",
    "    state, lhs_operator, rhs_operator = classic_evolver._start(evolution_problem=evolution_problem)\n",
    "    b = time.time()\n",
    "    classic_evolver._step(state, lhs_operator, rhs_operator)\n",
    "    c = time.time()\n",
    "    return b-a, c-b\n"
   ]
  },
  {
   "cell_type": "code",
   "execution_count": 57,
   "metadata": {},
   "outputs": [],
   "source": [
    "list_timesteps = np.arange(10,23)\n",
    "aa = [time_step(i) for i in list_timesteps]\n",
    "bb = list(zip(*aa))\n",
    "init_time = np.array(list(bb[0]))\n",
    "step_time = np.array(list(bb[1]))"
   ]
  },
  {
   "cell_type": "code",
   "execution_count": 55,
   "metadata": {},
   "outputs": [
    {
     "name": "stdout",
     "output_type": "stream",
     "text": [
      "0.31340776346141164 -4.963164512267322 0.9977834468489748 1.0532586211614587e-10 0.007389954118641478\n",
      "For 22 qubits it would take 1.42447566211969 minutes to initialize.\n",
      "0.39716062611877284 -6.901167228301791 0.9843620384683859 2.567588362676985e-07 0.025128517163120975\n",
      "For 22 qubits it would take 1.143445042545308 minutes to make a step.\n"
     ]
    },
    {
     "data": {
      "text/plain": [
       "<matplotlib.legend.Legend at 0x7f41b5057430>"
      ]
     },
     "execution_count": 55,
     "metadata": {},
     "output_type": "execute_result"
    },
    {
     "data": {
      "image/png": "[encoded data removed]",
      "text/plain": [
       "<Figure size 432x288 with 1 Axes>"
      ]
     },
     "metadata": {
      "needs_background": "light"
     },
     "output_type": "display_data"
    }
   ],
   "source": [
    "from scipy.stats import linregress\n",
    "\n",
    "ext_qubits = 25\n",
    "\n",
    "\n",
    "slope_A, intercept_A, r_value, p_value, std_err = linregress(list_timesteps, np.log10(init_time))\n",
    "print(slope_A, intercept_A, r_value, p_value, std_err)\n",
    "\n",
    "\n",
    "time_A = 10**(intercept_A + ext_qubits * slope_A)\n",
    "print(f\"For {ext_qubits} qubits it would take {time.strftime('%H:%M:%S', time.gmtime(time_A)) } to initialize.\")\n",
    "\n",
    "slope_B, intercept_B, r_value, p_value, std_err = linregress(list_timesteps, np.log10(step_time))\n",
    "print(slope_B, intercept_B, r_value, p_value, std_err)\n",
    "\n",
    "time_B = 10**(intercept_B + ext_qubits * slope_B)\n",
    "print(f\"For {ext_qubits} qubits it would take {time.strftime('%H:%M:%S', time.gmtime(time_B))} to make a step.\")\n",
    "\n",
    "\n",
    "plt.scatter(list_timesteps,np.log10(init_time))\n",
    "plt.plot(list_timesteps,intercept_A + list_timesteps*slope_A)\n",
    "plt.scatter(list_timesteps,np.log10(step_time))\n",
    "plt.plot(list_timesteps,intercept_B + list_timesteps*slope_B)\n",
    "plt.legend(['Initialization','Init Regression','Step','Step Regresion'])"
   ]
  },
  {
   "cell_type": "code",
   "execution_count": 56,
   "metadata": {},
   "outputs": [
    {
     "name": "stdout",
     "output_type": "stream",
     "text": [
      "(114.64363718032837, 19.180646896362305)\n"
     ]
    }
   ],
   "source": [
    "print(time_step(22))"
   ]
  }
 ],
 "metadata": {
  "interpreter": {
   "hash": "47c450eb13c661720497eef86b3289c3a8d19a09631d1a10f9979d1969c286bb"
  },
  "kernelspec": {
   "display_name": "Python 3.10.4 ('terra')",
   "language": "python",
   "name": "python3"
  },
  "language_info": {
   "codemirror_mode": {
    "name": "ipython",
    "version": 3
   },
   "file_extension": ".py",
   "mimetype": "text/x-python",
   "name": "python",
   "nbconvert_exporter": "python",
   "pygments_lexer": "ipython3",
   "version": "3.10.4"
  },
  "orig_nbformat": 4
 },
 "nbformat": 4,
 "nbformat_minor": 2
}
