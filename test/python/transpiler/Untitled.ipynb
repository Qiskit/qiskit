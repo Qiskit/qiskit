{
 "cells": [
  {
   "cell_type": "code",
   "execution_count": 9,
   "id": "63b7b55e",
   "metadata": {},
   "outputs": [],
   "source": [
    "from qiskit import *\n",
    "circ1 = QuantumCircuit(3)\n",
    "circ1.h(0)\n",
    "circ1.t(1)\n",
    "circ1.x(2)\n",
    "my_gate = circ1.to_gate(label='gate1')\n",
    "circ2 = QuantumCircuit(3)\n",
    "circ2.h(0)\n",
    "circ2.cx(0,1)\n",
    "circ2.x(2)\n",
    "my_gate2= circ2.to_gate(label='gate2')\n",
    "circ3 = QuantumCircuit(2)\n",
    "circ3.x(0)\n",
    "q_bits = QuantumRegister(5)\n",
    "qc = QuantumCircuit(q_bits)\n",
    "qc.append(my_gate, q_bits[:3])\n",
    "qc.append(my_gate2,q_bits[2:])\n",
    "qc.mct(q_bits[:4], q_bits[4])\n",
    "qc.h(0)\n",
    "qc.append(circ3, [0,1])\n",
    "COMPLEX_CIRC = qc\n"
   ]
  },
  {
   "cell_type": "code",
   "execution_count": 10,
   "id": "c9f63091",
   "metadata": {},
   "outputs": [
    {
     "ename": "TypeError",
     "evalue": "decompose() takes 1 positional argument but 2 were given",
     "output_type": "error",
     "traceback": [
      "\u001b[1;31m---------------------------------------------------------------------------\u001b[0m",
      "\u001b[1;31mTypeError\u001b[0m                                 Traceback (most recent call last)",
      "\u001b[1;32m<ipython-input-10-d2b8fbac4a05>\u001b[0m in \u001b[0;36m<module>\u001b[1;34m\u001b[0m\n\u001b[1;32m----> 1\u001b[1;33m \u001b[0mprint\u001b[0m\u001b[1;33m(\u001b[0m\u001b[0mqc\u001b[0m\u001b[1;33m.\u001b[0m\u001b[0mdecompose\u001b[0m\u001b[1;33m(\u001b[0m\u001b[1;33m[\u001b[0m\u001b[1;34m'mcx'\u001b[0m\u001b[1;33m]\u001b[0m\u001b[1;33m)\u001b[0m\u001b[1;33m.\u001b[0m\u001b[0mdraw\u001b[0m\u001b[1;33m(\u001b[0m\u001b[1;33m)\u001b[0m\u001b[1;33m)\u001b[0m\u001b[1;33m\u001b[0m\u001b[1;33m\u001b[0m\u001b[0m\n\u001b[0m",
      "\u001b[1;31mTypeError\u001b[0m: decompose() takes 1 positional argument but 2 were given"
     ]
    }
   ],
   "source": [
    "print(qc.decompose(['mcx']).draw())"
   ]
  },
  {
   "cell_type": "code",
   "execution_count": null,
   "id": "3fce9a46",
   "metadata": {},
   "outputs": [],
   "source": []
  }
 ],
 "metadata": {
  "kernelspec": {
   "display_name": "fixissueenv",
   "language": "python",
   "name": "fixissueenv"
  },
  "language_info": {
   "codemirror_mode": {
    "name": "ipython",
    "version": 3
   },
   "file_extension": ".py",
   "mimetype": "text/x-python",
   "name": "python",
   "nbconvert_exporter": "python",
   "pygments_lexer": "ipython3",
   "version": "3.9.5"
  }
 },
 "nbformat": 4,
 "nbformat_minor": 5
}
