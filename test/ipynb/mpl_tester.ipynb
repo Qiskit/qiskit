{
 "cells": [
  {
   "cell_type": "code",
   "execution_count": 3,
   "metadata": {
    "scrolled": true
   },
   "outputs": [
    {
     "name": "stderr",
     "output_type": "stream",
     "text": [
      "..............c:\\users\\meet\\anaconda3\\envs\\qiskitdevenv10\\lib\\site-packages\\qiskit_terra-0.18.0-py3.9-win-amd64.egg\\qiskit\\visualization\\matplotlib.py:192: RuntimeWarning: Cregbundle set to False since an instruction needs to refer to individual classical wire\n",
      "  self._set_cregbundle()\n",
      "....C:\\Users\\meet\\Desktop\\qiskit-contributions\\qiskit-terra\\test\\ipynb\\mpl\\Circuit\\test_circuit_matplotlib_drawer.py:438: DeprecationWarning: The QuantumCircuit.u1 method is deprecated as of 0.16.0. It will be removed no earlier than 3 months after the release date. You should use the QuantumCircuit.p method instead, which acts identically.\n",
      "  circuit.u1(pi / 2, 4)\n",
      "C:\\Users\\meet\\Desktop\\qiskit-contributions\\qiskit-terra\\test\\ipynb\\mpl\\Circuit\\test_circuit_matplotlib_drawer.py:440: DeprecationWarning: The QuantumCircuit.cu1 method is deprecated as of 0.16.0. It will be removed no earlier than 3 months after the release date. You should use the QuantumCircuit.cp method instead, which acts identically.\n",
      "  circuit.cu1(pi / 2, 5, 6)\n",
      "C:\\Users\\meet\\Desktop\\qiskit-contributions\\qiskit-terra\\test\\ipynb\\mpl\\Circuit\\test_circuit_matplotlib_drawer.py:445: DeprecationWarning: The QuantumCircuit.u2 method is deprecated as of 0.16.0. It will be removed no earlier than 3 months after the release date. You can use the general 1-qubit gate QuantumCircuit.u instead: u2(φ,λ) = u(π/2, φ, λ). Alternatively, you can decompose it interms of QuantumCircuit.p and QuantumCircuit.sx: u2(φ,λ) = p(π/2+φ) sx p(λ-π/2) (1 pulse on hardware).\n",
      "  circuit.u2(pi / 2, pi / 2, 5)\n",
      "..................c:\\users\\meet\\anaconda3\\envs\\qiskitdevenv10\\lib\\site-packages\\qiskit_terra-0.18.0-py3.9-win-amd64.egg\\qiskit\\visualization\\matplotlib.py:166: UserWarning: Style JSON file 'user_style.json' not found in any of these locations: c:\\users\\meet\\anaconda3\\envs\\qiskitdevenv10\\lib\\site-packages\\qiskit_terra-0.18.0-py3.9-win-amd64.egg\\qiskit\\visualization\\styles\\user_style.json, user_style.json. Will use default style.\n",
      "  self._style, def_font_ratio = load_style(style)\n",
      "..\n",
      "----------------------------------------------------------------------\n",
      "Ran 38 tests in 22.207s\n",
      "\n",
      "OK\n"
     ]
    }
   ],
   "source": [
    "#Testing Circuits\n",
    "import warnings; warnings.simplefilter('ignore')\n",
    "%run \"mpl/Circuit/test_circuit_matplotlib_drawer.py\""
   ]
  },
  {
   "cell_type": "code",
   "execution_count": 6,
   "metadata": {},
   "outputs": [
    {
     "data": {
      "text/html": [
       "<div><details><summary style=\"background-color:lightgreen;\"> <tt><b>6095.png</b> | test_6095 (__main__.TestMatplotlibDrawer) </tt> | ratio: 1.0 </summary><table><tr><td><img src=\"mpl/Circuit\\6095.png\"</td><td><img src=\"mpl/Circuit\\references\\6095.png\"</td><td><img src=\"mpl/Circuit\\6095.diff.png\"</td></tr></table></details><details><summary style=\"background-color:lightgreen;\"> <tt><b>big_gates.png</b> | test_big_gates (__main__.TestMatplotlibDrawer) </tt> | ratio: 1.0 </summary><table><tr><td><img src=\"mpl/Circuit\\big_gates.png\"</td><td><img src=\"mpl/Circuit\\references\\big_gates.png\"</td><td><img src=\"mpl/Circuit\\big_gates.diff.png\"</td></tr></table></details><details><summary style=\"background-color:lightgreen;\"> <tt><b>bw.png</b> | test_bw (__main__.TestMatplotlibDrawer) </tt> | ratio: 1.0 </summary><table><tr><td><img src=\"mpl/Circuit\\bw.png\"</td><td><img src=\"mpl/Circuit\\references\\bw.png\"</td><td><img src=\"mpl/Circuit\\bw.diff.png\"</td></tr></table></details><details><summary style=\"background-color:lightgreen;\"> <tt><b>cnot.png</b> | test_cnot (__main__.TestMatplotlibDrawer) </tt> | ratio: 1.0 </summary><table><tr><td><img src=\"mpl/Circuit\\cnot.png\"</td><td><img src=\"mpl/Circuit\\references\\cnot.png\"</td><td><img src=\"mpl/Circuit\\cnot.diff.png\"</td></tr></table></details><details><summary style=\"background-color:lightgreen;\"> <tt><b>conditional.png</b> | test_conditional (__main__.TestMatplotlibDrawer) </tt> | ratio: 1.0 </summary><table><tr><td><img src=\"mpl/Circuit\\conditional.png\"</td><td><img src=\"mpl/Circuit\\references\\conditional.png\"</td><td><img src=\"mpl/Circuit\\conditional.diff.png\"</td></tr></table></details><details><summary style=\"background-color:lightgreen;\"> <tt><b>creg_initial_false.png</b> | test_creg_initial (__main__.TestMatplotlibDrawer) </tt> | ratio: 1.0 </summary><table><tr><td><img src=\"mpl/Circuit\\creg_initial_false.png\"</td><td><img src=\"mpl/Circuit\\references\\creg_initial_false.png\"</td><td><img src=\"mpl/Circuit\\creg_initial_false.diff.png\"</td></tr></table></details><details><summary style=\"background-color:lightgreen;\"> <tt><b>creg_initial_true.png</b> | test_creg_initial (__main__.TestMatplotlibDrawer) </tt> | ratio: 1.0 </summary><table><tr><td><img src=\"mpl/Circuit\\creg_initial_true.png\"</td><td><img src=\"mpl/Circuit\\references\\creg_initial_true.png\"</td><td><img src=\"mpl/Circuit\\creg_initial_true.diff.png\"</td></tr></table></details><details><summary style=\"background-color:lightgreen;\"> <tt><b>cswap_rzz.png</b> | test_cswap_rzz (__main__.TestMatplotlibDrawer) </tt> | ratio: 1.0 </summary><table><tr><td><img src=\"mpl/Circuit\\cswap_rzz.png\"</td><td><img src=\"mpl/Circuit\\references\\cswap_rzz.png\"</td><td><img src=\"mpl/Circuit\\cswap_rzz.diff.png\"</td></tr></table></details><details><summary style=\"background-color:lightgreen;\"> <tt><b>ctrl_labels.png</b> | test_ctrl_labels (__main__.TestMatplotlibDrawer) </tt> | ratio: 1.0 </summary><table><tr><td><img src=\"mpl/Circuit\\ctrl_labels.png\"</td><td><img src=\"mpl/Circuit\\references\\ctrl_labels.png\"</td><td><img src=\"mpl/Circuit\\ctrl_labels.diff.png\"</td></tr></table></details><details><summary style=\"background-color:lightgreen;\"> <tt><b>cz.png</b> | test_cz (__main__.TestMatplotlibDrawer) </tt> | ratio: 1.0 </summary><table><tr><td><img src=\"mpl/Circuit\\cz.png\"</td><td><img src=\"mpl/Circuit\\references\\cz.png\"</td><td><img src=\"mpl/Circuit\\cz.diff.png\"</td></tr></table></details><details><summary style=\"background-color:lightgreen;\"> <tt><b>empty_circut.png</b> | test_empty_circuit (__main__.TestMatplotlibDrawer) </tt> | ratio: 1.0 </summary><table><tr><td><img src=\"mpl/Circuit\\empty_circut.png\"</td><td><img src=\"mpl/Circuit\\references\\empty_circut.png\"</td><td><img src=\"mpl/Circuit\\empty_circut.diff.png\"</td></tr></table></details><details><summary style=\"background-color:lightgreen;\"> <tt><b>fold_4.png</b> | test_fold_4 (__main__.TestMatplotlibDrawer) </tt> | ratio: 1.0 </summary><table><tr><td><img src=\"mpl/Circuit\\fold_4.png\"</td><td><img src=\"mpl/Circuit\\references\\fold_4.png\"</td><td><img src=\"mpl/Circuit\\fold_4.diff.png\"</td></tr></table></details><details><summary style=\"background-color:lightgreen;\"> <tt><b>fold_minus1.png</b> | test_fold_minus1 (__main__.TestMatplotlibDrawer) </tt> | ratio: 1.0 </summary><table><tr><td><img src=\"mpl/Circuit\\fold_minus1.png\"</td><td><img src=\"mpl/Circuit\\references\\fold_minus1.png\"</td><td><img src=\"mpl/Circuit\\fold_minus1.diff.png\"</td></tr></table></details><details><summary style=\"background-color:lightgreen;\"> <tt><b>ghz_to_gate.png</b> | test_ghz_to_gate (__main__.TestMatplotlibDrawer) </tt> | ratio: 1.0 </summary><table><tr><td><img src=\"mpl/Circuit\\ghz_to_gate.png\"</td><td><img src=\"mpl/Circuit\\references\\ghz_to_gate.png\"</td><td><img src=\"mpl/Circuit\\ghz_to_gate.diff.png\"</td></tr></table></details><details><summary style=\"background-color:lightgreen;\"> <tt><b>global_phase.png</b> | test_with_global_phase (__main__.TestMatplotlibDrawer) </tt> | ratio: 1.0 </summary><table><tr><td><img src=\"mpl/Circuit\\global_phase.png\"</td><td><img src=\"mpl/Circuit\\references\\global_phase.png\"</td><td><img src=\"mpl/Circuit\\global_phase.diff.png\"</td></tr></table></details><details><summary style=\"background-color:lightgreen;\"> <tt><b>init_reset.png</b> | test_init_reset (__main__.TestMatplotlibDrawer) </tt> | ratio: 1.0 </summary><table><tr><td><img src=\"mpl/Circuit\\init_reset.png\"</td><td><img src=\"mpl/Circuit\\references\\init_reset.png\"</td><td><img src=\"mpl/Circuit\\init_reset.diff.png\"</td></tr></table></details><details><summary style=\"background-color:lightgreen;\"> <tt><b>instruction_1q_1c.png</b> | test_instruction_1q_1c (__main__.TestMatplotlibDrawer) </tt> | ratio: 1.0 </summary><table><tr><td><img src=\"mpl/Circuit\\instruction_1q_1c.png\"</td><td><img src=\"mpl/Circuit\\references\\instruction_1q_1c.png\"</td><td><img src=\"mpl/Circuit\\instruction_1q_1c.diff.png\"</td></tr></table></details><details><summary style=\"background-color:lightgreen;\"> <tt><b>instruction_3q_3c_circ1.png</b> | test_instruction_3q_3c_circ1 (__main__.TestMatplotlibDrawer) </tt> | ratio: 1.0 </summary><table><tr><td><img src=\"mpl/Circuit\\instruction_3q_3c_circ1.png\"</td><td><img src=\"mpl/Circuit\\references\\instruction_3q_3c_circ1.png\"</td><td><img src=\"mpl/Circuit\\instruction_3q_3c_circ1.diff.png\"</td></tr></table></details><details><summary style=\"background-color:lightgreen;\"> <tt><b>instruction_3q_3c_circ2.png</b> | test_instruction_3q_3c_circ2 (__main__.TestMatplotlibDrawer) </tt> | ratio: 1.0 </summary><table><tr><td><img src=\"mpl/Circuit\\instruction_3q_3c_circ2.png\"</td><td><img src=\"mpl/Circuit\\references\\instruction_3q_3c_circ2.png\"</td><td><img src=\"mpl/Circuit\\instruction_3q_3c_circ2.diff.png\"</td></tr></table></details><details><summary style=\"background-color:lightgreen;\"> <tt><b>instruction_3q_3c_circ3.png</b> | test_instruction_3q_3c_circ3 (__main__.TestMatplotlibDrawer) </tt> | ratio: 1.0 </summary><table><tr><td><img src=\"mpl/Circuit\\instruction_3q_3c_circ3.png\"</td><td><img src=\"mpl/Circuit\\references\\instruction_3q_3c_circ3.png\"</td><td><img src=\"mpl/Circuit\\instruction_3q_3c_circ3.diff.png\"</td></tr></table></details><details><summary style=\"background-color:lightgreen;\"> <tt><b>iqx_color.png</b> | test_iqx_colors (__main__.TestMatplotlibDrawer) </tt> | ratio: 1.0 </summary><table><tr><td><img src=\"mpl/Circuit\\iqx_color.png\"</td><td><img src=\"mpl/Circuit\\references\\iqx_color.png\"</td><td><img src=\"mpl/Circuit\\iqx_color.diff.png\"</td></tr></table></details><details><summary style=\"background-color:lightgreen;\"> <tt><b>long_name.png</b> | test_long_name (__main__.TestMatplotlibDrawer) </tt> | ratio: 1.0 </summary><table><tr><td><img src=\"mpl/Circuit\\long_name.png\"</td><td><img src=\"mpl/Circuit\\references\\long_name.png\"</td><td><img src=\"mpl/Circuit\\long_name.diff.png\"</td></tr></table></details><details><summary style=\"background-color:lightgreen;\"> <tt><b>meas_condition.png</b> | test_meas_condition (__main__.TestMatplotlibDrawer) </tt> | ratio: 1.0 </summary><table><tr><td><img src=\"mpl/Circuit\\meas_condition.png\"</td><td><img src=\"mpl/Circuit\\references\\meas_condition.png\"</td><td><img src=\"mpl/Circuit\\meas_condition.diff.png\"</td></tr></table></details><details><summary style=\"background-color:lightgreen;\"> <tt><b>no_barriers.png</b> | test_no_barriers_false (__main__.TestMatplotlibDrawer) </tt> | ratio: 1.0 </summary><table><tr><td><img src=\"mpl/Circuit\\no_barriers.png\"</td><td><img src=\"mpl/Circuit\\references\\no_barriers.png\"</td><td><img src=\"mpl/Circuit\\no_barriers.diff.png\"</td></tr></table></details><details><summary style=\"background-color:lightgreen;\"> <tt><b>no_op_circut.png</b> | test_no_ops (__main__.TestMatplotlibDrawer) </tt> | ratio: 1.0 </summary><table><tr><td><img src=\"mpl/Circuit\\no_op_circut.png\"</td><td><img src=\"mpl/Circuit\\references\\no_op_circut.png\"</td><td><img src=\"mpl/Circuit\\no_op_circut.diff.png\"</td></tr></table></details><details><summary style=\"background-color:lightgreen;\"> <tt><b>partial_layout.png</b> | test_partial_layout (__main__.TestMatplotlibDrawer) </tt> | ratio: 1.0 </summary><table><tr><td><img src=\"mpl/Circuit\\partial_layout.png\"</td><td><img src=\"mpl/Circuit\\references\\partial_layout.png\"</td><td><img src=\"mpl/Circuit\\partial_layout.diff.png\"</td></tr></table></details><details><summary style=\"background-color:lightgreen;\"> <tt><b>pauli_clifford.png</b> | test_pauli_clifford (__main__.TestMatplotlibDrawer) </tt> | ratio: 1.0 </summary><table><tr><td><img src=\"mpl/Circuit\\pauli_clifford.png\"</td><td><img src=\"mpl/Circuit\\references\\pauli_clifford.png\"</td><td><img src=\"mpl/Circuit\\pauli_clifford.diff.png\"</td></tr></table></details><details><summary style=\"background-color:lightgreen;\"> <tt><b>pi_in_param_expr.png</b> | test_pi_param_expr (__main__.TestMatplotlibDrawer) </tt> | ratio: 1.0 </summary><table><tr><td><img src=\"mpl/Circuit\\pi_in_param_expr.png\"</td><td><img src=\"mpl/Circuit\\references\\pi_in_param_expr.png\"</td><td><img src=\"mpl/Circuit\\pi_in_param_expr.diff.png\"</td></tr></table></details><details><summary style=\"background-color:lightgreen;\"> <tt><b>plot_barriers_false.png</b> | test_plot_barriers (__main__.TestMatplotlibDrawer) </tt> | ratio: 1.0 </summary><table><tr><td><img src=\"mpl/Circuit\\plot_barriers_false.png\"</td><td><img src=\"mpl/Circuit\\references\\plot_barriers_false.png\"</td><td><img src=\"mpl/Circuit\\plot_barriers_false.diff.png\"</td></tr></table></details><details><summary style=\"background-color:lightgreen;\"> <tt><b>plot_barriers_true.png</b> | test_plot_barriers (__main__.TestMatplotlibDrawer) </tt> | ratio: 1.0 </summary><table><tr><td><img src=\"mpl/Circuit\\plot_barriers_true.png\"</td><td><img src=\"mpl/Circuit\\references\\plot_barriers_true.png\"</td><td><img src=\"mpl/Circuit\\plot_barriers_true.diff.png\"</td></tr></table></details><details><summary style=\"background-color:lightgreen;\"> <tt><b>plot_partial_barrier.png</b> | test_plot_partial_barrier (__main__.TestMatplotlibDrawer) </tt> | ratio: 1.0 </summary><table><tr><td><img src=\"mpl/Circuit\\plot_partial_barrier.png\"</td><td><img src=\"mpl/Circuit\\references\\plot_partial_barrier.png\"</td><td><img src=\"mpl/Circuit\\plot_partial_barrier.diff.png\"</td></tr></table></details><details><summary style=\"background-color:lightgreen;\"> <tt><b>r_gates.png</b> | test_r_gates (__main__.TestMatplotlibDrawer) </tt> | ratio: 1.0 </summary><table><tr><td><img src=\"mpl/Circuit\\r_gates.png\"</td><td><img src=\"mpl/Circuit\\references\\r_gates.png\"</td><td><img src=\"mpl/Circuit\\r_gates.diff.png\"</td></tr></table></details><details><summary style=\"background-color:lightgreen;\"> <tt><b>reverse_bits.png</b> | test_reverse_bits (__main__.TestMatplotlibDrawer) </tt> | ratio: 1.0 </summary><table><tr><td><img src=\"mpl/Circuit\\reverse_bits.png\"</td><td><img src=\"mpl/Circuit\\references\\reverse_bits.png\"</td><td><img src=\"mpl/Circuit\\reverse_bits.diff.png\"</td></tr></table></details><details><summary style=\"background-color:lightgreen;\"> <tt><b>reverse_bits_cond_false.png</b> | test_reverse_bits_condition (__main__.TestMatplotlibDrawer) </tt> | ratio: 1.0 </summary><table><tr><td><img src=\"mpl/Circuit\\reverse_bits_cond_false.png\"</td><td><img src=\"mpl/Circuit\\references\\reverse_bits_cond_false.png\"</td><td><img src=\"mpl/Circuit\\reverse_bits_cond_false.diff.png\"</td></tr></table></details><details><summary style=\"background-color:lightgreen;\"> <tt><b>reverse_bits_cond_true.png</b> | test_reverse_bits_condition (__main__.TestMatplotlibDrawer) </tt> | ratio: 1.0 </summary><table><tr><td><img src=\"mpl/Circuit\\reverse_bits_cond_true.png\"</td><td><img src=\"mpl/Circuit\\references\\reverse_bits_cond_true.png\"</td><td><img src=\"mpl/Circuit\\reverse_bits_cond_true.diff.png\"</td></tr></table></details><details><summary style=\"background-color:lightgreen;\"> <tt><b>scale_default.png</b> | test_scale (__main__.TestMatplotlibDrawer) </tt> | ratio: 1.0 </summary><table><tr><td><img src=\"mpl/Circuit\\scale_default.png\"</td><td><img src=\"mpl/Circuit\\references\\scale_default.png\"</td><td><img src=\"mpl/Circuit\\scale_default.diff.png\"</td></tr></table></details><details><summary style=\"background-color:lightgreen;\"> <tt><b>scale_double.png</b> | test_scale (__main__.TestMatplotlibDrawer) </tt> | ratio: 1.0 </summary><table><tr><td><img src=\"mpl/Circuit\\scale_double.png\"</td><td><img src=\"mpl/Circuit\\references\\scale_double.png\"</td><td><img src=\"mpl/Circuit\\scale_double.diff.png\"</td></tr></table></details><details><summary style=\"background-color:lightgreen;\"> <tt><b>scale_half.png</b> | test_scale (__main__.TestMatplotlibDrawer) </tt> | ratio: 1.0 </summary><table><tr><td><img src=\"mpl/Circuit\\scale_half.png\"</td><td><img src=\"mpl/Circuit\\references\\scale_half.png\"</td><td><img src=\"mpl/Circuit\\scale_half.diff.png\"</td></tr></table></details><details><summary style=\"background-color:lightgreen;\"> <tt><b>style_custom_gates.png</b> | test_style_custom_gates (__main__.TestMatplotlibDrawer) </tt> | ratio: 1.0 </summary><table><tr><td><img src=\"mpl/Circuit\\style_custom_gates.png\"</td><td><img src=\"mpl/Circuit\\references\\style_custom_gates.png\"</td><td><img src=\"mpl/Circuit\\style_custom_gates.diff.png\"</td></tr></table></details><details><summary style=\"background-color:lightgreen;\"> <tt><b>subfont.png</b> | test_subfont_change (__main__.TestMatplotlibDrawer) </tt> | ratio: 1.0 </summary><table><tr><td><img src=\"mpl/Circuit\\subfont.png\"</td><td><img src=\"mpl/Circuit\\references\\subfont.png\"</td><td><img src=\"mpl/Circuit\\subfont.diff.png\"</td></tr></table></details><details><summary style=\"background-color:lightgreen;\"> <tt><b>u_gates.png</b> | test_u_gates (__main__.TestMatplotlibDrawer) </tt> | ratio: 1.0 </summary><table><tr><td><img src=\"mpl/Circuit\\u_gates.png\"</td><td><img src=\"mpl/Circuit\\references\\u_gates.png\"</td><td><img src=\"mpl/Circuit\\u_gates.diff.png\"</td></tr></table></details><details><summary style=\"background-color:lightgreen;\"> <tt><b>user_style.png</b> | test_user_style (__main__.TestMatplotlibDrawer) </tt> | ratio: 1.0 </summary><table><tr><td><img src=\"mpl/Circuit\\user_style.png\"</td><td><img src=\"mpl/Circuit\\references\\user_style.png\"</td><td><img src=\"mpl/Circuit\\user_style.diff.png\"</td></tr></table></details><details><summary style=\"background-color:lightgreen;\"> <tt><b>wide_params.png</b> | test_overwide_gates (__main__.TestMatplotlibDrawer) </tt> | ratio: 1.0 </summary><table><tr><td><img src=\"mpl/Circuit\\wide_params.png\"</td><td><img src=\"mpl/Circuit\\references\\wide_params.png\"</td><td><img src=\"mpl/Circuit\\wide_params.diff.png\"</td></tr></table></details></div>"
      ],
      "text/plain": [
       "<__main__.Results at 0x20b7f05cd60>"
      ]
     },
     "execution_count": 6,
     "metadata": {},
     "output_type": "execute_result"
    }
   ],
   "source": [
    "%run -i \"results.py\"\n",
    "RESULTS"
   ]
  },
  {
   "cell_type": "code",
   "execution_count": 1,
   "metadata": {},
   "outputs": [
    {
     "name": "stderr",
     "output_type": "stream",
     "text": [
      "E\n",
      "======================================================================\n",
      "ERROR: test_plot_bloch_multivector (__main__.TestGraphMatplotlibDrawer)\n",
      "test bloch sphere\n",
      "----------------------------------------------------------------------\n",
      "Traceback (most recent call last):\n",
      "  File \"C:\\Users\\meet\\Desktop\\qiskit-contributions\\qiskit-terra\\test\\ipynb\\mpl\\Graphs\\test_graph_matplotlib_drawer.py\", line 110, in test_plot_bloch_multivector\n",
      "    self.graph_drawer(state=state, output=\"bloch\", filename=\"bloch_multivector.png\")\n",
      "  File \"C:\\Users\\meet\\Desktop\\qiskit-contributions\\qiskit-terra\\test\\ipynb\\mpl\\Graphs\\test_graph_matplotlib_drawer.py\", line 79, in wrapper\n",
      "    results = func(*args, **kwargs)\n",
      "  File \"c:\\users\\meet\\anaconda3\\envs\\qiskitdevenv10\\lib\\site-packages\\qiskit_terra-0.18.0-py3.9-win-amd64.egg\\qiskit\\visualization\\state_visualization.py\", line 1272, in state_drawer\n",
      "    return draw_func(state, **drawer_args)\n",
      "  File \"c:\\users\\meet\\anaconda3\\envs\\qiskitdevenv10\\lib\\site-packages\\qiskit_terra-0.18.0-py3.9-win-amd64.egg\\qiskit\\utils\\deprecation.py\", line 62, in wrapper\n",
      "    return func(*args, **kwargs)\n",
      "TypeError: plot_bloch_multivector() got an unexpected keyword argument 'filename'\n",
      "\n",
      "----------------------------------------------------------------------\n",
      "Ran 1 test in 1.656s\n",
      "\n",
      "FAILED (errors=1)\n"
     ]
    },
    {
     "ename": "SystemExit",
     "evalue": "True",
     "output_type": "error",
     "traceback": [
      "An exception has occurred, use %tb to see the full traceback.\n",
      "\u001b[1;31mSystemExit\u001b[0m\u001b[1;31m:\u001b[0m True\n"
     ]
    }
   ],
   "source": [
    "#Testing Graphs\n",
    "%run \"mpl/Graphs/test_graph_matplotlib_drawer.py\""
   ]
  },
  {
   "cell_type": "code",
   "execution_count": 4,
   "metadata": {},
   "outputs": [
    {
     "data": {
      "text/html": [
       "<div><details><summary style=\"background-color:lightgreen;\"> <tt><b>bloch_multivector.png</b> | test_plot_bloch_multivector (__main__.TestGraphMatplotlibDrawer) </tt> | ratio: 1.0 </summary><table><tr><td><img src=\"mpl/Graphs\\bloch_multivector.png\"</td><td><img src=\"mpl/Graphs\\references_graph\\bloch_multivector.png\"</td><td><img src=\"mpl/Graphs\\bloch_multivector.diff.png\"</td></tr></table></details></div>"
      ],
      "text/plain": [
       "<__main__.Results at 0x22e58ac0520>"
      ]
     },
     "execution_count": 4,
     "metadata": {},
     "output_type": "execute_result"
    }
   ],
   "source": [
    "%run -i \"mpl_results_graph.py\"\n",
    "RESULTS_graph"
   ]
  },
  {
   "cell_type": "code",
   "execution_count": null,
   "metadata": {},
   "outputs": [],
   "source": []
  }
 ],
 "metadata": {
  "kernelspec": {
   "display_name": "Python 3",
   "language": "python",
   "name": "python3"
  },
  "language_info": {
   "codemirror_mode": {
    "name": "ipython",
    "version": 3
   },
   "file_extension": ".py",
   "mimetype": "text/x-python",
   "name": "python",
   "nbconvert_exporter": "python",
   "pygments_lexer": "ipython3",
   "version": "3.9.5"
  }
 },
 "nbformat": 4,
 "nbformat_minor": 4
}
