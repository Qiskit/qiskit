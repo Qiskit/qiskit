{
 "cells": [
  {
   "cell_type": "code",
   "execution_count": null,
   "id": "fc250437",
   "metadata": {},
   "outputs": [],
   "source": [
    "#Testing Circuits\n",
    "import warnings; warnings.simplefilter('ignore')\n",
    "%run \"mpl/circuit/test_circuit_matplotlib_drawer.py\""
   ]
  },
  {
   "cell_type": "code",
   "execution_count": null,
   "id": "cb71dfd4",
   "metadata": {},
   "outputs": [],
   "source": [
    "#Testing Graphs\n",
    "%run \"mpl/graph/test_graph_matplotlib_drawer.py\""
   ]
  },
  {
   "cell_type": "code",
   "execution_count": null,
   "id": "f39a023f",
   "metadata": {},
   "outputs": [],
   "source": [
    "%run -i \"results.py\"\n",
    "RESULTS_CIRCUIT"
   ]
  },
  {
   "cell_type": "code",
   "execution_count": null,
   "id": "fece430d",
   "metadata": {},
   "outputs": [],
   "source": [
    "RESULTS_GRAPH"
   ]
  }
 ],
 "metadata": {
  "kernelspec": {
   "display_name": "Python 3",
   "language": "python",
   "name": "python3"
  },
  "language_info": {
   "codemirror_mode": {
    "name": "ipython",
    "version": 3
   },
   "file_extension": ".py",
   "mimetype": "text/x-python",
   "name": "python",
   "nbconvert_exporter": "python",
   "pygments_lexer": "ipython3",
   "version": "3.9.5"
  }
 },
 "nbformat": 4,
 "nbformat_minor": 5
}