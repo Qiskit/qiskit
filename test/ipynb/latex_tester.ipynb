{
 "cells": [
  {
   "cell_type": "code",
   "execution_count": 1,
   "id": "f3ae7e4f",
   "metadata": {},
   "outputs": [
    {
     "name": "stderr",
     "output_type": "stream",
     "text": [
      "............/home/tharrma/qiskitdev/qiskit-terra/test/ipynb/latex/test_circuit_latex_drawer.py:446: DeprecationWarning: The QuantumCircuit.u1 method is deprecated as of 0.16.0. It will be removed no earlier than 3 months after the release date. You should use the QuantumCircuit.p method instead, which acts identically.\n",
      "  circuit.u1(pi / 2, 4)\n",
      "/home/tharrma/qiskitdev/qiskit-terra/test/ipynb/latex/test_circuit_latex_drawer.py:448: DeprecationWarning: The QuantumCircuit.cu1 method is deprecated as of 0.16.0. It will be removed no earlier than 3 months after the release date. You should use the QuantumCircuit.cp method instead, which acts identically.\n",
      "  circuit.cu1(pi / 2, 5, 6)\n",
      "/home/tharrma/qiskitdev/qiskit-terra/test/ipynb/latex/test_circuit_latex_drawer.py:452: DeprecationWarning: The QuantumCircuit.u2 method is deprecated as of 0.16.0. It will be removed no earlier than 3 months after the release date. You can use the general 1-qubit gate QuantumCircuit.u instead: u2(φ,λ) = u(π/2, φ, λ). Alternatively, you can decompose it interms of QuantumCircuit.p and QuantumCircuit.sx: u2(φ,λ) = p(π/2+φ) sx p(λ-π/2) (1 pulse on hardware).\n",
      "  circuit.u2(pi / 2, pi / 2, 5)\n",
      "............../home/tharrma/qiskitdev/qiskit-terra/test/ipynb/latex/test_circuit_latex_drawer.py:138: DeprecationWarning: The QuantumCircuit.u3 method is deprecated as of 0.16.0. It will be removed no earlier than 3 months after the release date. You should use QuantumCircuit.u instead, which acts identically. Alternatively, you can decompose u3 in terms of QuantumCircuit.p and QuantumCircuit.sx: u3(ϴ,φ,λ) = p(φ+π) sx p(ϴ+π) sx p(λ) (2 pulses on hardware).\n",
      "  circuit.u3(0.3, 0.2, 0.1, [qr[0]])\n",
      "...\n",
      "----------------------------------------------------------------------\n",
      "Ran 29 tests in 32.382s\n",
      "\n",
      "OK\n"
     ]
    }
   ],
   "source": [
    "import warnings; warnings.simplefilter('ignore')\n",
    "%run 'latex/test_circuit_latex_drawer.py'"
   ]
  },
  {
   "cell_type": "code",
   "execution_count": 2,
   "id": "f3d994d4",
   "metadata": {},
   "outputs": [
    {
     "data": {
      "text/html": [
       "<div><details><summary style=\"background-color:lightgreen;\"> <tt><b>test_4597.png</b> | test_4597 (__main__.TestLatexDrawer) </tt> | ratio: 1.0 </summary><table><tr><td><img src=\"latex/test_4597.png\"</td><td><img src=\"latex/references/test_4597.png\"</td><td><img src=\"latex/test_4597.diff.png\"</td></tr></table></details><details><summary style=\"background-color:lightgreen;\"> <tt><b>test_big_gates.png</b> | test_big_gates (__main__.TestLatexDrawer) </tt> | ratio: 1.0 </summary><table><tr><td><img src=\"latex/test_big_gates.png\"</td><td><img src=\"latex/references/test_big_gates.png\"</td><td><img src=\"latex/test_big_gates.diff.png\"</td></tr></table></details><details><summary style=\"background-color:lightgreen;\"> <tt><b>test_cnot.png</b> | test_cnot (__main__.TestLatexDrawer) </tt> | ratio: 1.0 </summary><table><tr><td><img src=\"latex/test_cnot.png\"</td><td><img src=\"latex/references/test_cnot.png\"</td><td><img src=\"latex/test_cnot.diff.png\"</td></tr></table></details><details><summary style=\"background-color:lightgreen;\"> <tt><b>test_conditional.png</b> | test_conditional (__main__.TestLatexDrawer) </tt> | ratio: 1.0 </summary><table><tr><td><img src=\"latex/test_conditional.png\"</td><td><img src=\"latex/references/test_conditional.png\"</td><td><img src=\"latex/test_conditional.diff.png\"</td></tr></table></details><details><summary style=\"background-color:lightgreen;\"> <tt><b>test_creg_initial_false.png</b> | test_creg_initial (__main__.TestLatexDrawer) </tt> | ratio: 1.0 </summary><table><tr><td><img src=\"latex/test_creg_initial_false.png\"</td><td><img src=\"latex/references/test_creg_initial_false.png\"</td><td><img src=\"latex/test_creg_initial_false.diff.png\"</td></tr></table></details><details><summary style=\"background-color:lightgreen;\"> <tt><b>test_creg_initial_true.png</b> | test_creg_initial (__main__.TestLatexDrawer) </tt> | ratio: 1.0 </summary><table><tr><td><img src=\"latex/test_creg_initial_true.png\"</td><td><img src=\"latex/references/test_creg_initial_true.png\"</td><td><img src=\"latex/test_creg_initial_true.diff.png\"</td></tr></table></details><details><summary style=\"background-color:lightgreen;\"> <tt><b>test_cswap_rzz.png</b> | test_cswap_rzz (__main__.TestLatexDrawer) </tt> | ratio: 1.0 </summary><table><tr><td><img src=\"latex/test_cswap_rzz.png\"</td><td><img src=\"latex/references/test_cswap_rzz.png\"</td><td><img src=\"latex/test_cswap_rzz.diff.png\"</td></tr></table></details><details><summary style=\"background-color:lightgreen;\"> <tt><b>test_deep_circuit.png</b> | test_deep_circuit (__main__.TestLatexDrawer) </tt> | ratio: 1.0 </summary><table><tr><td><img src=\"latex/test_deep_circuit.png\"</td><td><img src=\"latex/references/test_deep_circuit.png\"</td><td><img src=\"latex/test_deep_circuit.diff.png\"</td></tr></table></details><details><summary style=\"background-color:lightgreen;\"> <tt><b>test_empty_circuit.png</b> | test_empty_circuit (__main__.TestLatexDrawer) </tt> | ratio: 1.0 </summary><table><tr><td><img src=\"latex/test_empty_circuit.png\"</td><td><img src=\"latex/references/test_empty_circuit.png\"</td><td><img src=\"latex/test_empty_circuit.diff.png\"</td></tr></table></details><details><summary style=\"background-color:lightgreen;\"> <tt><b>test_ghz_to_gate.png</b> | test_ghz_to_gate (__main__.TestLatexDrawer) </tt> | ratio: 1.0 </summary><table><tr><td><img src=\"latex/test_ghz_to_gate.png\"</td><td><img src=\"latex/references/test_ghz_to_gate.png\"</td><td><img src=\"latex/test_ghz_to_gate.diff.png\"</td></tr></table></details><details><summary style=\"background-color:lightgreen;\"> <tt><b>test_global_phase.png</b> | test_global_phase (__main__.TestLatexDrawer) </tt> | ratio: 1.0 </summary><table><tr><td><img src=\"latex/test_global_phase.png\"</td><td><img src=\"latex/references/test_global_phase.png\"</td><td><img src=\"latex/test_global_phase.diff.png\"</td></tr></table></details><details><summary style=\"background-color:lightgreen;\"> <tt><b>test_huge_circuit.png</b> | test_huge_circuit (__main__.TestLatexDrawer) </tt> | ratio: 1.0 </summary><table><tr><td><img src=\"latex/test_huge_circuit.png\"</td><td><img src=\"latex/references/test_huge_circuit.png\"</td><td><img src=\"latex/test_huge_circuit.diff.png\"</td></tr></table></details><details><summary style=\"background-color:lightgreen;\"> <tt><b>test_init_reset.png</b> | test_init_reset (__main__.TestLatexDrawer) </tt> | ratio: 1.0 </summary><table><tr><td><img src=\"latex/test_init_reset.png\"</td><td><img src=\"latex/references/test_init_reset.png\"</td><td><img src=\"latex/test_init_reset.diff.png\"</td></tr></table></details><details><summary style=\"background-color:lightgreen;\"> <tt><b>test_iqx_colors.png</b> | test_iqx_colors (__main__.TestLatexDrawer) </tt> | ratio: 1.0 </summary><table><tr><td><img src=\"latex/test_iqx_colors.png\"</td><td><img src=\"latex/references/test_iqx_colors.png\"</td><td><img src=\"latex/test_iqx_colors.diff.png\"</td></tr></table></details><details><summary style=\"background-color:lightgreen;\"> <tt><b>test_long_name.png</b> | test_long_name (__main__.TestLatexDrawer) </tt> | ratio: 1.0 </summary><table><tr><td><img src=\"latex/test_long_name.png\"</td><td><img src=\"latex/references/test_long_name.png\"</td><td><img src=\"latex/test_long_name.diff.png\"</td></tr></table></details><details><summary style=\"background-color:lightgreen;\"> <tt><b>test_meas_condition.png</b> | test_meas_condition (__main__.TestLatexDrawer) </tt> | ratio: 1.0 </summary><table><tr><td><img src=\"latex/test_meas_condition.png\"</td><td><img src=\"latex/references/test_meas_condition.png\"</td><td><img src=\"latex/test_meas_condition.diff.png\"</td></tr></table></details><details><summary style=\"background-color:lightgreen;\"> <tt><b>test_no_barriers_false.png</b> | test_no_barriers_false (__main__.TestLatexDrawer) </tt> | ratio: 1.0 </summary><table><tr><td><img src=\"latex/test_no_barriers_false.png\"</td><td><img src=\"latex/references/test_no_barriers_false.png\"</td><td><img src=\"latex/test_no_barriers_false.diff.png\"</td></tr></table></details><details><summary style=\"background-color:lightgreen;\"> <tt><b>test_no_ops.png</b> | test_no_ops (__main__.TestLatexDrawer) </tt> | ratio: 1.0 </summary><table><tr><td><img src=\"latex/test_no_ops.png\"</td><td><img src=\"latex/references/test_no_ops.png\"</td><td><img src=\"latex/test_no_ops.diff.png\"</td></tr></table></details><details><summary style=\"background-color:lightgreen;\"> <tt><b>test_normal_circuit.png</b> | test_normal_circuit (__main__.TestLatexDrawer) </tt> | ratio: 1.0 </summary><table><tr><td><img src=\"latex/test_normal_circuit.png\"</td><td><img src=\"latex/references/test_normal_circuit.png\"</td><td><img src=\"latex/test_normal_circuit.diff.png\"</td></tr></table></details><details><summary style=\"background-color:lightgreen;\"> <tt><b>test_partial_layout.png</b> | test_partial_layout (__main__.TestLatexDrawer) </tt> | ratio: 1.0 </summary><table><tr><td><img src=\"latex/test_partial_layout.png\"</td><td><img src=\"latex/references/test_partial_layout.png\"</td><td><img src=\"latex/test_partial_layout.diff.png\"</td></tr></table></details><details><summary style=\"background-color:lightgreen;\"> <tt><b>test_pauli_clifford.png</b> | test_pauli_clifford (__main__.TestLatexDrawer) </tt> | ratio: 1.0 </summary><table><tr><td><img src=\"latex/test_pauli_clifford.png\"</td><td><img src=\"latex/references/test_pauli_clifford.png\"</td><td><img src=\"latex/test_pauli_clifford.diff.png\"</td></tr></table></details><details><summary style=\"background-color:lightgreen;\"> <tt><b>test_pi_param_expr.png</b> | test_pi_param_expr (__main__.TestLatexDrawer) </tt> | ratio: 1.0 </summary><table><tr><td><img src=\"latex/test_pi_param_expr.png\"</td><td><img src=\"latex/references/test_pi_param_expr.png\"</td><td><img src=\"latex/test_pi_param_expr.diff.png\"</td></tr></table></details><details><summary style=\"background-color:lightgreen;\"> <tt><b>test_plot_barriers_false.png</b> | test_plot_barriers (__main__.TestLatexDrawer) </tt> | ratio: 1.0 </summary><table><tr><td><img src=\"latex/test_plot_barriers_false.png\"</td><td><img src=\"latex/references/test_plot_barriers_false.png\"</td><td><img src=\"latex/test_plot_barriers_false.diff.png\"</td></tr></table></details><details><summary style=\"background-color:lightgreen;\"> <tt><b>test_plot_barriers_true.png</b> | test_plot_barriers (__main__.TestLatexDrawer) </tt> | ratio: 1.0 </summary><table><tr><td><img src=\"latex/test_plot_barriers_true.png\"</td><td><img src=\"latex/references/test_plot_barriers_true.png\"</td><td><img src=\"latex/test_plot_barriers_true.diff.png\"</td></tr></table></details><details><summary style=\"background-color:lightgreen;\"> <tt><b>test_plot_partial_barrier.png</b> | test_plot_partial_barrier (__main__.TestLatexDrawer) </tt> | ratio: 1.0 </summary><table><tr><td><img src=\"latex/test_plot_partial_barrier.png\"</td><td><img src=\"latex/references/test_plot_partial_barrier.png\"</td><td><img src=\"latex/test_plot_partial_barrier.diff.png\"</td></tr></table></details><details><summary style=\"background-color:lightgreen;\"> <tt><b>test_r_gates.png</b> | test_r_gates (__main__.TestLatexDrawer) </tt> | ratio: 1.0 </summary><table><tr><td><img src=\"latex/test_r_gates.png\"</td><td><img src=\"latex/references/test_r_gates.png\"</td><td><img src=\"latex/test_r_gates.diff.png\"</td></tr></table></details><details><summary style=\"background-color:lightgreen;\"> <tt><b>test_reverse_bits.png</b> | test_reverse_bits (__main__.TestLatexDrawer) </tt> | ratio: 1.0 </summary><table><tr><td><img src=\"latex/test_reverse_bits.png\"</td><td><img src=\"latex/references/test_reverse_bits.png\"</td><td><img src=\"latex/test_reverse_bits.diff.png\"</td></tr></table></details><details><summary style=\"background-color:lightgreen;\"> <tt><b>test_scale_default.png</b> | test_scale (__main__.TestLatexDrawer) </tt> | ratio: 1.0 </summary><table><tr><td><img src=\"latex/test_scale_default.png\"</td><td><img src=\"latex/references/test_scale_default.png\"</td><td><img src=\"latex/test_scale_default.diff.png\"</td></tr></table></details><details><summary style=\"background-color:lightgreen;\"> <tt><b>test_scale_double.png</b> | test_scale (__main__.TestLatexDrawer) </tt> | ratio: 1.0 </summary><table><tr><td><img src=\"latex/test_scale_double.png\"</td><td><img src=\"latex/references/test_scale_double.png\"</td><td><img src=\"latex/test_scale_double.diff.png\"</td></tr></table></details><details><summary style=\"background-color:lightgreen;\"> <tt><b>test_scale_half.png</b> | test_scale (__main__.TestLatexDrawer) </tt> | ratio: 1.0 </summary><table><tr><td><img src=\"latex/test_scale_half.png\"</td><td><img src=\"latex/references/test_scale_half.png\"</td><td><img src=\"latex/test_scale_half.diff.png\"</td></tr></table></details><details><summary style=\"background-color:lightgreen;\"> <tt><b>test_teleport.png</b> | test_teleport (__main__.TestLatexDrawer) </tt> | ratio: 1.0 </summary><table><tr><td><img src=\"latex/test_teleport.png\"</td><td><img src=\"latex/references/test_teleport.png\"</td><td><img src=\"latex/test_teleport.diff.png\"</td></tr></table></details><details><summary style=\"background-color:lightgreen;\"> <tt><b>test_tiny_circuit.png</b> | test_tiny_circuit (__main__.TestLatexDrawer) </tt> | ratio: 1.0 </summary><table><tr><td><img src=\"latex/test_tiny_circuit.png\"</td><td><img src=\"latex/references/test_tiny_circuit.png\"</td><td><img src=\"latex/test_tiny_circuit.diff.png\"</td></tr></table></details><details><summary style=\"background-color:lightgreen;\"> <tt><b>test_u_gates.png</b> | test_u_gates (__main__.TestLatexDrawer) </tt> | ratio: 1.0 </summary><table><tr><td><img src=\"latex/test_u_gates.png\"</td><td><img src=\"latex/references/test_u_gates.png\"</td><td><img src=\"latex/test_u_gates.diff.png\"</td></tr></table></details></div>"
      ],
      "text/plain": [
       "<__main__.Results at 0x7fcc7acec1d0>"
      ]
     },
     "execution_count": 2,
     "metadata": {},
     "output_type": "execute_result"
    }
   ],
   "source": [
    "%run -i 'latex_results.py'\n",
    "RESULTS"
   ]
  },
  {
   "cell_type": "code",
   "execution_count": null,
   "id": "1ffde3d6",
   "metadata": {},
   "outputs": [],
   "source": []
  }
 ],
 "metadata": {
  "kernelspec": {
   "display_name": "Python 3",
   "language": "python",
   "name": "python3"
  },
  "language_info": {
   "codemirror_mode": {
    "name": "ipython",
    "version": 3
   },
   "file_extension": ".py",
   "mimetype": "text/x-python",
   "name": "python",
   "nbconvert_exporter": "python",
   "pygments_lexer": "ipython3",
   "version": "3.7.10"
  }
 },
 "nbformat": 4,
 "nbformat_minor": 5
}
