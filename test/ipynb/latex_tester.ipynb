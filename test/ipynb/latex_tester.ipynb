{
 "cells": [
  {
   "cell_type": "code",
   "execution_count": 2,
   "id": "064ae1df",
   "metadata": {},
   "outputs": [
    {
     "name": "stderr",
     "output_type": "stream",
     "text": [
      "test_4597 (__main__.TestLatexDrawer)\n",
      "Test cregbundle and conditional gates. ... ok\n",
      "test_big_gates (__main__.TestLatexDrawer)\n",
      "Test large gates with params ... ok\n",
      "test_cnot (__main__.TestLatexDrawer)\n",
      "Test different cnot gates (ccnot, mcx, etc) ... ok\n",
      "test_conditional (__main__.TestLatexDrawer)\n",
      "Test that circuits with conditionals draw correctly ... ok\n",
      "test_creg_initial (__main__.TestLatexDrawer)\n",
      "Test cregbundle and initial state options ... ERROR\n",
      "test_cswap_rzz (__main__.TestLatexDrawer)\n",
      "Test controlled swap and rzz gates ... ok\n",
      "test_deep_circuit (__main__.TestLatexDrawer)\n",
      "Test draw deep circuit. ... ok\n",
      "test_empty_circuit (__main__.TestLatexDrawer)\n",
      "Test draw an empty circuit ... ok\n",
      "test_ghz_to_gate (__main__.TestLatexDrawer)\n",
      "Test controlled GHZ to_gate circuit ... ok\n",
      "test_global_phase (__main__.TestLatexDrawer)\n",
      "Test circuit with global phase ... ok\n",
      "test_huge_circuit (__main__.TestLatexDrawer)\n",
      "Test draw huge circuit. ... ok\n",
      "test_init_reset (__main__.TestLatexDrawer)\n",
      "Test reset and initialize with 1 and 2 qubits ... ok\n",
      "test_iqx_colors (__main__.TestLatexDrawer)\n",
      "Tests with iqx color scheme ... /home/tharrma/qiskitdev/qiskit-terra/test/ipynb/latex/test_circuit_latex_drawer.py:536: DeprecationWarning: The QuantumCircuit.u1 method is deprecated as of 0.16.0. It will be removed no earlier than 3 months after the release date. You should use the QuantumCircuit.p method instead, which acts identically.\n",
      "  circuit.u1(pi / 2, 4)\n",
      "/home/tharrma/qiskitdev/qiskit-terra/test/ipynb/latex/test_circuit_latex_drawer.py:538: DeprecationWarning: The QuantumCircuit.cu1 method is deprecated as of 0.16.0. It will be removed no earlier than 3 months after the release date. You should use the QuantumCircuit.cp method instead, which acts identically.\n",
      "  circuit.cu1(pi / 2, 5, 6)\n",
      "/home/tharrma/qiskitdev/qiskit-terra/test/ipynb/latex/test_circuit_latex_drawer.py:542: DeprecationWarning: The QuantumCircuit.u2 method is deprecated as of 0.16.0. It will be removed no earlier than 3 months after the release date. You can use the general 1-qubit gate QuantumCircuit.u instead: u2(φ,λ) = u(π/2, φ, λ). Alternatively, you can decompose it interms of QuantumCircuit.p and QuantumCircuit.sx: u2(φ,λ) = p(π/2+φ) sx p(λ-π/2) (1 pulse on hardware).\n",
      "  circuit.u2(pi / 2, pi / 2, 5)\n",
      "ok\n",
      "test_long_name (__main__.TestLatexDrawer)\n",
      "Test to see that long register names can be seen completely ... ok\n",
      "test_meas_condition (__main__.TestLatexDrawer)\n",
      "Tests measure with a condition ... ok\n",
      "test_no_barriers_false (__main__.TestLatexDrawer)\n",
      "Generate the same circuit as test_plot_barriers but without the barrier commands ... ok\n",
      "test_no_ops (__main__.TestLatexDrawer)\n",
      "Test circuit with no ops. ... ok\n",
      "test_normal_circuit (__main__.TestLatexDrawer)\n",
      "Test draw normal size circuit. ... ok\n",
      "test_partial_layout (__main__.TestLatexDrawer)\n",
      "Tests partial_layout ... ok\n",
      "test_pauli_clifford (__main__.TestLatexDrawer)\n",
      "Test Pauli(green) and Clifford(blue) gates ... ok\n",
      "test_pi_param_expr (__main__.TestLatexDrawer)\n",
      "Text pi in circuit with parameter expression. ... ok\n",
      "test_plot_barriers (__main__.TestLatexDrawer)\n",
      "Test to see that plotting barriers works. ... ok\n",
      "test_plot_partial_barrier (__main__.TestLatexDrawer)\n",
      "Test plotting of partial barriers. ... ok\n",
      "test_r_gates (__main__.TestLatexDrawer)\n",
      "Test all R gates ... ok\n",
      "test_reverse_bits (__main__.TestLatexDrawer)\n",
      "Tests reverse_bits parameter ... ok\n",
      "test_scale (__main__.TestLatexDrawer)\n",
      "Tests scale ... ok\n",
      "test_teleport (__main__.TestLatexDrawer)\n",
      "Test draw teleport circuit. ... /home/tharrma/qiskitdev/qiskit-terra/test/ipynb/latex/test_circuit_latex_drawer.py:156: DeprecationWarning: The QuantumCircuit.u3 method is deprecated as of 0.16.0. It will be removed no earlier than 3 months after the release date. You should use QuantumCircuit.u instead, which acts identically. Alternatively, you can decompose u3 in terms of QuantumCircuit.p and QuantumCircuit.sx: u3(ϴ,φ,λ) = p(φ+π) sx p(ϴ+π) sx p(λ) (2 pulses on hardware).\n",
      "  circuit.u3(0.3, 0.2, 0.1, [qr[0]])\n",
      "ok\n",
      "test_tiny_circuit (__main__.TestLatexDrawer)\n",
      "Test draw tiny circuit. ... ok\n",
      "test_u_gates (__main__.TestLatexDrawer)\n",
      "Test U 1, 2, & 3 gates ... ok\n",
      "\n",
      "======================================================================\n",
      "ERROR: test_creg_initial (__main__.TestLatexDrawer)\n",
      "Test cregbundle and initial state options\n",
      "----------------------------------------------------------------------\n",
      "testtools.testresult.real._StringException: Traceback (most recent call last):\n",
      "  File \"/home/tharrma/qiskitdev/qiskit-terra/test/ipynb/latex/test_circuit_latex_drawer.py\", line 402, in test_creg_initial\n",
      "    initial_state=False,\n",
      "  File \"/home/tharrma/qiskitdev/qiskit-terra/test/ipynb/latex/test_circuit_latex_drawer.py\", line 64, in wrapper\n",
      "    results = func(*args, **kwargs)\n",
      "TypeError: _latex_circuit_drawer() got an unexpected keyword argument 'output'\n",
      "\n",
      "\n",
      "----------------------------------------------------------------------\n",
      "Ran 29 tests in 35.628s\n",
      "\n",
      "FAILED (errors=1)\n"
     ]
    },
    {
     "ename": "SystemExit",
     "evalue": "True",
     "output_type": "error",
     "traceback": [
      "An exception has occurred, use %tb to see the full traceback.\n",
      "\u001b[0;31mSystemExit\u001b[0m\u001b[0;31m:\u001b[0m True\n"
     ]
    }
   ],
   "source": [
    "import warnings; warnings.simplefilter('ignore')\n",
    "%run 'latex/test_circuit_latex_drawer.py'"
   ]
  },
  {
   "cell_type": "code",
   "execution_count": null,
   "id": "dba5baa1",
   "metadata": {},
   "outputs": [],
   "source": [
    "%run -i 'results.py'\n",
    "RESULTS"
   ]
  }
 ],
 "metadata": {
  "kernelspec": {
   "display_name": "Python 3",
   "language": "python",
   "name": "python3"
  },
  "language_info": {
   "codemirror_mode": {
    "name": "ipython",
    "version": 3
   },
   "file_extension": ".py",
   "mimetype": "text/x-python",
   "name": "python",
   "nbconvert_exporter": "python",
   "pygments_lexer": "ipython3",
   "version": "3.7.10"
  }
 },
 "nbformat": 4,
 "nbformat_minor": 5
}
