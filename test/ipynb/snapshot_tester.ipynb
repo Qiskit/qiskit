{
 "cells": [
  {
   "cell_type": "code",
   "execution_count": null,
   "id": "b11a2477",
   "metadata": {},
   "outputs": [],
   "source": [
    "from results import *\n",
    "import warnings; warnings.simplefilter('ignore')"
   ]
  },
  {
   "cell_type": "code",
   "execution_count": null,
   "id": "fc250437",
   "metadata": {},
   "outputs": [],
   "source": [
    "#Testing MPL Circuits\n",
    "%run \"mpl/circuit/test_circuit_matplotlib_drawer.py\""
   ]
  },
  {
   "cell_type": "code",
   "execution_count": null,
   "id": "cb71dfd4",
   "metadata": {},
   "outputs": [],
   "source": [
    "#Testing MPL Graphs\n",
    "%run \"mpl/graph/test_graph_matplotlib_drawer.py\""
   ]
  },
  {
   "cell_type": "code",
   "execution_count": null,
   "id": "cfe2fd71",
   "metadata": {},
   "outputs": [],
   "source": [
    "#Testing Latex Circuits\n",
    "%run \"latex/test_circuit_latex_drawer.py\""
   ]
  },
  {
   "cell_type": "code",
   "execution_count": null,
   "id": "f39a023f",
   "metadata": {},
   "outputs": [],
   "source": [
    "get_results(\"circuit\")"
   ]
  },
  {
   "cell_type": "code",
   "execution_count": null,
   "id": "fece430d",
   "metadata": {},
   "outputs": [],
   "source": [
    "get_results(\"graph\")"
   ]
  },
  {
   "cell_type": "code",
   "execution_count": null,
   "id": "53dc9e8e",
   "metadata": {},
   "outputs": [],
   "source": [
    "get_results(\"latex\")"
   ]
  }
 ],
 "metadata": {
  "kernelspec": {
   "display_name": "Python 3 (ipykernel)",
   "language": "python",
   "name": "python3"
  },
  "language_info": {
   "codemirror_mode": {
    "name": "ipython",
    "version": 3
   },
   "file_extension": ".py",
   "mimetype": "text/x-python",
   "name": "python",
   "nbconvert_exporter": "python",
   "pygments_lexer": "ipython3"
  }
 },
 "nbformat": 4,
 "nbformat_minor": 5
}
