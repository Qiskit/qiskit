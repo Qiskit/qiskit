{
 "cells": [
  {
   "cell_type": "code",
   "execution_count": 1,
   "id": "b11a2477",
   "metadata": {},
   "outputs": [],
   "source": [
    "from results import *\n",
    "import warnings; warnings.simplefilter('ignore')"
   ]
  },
  {
   "cell_type": "code",
   "execution_count": 2,
   "id": "fc250437",
   "metadata": {
    "scrolled": true
   },
   "outputs": [
    {
     "name": "stderr",
     "output_type": "stream",
     "text": [
      "............../home/tharrma/qiskitdev/qiskit-terra/qiskit/visualization/matplotlib.py:192: RuntimeWarning: Cregbundle set to False since an instruction needs to refer to individual classical wire\n",
      "  self._set_cregbundle()\n",
      "..../home/tharrma/qiskitdev/qiskit-terra/test/ipynb/mpl/circuit/test_circuit_matplotlib_drawer.py:436: DeprecationWarning: The QuantumCircuit.u1 method is deprecated as of 0.16.0. It will be removed no earlier than 3 months after the release date. You should use the QuantumCircuit.p method instead, which acts identically.\n",
      "  circuit.u1(pi / 2, 4)\n",
      "/home/tharrma/qiskitdev/qiskit-terra/test/ipynb/mpl/circuit/test_circuit_matplotlib_drawer.py:438: DeprecationWarning: The QuantumCircuit.cu1 method is deprecated as of 0.16.0. It will be removed no earlier than 3 months after the release date. You should use the QuantumCircuit.cp method instead, which acts identically.\n",
      "  circuit.cu1(pi / 2, 5, 6)\n",
      "/home/tharrma/qiskitdev/qiskit-terra/test/ipynb/mpl/circuit/test_circuit_matplotlib_drawer.py:443: DeprecationWarning: The QuantumCircuit.u2 method is deprecated as of 0.16.0. It will be removed no earlier than 3 months after the release date. You can use the general 1-qubit gate QuantumCircuit.u instead: u2(φ,λ) = u(π/2, φ, λ). Alternatively, you can decompose it interms of QuantumCircuit.p and QuantumCircuit.sx: u2(φ,λ) = p(π/2+φ) sx p(λ-π/2) (1 pulse on hardware).\n",
      "  circuit.u2(pi / 2, pi / 2, 5)\n",
      "................../home/tharrma/qiskitdev/qiskit-terra/qiskit/visualization/matplotlib.py:166: UserWarning: Style JSON file 'user_style.json' not found in any of these locations: /home/tharrma/qiskitdev/qiskit-terra/qiskit/visualization/styles/user_style.json, user_style.json. Will use default style.\n",
      "  self._style, def_font_ratio = load_style(style)\n",
      "..\n",
      "----------------------------------------------------------------------\n",
      "Ran 38 tests in 14.526s\n",
      "\n",
      "OK\n"
     ]
    }
   ],
   "source": [
    "#Testing MPL Circuits\n",
    "%run \"mpl/circuit/test_circuit_matplotlib_drawer.py\""
   ]
  },
  {
   "cell_type": "code",
   "execution_count": 3,
   "id": "cb71dfd4",
   "metadata": {
    "scrolled": true
   },
   "outputs": [
    {
     "name": "stderr",
     "output_type": "stream",
     "text": [
      "/home/tharrma/qiskitdev/qiskit-terra/qiskit/visualization/bloch.py:544: PendingDeprecationWarning: \n",
      "The w_xaxis attribute will be deprecated in a future version. Use xaxis instead.\n",
      "  for item in self.axes.w_xaxis.get_ticklines() + self.axes.w_xaxis.get_ticklabels():\n",
      "/home/tharrma/qiskitdev/qiskit-terra/qiskit/visualization/bloch.py:546: PendingDeprecationWarning: \n",
      "The w_yaxis attribute will be deprecated in a future version. Use yaxis instead.\n",
      "  for item in self.axes.w_yaxis.get_ticklines() + self.axes.w_yaxis.get_ticklabels():\n",
      "/home/tharrma/qiskitdev/qiskit-terra/qiskit/visualization/bloch.py:548: PendingDeprecationWarning: \n",
      "The w_zaxis attribute will be deprecated in a future version. Use zaxis instead.\n",
      "  for item in self.axes.w_zaxis.get_ticklines() + self.axes.w_zaxis.get_ticklabels():\n",
      "./home/tharrma/qiskitdev/qiskit-terra/qiskit/visualization/counts_visualization.py:228: PendingDeprecationWarning: \n",
      "The label function will be deprecated in a future version. Use Tick.label1 instead.\n",
      "  tick.label.set_fontsize(14)\n",
      "./home/tharrma/qiskitdev/qiskit-terra/qiskit/visualization/state_visualization.py:479: PendingDeprecationWarning: \n",
      "The w_xaxis attribute will be deprecated in a future version. Use xaxis instead.\n",
      "  ax1.w_xaxis.set_ticklabels(row_names, fontsize=14, rotation=45, ha=\"right\", va=\"top\")\n",
      "/home/tharrma/qiskitdev/qiskit-terra/qiskit/visualization/state_visualization.py:480: PendingDeprecationWarning: \n",
      "The w_yaxis attribute will be deprecated in a future version. Use yaxis instead.\n",
      "  ax1.w_yaxis.set_ticklabels(\n",
      "/home/tharrma/qiskitdev/qiskit-terra/qiskit/visualization/state_visualization.py:485: PendingDeprecationWarning: \n",
      "The label function will be deprecated in a future version. Use Tick.label1 instead.\n",
      "  tick.label.set_fontsize(14)\n",
      "/home/tharrma/qiskitdev/qiskit-terra/qiskit/visualization/state_visualization.py:529: PendingDeprecationWarning: \n",
      "The w_xaxis attribute will be deprecated in a future version. Use xaxis instead.\n",
      "  ax2.w_xaxis.set_ticklabels(row_names, fontsize=14, rotation=45, ha=\"right\", va=\"top\")\n",
      "/home/tharrma/qiskitdev/qiskit-terra/qiskit/visualization/state_visualization.py:530: PendingDeprecationWarning: \n",
      "The w_yaxis attribute will be deprecated in a future version. Use yaxis instead.\n",
      "  ax2.w_yaxis.set_ticklabels(\n",
      "/home/tharrma/qiskitdev/qiskit-terra/qiskit/visualization/state_visualization.py:535: PendingDeprecationWarning: \n",
      "The label function will be deprecated in a future version. Use Tick.label1 instead.\n",
      "  tick.label.set_fontsize(14)\n",
      "../home/tharrma/qiskitdev/qiskit-terra/qiskit/visualization/state_visualization.py:628: PendingDeprecationWarning: \n",
      "The label function will be deprecated in a future version. Use Tick.label1 instead.\n",
      "  tick.label.set_fontsize(14)\n",
      "./home/tharrma/qiskitdev/qiskit-terra/qiskit/visualization/state_visualization.py:815: PendingDeprecationWarning: \n",
      "The w_xaxis attribute will be deprecated in a future version. Use xaxis instead.\n",
      "  ax.w_xaxis.set_pane_color((1.0, 1.0, 1.0, 0.0))\n",
      "/home/tharrma/qiskitdev/qiskit-terra/qiskit/visualization/state_visualization.py:816: PendingDeprecationWarning: \n",
      "The w_yaxis attribute will be deprecated in a future version. Use yaxis instead.\n",
      "  ax.w_yaxis.set_pane_color((1.0, 1.0, 1.0, 0.0))\n",
      "/home/tharrma/qiskitdev/qiskit-terra/qiskit/visualization/state_visualization.py:817: PendingDeprecationWarning: \n",
      "The w_zaxis attribute will be deprecated in a future version. Use zaxis instead.\n",
      "  ax.w_zaxis.set_pane_color((1.0, 1.0, 1.0, 0.0))\n",
      "/home/tharrma/qiskitdev/qiskit-terra/qiskit/visualization/state_visualization.py:820: PendingDeprecationWarning: \n",
      "The w_xaxis attribute will be deprecated in a future version. Use xaxis instead.\n",
      "  ax.w_xaxis.line.set_color((1.0, 1.0, 1.0, 0.0))\n",
      "/home/tharrma/qiskitdev/qiskit-terra/qiskit/visualization/state_visualization.py:821: PendingDeprecationWarning: \n",
      "The w_yaxis attribute will be deprecated in a future version. Use yaxis instead.\n",
      "  ax.w_yaxis.line.set_color((1.0, 1.0, 1.0, 0.0))\n",
      "/home/tharrma/qiskitdev/qiskit-terra/qiskit/visualization/state_visualization.py:822: PendingDeprecationWarning: \n",
      "The w_zaxis attribute will be deprecated in a future version. Use zaxis instead.\n",
      "  ax.w_zaxis.line.set_color((1.0, 1.0, 1.0, 0.0))\n",
      ".\n",
      "----------------------------------------------------------------------\n",
      "Ran 6 tests in 14.260s\n",
      "\n",
      "OK\n"
     ]
    }
   ],
   "source": [
    "#Testing MPL Graphs\n",
    "%run \"mpl/graph/test_graph_matplotlib_drawer.py\""
   ]
  },
  {
   "cell_type": "code",
   "execution_count": 4,
   "id": "cfe2fd71",
   "metadata": {},
   "outputs": [
    {
     "name": "stderr",
     "output_type": "stream",
     "text": [
      "..............................\n",
      "----------------------------------------------------------------------\n",
      "Ran 30 tests in 17.212s\n",
      "\n",
      "OK\n"
     ]
    }
   ],
   "source": [
    "#Testing Latex Circuits\n",
    "%run \"latex/test_circuit_latex_drawer.py\""
   ]
  },
  {
   "cell_type": "code",
   "execution_count": 5,
   "id": "f39a023f",
   "metadata": {
    "scrolled": true
   },
   "outputs": [
    {
     "data": {
      "text/html": [
       "<div><details><summary style=\"background-color:lightgreen;\"> <tt><b>6095.png</b> | test_6095 (__main__.TestMatplotlibDrawer) </tt> | ratio: 1.0 </summary><table><tr><td><img src=\"mpl/circuit/6095.png\"</td><td><img src=\"mpl/circuit/references/6095.png\"</td><td><img src=\"mpl/circuit/6095.diff.png\"</td></tr></table></details><details><summary style=\"background-color:lightgreen;\"> <tt><b>big_gates.png</b> | test_big_gates (__main__.TestMatplotlibDrawer) </tt> | ratio: 1.0 </summary><table><tr><td><img src=\"mpl/circuit/big_gates.png\"</td><td><img src=\"mpl/circuit/references/big_gates.png\"</td><td><img src=\"mpl/circuit/big_gates.diff.png\"</td></tr></table></details><details><summary style=\"background-color:lightgreen;\"> <tt><b>bw.png</b> | test_bw (__main__.TestMatplotlibDrawer) </tt> | ratio: 1.0 </summary><table><tr><td><img src=\"mpl/circuit/bw.png\"</td><td><img src=\"mpl/circuit/references/bw.png\"</td><td><img src=\"mpl/circuit/bw.diff.png\"</td></tr></table></details><details><summary style=\"background-color:lightgreen;\"> <tt><b>cnot.png</b> | test_cnot (__main__.TestMatplotlibDrawer) </tt> | ratio: 1.0 </summary><table><tr><td><img src=\"mpl/circuit/cnot.png\"</td><td><img src=\"mpl/circuit/references/cnot.png\"</td><td><img src=\"mpl/circuit/cnot.diff.png\"</td></tr></table></details><details><summary style=\"background-color:lightgreen;\"> <tt><b>conditional.png</b> | test_conditional (__main__.TestMatplotlibDrawer) </tt> | ratio: 1.0 </summary><table><tr><td><img src=\"mpl/circuit/conditional.png\"</td><td><img src=\"mpl/circuit/references/conditional.png\"</td><td><img src=\"mpl/circuit/conditional.diff.png\"</td></tr></table></details><details><summary style=\"background-color:lightgreen;\"> <tt><b>creg_initial_false.png</b> | test_creg_initial (__main__.TestMatplotlibDrawer) </tt> | ratio: 1.0 </summary><table><tr><td><img src=\"mpl/circuit/creg_initial_false.png\"</td><td><img src=\"mpl/circuit/references/creg_initial_false.png\"</td><td><img src=\"mpl/circuit/creg_initial_false.diff.png\"</td></tr></table></details><details><summary style=\"background-color:lightgreen;\"> <tt><b>creg_initial_true.png</b> | test_creg_initial (__main__.TestMatplotlibDrawer) </tt> | ratio: 1.0 </summary><table><tr><td><img src=\"mpl/circuit/creg_initial_true.png\"</td><td><img src=\"mpl/circuit/references/creg_initial_true.png\"</td><td><img src=\"mpl/circuit/creg_initial_true.diff.png\"</td></tr></table></details><details><summary style=\"background-color:lightgreen;\"> <tt><b>cswap_rzz.png</b> | test_cswap_rzz (__main__.TestMatplotlibDrawer) </tt> | ratio: 1.0 </summary><table><tr><td><img src=\"mpl/circuit/cswap_rzz.png\"</td><td><img src=\"mpl/circuit/references/cswap_rzz.png\"</td><td><img src=\"mpl/circuit/cswap_rzz.diff.png\"</td></tr></table></details><details><summary style=\"background-color:lightgreen;\"> <tt><b>ctrl_labels.png</b> | test_ctrl_labels (__main__.TestMatplotlibDrawer) </tt> | ratio: 1.0 </summary><table><tr><td><img src=\"mpl/circuit/ctrl_labels.png\"</td><td><img src=\"mpl/circuit/references/ctrl_labels.png\"</td><td><img src=\"mpl/circuit/ctrl_labels.diff.png\"</td></tr></table></details><details><summary style=\"background-color:lightgreen;\"> <tt><b>cz.png</b> | test_cz (__main__.TestMatplotlibDrawer) </tt> | ratio: 1.0 </summary><table><tr><td><img src=\"mpl/circuit/cz.png\"</td><td><img src=\"mpl/circuit/references/cz.png\"</td><td><img src=\"mpl/circuit/cz.diff.png\"</td></tr></table></details><details><summary style=\"background-color:lightgreen;\"> <tt><b>empty_circut.png</b> | test_empty_circuit (__main__.TestMatplotlibDrawer) </tt> | ratio: 1.0 </summary><table><tr><td><img src=\"mpl/circuit/empty_circut.png\"</td><td><img src=\"mpl/circuit/references/empty_circut.png\"</td><td><img src=\"mpl/circuit/empty_circut.diff.png\"</td></tr></table></details><details><summary style=\"background-color:lightgreen;\"> <tt><b>fold_4.png</b> | test_fold_4 (__main__.TestMatplotlibDrawer) </tt> | ratio: 1.0 </summary><table><tr><td><img src=\"mpl/circuit/fold_4.png\"</td><td><img src=\"mpl/circuit/references/fold_4.png\"</td><td><img src=\"mpl/circuit/fold_4.diff.png\"</td></tr></table></details><details><summary style=\"background-color:lightgreen;\"> <tt><b>fold_minus1.png</b> | test_fold_minus1 (__main__.TestMatplotlibDrawer) </tt> | ratio: 1.0 </summary><table><tr><td><img src=\"mpl/circuit/fold_minus1.png\"</td><td><img src=\"mpl/circuit/references/fold_minus1.png\"</td><td><img src=\"mpl/circuit/fold_minus1.diff.png\"</td></tr></table></details><details><summary style=\"background-color:lightgreen;\"> <tt><b>ghz_to_gate.png</b> | test_ghz_to_gate (__main__.TestMatplotlibDrawer) </tt> | ratio: 1.0 </summary><table><tr><td><img src=\"mpl/circuit/ghz_to_gate.png\"</td><td><img src=\"mpl/circuit/references/ghz_to_gate.png\"</td><td><img src=\"mpl/circuit/ghz_to_gate.diff.png\"</td></tr></table></details><details><summary style=\"background-color:lightgreen;\"> <tt><b>global_phase.png</b> | test_with_global_phase (__main__.TestMatplotlibDrawer) </tt> | ratio: 1.0 </summary><table><tr><td><img src=\"mpl/circuit/global_phase.png\"</td><td><img src=\"mpl/circuit/references/global_phase.png\"</td><td><img src=\"mpl/circuit/global_phase.diff.png\"</td></tr></table></details><details><summary style=\"background-color:lightgreen;\"> <tt><b>init_reset.png</b> | test_init_reset (__main__.TestMatplotlibDrawer) </tt> | ratio: 1.0 </summary><table><tr><td><img src=\"mpl/circuit/init_reset.png\"</td><td><img src=\"mpl/circuit/references/init_reset.png\"</td><td><img src=\"mpl/circuit/init_reset.diff.png\"</td></tr></table></details><details><summary style=\"background-color:lightgreen;\"> <tt><b>instruction_1q_1c.png</b> | test_instruction_1q_1c (__main__.TestMatplotlibDrawer) </tt> | ratio: 1.0 </summary><table><tr><td><img src=\"mpl/circuit/instruction_1q_1c.png\"</td><td><img src=\"mpl/circuit/references/instruction_1q_1c.png\"</td><td><img src=\"mpl/circuit/instruction_1q_1c.diff.png\"</td></tr></table></details><details><summary style=\"background-color:lightgreen;\"> <tt><b>instruction_3q_3c_circ1.png</b> | test_instruction_3q_3c_circ1 (__main__.TestMatplotlibDrawer) </tt> | ratio: 1.0 </summary><table><tr><td><img src=\"mpl/circuit/instruction_3q_3c_circ1.png\"</td><td><img src=\"mpl/circuit/references/instruction_3q_3c_circ1.png\"</td><td><img src=\"mpl/circuit/instruction_3q_3c_circ1.diff.png\"</td></tr></table></details><details><summary style=\"background-color:lightgreen;\"> <tt><b>instruction_3q_3c_circ2.png</b> | test_instruction_3q_3c_circ2 (__main__.TestMatplotlibDrawer) </tt> | ratio: 1.0 </summary><table><tr><td><img src=\"mpl/circuit/instruction_3q_3c_circ2.png\"</td><td><img src=\"mpl/circuit/references/instruction_3q_3c_circ2.png\"</td><td><img src=\"mpl/circuit/instruction_3q_3c_circ2.diff.png\"</td></tr></table></details><details><summary style=\"background-color:lightgreen;\"> <tt><b>instruction_3q_3c_circ3.png</b> | test_instruction_3q_3c_circ3 (__main__.TestMatplotlibDrawer) </tt> | ratio: 1.0 </summary><table><tr><td><img src=\"mpl/circuit/instruction_3q_3c_circ3.png\"</td><td><img src=\"mpl/circuit/references/instruction_3q_3c_circ3.png\"</td><td><img src=\"mpl/circuit/instruction_3q_3c_circ3.diff.png\"</td></tr></table></details><details><summary style=\"background-color:lightgreen;\"> <tt><b>iqx_color.png</b> | test_iqx_colors (__main__.TestMatplotlibDrawer) </tt> | ratio: 1.0 </summary><table><tr><td><img src=\"mpl/circuit/iqx_color.png\"</td><td><img src=\"mpl/circuit/references/iqx_color.png\"</td><td><img src=\"mpl/circuit/iqx_color.diff.png\"</td></tr></table></details><details><summary style=\"background-color:lightgreen;\"> <tt><b>long_name.png</b> | test_long_name (__main__.TestMatplotlibDrawer) </tt> | ratio: 1.0 </summary><table><tr><td><img src=\"mpl/circuit/long_name.png\"</td><td><img src=\"mpl/circuit/references/long_name.png\"</td><td><img src=\"mpl/circuit/long_name.diff.png\"</td></tr></table></details><details><summary style=\"background-color:lightgreen;\"> <tt><b>meas_condition.png</b> | test_meas_condition (__main__.TestMatplotlibDrawer) </tt> | ratio: 1.0 </summary><table><tr><td><img src=\"mpl/circuit/meas_condition.png\"</td><td><img src=\"mpl/circuit/references/meas_condition.png\"</td><td><img src=\"mpl/circuit/meas_condition.diff.png\"</td></tr></table></details><details><summary style=\"background-color:lightgreen;\"> <tt><b>no_barriers.png</b> | test_no_barriers_false (__main__.TestMatplotlibDrawer) </tt> | ratio: 1.0 </summary><table><tr><td><img src=\"mpl/circuit/no_barriers.png\"</td><td><img src=\"mpl/circuit/references/no_barriers.png\"</td><td><img src=\"mpl/circuit/no_barriers.diff.png\"</td></tr></table></details><details><summary style=\"background-color:lightgreen;\"> <tt><b>no_op_circut.png</b> | test_no_ops (__main__.TestMatplotlibDrawer) </tt> | ratio: 1.0 </summary><table><tr><td><img src=\"mpl/circuit/no_op_circut.png\"</td><td><img src=\"mpl/circuit/references/no_op_circut.png\"</td><td><img src=\"mpl/circuit/no_op_circut.diff.png\"</td></tr></table></details><details><summary style=\"background-color:lightgreen;\"> <tt><b>partial_layout.png</b> | test_partial_layout (__main__.TestMatplotlibDrawer) </tt> | ratio: 1.0 </summary><table><tr><td><img src=\"mpl/circuit/partial_layout.png\"</td><td><img src=\"mpl/circuit/references/partial_layout.png\"</td><td><img src=\"mpl/circuit/partial_layout.diff.png\"</td></tr></table></details><details><summary style=\"background-color:lightgreen;\"> <tt><b>pauli_clifford.png</b> | test_pauli_clifford (__main__.TestMatplotlibDrawer) </tt> | ratio: 1.0 </summary><table><tr><td><img src=\"mpl/circuit/pauli_clifford.png\"</td><td><img src=\"mpl/circuit/references/pauli_clifford.png\"</td><td><img src=\"mpl/circuit/pauli_clifford.diff.png\"</td></tr></table></details><details><summary style=\"background-color:lightgreen;\"> <tt><b>pi_in_param_expr.png</b> | test_pi_param_expr (__main__.TestMatplotlibDrawer) </tt> | ratio: 1.0 </summary><table><tr><td><img src=\"mpl/circuit/pi_in_param_expr.png\"</td><td><img src=\"mpl/circuit/references/pi_in_param_expr.png\"</td><td><img src=\"mpl/circuit/pi_in_param_expr.diff.png\"</td></tr></table></details><details><summary style=\"background-color:lightgreen;\"> <tt><b>plot_barriers_false.png</b> | test_plot_barriers (__main__.TestMatplotlibDrawer) </tt> | ratio: 1.0 </summary><table><tr><td><img src=\"mpl/circuit/plot_barriers_false.png\"</td><td><img src=\"mpl/circuit/references/plot_barriers_false.png\"</td><td><img src=\"mpl/circuit/plot_barriers_false.diff.png\"</td></tr></table></details><details><summary style=\"background-color:lightgreen;\"> <tt><b>plot_barriers_true.png</b> | test_plot_barriers (__main__.TestMatplotlibDrawer) </tt> | ratio: 1.0 </summary><table><tr><td><img src=\"mpl/circuit/plot_barriers_true.png\"</td><td><img src=\"mpl/circuit/references/plot_barriers_true.png\"</td><td><img src=\"mpl/circuit/plot_barriers_true.diff.png\"</td></tr></table></details><details><summary style=\"background-color:lightgreen;\"> <tt><b>plot_partial_barrier.png</b> | test_plot_partial_barrier (__main__.TestMatplotlibDrawer) </tt> | ratio: 1.0 </summary><table><tr><td><img src=\"mpl/circuit/plot_partial_barrier.png\"</td><td><img src=\"mpl/circuit/references/plot_partial_barrier.png\"</td><td><img src=\"mpl/circuit/plot_partial_barrier.diff.png\"</td></tr></table></details><details><summary style=\"background-color:lightgreen;\"> <tt><b>r_gates.png</b> | test_r_gates (__main__.TestMatplotlibDrawer) </tt> | ratio: 1.0 </summary><table><tr><td><img src=\"mpl/circuit/r_gates.png\"</td><td><img src=\"mpl/circuit/references/r_gates.png\"</td><td><img src=\"mpl/circuit/r_gates.diff.png\"</td></tr></table></details><details><summary style=\"background-color:lightgreen;\"> <tt><b>reverse_bits.png</b> | test_reverse_bits (__main__.TestMatplotlibDrawer) </tt> | ratio: 1.0 </summary><table><tr><td><img src=\"mpl/circuit/reverse_bits.png\"</td><td><img src=\"mpl/circuit/references/reverse_bits.png\"</td><td><img src=\"mpl/circuit/reverse_bits.diff.png\"</td></tr></table></details><details><summary style=\"background-color:lightgreen;\"> <tt><b>reverse_bits_cond_false.png</b> | test_reverse_bits_condition (__main__.TestMatplotlibDrawer) </tt> | ratio: 1.0 </summary><table><tr><td><img src=\"mpl/circuit/reverse_bits_cond_false.png\"</td><td><img src=\"mpl/circuit/references/reverse_bits_cond_false.png\"</td><td><img src=\"mpl/circuit/reverse_bits_cond_false.diff.png\"</td></tr></table></details><details><summary style=\"background-color:lightgreen;\"> <tt><b>reverse_bits_cond_true.png</b> | test_reverse_bits_condition (__main__.TestMatplotlibDrawer) </tt> | ratio: 1.0 </summary><table><tr><td><img src=\"mpl/circuit/reverse_bits_cond_true.png\"</td><td><img src=\"mpl/circuit/references/reverse_bits_cond_true.png\"</td><td><img src=\"mpl/circuit/reverse_bits_cond_true.diff.png\"</td></tr></table></details><details><summary style=\"background-color:lightgreen;\"> <tt><b>scale_default.png</b> | test_scale (__main__.TestMatplotlibDrawer) </tt> | ratio: 1.0 </summary><table><tr><td><img src=\"mpl/circuit/scale_default.png\"</td><td><img src=\"mpl/circuit/references/scale_default.png\"</td><td><img src=\"mpl/circuit/scale_default.diff.png\"</td></tr></table></details><details><summary style=\"background-color:lightgreen;\"> <tt><b>scale_double.png</b> | test_scale (__main__.TestMatplotlibDrawer) </tt> | ratio: 1.0 </summary><table><tr><td><img src=\"mpl/circuit/scale_double.png\"</td><td><img src=\"mpl/circuit/references/scale_double.png\"</td><td><img src=\"mpl/circuit/scale_double.diff.png\"</td></tr></table></details><details><summary style=\"background-color:lightgreen;\"> <tt><b>scale_half.png</b> | test_scale (__main__.TestMatplotlibDrawer) </tt> | ratio: 1.0 </summary><table><tr><td><img src=\"mpl/circuit/scale_half.png\"</td><td><img src=\"mpl/circuit/references/scale_half.png\"</td><td><img src=\"mpl/circuit/scale_half.diff.png\"</td></tr></table></details><details><summary style=\"background-color:lightgreen;\"> <tt><b>style_custom_gates.png</b> | test_style_custom_gates (__main__.TestMatplotlibDrawer) </tt> | ratio: 1.0 </summary><table><tr><td><img src=\"mpl/circuit/style_custom_gates.png\"</td><td><img src=\"mpl/circuit/references/style_custom_gates.png\"</td><td><img src=\"mpl/circuit/style_custom_gates.diff.png\"</td></tr></table></details><details><summary style=\"background-color:lightgreen;\"> <tt><b>subfont.png</b> | test_subfont_change (__main__.TestMatplotlibDrawer) </tt> | ratio: 1.0 </summary><table><tr><td><img src=\"mpl/circuit/subfont.png\"</td><td><img src=\"mpl/circuit/references/subfont.png\"</td><td><img src=\"mpl/circuit/subfont.diff.png\"</td></tr></table></details><details><summary style=\"background-color:lightgreen;\"> <tt><b>u_gates.png</b> | test_u_gates (__main__.TestMatplotlibDrawer) </tt> | ratio: 1.0 </summary><table><tr><td><img src=\"mpl/circuit/u_gates.png\"</td><td><img src=\"mpl/circuit/references/u_gates.png\"</td><td><img src=\"mpl/circuit/u_gates.diff.png\"</td></tr></table></details><details><summary style=\"background-color:lightgreen;\"> <tt><b>user_style.png</b> | test_user_style (__main__.TestMatplotlibDrawer) </tt> | ratio: 1.0 </summary><table><tr><td><img src=\"mpl/circuit/user_style.png\"</td><td><img src=\"mpl/circuit/references/user_style.png\"</td><td><img src=\"mpl/circuit/user_style.diff.png\"</td></tr></table></details><details><summary style=\"background-color:lightgreen;\"> <tt><b>wide_params.png</b> | test_overwide_gates (__main__.TestMatplotlibDrawer) </tt> | ratio: 1.0 </summary><table><tr><td><img src=\"mpl/circuit/wide_params.png\"</td><td><img src=\"mpl/circuit/references/wide_params.png\"</td><td><img src=\"mpl/circuit/wide_params.diff.png\"</td></tr></table></details></div>"
      ],
      "text/plain": [
       "<results.Results at 0x7f924833f350>"
      ]
     },
     "execution_count": 5,
     "metadata": {},
     "output_type": "execute_result"
    }
   ],
   "source": [
    "RESULTS_CIRCUIT = test_mpl_circuit_drawer()\n",
    "RESULTS_CIRCUIT"
   ]
  },
  {
   "cell_type": "code",
   "execution_count": 6,
   "id": "fece430d",
   "metadata": {},
   "outputs": [
    {
     "data": {
      "text/html": [
       "<div><details><summary style=\"background-color:lightgreen;\"> <tt><b>bloch_multivector.png</b> | test_plot_bloch_multivector (__main__.TestGraphMatplotlibDrawer) </tt> | ratio: 1.0 </summary><table><tr><td><img src=\"mpl/graph/bloch_multivector.png\"</td><td><img src=\"mpl/graph/references/bloch_multivector.png\"</td><td><img src=\"mpl/graph/bloch_multivector.diff.png\"</td></tr></table></details><details><summary style=\"background-color:lightgreen;\"> <tt><b>hinton.png</b> | test_plot_state_hinton (__main__.TestGraphMatplotlibDrawer) </tt> | ratio: 1.0 </summary><table><tr><td><img src=\"mpl/graph/hinton.png\"</td><td><img src=\"mpl/graph/references/hinton.png\"</td><td><img src=\"mpl/graph/hinton.diff.png\"</td></tr></table></details><details><summary style=\"background-color:lightgreen;\"> <tt><b>histogram.png</b> | test_plot_histogram (__main__.TestGraphMatplotlibDrawer) </tt> | ratio: 1.0 </summary><table><tr><td><img src=\"mpl/graph/histogram.png\"</td><td><img src=\"mpl/graph/references/histogram.png\"</td><td><img src=\"mpl/graph/histogram.diff.png\"</td></tr></table></details><details><summary style=\"background-color:lightgreen;\"> <tt><b>paulivec.png</b> | test_plot_state_paulivec (__main__.TestGraphMatplotlibDrawer) </tt> | ratio: 1.0 </summary><table><tr><td><img src=\"mpl/graph/paulivec.png\"</td><td><img src=\"mpl/graph/references/paulivec.png\"</td><td><img src=\"mpl/graph/paulivec.diff.png\"</td></tr></table></details><details><summary style=\"background-color:lightgreen;\"> <tt><b>qsphere.png</b> | test_plot_state_qsphere (__main__.TestGraphMatplotlibDrawer) </tt> | ratio: 1.0 </summary><table><tr><td><img src=\"mpl/graph/qsphere.png\"</td><td><img src=\"mpl/graph/references/qsphere.png\"</td><td><img src=\"mpl/graph/qsphere.diff.png\"</td></tr></table></details><details><summary style=\"background-color:lightgreen;\"> <tt><b>state_city.png</b> | test_plot_state_city (__main__.TestGraphMatplotlibDrawer) </tt> | ratio: 1.0 </summary><table><tr><td><img src=\"mpl/graph/state_city.png\"</td><td><img src=\"mpl/graph/references/state_city.png\"</td><td><img src=\"mpl/graph/state_city.diff.png\"</td></tr></table></details></div>"
      ],
      "text/plain": [
       "<results.Results at 0x7f92476ff050>"
      ]
     },
     "execution_count": 6,
     "metadata": {},
     "output_type": "execute_result"
    }
   ],
   "source": [
    "RESULTS_GRAPH = test_mpl_graph_drawer()\n",
    "RESULTS_GRAPH"
   ]
  },
  {
   "cell_type": "code",
   "execution_count": 7,
   "id": "53dc9e8e",
   "metadata": {},
   "outputs": [
    {
     "data": {
      "text/html": [
       "<div><details><summary style=\"background-color:lightgreen;\"> <tt><b>test_4597.png</b> | test_4597 (__main__.TestLatexDrawer) </tt> | ratio: 1.0 </summary><table><tr><td><img src=\"latex/test_4597.png\"</td><td><img src=\"latex/references/test_4597.png\"</td><td><img src=\"latex/test_4597.diff.png\"</td></tr></table></details><details><summary style=\"background-color:lightgreen;\"> <tt><b>test_big_gates.png</b> | test_big_gates (__main__.TestLatexDrawer) </tt> | ratio: 1.0 </summary><table><tr><td><img src=\"latex/test_big_gates.png\"</td><td><img src=\"latex/references/test_big_gates.png\"</td><td><img src=\"latex/test_big_gates.diff.png\"</td></tr></table></details><details><summary style=\"background-color:lightgreen;\"> <tt><b>test_cnot.png</b> | test_cnot (__main__.TestLatexDrawer) </tt> | ratio: 1.0 </summary><table><tr><td><img src=\"latex/test_cnot.png\"</td><td><img src=\"latex/references/test_cnot.png\"</td><td><img src=\"latex/test_cnot.diff.png\"</td></tr></table></details><details><summary style=\"background-color:lightgreen;\"> <tt><b>test_conditional.png</b> | test_conditional (__main__.TestLatexDrawer) </tt> | ratio: 1.0 </summary><table><tr><td><img src=\"latex/test_conditional.png\"</td><td><img src=\"latex/references/test_conditional.png\"</td><td><img src=\"latex/test_conditional.diff.png\"</td></tr></table></details><details><summary style=\"background-color:lightgreen;\"> <tt><b>test_creg_initial_false.png</b> | test_creg_initial (__main__.TestLatexDrawer) </tt> | ratio: 1.0 </summary><table><tr><td><img src=\"latex/test_creg_initial_false.png\"</td><td><img src=\"latex/references/test_creg_initial_false.png\"</td><td><img src=\"latex/test_creg_initial_false.diff.png\"</td></tr></table></details><details><summary style=\"background-color:lightgreen;\"> <tt><b>test_creg_initial_true.png</b> | test_creg_initial (__main__.TestLatexDrawer) </tt> | ratio: 1.0 </summary><table><tr><td><img src=\"latex/test_creg_initial_true.png\"</td><td><img src=\"latex/references/test_creg_initial_true.png\"</td><td><img src=\"latex/test_creg_initial_true.diff.png\"</td></tr></table></details><details><summary style=\"background-color:lightgreen;\"> <tt><b>test_cswap_rzz.png</b> | test_cswap_rzz (__main__.TestLatexDrawer) </tt> | ratio: 1.0 </summary><table><tr><td><img src=\"latex/test_cswap_rzz.png\"</td><td><img src=\"latex/references/test_cswap_rzz.png\"</td><td><img src=\"latex/test_cswap_rzz.diff.png\"</td></tr></table></details><details><summary style=\"background-color:lightgreen;\"> <tt><b>test_deep_circuit.png</b> | test_deep_circuit (__main__.TestLatexDrawer) </tt> | ratio: 1.0 </summary><table><tr><td><img src=\"latex/test_deep_circuit.png\"</td><td><img src=\"latex/references/test_deep_circuit.png\"</td><td><img src=\"latex/test_deep_circuit.diff.png\"</td></tr></table></details><details><summary style=\"background-color:lightgreen;\"> <tt><b>test_empty_circuit.png</b> | test_empty_circuit (__main__.TestLatexDrawer) </tt> | ratio: 1.0 </summary><table><tr><td><img src=\"latex/test_empty_circuit.png\"</td><td><img src=\"latex/references/test_empty_circuit.png\"</td><td><img src=\"latex/test_empty_circuit.diff.png\"</td></tr></table></details><details><summary style=\"background-color:lightgreen;\"> <tt><b>test_ghz_to_gate.png</b> | test_ghz_to_gate (__main__.TestLatexDrawer) </tt> | ratio: 1.0 </summary><table><tr><td><img src=\"latex/test_ghz_to_gate.png\"</td><td><img src=\"latex/references/test_ghz_to_gate.png\"</td><td><img src=\"latex/test_ghz_to_gate.diff.png\"</td></tr></table></details><details><summary style=\"background-color:lightgreen;\"> <tt><b>test_global_phase.png</b> | test_global_phase (__main__.TestLatexDrawer) </tt> | ratio: 1.0 </summary><table><tr><td><img src=\"latex/test_global_phase.png\"</td><td><img src=\"latex/references/test_global_phase.png\"</td><td><img src=\"latex/test_global_phase.diff.png\"</td></tr></table></details><details><summary style=\"background-color:lightgreen;\"> <tt><b>test_huge_circuit.png</b> | test_huge_circuit (__main__.TestLatexDrawer) </tt> | ratio: 1.0 </summary><table><tr><td><img src=\"latex/test_huge_circuit.png\"</td><td><img src=\"latex/references/test_huge_circuit.png\"</td><td><img src=\"latex/test_huge_circuit.diff.png\"</td></tr></table></details><details><summary style=\"background-color:lightgreen;\"> <tt><b>test_init_reset.png</b> | test_init_reset (__main__.TestLatexDrawer) </tt> | ratio: 1.0 </summary><table><tr><td><img src=\"latex/test_init_reset.png\"</td><td><img src=\"latex/references/test_init_reset.png\"</td><td><img src=\"latex/test_init_reset.diff.png\"</td></tr></table></details><details><summary style=\"background-color:lightgreen;\"> <tt><b>test_inst_with_cbits.png</b> | test_inst_with_cbits (__main__.TestLatexDrawer) </tt> | ratio: 1.0 </summary><table><tr><td><img src=\"latex/test_inst_with_cbits.png\"</td><td><img src=\"latex/references/test_inst_with_cbits.png\"</td><td><img src=\"latex/test_inst_with_cbits.diff.png\"</td></tr></table></details><details><summary style=\"background-color:lightgreen;\"> <tt><b>test_iqx_colors.png</b> | test_iqx_colors (__main__.TestLatexDrawer) </tt> | ratio: 1.0 </summary><table><tr><td><img src=\"latex/test_iqx_colors.png\"</td><td><img src=\"latex/references/test_iqx_colors.png\"</td><td><img src=\"latex/test_iqx_colors.diff.png\"</td></tr></table></details><details><summary style=\"background-color:lightgreen;\"> <tt><b>test_long_name.png</b> | test_long_name (__main__.TestLatexDrawer) </tt> | ratio: 1.0 </summary><table><tr><td><img src=\"latex/test_long_name.png\"</td><td><img src=\"latex/references/test_long_name.png\"</td><td><img src=\"latex/test_long_name.diff.png\"</td></tr></table></details><details><summary style=\"background-color:lightgreen;\"> <tt><b>test_meas_condition.png</b> | test_meas_condition (__main__.TestLatexDrawer) </tt> | ratio: 1.0 </summary><table><tr><td><img src=\"latex/test_meas_condition.png\"</td><td><img src=\"latex/references/test_meas_condition.png\"</td><td><img src=\"latex/test_meas_condition.diff.png\"</td></tr></table></details><details><summary style=\"background-color:lightgreen;\"> <tt><b>test_no_barriers_false.png</b> | test_no_barriers_false (__main__.TestLatexDrawer) </tt> | ratio: 1.0 </summary><table><tr><td><img src=\"latex/test_no_barriers_false.png\"</td><td><img src=\"latex/references/test_no_barriers_false.png\"</td><td><img src=\"latex/test_no_barriers_false.diff.png\"</td></tr></table></details><details><summary style=\"background-color:lightgreen;\"> <tt><b>test_no_ops.png</b> | test_no_ops (__main__.TestLatexDrawer) </tt> | ratio: 1.0 </summary><table><tr><td><img src=\"latex/test_no_ops.png\"</td><td><img src=\"latex/references/test_no_ops.png\"</td><td><img src=\"latex/test_no_ops.diff.png\"</td></tr></table></details><details><summary style=\"background-color:lightgreen;\"> <tt><b>test_normal_circuit.png</b> | test_normal_circuit (__main__.TestLatexDrawer) </tt> | ratio: 1.0 </summary><table><tr><td><img src=\"latex/test_normal_circuit.png\"</td><td><img src=\"latex/references/test_normal_circuit.png\"</td><td><img src=\"latex/test_normal_circuit.diff.png\"</td></tr></table></details><details><summary style=\"background-color:lightgreen;\"> <tt><b>test_partial_layout.png</b> | test_partial_layout (__main__.TestLatexDrawer) </tt> | ratio: 1.0 </summary><table><tr><td><img src=\"latex/test_partial_layout.png\"</td><td><img src=\"latex/references/test_partial_layout.png\"</td><td><img src=\"latex/test_partial_layout.diff.png\"</td></tr></table></details><details><summary style=\"background-color:lightgreen;\"> <tt><b>test_pauli_clifford.png</b> | test_pauli_clifford (__main__.TestLatexDrawer) </tt> | ratio: 1.0 </summary><table><tr><td><img src=\"latex/test_pauli_clifford.png\"</td><td><img src=\"latex/references/test_pauli_clifford.png\"</td><td><img src=\"latex/test_pauli_clifford.diff.png\"</td></tr></table></details><details><summary style=\"background-color:lightgreen;\"> <tt><b>test_pi_param_expr.png</b> | test_pi_param_expr (__main__.TestLatexDrawer) </tt> | ratio: 1.0 </summary><table><tr><td><img src=\"latex/test_pi_param_expr.png\"</td><td><img src=\"latex/references/test_pi_param_expr.png\"</td><td><img src=\"latex/test_pi_param_expr.diff.png\"</td></tr></table></details><details><summary style=\"background-color:lightgreen;\"> <tt><b>test_plot_barriers_false.png</b> | test_plot_barriers (__main__.TestLatexDrawer) </tt> | ratio: 1.0 </summary><table><tr><td><img src=\"latex/test_plot_barriers_false.png\"</td><td><img src=\"latex/references/test_plot_barriers_false.png\"</td><td><img src=\"latex/test_plot_barriers_false.diff.png\"</td></tr></table></details><details><summary style=\"background-color:lightgreen;\"> <tt><b>test_plot_barriers_true.png</b> | test_plot_barriers (__main__.TestLatexDrawer) </tt> | ratio: 1.0 </summary><table><tr><td><img src=\"latex/test_plot_barriers_true.png\"</td><td><img src=\"latex/references/test_plot_barriers_true.png\"</td><td><img src=\"latex/test_plot_barriers_true.diff.png\"</td></tr></table></details><details><summary style=\"background-color:lightgreen;\"> <tt><b>test_plot_partial_barrier.png</b> | test_plot_partial_barrier (__main__.TestLatexDrawer) </tt> | ratio: 1.0 </summary><table><tr><td><img src=\"latex/test_plot_partial_barrier.png\"</td><td><img src=\"latex/references/test_plot_partial_barrier.png\"</td><td><img src=\"latex/test_plot_partial_barrier.diff.png\"</td></tr></table></details><details><summary style=\"background-color:lightgreen;\"> <tt><b>test_r_gates.png</b> | test_r_gates (__main__.TestLatexDrawer) </tt> | ratio: 1.0 </summary><table><tr><td><img src=\"latex/test_r_gates.png\"</td><td><img src=\"latex/references/test_r_gates.png\"</td><td><img src=\"latex/test_r_gates.diff.png\"</td></tr></table></details><details><summary style=\"background-color:lightgreen;\"> <tt><b>test_reverse_bits.png</b> | test_reverse_bits (__main__.TestLatexDrawer) </tt> | ratio: 1.0 </summary><table><tr><td><img src=\"latex/test_reverse_bits.png\"</td><td><img src=\"latex/references/test_reverse_bits.png\"</td><td><img src=\"latex/test_reverse_bits.diff.png\"</td></tr></table></details><details><summary style=\"background-color:lightgreen;\"> <tt><b>test_scale_default.png</b> | test_scale (__main__.TestLatexDrawer) </tt> | ratio: 1.0 </summary><table><tr><td><img src=\"latex/test_scale_default.png\"</td><td><img src=\"latex/references/test_scale_default.png\"</td><td><img src=\"latex/test_scale_default.diff.png\"</td></tr></table></details><details><summary style=\"background-color:lightgreen;\"> <tt><b>test_scale_double.png</b> | test_scale (__main__.TestLatexDrawer) </tt> | ratio: 1.0 </summary><table><tr><td><img src=\"latex/test_scale_double.png\"</td><td><img src=\"latex/references/test_scale_double.png\"</td><td><img src=\"latex/test_scale_double.diff.png\"</td></tr></table></details><details><summary style=\"background-color:lightgreen;\"> <tt><b>test_scale_half.png</b> | test_scale (__main__.TestLatexDrawer) </tt> | ratio: 1.0 </summary><table><tr><td><img src=\"latex/test_scale_half.png\"</td><td><img src=\"latex/references/test_scale_half.png\"</td><td><img src=\"latex/test_scale_half.diff.png\"</td></tr></table></details><details><summary style=\"background-color:lightgreen;\"> <tt><b>test_teleport.png</b> | test_teleport (__main__.TestLatexDrawer) </tt> | ratio: 1.0 </summary><table><tr><td><img src=\"latex/test_teleport.png\"</td><td><img src=\"latex/references/test_teleport.png\"</td><td><img src=\"latex/test_teleport.diff.png\"</td></tr></table></details><details><summary style=\"background-color:lightgreen;\"> <tt><b>test_tiny_circuit.png</b> | test_tiny_circuit (__main__.TestLatexDrawer) </tt> | ratio: 1.0 </summary><table><tr><td><img src=\"latex/test_tiny_circuit.png\"</td><td><img src=\"latex/references/test_tiny_circuit.png\"</td><td><img src=\"latex/test_tiny_circuit.diff.png\"</td></tr></table></details><details><summary style=\"background-color:lightgreen;\"> <tt><b>test_u_gates.png</b> | test_u_gates (__main__.TestLatexDrawer) </tt> | ratio: 1.0 </summary><table><tr><td><img src=\"latex/test_u_gates.png\"</td><td><img src=\"latex/references/test_u_gates.png\"</td><td><img src=\"latex/test_u_gates.diff.png\"</td></tr></table></details></div>"
      ],
      "text/plain": [
       "<results.Results at 0x7f92458a4850>"
      ]
     },
     "execution_count": 7,
     "metadata": {},
     "output_type": "execute_result"
    }
   ],
   "source": [
    "RESULTS_LATEX = test_latex_drawer()\n",
    "RESULTS_LATEX"
   ]
  }
 ],
 "metadata": {
  "kernelspec": {
   "display_name": "Python 3 (ipykernel)",
   "language": "python",
   "name": "python3"
  },
  "language_info": {
   "codemirror_mode": {
    "name": "ipython",
    "version": 3
   },
   "file_extension": ".py",
   "mimetype": "text/x-python",
   "name": "python",
   "nbconvert_exporter": "python",
   "pygments_lexer": "ipython3",
   "version": "3.7.10"
  }
 },
 "nbformat": 4,
 "nbformat_minor": 5
}
