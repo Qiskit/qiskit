{
 "cells": [
  {
   "cell_type": "code",
   "execution_count": 1,
   "id": "b11a2477",
   "metadata": {},
   "outputs": [],
   "source": [
    "from results import *\n",
    "import warnings; warnings.simplefilter('ignore')"
   ]
  },
  {
   "cell_type": "code",
   "execution_count": null,
   "id": "fc250437",
   "metadata": {},
   "outputs": [],
   "source": [
    "#Testing MPL Circuits\n",
    "%run \"mpl/circuit/test_circuit_matplotlib_drawer.py\""
   ]
  },
  {
   "cell_type": "code",
   "execution_count": null,
   "id": "cb71dfd4",
   "metadata": {},
   "outputs": [],
   "source": [
    "#Testing MPL Graphs\n",
    "%run \"mpl/graph/test_graph_matplotlib_drawer.py\""
   ]
  },
  {
   "cell_type": "code",
   "execution_count": 2,
   "id": "cfe2fd71",
   "metadata": {},
   "outputs": [
    {
     "name": "stderr",
     "output_type": "stream",
     "text": [
      "......................E...........\n",
      "======================================================================\n",
      "ERROR: test_partial_layout (__main__.TestLatexDrawer)\n",
      "Tests partial_layout\n",
      "----------------------------------------------------------------------\n",
      "testtools.testresult.real._StringException: Traceback (most recent call last):\n",
      "  File \"/home/tharrma/qiskitdev/qiskit-terra/test/ipynb/latex/test_circuit_latex_drawer.py\", line 414, in test_partial_layout\n",
      "    seed_transpiler=0,\n",
      "  File \"/home/tharrma/qiskitdev/qiskit-terra/qiskit/compiler/transpiler.py\", line 309, in transpile\n",
      "    circuits = parallel_map(_transpile_circuit, list(zip(circuits, transpile_args)))\n",
      "  File \"/home/tharrma/qiskitdev/qiskit-terra/qiskit/tools/parallel.py\", line 132, in parallel_map\n",
      "    return [task(values[0], *task_args, **task_kwargs)]\n",
      "  File \"/home/tharrma/qiskitdev/qiskit-terra/qiskit/compiler/transpiler.py\", line 397, in _transpile_circuit\n",
      "    circuit, callback=transpile_config[\"callback\"], output_name=transpile_config[\"output_name\"]\n",
      "  File \"/home/tharrma/qiskitdev/qiskit-terra/qiskit/transpiler/passmanager.py\", line 216, in run\n",
      "    return self._run_single_circuit(circuits, output_name, callback)\n",
      "  File \"/home/tharrma/qiskitdev/qiskit-terra/qiskit/transpiler/passmanager.py\", line 272, in _run_single_circuit\n",
      "    result = running_passmanager.run(circuit, output_name=output_name, callback=callback)\n",
      "  File \"/home/tharrma/qiskitdev/qiskit-terra/qiskit/transpiler/runningpassmanager.py\", line 123, in run\n",
      "    dag = self._do_pass(pass_, dag, passset.options)\n",
      "  File \"/home/tharrma/qiskitdev/qiskit-terra/qiskit/transpiler/runningpassmanager.py\", line 154, in _do_pass\n",
      "    dag = self._run_this_pass(pass_, dag)\n",
      "  File \"/home/tharrma/qiskitdev/qiskit-terra/qiskit/transpiler/runningpassmanager.py\", line 166, in _run_this_pass\n",
      "    new_dag = pass_.run(dag)\n",
      "  File \"/home/tharrma/qiskitdev/qiskit-terra/qiskit/transpiler/passes/synthesis/unitary_synthesis.py\", line 175, in run\n",
      "    raise TranspilerError(\"Specified method: %s not found in plugin list\" % self.method)\n",
      "qiskit.transpiler.exceptions.TranspilerError: 'Specified method: default not found in plugin list'\n",
      "\n",
      "\n",
      "----------------------------------------------------------------------\n",
      "Ran 34 tests in 16.606s\n",
      "\n",
      "FAILED (errors=1)\n"
     ]
    },
    {
     "ename": "SystemExit",
     "evalue": "True",
     "output_type": "error",
     "traceback": [
      "An exception has occurred, use %tb to see the full traceback.\n",
      "\u001b[0;31mSystemExit\u001b[0m\u001b[0;31m:\u001b[0m True\n"
     ]
    }
   ],
   "source": [
    "#Testing Latex Circuits\n",
    "%run \"latex/test_circuit_latex_drawer.py\""
   ]
  },
  {
   "cell_type": "code",
   "execution_count": null,
   "id": "f39a023f",
   "metadata": {},
   "outputs": [],
   "source": [
    "get_results(\"circuit\")"
   ]
  },
  {
   "cell_type": "code",
   "execution_count": null,
   "id": "fece430d",
   "metadata": {},
   "outputs": [],
   "source": [
    "get_results(\"graph\")"
   ]
  },
  {
   "cell_type": "code",
   "execution_count": 3,
   "id": "53dc9e8e",
   "metadata": {},
   "outputs": [
    {
     "data": {
      "text/html": [
       "<div><a href=\"latex/mismatch.zip\">Download 10 mismatch results as a zip</a></div><div><a href=\"latex/missing.zip\">Download 5 missing results as a zip</a></div><div><details><summary style=\"background-color:lightgreen;\"> <tt><b>test_big_gates.png</b> | test_big_gates (__main__.TestLatexDrawer) </tt> | ratio: 1.0 </summary><table><tr><td><img src=\"latex/test_big_gates.png\"</td><td><img src=\"latex/references/test_big_gates.png\"</td><td><img src=\"latex/test_big_gates.diff.png\"</td></tr></table></details><details><summary style=\"background-color:lightgrey;\"> Download <a download=\"test_cif_single_bit.png\" href=\"latex/test_cif_single_bit.png\">this image</a> to <tt>latex/references/test_cif_single_bit.png</tt> and add/push to the repo</td> </summary><table><tr><td><img src=\"latex/test_cif_single_bit.png\"</td></tr></table></details><details><summary style=\"background-color:lightgrey;\"> Download <a download=\"test_cif_single_bit_bundle.png\" href=\"latex/test_cif_single_bit_bundle.png\">this image</a> to <tt>latex/references/test_cif_single_bit_bundle.png</tt> and add/push to the repo</td> </summary><table><tr><td><img src=\"latex/test_cif_single_bit_bundle.png\"</td></tr></table></details><details><summary style=\"background-color:lightgreen;\"> <tt><b>test_cnot.png</b> | test_cnot (__main__.TestLatexDrawer) </tt> | ratio: 1.0 </summary><table><tr><td><img src=\"latex/test_cnot.png\"</td><td><img src=\"latex/references/test_cnot.png\"</td><td><img src=\"latex/test_cnot.diff.png\"</td></tr></table></details><details open><summary style=\"background-color:lightcoral;\"> <tt><b>test_conditional.png</b> | test_conditional (__main__.TestLatexDrawer) </tt> | ratio: 0.9977987421383647 </summary><table><tr><td><img src=\"latex/test_conditional.png\"</td><td><img src=\"latex/references/test_conditional.png\"</td><td><img src=\"latex/test_conditional.diff.png\"</td></tr></table></details><details open><summary style=\"background-color:lightcoral;\"> <tt><b>test_conditional_cregbundle.png</b> | test_conditional_cregbundle (__main__.TestLatexDrawer) </tt> | ratio: 0.9991618472885759 </summary><table><tr><td><img src=\"latex/test_conditional_cregbundle.png\"</td><td><img src=\"latex/references/test_conditional_cregbundle.png\"</td><td><img src=\"latex/test_conditional_cregbundle.diff.png\"</td></tr></table></details><details><summary style=\"background-color:lightgreen;\"> <tt><b>test_creg_initial_false.png</b> | test_creg_initial (__main__.TestLatexDrawer) </tt> | ratio: 1.0 </summary><table><tr><td><img src=\"latex/test_creg_initial_false.png\"</td><td><img src=\"latex/references/test_creg_initial_false.png\"</td><td><img src=\"latex/test_creg_initial_false.diff.png\"</td></tr></table></details><details open><summary style=\"background-color:lightcoral;\"> <tt><b>test_creg_initial_true.png</b> | test_creg_initial (__main__.TestLatexDrawer) </tt> | ratio: 0.9996012759170654 </summary><table><tr><td><img src=\"latex/test_creg_initial_true.png\"</td><td><img src=\"latex/references/test_creg_initial_true.png\"</td><td><img src=\"latex/test_creg_initial_true.diff.png\"</td></tr></table></details><details><summary style=\"background-color:lightgreen;\"> <tt><b>test_cswap_rzz.png</b> | test_cswap_rzz (__main__.TestLatexDrawer) </tt> | ratio: 1.0 </summary><table><tr><td><img src=\"latex/test_cswap_rzz.png\"</td><td><img src=\"latex/references/test_cswap_rzz.png\"</td><td><img src=\"latex/test_cswap_rzz.diff.png\"</td></tr></table></details><details open><summary style=\"background-color:lightcoral;\"> <tt><b>test_deep_circuit.png</b> | test_deep_circuit (__main__.TestLatexDrawer) </tt> | ratio: 0.8494116082707267 </summary><table><tr><td><img src=\"latex/test_deep_circuit.png\"</td><td><img src=\"latex/references/test_deep_circuit.png\"</td><td><img src=\"latex/test_deep_circuit.diff.png\"</td></tr></table></details><details open><summary style=\"background-color:lightcoral;\"> <tt><b>test_empty_circuit.png</b> | test_empty_circuit (__main__.TestLatexDrawer) </tt> | ratio: 0.9649122807017544 </summary><table><tr><td><img src=\"latex/test_empty_circuit.png\"</td><td><img src=\"latex/references/test_empty_circuit.png\"</td><td><img src=\"latex/test_empty_circuit.diff.png\"</td></tr></table></details><details><summary style=\"background-color:lightgreen;\"> <tt><b>test_ghz_to_gate.png</b> | test_ghz_to_gate (__main__.TestLatexDrawer) </tt> | ratio: 1.0 </summary><table><tr><td><img src=\"latex/test_ghz_to_gate.png\"</td><td><img src=\"latex/references/test_ghz_to_gate.png\"</td><td><img src=\"latex/test_ghz_to_gate.diff.png\"</td></tr></table></details><details><summary style=\"background-color:lightgreen;\"> <tt><b>test_global_phase.png</b> | test_global_phase (__main__.TestLatexDrawer) </tt> | ratio: 1.0 </summary><table><tr><td><img src=\"latex/test_global_phase.png\"</td><td><img src=\"latex/references/test_global_phase.png\"</td><td><img src=\"latex/test_global_phase.diff.png\"</td></tr></table></details><details><summary style=\"background-color:lightgreen;\"> <tt><b>test_huge_circuit.png</b> | test_huge_circuit (__main__.TestLatexDrawer) </tt> | ratio: 1.0 </summary><table><tr><td><img src=\"latex/test_huge_circuit.png\"</td><td><img src=\"latex/references/test_huge_circuit.png\"</td><td><img src=\"latex/test_huge_circuit.diff.png\"</td></tr></table></details><details><summary style=\"background-color:lightgreen;\"> <tt><b>test_init_reset.png</b> | test_init_reset (__main__.TestLatexDrawer) </tt> | ratio: 1.0 </summary><table><tr><td><img src=\"latex/test_init_reset.png\"</td><td><img src=\"latex/references/test_init_reset.png\"</td><td><img src=\"latex/test_init_reset.diff.png\"</td></tr></table></details><details><summary style=\"background-color:lightgreen;\"> <tt><b>test_inst_with_cbits.png</b> | test_inst_with_cbits (__main__.TestLatexDrawer) </tt> | ratio: 1.0 </summary><table><tr><td><img src=\"latex/test_inst_with_cbits.png\"</td><td><img src=\"latex/references/test_inst_with_cbits.png\"</td><td><img src=\"latex/test_inst_with_cbits.diff.png\"</td></tr></table></details><details><summary style=\"background-color:lightgreen;\"> <tt><b>test_iqx_colors.png</b> | test_iqx_colors (__main__.TestLatexDrawer) </tt> | ratio: 1.0 </summary><table><tr><td><img src=\"latex/test_iqx_colors.png\"</td><td><img src=\"latex/references/test_iqx_colors.png\"</td><td><img src=\"latex/test_iqx_colors.diff.png\"</td></tr></table></details><details open><summary style=\"background-color:lightcoral;\"> <tt><b>test_long_name.png</b> | test_long_name (__main__.TestLatexDrawer) </tt> | ratio: 0.99826541581159 </summary><table><tr><td><img src=\"latex/test_long_name.png\"</td><td><img src=\"latex/references/test_long_name.png\"</td><td><img src=\"latex/test_long_name.diff.png\"</td></tr></table></details><details><summary style=\"background-color:lightgrey;\"> Download <a download=\"test_meas_cond_false.png\" href=\"latex/test_meas_cond_false.png\">this image</a> to <tt>latex/references/test_meas_cond_false.png</tt> and add/push to the repo</td> </summary><table><tr><td><img src=\"latex/test_meas_cond_false.png\"</td></tr></table></details><details><summary style=\"background-color:lightgrey;\"> Download <a download=\"test_meas_cond_true.png\" href=\"latex/test_meas_cond_true.png\">this image</a> to <tt>latex/references/test_meas_cond_true.png</tt> and add/push to the repo</td> </summary><table><tr><td><img src=\"latex/test_meas_cond_true.png\"</td></tr></table></details><details open><summary style=\"background-color:lightcoral;\"> <tt><b>test_meas_condition.png</b> | test_meas_condition (__main__.TestLatexDrawer) </tt> | ratio: 0.9983860955927994 </summary><table><tr><td><img src=\"latex/test_meas_condition.png\"</td><td><img src=\"latex/references/test_meas_condition.png\"</td><td><img src=\"latex/test_meas_condition.diff.png\"</td></tr></table></details><details><summary style=\"background-color:lightgreen;\"> <tt><b>test_no_barriers_false.png</b> | test_no_barriers_false (__main__.TestLatexDrawer) </tt> | ratio: 1.0 </summary><table><tr><td><img src=\"latex/test_no_barriers_false.png\"</td><td><img src=\"latex/references/test_no_barriers_false.png\"</td><td><img src=\"latex/test_no_barriers_false.diff.png\"</td></tr></table></details><details><summary style=\"background-color:lightgreen;\"> <tt><b>test_no_ops.png</b> | test_no_ops (__main__.TestLatexDrawer) </tt> | ratio: 1.0 </summary><table><tr><td><img src=\"latex/test_no_ops.png\"</td><td><img src=\"latex/references/test_no_ops.png\"</td><td><img src=\"latex/test_no_ops.diff.png\"</td></tr></table></details><details><summary style=\"background-color:lightgreen;\"> <tt><b>test_normal_circuit.png</b> | test_normal_circuit (__main__.TestLatexDrawer) </tt> | ratio: 1.0 </summary><table><tr><td><img src=\"latex/test_normal_circuit.png\"</td><td><img src=\"latex/references/test_normal_circuit.png\"</td><td><img src=\"latex/test_normal_circuit.diff.png\"</td></tr></table></details><details><summary style=\"background-color:lightgreen;\"> <tt><b>test_pauli_clifford.png</b> | test_pauli_clifford (__main__.TestLatexDrawer) </tt> | ratio: 1.0 </summary><table><tr><td><img src=\"latex/test_pauli_clifford.png\"</td><td><img src=\"latex/references/test_pauli_clifford.png\"</td><td><img src=\"latex/test_pauli_clifford.diff.png\"</td></tr></table></details><details open><summary style=\"background-color:lightcoral;\"> <tt><b>test_pi_param_expr.png</b> | test_pi_param_expr (__main__.TestLatexDrawer) </tt> | ratio: 0.9426900584795321 </summary><table><tr><td><img src=\"latex/test_pi_param_expr.png\"</td><td><img src=\"latex/references/test_pi_param_expr.png\"</td><td><img src=\"latex/test_pi_param_expr.diff.png\"</td></tr></table></details><details><summary style=\"background-color:lightgreen;\"> <tt><b>test_plot_barriers_false.png</b> | test_plot_barriers (__main__.TestLatexDrawer) </tt> | ratio: 1.0 </summary><table><tr><td><img src=\"latex/test_plot_barriers_false.png\"</td><td><img src=\"latex/references/test_plot_barriers_false.png\"</td><td><img src=\"latex/test_plot_barriers_false.diff.png\"</td></tr></table></details><details><summary style=\"background-color:lightgreen;\"> <tt><b>test_plot_barriers_true.png</b> | test_plot_barriers (__main__.TestLatexDrawer) </tt> | ratio: 1.0 </summary><table><tr><td><img src=\"latex/test_plot_barriers_true.png\"</td><td><img src=\"latex/references/test_plot_barriers_true.png\"</td><td><img src=\"latex/test_plot_barriers_true.diff.png\"</td></tr></table></details><details><summary style=\"background-color:lightgreen;\"> <tt><b>test_plot_partial_barrier.png</b> | test_plot_partial_barrier (__main__.TestLatexDrawer) </tt> | ratio: 1.0 </summary><table><tr><td><img src=\"latex/test_plot_partial_barrier.png\"</td><td><img src=\"latex/references/test_plot_partial_barrier.png\"</td><td><img src=\"latex/test_plot_partial_barrier.diff.png\"</td></tr></table></details><details><summary style=\"background-color:lightgreen;\"> <tt><b>test_r_gates.png</b> | test_r_gates (__main__.TestLatexDrawer) </tt> | ratio: 1.0 </summary><table><tr><td><img src=\"latex/test_r_gates.png\"</td><td><img src=\"latex/references/test_r_gates.png\"</td><td><img src=\"latex/test_r_gates.diff.png\"</td></tr></table></details><details><summary style=\"background-color:lightgrey;\"> Download <a download=\"test_registerless_one_bit.png\" href=\"latex/test_registerless_one_bit.png\">this image</a> to <tt>latex/references/test_registerless_one_bit.png</tt> and add/push to the repo</td> </summary><table><tr><td><img src=\"latex/test_registerless_one_bit.png\"</td></tr></table></details><details><summary style=\"background-color:lightgreen;\"> <tt><b>test_reverse_bits.png</b> | test_reverse_bits (__main__.TestLatexDrawer) </tt> | ratio: 1.0 </summary><table><tr><td><img src=\"latex/test_reverse_bits.png\"</td><td><img src=\"latex/references/test_reverse_bits.png\"</td><td><img src=\"latex/test_reverse_bits.diff.png\"</td></tr></table></details><details><summary style=\"background-color:lightgreen;\"> <tt><b>test_scale_default.png</b> | test_scale (__main__.TestLatexDrawer) </tt> | ratio: 1.0 </summary><table><tr><td><img src=\"latex/test_scale_default.png\"</td><td><img src=\"latex/references/test_scale_default.png\"</td><td><img src=\"latex/test_scale_default.diff.png\"</td></tr></table></details><details><summary style=\"background-color:lightgreen;\"> <tt><b>test_scale_double.png</b> | test_scale (__main__.TestLatexDrawer) </tt> | ratio: 1.0 </summary><table><tr><td><img src=\"latex/test_scale_double.png\"</td><td><img src=\"latex/references/test_scale_double.png\"</td><td><img src=\"latex/test_scale_double.diff.png\"</td></tr></table></details><details><summary style=\"background-color:lightgreen;\"> <tt><b>test_scale_half.png</b> | test_scale (__main__.TestLatexDrawer) </tt> | ratio: 1.0 </summary><table><tr><td><img src=\"latex/test_scale_half.png\"</td><td><img src=\"latex/references/test_scale_half.png\"</td><td><img src=\"latex/test_scale_half.diff.png\"</td></tr></table></details><details open><summary style=\"background-color:lightcoral;\"> <tt><b>test_teleport.png</b> | test_teleport (__main__.TestLatexDrawer) </tt> | ratio: 0.9989766407119021 </summary><table><tr><td><img src=\"latex/test_teleport.png\"</td><td><img src=\"latex/references/test_teleport.png\"</td><td><img src=\"latex/test_teleport.diff.png\"</td></tr></table></details><details open><summary style=\"background-color:lightcoral;\"> <tt><b>test_tiny_circuit.png</b> | test_tiny_circuit (__main__.TestLatexDrawer) </tt> | ratio: 0.9281487743026204 </summary><table><tr><td><img src=\"latex/test_tiny_circuit.png\"</td><td><img src=\"latex/references/test_tiny_circuit.png\"</td><td><img src=\"latex/test_tiny_circuit.diff.png\"</td></tr></table></details><details><summary style=\"background-color:lightgreen;\"> <tt><b>test_u_gates.png</b> | test_u_gates (__main__.TestLatexDrawer) </tt> | ratio: 1.0 </summary><table><tr><td><img src=\"latex/test_u_gates.png\"</td><td><img src=\"latex/references/test_u_gates.png\"</td><td><img src=\"latex/test_u_gates.diff.png\"</td></tr></table></details></div>"
      ],
      "text/plain": [
       "<results.Results at 0x7fd99412d610>"
      ]
     },
     "execution_count": 3,
     "metadata": {},
     "output_type": "execute_result"
    }
   ],
   "source": [
    "get_results(\"latex\")"
   ]
  }
 ],
 "metadata": {
  "kernelspec": {
   "display_name": "Python 3 (ipykernel)",
   "language": "python",
   "name": "python3"
  },
  "language_info": {
   "codemirror_mode": {
    "name": "ipython",
    "version": 3
   },
   "file_extension": ".py",
   "mimetype": "text/x-python",
   "name": "python",
   "nbconvert_exporter": "python",
   "pygments_lexer": "ipython3",
   "version": "3.7.10"
  }
 },
 "nbformat": 4,
 "nbformat_minor": 5
}
