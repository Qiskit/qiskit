{
 "cells": [
  {
   "cell_type": "code",
   "execution_count": 1,
   "metadata": {
    "ExecuteTime": {
     "end_time": "2021-04-07T19:47:29.673376Z",
     "start_time": "2021-04-07T19:47:18.887453Z"
    }
   },
   "outputs": [
    {
     "name": "stderr",
     "output_type": "stream",
     "text": [
      "............../home/ed/qiskit/qiskit-terra/qiskit/visualization/matplotlib.py:188: RuntimeWarning: Cregbundle set to False since an instruction needs to refer to individual classical wire\n",
      "  self._set_cregbundle()\n",
      "......................\n",
      "----------------------------------------------------------------------\n",
      "Ran 36 tests in 26.848s\n",
      "\n",
      "OK\n"
     ]
    }
   ],
   "source": [
    "import warnings; warnings.simplefilter('ignore')\n",
    "%run 'mpl/test_circuit_matplotlib_drawer.py'"
   ]
  },
  {
   "cell_type": "code",
   "execution_count": 2,
   "metadata": {
    "ExecuteTime": {
     "end_time": "2021-04-07T19:47:31.182812Z",
     "start_time": "2021-04-07T19:47:29.676294Z"
    }
   },
   "outputs": [
    {
     "data": {
      "text/html": [
       "<div><a href=\"mpl/missing.zip\">Download 6 missing results as a zip</a></div><div><details><summary style=\"background-color:lightgreen;\"> <tt><b>6095.png</b> | test_6095 (__main__.TestMatplotlibDrawer) </tt> | ratio: 1.0 </summary><table><tr><td><img src=\"mpl/6095.png\"</td><td><img src=\"mpl/references/6095.png\"</td><td><img src=\"mpl/6095.diff.png\"</td></tr></table></details><details><summary style=\"background-color:lightgreen;\"> <tt><b>big_gates.png</b> | test_big_gates (__main__.TestMatplotlibDrawer) </tt> | ratio: 1.0 </summary><table><tr><td><img src=\"mpl/big_gates.png\"</td><td><img src=\"mpl/references/big_gates.png\"</td><td><img src=\"mpl/big_gates.diff.png\"</td></tr></table></details><details><summary style=\"background-color:lightgreen;\"> <tt><b>bw.png</b> | test_bw (__main__.TestMatplotlibDrawer) </tt> | ratio: 1.0 </summary><table><tr><td><img src=\"mpl/bw.png\"</td><td><img src=\"mpl/references/bw.png\"</td><td><img src=\"mpl/bw.diff.png\"</td></tr></table></details><details><summary style=\"background-color:lightgreen;\"> <tt><b>cnot.png</b> | test_cnot (__main__.TestMatplotlibDrawer) </tt> | ratio: 1.0 </summary><table><tr><td><img src=\"mpl/cnot.png\"</td><td><img src=\"mpl/references/cnot.png\"</td><td><img src=\"mpl/cnot.diff.png\"</td></tr></table></details><details><summary style=\"background-color:lightgreen;\"> <tt><b>conditional.png</b> | test_conditional (__main__.TestMatplotlibDrawer) </tt> | ratio: 1.0 </summary><table><tr><td><img src=\"mpl/conditional.png\"</td><td><img src=\"mpl/references/conditional.png\"</td><td><img src=\"mpl/conditional.diff.png\"</td></tr></table></details><details><summary style=\"background-color:lightgreen;\"> <tt><b>creg_initial_false.png</b> | test_creg_initial (__main__.TestMatplotlibDrawer) </tt> | ratio: 1.0 </summary><table><tr><td><img src=\"mpl/creg_initial_false.png\"</td><td><img src=\"mpl/references/creg_initial_false.png\"</td><td><img src=\"mpl/creg_initial_false.diff.png\"</td></tr></table></details><details><summary style=\"background-color:lightgreen;\"> <tt><b>creg_initial_true.png</b> | test_creg_initial (__main__.TestMatplotlibDrawer) </tt> | ratio: 1.0 </summary><table><tr><td><img src=\"mpl/creg_initial_true.png\"</td><td><img src=\"mpl/references/creg_initial_true.png\"</td><td><img src=\"mpl/creg_initial_true.diff.png\"</td></tr></table></details><details><summary style=\"background-color:lightgreen;\"> <tt><b>cswap_rzz.png</b> | test_cswap_rzz (__main__.TestMatplotlibDrawer) </tt> | ratio: 1.0 </summary><table><tr><td><img src=\"mpl/cswap_rzz.png\"</td><td><img src=\"mpl/references/cswap_rzz.png\"</td><td><img src=\"mpl/cswap_rzz.diff.png\"</td></tr></table></details><details><summary style=\"background-color:lightgreen;\"> <tt><b>ctrl_labels.png</b> | test_ctrl_labels (__main__.TestMatplotlibDrawer) </tt> | ratio: 1.0 </summary><table><tr><td><img src=\"mpl/ctrl_labels.png\"</td><td><img src=\"mpl/references/ctrl_labels.png\"</td><td><img src=\"mpl/ctrl_labels.diff.png\"</td></tr></table></details><details><summary style=\"background-color:lightgreen;\"> <tt><b>cz.png</b> | test_cz (__main__.TestMatplotlibDrawer) </tt> | ratio: 1.0 </summary><table><tr><td><img src=\"mpl/cz.png\"</td><td><img src=\"mpl/references/cz.png\"</td><td><img src=\"mpl/cz.diff.png\"</td></tr></table></details><details><summary style=\"background-color:lightgreen;\"> <tt><b>empty_circut.png</b> | test_empty_circuit (__main__.TestMatplotlibDrawer) </tt> | ratio: 1.0 </summary><table><tr><td><img src=\"mpl/empty_circut.png\"</td><td><img src=\"mpl/references/empty_circut.png\"</td><td><img src=\"mpl/empty_circut.diff.png\"</td></tr></table></details><details><summary style=\"background-color:lightgrey;\"> Download <a download=\"figwidth.png\" href=\"mpl/figwidth.png\">this image</a> to <tt>mpl/references/figwidth.png</tt> and add/push to the repo</td> </summary><table><tr><td><img src=\"mpl/figwidth.png\"</td></tr></table></details><details><summary style=\"background-color:lightgreen;\"> <tt><b>fold_4.png</b> | test_fold_4 (__main__.TestMatplotlibDrawer) </tt> | ratio: 1.0 </summary><table><tr><td><img src=\"mpl/fold_4.png\"</td><td><img src=\"mpl/references/fold_4.png\"</td><td><img src=\"mpl/fold_4.diff.png\"</td></tr></table></details><details><summary style=\"background-color:lightgreen;\"> <tt><b>fold_minus1.png</b> | test_fold_minus1 (__main__.TestMatplotlibDrawer) </tt> | ratio: 1.0 </summary><table><tr><td><img src=\"mpl/fold_minus1.png\"</td><td><img src=\"mpl/references/fold_minus1.png\"</td><td><img src=\"mpl/fold_minus1.diff.png\"</td></tr></table></details><details><summary style=\"background-color:lightgreen;\"> <tt><b>ghz_to_gate.png</b> | test_ghz_to_gate (__main__.TestMatplotlibDrawer) </tt> | ratio: 1.0 </summary><table><tr><td><img src=\"mpl/ghz_to_gate.png\"</td><td><img src=\"mpl/references/ghz_to_gate.png\"</td><td><img src=\"mpl/ghz_to_gate.diff.png\"</td></tr></table></details><details><summary style=\"background-color:lightgreen;\"> <tt><b>global_phase.png</b> | test_with_global_phase (__main__.TestMatplotlibDrawer) </tt> | ratio: 1.0 </summary><table><tr><td><img src=\"mpl/global_phase.png\"</td><td><img src=\"mpl/references/global_phase.png\"</td><td><img src=\"mpl/global_phase.diff.png\"</td></tr></table></details><details><summary style=\"background-color:lightgreen;\"> <tt><b>init_reset.png</b> | test_init_reset (__main__.TestMatplotlibDrawer) </tt> | ratio: 1.0 </summary><table><tr><td><img src=\"mpl/init_reset.png\"</td><td><img src=\"mpl/references/init_reset.png\"</td><td><img src=\"mpl/init_reset.diff.png\"</td></tr></table></details><details><summary style=\"background-color:lightgreen;\"> <tt><b>instruction_1q_1c.png</b> | test_instruction_1q_1c (__main__.TestMatplotlibDrawer) </tt> | ratio: 1.0 </summary><table><tr><td><img src=\"mpl/instruction_1q_1c.png\"</td><td><img src=\"mpl/references/instruction_1q_1c.png\"</td><td><img src=\"mpl/instruction_1q_1c.diff.png\"</td></tr></table></details><details><summary style=\"background-color:lightgreen;\"> <tt><b>instruction_3q_3c_circ1.png</b> | test_instruction_3q_3c_circ1 (__main__.TestMatplotlibDrawer) </tt> | ratio: 1.0 </summary><table><tr><td><img src=\"mpl/instruction_3q_3c_circ1.png\"</td><td><img src=\"mpl/references/instruction_3q_3c_circ1.png\"</td><td><img src=\"mpl/instruction_3q_3c_circ1.diff.png\"</td></tr></table></details><details><summary style=\"background-color:lightgreen;\"> <tt><b>instruction_3q_3c_circ2.png</b> | test_instruction_3q_3c_circ2 (__main__.TestMatplotlibDrawer) </tt> | ratio: 1.0 </summary><table><tr><td><img src=\"mpl/instruction_3q_3c_circ2.png\"</td><td><img src=\"mpl/references/instruction_3q_3c_circ2.png\"</td><td><img src=\"mpl/instruction_3q_3c_circ2.diff.png\"</td></tr></table></details><details><summary style=\"background-color:lightgreen;\"> <tt><b>instruction_3q_3c_circ3.png</b> | test_instruction_3q_3c_circ3 (__main__.TestMatplotlibDrawer) </tt> | ratio: 1.0 </summary><table><tr><td><img src=\"mpl/instruction_3q_3c_circ3.png\"</td><td><img src=\"mpl/references/instruction_3q_3c_circ3.png\"</td><td><img src=\"mpl/instruction_3q_3c_circ3.diff.png\"</td></tr></table></details><details><summary style=\"background-color:lightgreen;\"> <tt><b>iqx_color.png</b> | test_iqx_colors (__main__.TestMatplotlibDrawer) </tt> | ratio: 1.0 </summary><table><tr><td><img src=\"mpl/iqx_color.png\"</td><td><img src=\"mpl/references/iqx_color.png\"</td><td><img src=\"mpl/iqx_color.diff.png\"</td></tr></table></details><details><summary style=\"background-color:lightgreen;\"> <tt><b>long_name.png</b> | test_long_name (__main__.TestMatplotlibDrawer) </tt> | ratio: 1.0 </summary><table><tr><td><img src=\"mpl/long_name.png\"</td><td><img src=\"mpl/references/long_name.png\"</td><td><img src=\"mpl/long_name.diff.png\"</td></tr></table></details><details><summary style=\"background-color:lightgreen;\"> <tt><b>meas_condition.png</b> | test_meas_condition (__main__.TestMatplotlibDrawer) </tt> | ratio: 1.0 </summary><table><tr><td><img src=\"mpl/meas_condition.png\"</td><td><img src=\"mpl/references/meas_condition.png\"</td><td><img src=\"mpl/meas_condition.diff.png\"</td></tr></table></details><details><summary style=\"background-color:lightgreen;\"> <tt><b>no_barriers.png</b> | test_no_barriers_false (__main__.TestMatplotlibDrawer) </tt> | ratio: 1.0 </summary><table><tr><td><img src=\"mpl/no_barriers.png\"</td><td><img src=\"mpl/references/no_barriers.png\"</td><td><img src=\"mpl/no_barriers.diff.png\"</td></tr></table></details><details><summary style=\"background-color:lightgreen;\"> <tt><b>no_op_circut.png</b> | test_no_ops (__main__.TestMatplotlibDrawer) </tt> | ratio: 1.0 </summary><table><tr><td><img src=\"mpl/no_op_circut.png\"</td><td><img src=\"mpl/references/no_op_circut.png\"</td><td><img src=\"mpl/no_op_circut.diff.png\"</td></tr></table></details><details><summary style=\"background-color:lightgrey;\"> Download <a download=\"one_bit_regs.png\" href=\"mpl/one_bit_regs.png\">this image</a> to <tt>mpl/references/one_bit_regs.png</tt> and add/push to the repo</td> </summary><table><tr><td><img src=\"mpl/one_bit_regs.png\"</td></tr></table></details><details><summary style=\"background-color:lightgreen;\"> <tt><b>partial_layout.png</b> | test_partial_layout (__main__.TestMatplotlibDrawer) </tt> | ratio: 1.0 </summary><table><tr><td><img src=\"mpl/partial_layout.png\"</td><td><img src=\"mpl/references/partial_layout.png\"</td><td><img src=\"mpl/partial_layout.diff.png\"</td></tr></table></details><details><summary style=\"background-color:lightgreen;\"> <tt><b>pauli_clifford.png</b> | test_pauli_clifford (__main__.TestMatplotlibDrawer) </tt> | ratio: 1.0 </summary><table><tr><td><img src=\"mpl/pauli_clifford.png\"</td><td><img src=\"mpl/references/pauli_clifford.png\"</td><td><img src=\"mpl/pauli_clifford.diff.png\"</td></tr></table></details><details><summary style=\"background-color:lightgreen;\"> <tt><b>pi_in_param_expr.png</b> | test_pi_param_expr (__main__.TestMatplotlibDrawer) </tt> | ratio: 1.0 </summary><table><tr><td><img src=\"mpl/pi_in_param_expr.png\"</td><td><img src=\"mpl/references/pi_in_param_expr.png\"</td><td><img src=\"mpl/pi_in_param_expr.diff.png\"</td></tr></table></details><details><summary style=\"background-color:lightgreen;\"> <tt><b>plot_barriers_false.png</b> | test_plot_barriers (__main__.TestMatplotlibDrawer) </tt> | ratio: 1.0 </summary><table><tr><td><img src=\"mpl/plot_barriers_false.png\"</td><td><img src=\"mpl/references/plot_barriers_false.png\"</td><td><img src=\"mpl/plot_barriers_false.diff.png\"</td></tr></table></details><details><summary style=\"background-color:lightgreen;\"> <tt><b>plot_barriers_true.png</b> | test_plot_barriers (__main__.TestMatplotlibDrawer) </tt> | ratio: 1.0 </summary><table><tr><td><img src=\"mpl/plot_barriers_true.png\"</td><td><img src=\"mpl/references/plot_barriers_true.png\"</td><td><img src=\"mpl/plot_barriers_true.diff.png\"</td></tr></table></details><details><summary style=\"background-color:lightgreen;\"> <tt><b>plot_partial_barrier.png</b> | test_plot_partial_barrier (__main__.TestMatplotlibDrawer) </tt> | ratio: 1.0 </summary><table><tr><td><img src=\"mpl/plot_partial_barrier.png\"</td><td><img src=\"mpl/references/plot_partial_barrier.png\"</td><td><img src=\"mpl/plot_partial_barrier.diff.png\"</td></tr></table></details><details><summary style=\"background-color:lightgreen;\"> <tt><b>r_gates.png</b> | test_r_gates (__main__.TestMatplotlibDrawer) </tt> | ratio: 1.0 </summary><table><tr><td><img src=\"mpl/r_gates.png\"</td><td><img src=\"mpl/references/r_gates.png\"</td><td><img src=\"mpl/r_gates.diff.png\"</td></tr></table></details><details><summary style=\"background-color:lightgreen;\"> <tt><b>reverse_bits.png</b> | test_reverse_bits (__main__.TestMatplotlibDrawer) </tt> | ratio: 1.0 </summary><table><tr><td><img src=\"mpl/reverse_bits.png\"</td><td><img src=\"mpl/references/reverse_bits.png\"</td><td><img src=\"mpl/reverse_bits.diff.png\"</td></tr></table></details><details><summary style=\"background-color:lightgrey;\"> Download <a download=\"reverse_bits_cond_false.png\" href=\"mpl/reverse_bits_cond_false.png\">this image</a> to <tt>mpl/references/reverse_bits_cond_false.png</tt> and add/push to the repo</td> </summary><table><tr><td><img src=\"mpl/reverse_bits_cond_false.png\"</td></tr></table></details><details><summary style=\"background-color:lightgrey;\"> Download <a download=\"reverse_bits_cond_true.png\" href=\"mpl/reverse_bits_cond_true.png\">this image</a> to <tt>mpl/references/reverse_bits_cond_true.png</tt> and add/push to the repo</td> </summary><table><tr><td><img src=\"mpl/reverse_bits_cond_true.png\"</td></tr></table></details><details><summary style=\"background-color:lightgreen;\"> <tt><b>scale_default.png</b> | test_scale (__main__.TestMatplotlibDrawer) </tt> | ratio: 1.0 </summary><table><tr><td><img src=\"mpl/scale_default.png\"</td><td><img src=\"mpl/references/scale_default.png\"</td><td><img src=\"mpl/scale_default.diff.png\"</td></tr></table></details><details><summary style=\"background-color:lightgreen;\"> <tt><b>scale_double.png</b> | test_scale (__main__.TestMatplotlibDrawer) </tt> | ratio: 1.0 </summary><table><tr><td><img src=\"mpl/scale_double.png\"</td><td><img src=\"mpl/references/scale_double.png\"</td><td><img src=\"mpl/scale_double.diff.png\"</td></tr></table></details><details><summary style=\"background-color:lightgreen;\"> <tt><b>scale_half.png</b> | test_scale (__main__.TestMatplotlibDrawer) </tt> | ratio: 1.0 </summary><table><tr><td><img src=\"mpl/scale_half.png\"</td><td><img src=\"mpl/references/scale_half.png\"</td><td><img src=\"mpl/scale_half.diff.png\"</td></tr></table></details><details><summary style=\"background-color:lightgreen;\"> <tt><b>style_custom_gates.png</b> | test_style_custom_gates (__main__.TestMatplotlibDrawer) </tt> | ratio: 1.0 </summary><table><tr><td><img src=\"mpl/style_custom_gates.png\"</td><td><img src=\"mpl/references/style_custom_gates.png\"</td><td><img src=\"mpl/style_custom_gates.diff.png\"</td></tr></table></details><details><summary style=\"background-color:lightgreen;\"> <tt><b>subfont.png</b> | test_subfont_change (__main__.TestMatplotlibDrawer) </tt> | ratio: 1.0 </summary><table><tr><td><img src=\"mpl/subfont.png\"</td><td><img src=\"mpl/references/subfont.png\"</td><td><img src=\"mpl/subfont.diff.png\"</td></tr></table></details><details><summary style=\"background-color:lightgrey;\"> Download <a download=\"u_gates.png\" href=\"mpl/u_gates.png\">this image</a> to <tt>mpl/references/u_gates.png</tt> and add/push to the repo</td> </summary><table><tr><td><img src=\"mpl/u_gates.png\"</td></tr></table></details><details><summary style=\"background-color:lightgrey;\"> Download <a download=\"user_ax.png\" href=\"mpl/user_ax.png\">this image</a> to <tt>mpl/references/user_ax.png</tt> and add/push to the repo</td> </summary><table><tr><td><img src=\"mpl/user_ax.png\"</td></tr></table></details><details><summary style=\"background-color:lightgreen;\"> <tt><b>user_style.png</b> | test_user_style (__main__.TestMatplotlibDrawer) </tt> | ratio: 1.0 </summary><table><tr><td><img src=\"mpl/user_style.png\"</td><td><img src=\"mpl/references/user_style.png\"</td><td><img src=\"mpl/user_style.diff.png\"</td></tr></table></details><details><summary style=\"background-color:lightgreen;\"> <tt><b>wide_params.png</b> | test_overwide_gates (__main__.TestMatplotlibDrawer) </tt> | ratio: 1.0 </summary><table><tr><td><img src=\"mpl/wide_params.png\"</td><td><img src=\"mpl/references/wide_params.png\"</td><td><img src=\"mpl/wide_params.diff.png\"</td></tr></table></details></div>"
      ],
      "text/plain": [
       "<__main__.Results at 0x7f3f2c3b1910>"
      ]
     },
     "execution_count": 2,
     "metadata": {},
     "output_type": "execute_result"
    }
   ],
   "source": [
    "%run -i 'results.py'\n",
    "RESULTS"
   ]
  },
  {
   "cell_type": "code",
   "execution_count": null,
   "metadata": {},
   "outputs": [],
   "source": []
  }
 ],
 "metadata": {
  "kernelspec": {
   "display_name": "Python 3",
   "language": "python",
   "name": "python3"
  },
  "language_info": {
   "codemirror_mode": {
    "name": "ipython",
    "version": 3
   },
   "file_extension": ".py",
   "mimetype": "text/x-python",
   "name": "python",
   "nbconvert_exporter": "python",
   "pygments_lexer": "ipython3",
   "version": "3.8.5"
  }
 },
 "nbformat": 4,
 "nbformat_minor": 4
}
