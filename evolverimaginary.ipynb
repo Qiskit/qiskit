{
 "cells": [
  {
   "cell_type": "code",
   "execution_count": 1,
   "metadata": {},
   "outputs": [],
   "source": [
    "from math import trunc\n",
    "import unittest\n",
    "import numpy as np\n",
    "import scipy.sparse as sp\n",
    "from qiskit.algorithms.evolvers import NumericalIntegrationImaginaryEvolver\n",
    "from test.python.algorithms import QiskitAlgorithmsTestCase\n",
    "from ddt import data, ddt, unpack\n",
    "from numpy.testing import assert_raises\n",
    "\n",
    "from qiskit.quantum_info import Statevector\n",
    "from qiskit.algorithms.evolvers.evolution_problem import EvolutionProblem\n",
    "from qiskit.circuit import Parameter\n",
    "from qiskit.opflow import Y, Z, I, One, X, Zero, VectorStateFn, StateFn, SummedOp, PauliSumOp\n",
    "from scipy.sparse.linalg import bicg,norm\n",
    "import matplotlib.pyplot as plt\n",
    "import time"
   ]
  },
  {
   "cell_type": "code",
   "execution_count": 2,
   "metadata": {},
   "outputs": [],
   "source": [
    "def create_hamiltonian(num_sites):\n",
    "    J = 0.1\n",
    "    g = -1.0\n",
    "\n",
    "    zz = [\"I\" * i + \"ZZ\" + \"I\" * (num_sites - i - 2) for i in range(num_sites - 1)]\n",
    "    x = [\"I\" * i + \"X\" + \"I\" * (num_sites - i - 1) for i in range(num_sites)]\n",
    "    return PauliSumOp.from_list(list(zip(zz, len(zz) * [J])) + list(zip(x, len(x) * [g])))\n"
   ]
  },
  {
   "cell_type": "code",
   "execution_count": 3,
   "metadata": {},
   "outputs": [
    {
     "name": "stdout",
     "output_type": "stream",
     "text": [
      "0.1 * ZZIII\n",
      "+ 0.1 * IZZII\n",
      "+ 0.1 * IIZZI\n",
      "+ 0.1 * IIIZZ\n",
      "- 1.0 * XIIII\n",
      "- 1.0 * IXIII\n",
      "- 1.0 * IIXII\n",
      "- 1.0 * IIIXI\n",
      "- 1.0 * IIIIX\n"
     ]
    }
   ],
   "source": [
    "print(create_hamiltonian(5))"
   ]
  },
  {
   "cell_type": "code",
   "execution_count": 4,
   "metadata": {},
   "outputs": [],
   "source": [
    "def ground_state(t,iterations):\n",
    "    initial_state = Zero^Zero^Zero^Zero^Zero\n",
    "\n",
    "    evolution_problem = EvolutionProblem(create_hamiltonian(5),t,initial_state)\n",
    "    classic_evolver = NumericalIntegrationImaginaryEvolver(timesteps=iterations)\n",
    "    result = classic_evolver.evolve(evolution_problem)\n",
    "\n",
    "    return result.evolved_state.to_matrix()\n",
    "    "
   ]
  },
  {
   "cell_type": "code",
   "execution_count": null,
   "metadata": {},
   "outputs": [],
   "source": []
  },
  {
   "cell_type": "code",
   "execution_count": 12,
   "metadata": {},
   "outputs": [
    {
     "name": "stdout",
     "output_type": "stream",
     "text": [
      "12.699606293110033\n"
     ]
    },
    {
     "data": {
      "text/plain": [
       "[<matplotlib.lines.Line2D at 0x7fa3dcfcb5e0>]"
      ]
     },
     "execution_count": 12,
     "metadata": {},
     "output_type": "execute_result"
    },
    {
     "data": {
      "image/png": "[encoded data removed]",
      "text/plain": [
       "<Figure size 432x288 with 1 Axes>"
      ]
     },
     "metadata": {
      "needs_background": "light"
     },
     "output_type": "display_data"
    }
   ],
   "source": [
    "nqubits = 5\n",
    "initial_state = Zero^nqubits\n",
    "hamiltonian = create_hamiltonian(nqubits)\n",
    "evolution_problem = EvolutionProblem(hamiltonian,1,initial_state, aux_operators={\"Energy\":hamiltonian})\n",
    "print(sp.linalg.norm(evolution_problem.hamiltonian.to_spmatrix()))\n",
    "classic_evolver = NumericalIntegrationImaginaryEvolver(timesteps=100000,threshold=1e-3,order=\"second\")\n",
    "result = classic_evolver.evolve(evolution_problem)\n",
    "plt.plot(result.aux_ops_evaluated[\"Energy\"][:-1]-result.aux_ops_evaluated[\"Energy\"][1:])"
   ]
  },
  {
   "cell_type": "code",
   "execution_count": null,
   "metadata": {},
   "outputs": [],
   "source": []
  }
 ],
 "metadata": {
  "interpreter": {
   "hash": "47c450eb13c661720497eef86b3289c3a8d19a09631d1a10f9979d1969c286bb"
  },
  "kernelspec": {
   "display_name": "Python 3.10.4 ('terra')",
   "language": "python",
   "name": "python3"
  },
  "language_info": {
   "codemirror_mode": {
    "name": "ipython",
    "version": 3
   },
   "file_extension": ".py",
   "mimetype": "text/x-python",
   "name": "python",
   "nbconvert_exporter": "python",
   "pygments_lexer": "ipython3",
   "version": "3.10.4"
  },
  "orig_nbformat": 4
 },
 "nbformat": 4,
 "nbformat_minor": 2
}
