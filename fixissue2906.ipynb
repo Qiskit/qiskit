{
 "cells": [
  {
   "cell_type": "code",
   "execution_count": 2,
   "id": "d7feb50e",
   "metadata": {},
   "outputs": [
    {
     "name": "stdout",
     "output_type": "stream",
     "text": [
      "Obtaining file:///C:/Users/Pranav/qiskit-terra\n",
      "  Installing build dependencies: started\n",
      "  Installing build dependencies: finished with status 'done'\n",
      "  Getting requirements to build wheel: started\n",
      "  Getting requirements to build wheel: finished with status 'done'\n",
      "    Preparing wheel metadata: started\n",
      "    Preparing wheel metadata: finished with status 'done'\n",
      "Requirement already satisfied: dill>=0.3 in c:\\users\\pranav\\anaconda3\\envs\\fixissueenv\\lib\\site-packages (from qiskit-terra==0.18.0) (0.3.3)\n",
      "Requirement already satisfied: numpy>=1.17 in c:\\users\\pranav\\anaconda3\\envs\\fixissueenv\\lib\\site-packages (from qiskit-terra==0.18.0) (1.20.1)\n",
      "Requirement already satisfied: sympy>=1.3 in c:\\users\\pranav\\anaconda3\\envs\\fixissueenv\\lib\\site-packages (from qiskit-terra==0.18.0) (1.7.1)\n",
      "Requirement already satisfied: scipy>=1.4 in c:\\users\\pranav\\anaconda3\\envs\\fixissueenv\\lib\\site-packages (from qiskit-terra==0.18.0) (1.6.1)\n",
      "Requirement already satisfied: jsonschema>=2.6 in c:\\users\\pranav\\anaconda3\\envs\\fixissueenv\\lib\\site-packages (from qiskit-terra==0.18.0) (3.2.0)\n",
      "Collecting retworkx>=0.9.0\n",
      "  Using cached retworkx-0.9.0-cp39-cp39-win_amd64.whl (1.1 MB)\n",
      "Requirement already satisfied: ply>=3.10 in c:\\users\\pranav\\anaconda3\\envs\\fixissueenv\\lib\\site-packages (from qiskit-terra==0.18.0) (3.11)\n",
      "Requirement already satisfied: psutil>=5 in c:\\users\\pranav\\anaconda3\\envs\\fixissueenv\\lib\\site-packages (from qiskit-terra==0.18.0) (5.8.0)\n",
      "Requirement already satisfied: python-constraint>=1.4 in c:\\users\\pranav\\anaconda3\\envs\\fixissueenv\\lib\\site-packages (from qiskit-terra==0.18.0) (1.4.0)\n",
      "Requirement already satisfied: fastjsonschema>=2.10 in c:\\users\\pranav\\anaconda3\\envs\\fixissueenv\\lib\\site-packages (from qiskit-terra==0.18.0) (2.15.1)\n",
      "Requirement already satisfied: python-dateutil>=2.8.0 in c:\\users\\pranav\\anaconda3\\envs\\fixissueenv\\lib\\site-packages (from qiskit-terra==0.18.0) (2.8.1)\n",
      "Requirement already satisfied: setuptools in c:\\users\\pranav\\anaconda3\\envs\\fixissueenv\\lib\\site-packages (from jsonschema>=2.6->qiskit-terra==0.18.0) (52.0.0.post20210125)\n",
      "Requirement already satisfied: attrs>=17.4.0 in c:\\users\\pranav\\anaconda3\\envs\\fixissueenv\\lib\\site-packages (from jsonschema>=2.6->qiskit-terra==0.18.0) (21.2.0)\n",
      "Requirement already satisfied: six>=1.11.0 in c:\\users\\pranav\\anaconda3\\envs\\fixissueenv\\lib\\site-packages (from jsonschema>=2.6->qiskit-terra==0.18.0) (1.16.0)\n",
      "Requirement already satisfied: pyrsistent>=0.14.0 in c:\\users\\pranav\\anaconda3\\envs\\fixissueenv\\lib\\site-packages (from jsonschema>=2.6->qiskit-terra==0.18.0) (0.17.3)\n",
      "Requirement already satisfied: mpmath>=0.19 in c:\\users\\pranav\\anaconda3\\envs\\fixissueenv\\lib\\site-packages (from sympy>=1.3->qiskit-terra==0.18.0) (1.2.1)\n",
      "Installing collected packages: retworkx, qiskit-terra\n",
      "  Attempting uninstall: retworkx\n",
      "    Found existing installation: retworkx 0.8.0\n",
      "    Uninstalling retworkx-0.8.0:\n",
      "      Successfully uninstalled retworkx-0.8.0\n",
      "  Attempting uninstall: qiskit-terra\n",
      "    Found existing installation: qiskit-terra 0.17.4\n",
      "    Uninstalling qiskit-terra-0.17.4:\n",
      "      Successfully uninstalled qiskit-terra-0.17.4\n",
      "  Running setup.py develop for qiskit-terra\n",
      "Successfully installed qiskit-terra-0.18.0 retworkx-0.9.0\n"
     ]
    },
    {
     "name": "stderr",
     "output_type": "stream",
     "text": [
      "ERROR: pip's dependency resolver does not currently take into account all the packages that are installed. This behaviour is the source of the following dependency conflicts.\n",
      "qiskit 0.26.2 requires qiskit-terra==0.17.4, but you have qiskit-terra 0.18.0 which is incompatible.\n",
      "qiskit-aqua 0.9.1 requires qiskit-terra<0.18.0,>=0.17.0, but you have qiskit-terra 0.18.0 which is incompatible.\n",
      "qiskit-aqua 0.9.1 requires retworkx<=0.8.0,>=0.7.0, but you have retworkx 0.9.0 which is incompatible.\n"
     ]
    }
   ],
   "source": [
    "!pip install -e.\n"
   ]
  },
  {
   "cell_type": "code",
   "execution_count": 2,
   "id": "1b771f71",
   "metadata": {},
   "outputs": [],
   "source": [
    "import qiskit"
   ]
  },
  {
   "cell_type": "code",
   "execution_count": 3,
   "id": "7ec11f27",
   "metadata": {},
   "outputs": [],
   "source": [
    "from qiskit.converters.dag_to_circuit import dag_to_circuit\n",
    "from qiskit.transpiler.passes.basis import decompose\n",
    "from numpy import pi\n",
    "\n",
    "from qiskit import QuantumRegister, ClassicalRegister, QuantumCircuit\n",
    "from qiskit.transpiler.passes import Decompose\n",
    "from qiskit.converters import circuit_to_dag\n",
    "from qiskit.circuit.library import HGate, CCXGate, U2Gate\n",
    "from qiskit.quantum_info.operators import Operator\n",
    "from qiskit.test import QiskitTestCase\n"
   ]
  },
  {
   "cell_type": "code",
   "execution_count": 4,
   "id": "31b6f6b7",
   "metadata": {},
   "outputs": [],
   "source": [
    "circ1 = QuantumCircuit(3)\n",
    "circ1.h(0)\n",
    "circ1.t(1)\n",
    "circ1.x(2)\n",
    "my_gate = circ1.to_gate(label='gate1')\n",
    "circ2 = QuantumCircuit(3)\n",
    "circ2.h(0)\n",
    "circ2.cx(0,1)\n",
    "circ2.x(2)\n",
    "my_gate2= circ2.to_gate(label='gate2')\n",
    "circ3 = QuantumCircuit(2)\n",
    "circ3.x(0)\n",
    "q_bits = QuantumRegister(5)\n",
    "qc = QuantumCircuit(q_bits)\n",
    "qc.append(my_gate, q_bits[:3])\n",
    "qc.append(my_gate2,q_bits[2:])\n",
    "qc.mct(q_bits[:4], q_bits[4])\n",
    "qc.h(0)\n",
    "qc.append(circ3, [0,1])\n",
    "COMPLEX_CIRC = qc\n",
    "\n"
   ]
  },
  {
   "cell_type": "code",
   "execution_count": 5,
   "id": "d249ff84",
   "metadata": {},
   "outputs": [],
   "source": [
    "decom_circ=COMPLEX_CIRC.decompose([\"circuit-*\"])\n",
    "dag=circuit_to_dag(decom_circ)"
   ]
  },
  {
   "cell_type": "code",
   "execution_count": 14,
   "id": "7be9b030",
   "metadata": {},
   "outputs": [
    {
     "data": {
      "text/plain": [
       "'x'"
      ]
     },
     "execution_count": 14,
     "metadata": {},
     "output_type": "execute_result"
    }
   ],
   "source": [
    "dag.op_nodes()[4].name"
   ]
  },
  {
   "cell_type": "code",
   "execution_count": null,
   "id": "d3261afd",
   "metadata": {},
   "outputs": [],
   "source": []
  }
 ],
 "metadata": {
  "kernelspec": {
   "display_name": "fixissueenv",
   "language": "python",
   "name": "fixissueenv"
  },
  "language_info": {
   "codemirror_mode": {
    "name": "ipython",
    "version": 3
   },
   "file_extension": ".py",
   "mimetype": "text/x-python",
   "name": "python",
   "nbconvert_exporter": "python",
   "pygments_lexer": "ipython3",
   "version": "3.9.5"
  }
 },
 "nbformat": 4,
 "nbformat_minor": 5
}
