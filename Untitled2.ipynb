{
 "cells": [
  {
   "cell_type": "code",
   "execution_count": 3,
   "id": "3acfb546",
   "metadata": {},
   "outputs": [
    {
     "name": "stdout",
     "output_type": "stream",
     "text": [
      "Requirement already satisfied: qiskit in c:\\users\\pranav\\anaconda3\\envs\\fixissueenv\\lib\\site-packages (0.26.2)\n",
      "Requirement already satisfied: qiskit-ibmq-provider==0.13.1 in c:\\users\\pranav\\anaconda3\\envs\\fixissueenv\\lib\\site-packages (from qiskit) (0.13.1)\n",
      "Requirement already satisfied: qiskit-aer==0.8.2 in c:\\users\\pranav\\anaconda3\\envs\\fixissueenv\\lib\\site-packages (from qiskit) (0.8.2)\n",
      "Requirement already satisfied: qiskit-aqua==0.9.1 in c:\\users\\pranav\\anaconda3\\envs\\fixissueenv\\lib\\site-packages (from qiskit) (0.9.1)\n",
      "Requirement already satisfied: qiskit-ignis==0.6.0 in c:\\users\\pranav\\anaconda3\\envs\\fixissueenv\\lib\\site-packages (from qiskit) (0.6.0)\n",
      "Requirement already satisfied: qiskit-terra==0.17.4 in c:\\users\\pranav\\anaconda3\\envs\\fixissueenv\\lib\\site-packages (from qiskit) (0.17.4)\n",
      "Requirement already satisfied: pybind11>=2.6 in c:\\users\\pranav\\anaconda3\\envs\\fixissueenv\\lib\\site-packages (from qiskit-aer==0.8.2->qiskit) (2.6.2)\n",
      "Requirement already satisfied: numpy>=1.16.3 in c:\\users\\pranav\\anaconda3\\envs\\fixissueenv\\lib\\site-packages (from qiskit-aer==0.8.2->qiskit) (1.20.1)\n",
      "Requirement already satisfied: scipy>=1.0 in c:\\users\\pranav\\anaconda3\\envs\\fixissueenv\\lib\\site-packages (from qiskit-aer==0.8.2->qiskit) (1.6.1)\n",
      "Requirement already satisfied: sympy<=1.7.1,>=1.3 in c:\\users\\pranav\\anaconda3\\envs\\fixissueenv\\lib\\site-packages (from qiskit-aqua==0.9.1->qiskit) (1.7.1)\n",
      "Requirement already satisfied: psutil<=5.8.0,>=5 in c:\\users\\pranav\\anaconda3\\envs\\fixissueenv\\lib\\site-packages (from qiskit-aqua==0.9.1->qiskit) (5.8.0)\n",
      "Requirement already satisfied: dlx<=1.0.4 in c:\\users\\pranav\\anaconda3\\envs\\fixissueenv\\lib\\site-packages (from qiskit-aqua==0.9.1->qiskit) (1.0.4)\n",
      "Requirement already satisfied: setuptools>=40.1.0 in c:\\users\\pranav\\anaconda3\\envs\\fixissueenv\\lib\\site-packages (from qiskit-aqua==0.9.1->qiskit) (52.0.0.post20210125)\n",
      "Requirement already satisfied: retworkx<=0.8.0,>=0.7.0 in c:\\users\\pranav\\anaconda3\\envs\\fixissueenv\\lib\\site-packages (from qiskit-aqua==0.9.1->qiskit) (0.8.0)\n",
      "Requirement already satisfied: yfinance<=0.1.55 in c:\\users\\pranav\\anaconda3\\envs\\fixissueenv\\lib\\site-packages (from qiskit-aqua==0.9.1->qiskit) (0.1.55)\n",
      "Requirement already satisfied: scikit-learn<=0.24.1,>=0.20.0 in c:\\users\\pranav\\anaconda3\\envs\\fixissueenv\\lib\\site-packages (from qiskit-aqua==0.9.1->qiskit) (0.24.1)\n",
      "Requirement already satisfied: pandas<=1.2.3 in c:\\users\\pranav\\anaconda3\\envs\\fixissueenv\\lib\\site-packages (from qiskit-aqua==0.9.1->qiskit) (1.2.3)\n",
      "Requirement already satisfied: h5py<=3.1.0 in c:\\users\\pranav\\anaconda3\\envs\\fixissueenv\\lib\\site-packages (from qiskit-aqua==0.9.1->qiskit) (3.1.0)\n",
      "Requirement already satisfied: fastdtw<=0.3.4 in c:\\users\\pranav\\anaconda3\\envs\\fixissueenv\\lib\\site-packages (from qiskit-aqua==0.9.1->qiskit) (0.3.4)\n",
      "Requirement already satisfied: docplex<=2.20.204 in c:\\users\\pranav\\anaconda3\\envs\\fixissueenv\\lib\\site-packages (from qiskit-aqua==0.9.1->qiskit) (2.20.204)\n",
      "Requirement already satisfied: quandl<=3.6.0 in c:\\users\\pranav\\anaconda3\\envs\\fixissueenv\\lib\\site-packages (from qiskit-aqua==0.9.1->qiskit) (3.6.0)\n",
      "Requirement already satisfied: urllib3>=1.21.1 in c:\\users\\pranav\\anaconda3\\envs\\fixissueenv\\lib\\site-packages (from qiskit-ibmq-provider==0.13.1->qiskit) (1.26.5)\n",
      "Requirement already satisfied: nest-asyncio!=1.1.0,>=1.0.0 in c:\\users\\pranav\\anaconda3\\envs\\fixissueenv\\lib\\site-packages (from qiskit-ibmq-provider==0.13.1->qiskit) (1.5.1)\n",
      "Requirement already satisfied: websockets>=8 in c:\\users\\pranav\\anaconda3\\envs\\fixissueenv\\lib\\site-packages (from qiskit-ibmq-provider==0.13.1->qiskit) (9.1)\n",
      "Requirement already satisfied: dill>=0.3 in c:\\users\\pranav\\anaconda3\\envs\\fixissueenv\\lib\\site-packages (from qiskit-ibmq-provider==0.13.1->qiskit) (0.3.3)\n",
      "Requirement already satisfied: python-dateutil>=2.8.0 in c:\\users\\pranav\\anaconda3\\envs\\fixissueenv\\lib\\site-packages (from qiskit-ibmq-provider==0.13.1->qiskit) (2.8.1)\n",
      "Requirement already satisfied: requests>=2.19 in c:\\users\\pranav\\anaconda3\\envs\\fixissueenv\\lib\\site-packages (from qiskit-ibmq-provider==0.13.1->qiskit) (2.25.1)\n",
      "Requirement already satisfied: requests-ntlm>=1.1.0 in c:\\users\\pranav\\anaconda3\\envs\\fixissueenv\\lib\\site-packages (from qiskit-ibmq-provider==0.13.1->qiskit) (1.1.0)\n",
      "Requirement already satisfied: ply>=3.10 in c:\\users\\pranav\\anaconda3\\envs\\fixissueenv\\lib\\site-packages (from qiskit-terra==0.17.4->qiskit) (3.11)\n",
      "Requirement already satisfied: python-constraint>=1.4 in c:\\users\\pranav\\anaconda3\\envs\\fixissueenv\\lib\\site-packages (from qiskit-terra==0.17.4->qiskit) (1.4.0)\n",
      "Requirement already satisfied: jsonschema>=2.6 in c:\\users\\pranav\\anaconda3\\envs\\fixissueenv\\lib\\site-packages (from qiskit-terra==0.17.4->qiskit) (3.2.0)\n",
      "Requirement already satisfied: fastjsonschema>=2.10 in c:\\users\\pranav\\anaconda3\\envs\\fixissueenv\\lib\\site-packages (from qiskit-terra==0.17.4->qiskit) (2.15.1)\n",
      "Requirement already satisfied: six in c:\\users\\pranav\\anaconda3\\envs\\fixissueenv\\lib\\site-packages (from docplex<=2.20.204->qiskit-aqua==0.9.1->qiskit) (1.16.0)\n",
      "Requirement already satisfied: attrs>=17.4.0 in c:\\users\\pranav\\anaconda3\\envs\\fixissueenv\\lib\\site-packages (from jsonschema>=2.6->qiskit-terra==0.17.4->qiskit) (21.2.0)\n",
      "Requirement already satisfied: pyrsistent>=0.14.0 in c:\\users\\pranav\\anaconda3\\envs\\fixissueenv\\lib\\site-packages (from jsonschema>=2.6->qiskit-terra==0.17.4->qiskit) (0.17.3)\n",
      "Requirement already satisfied: pytz>=2017.3 in c:\\users\\pranav\\anaconda3\\envs\\fixissueenv\\lib\\site-packages (from pandas<=1.2.3->qiskit-aqua==0.9.1->qiskit) (2021.1)\n",
      "Requirement already satisfied: inflection>=0.3.1 in c:\\users\\pranav\\anaconda3\\envs\\fixissueenv\\lib\\site-packages (from quandl<=3.6.0->qiskit-aqua==0.9.1->qiskit) (0.5.1)\n",
      "Requirement already satisfied: more-itertools in c:\\users\\pranav\\anaconda3\\envs\\fixissueenv\\lib\\site-packages (from quandl<=3.6.0->qiskit-aqua==0.9.1->qiskit) (8.8.0)\n",
      "Requirement already satisfied: idna<3,>=2.5 in c:\\users\\pranav\\anaconda3\\envs\\fixissueenv\\lib\\site-packages (from requests>=2.19->qiskit-ibmq-provider==0.13.1->qiskit) (2.10)\n",
      "Requirement already satisfied: certifi>=2017.4.17 in c:\\users\\pranav\\anaconda3\\envs\\fixissueenv\\lib\\site-packages (from requests>=2.19->qiskit-ibmq-provider==0.13.1->qiskit) (2021.5.30)\n",
      "Requirement already satisfied: chardet<5,>=3.0.2 in c:\\users\\pranav\\anaconda3\\envs\\fixissueenv\\lib\\site-packages (from requests>=2.19->qiskit-ibmq-provider==0.13.1->qiskit) (4.0.0)\n",
      "Requirement already satisfied: ntlm-auth>=1.0.2 in c:\\users\\pranav\\anaconda3\\envs\\fixissueenv\\lib\\site-packages (from requests-ntlm>=1.1.0->qiskit-ibmq-provider==0.13.1->qiskit) (1.5.0)\n",
      "Requirement already satisfied: cryptography>=1.3 in c:\\users\\pranav\\anaconda3\\envs\\fixissueenv\\lib\\site-packages (from requests-ntlm>=1.1.0->qiskit-ibmq-provider==0.13.1->qiskit) (3.4.7)\n",
      "Requirement already satisfied: cffi>=1.12 in c:\\users\\pranav\\anaconda3\\envs\\fixissueenv\\lib\\site-packages (from cryptography>=1.3->requests-ntlm>=1.1.0->qiskit-ibmq-provider==0.13.1->qiskit) (1.14.5)\n",
      "Requirement already satisfied: pycparser in c:\\users\\pranav\\anaconda3\\envs\\fixissueenv\\lib\\site-packages (from cffi>=1.12->cryptography>=1.3->requests-ntlm>=1.1.0->qiskit-ibmq-provider==0.13.1->qiskit) (2.20)\n",
      "Requirement already satisfied: threadpoolctl>=2.0.0 in c:\\users\\pranav\\anaconda3\\envs\\fixissueenv\\lib\\site-packages (from scikit-learn<=0.24.1,>=0.20.0->qiskit-aqua==0.9.1->qiskit) (2.1.0)\n",
      "Requirement already satisfied: joblib>=0.11 in c:\\users\\pranav\\anaconda3\\envs\\fixissueenv\\lib\\site-packages (from scikit-learn<=0.24.1,>=0.20.0->qiskit-aqua==0.9.1->qiskit) (1.0.1)\n",
      "Requirement already satisfied: mpmath>=0.19 in c:\\users\\pranav\\anaconda3\\envs\\fixissueenv\\lib\\site-packages (from sympy<=1.7.1,>=1.3->qiskit-aqua==0.9.1->qiskit) (1.2.1)\n",
      "Requirement already satisfied: lxml>=4.5.1 in c:\\users\\pranav\\anaconda3\\envs\\fixissueenv\\lib\\site-packages (from yfinance<=0.1.55->qiskit-aqua==0.9.1->qiskit) (4.6.3)\n",
      "Requirement already satisfied: multitasking>=0.0.7 in c:\\users\\pranav\\anaconda3\\envs\\fixissueenv\\lib\\site-packages (from yfinance<=0.1.55->qiskit-aqua==0.9.1->qiskit) (0.0.9)\n"
     ]
    }
   ],
   "source": [
    "!pip install qiskit"
   ]
  },
  {
   "cell_type": "code",
   "execution_count": 6,
   "id": "5f1d1280",
   "metadata": {},
   "outputs": [
    {
     "ename": "ModuleNotFoundError",
     "evalue": "No module named 'qiskit.quantum_info.states.cython.exp_value'",
     "output_type": "error",
     "traceback": [
      "\u001b[1;31m---------------------------------------------------------------------------\u001b[0m",
      "\u001b[1;31mModuleNotFoundError\u001b[0m                       Traceback (most recent call last)",
      "\u001b[1;32m<ipython-input-6-578b7f7e9727>\u001b[0m in \u001b[0;36m<module>\u001b[1;34m\u001b[0m\n\u001b[1;32m----> 1\u001b[1;33m \u001b[1;32mimport\u001b[0m \u001b[0mqiskit\u001b[0m\u001b[1;33m\u001b[0m\u001b[1;33m\u001b[0m\u001b[0m\n\u001b[0m",
      "\u001b[1;32m~\\qiskit-terra\\qiskit\\__init__.py\u001b[0m in \u001b[0;36m<module>\u001b[1;34m\u001b[0m\n\u001b[0;32m     34\u001b[0m \u001b[1;31m# The qiskit.extensions.x imports needs to be placed here due to the\u001b[0m\u001b[1;33m\u001b[0m\u001b[1;33m\u001b[0m\u001b[1;33m\u001b[0m\u001b[0m\n\u001b[0;32m     35\u001b[0m \u001b[1;31m# mechanism for adding gates dynamically.\u001b[0m\u001b[1;33m\u001b[0m\u001b[1;33m\u001b[0m\u001b[1;33m\u001b[0m\u001b[0m\n\u001b[1;32m---> 36\u001b[1;33m \u001b[1;32mimport\u001b[0m \u001b[0mqiskit\u001b[0m\u001b[1;33m.\u001b[0m\u001b[0mextensions\u001b[0m\u001b[1;33m\u001b[0m\u001b[1;33m\u001b[0m\u001b[0m\n\u001b[0m\u001b[0;32m     37\u001b[0m \u001b[1;32mimport\u001b[0m \u001b[0mqiskit\u001b[0m\u001b[1;33m.\u001b[0m\u001b[0mcircuit\u001b[0m\u001b[1;33m.\u001b[0m\u001b[0mmeasure\u001b[0m\u001b[1;33m\u001b[0m\u001b[1;33m\u001b[0m\u001b[0m\n\u001b[0;32m     38\u001b[0m \u001b[1;32mimport\u001b[0m \u001b[0mqiskit\u001b[0m\u001b[1;33m.\u001b[0m\u001b[0mcircuit\u001b[0m\u001b[1;33m.\u001b[0m\u001b[0mreset\u001b[0m\u001b[1;33m\u001b[0m\u001b[1;33m\u001b[0m\u001b[0m\n",
      "\u001b[1;32m~\\qiskit-terra\\qiskit\\extensions\\__init__.py\u001b[0m in \u001b[0;36m<module>\u001b[1;34m\u001b[0m\n\u001b[0;32m     48\u001b[0m \u001b[1;32mfrom\u001b[0m \u001b[0mqiskit\u001b[0m\u001b[1;33m.\u001b[0m\u001b[0mcircuit\u001b[0m\u001b[1;33m.\u001b[0m\u001b[0mbarrier\u001b[0m \u001b[1;32mimport\u001b[0m \u001b[0mBarrier\u001b[0m\u001b[1;33m\u001b[0m\u001b[1;33m\u001b[0m\u001b[0m\n\u001b[0;32m     49\u001b[0m \u001b[1;33m\u001b[0m\u001b[0m\n\u001b[1;32m---> 50\u001b[1;33m \u001b[1;32mfrom\u001b[0m \u001b[1;33m.\u001b[0m\u001b[0mquantum_initializer\u001b[0m\u001b[1;33m.\u001b[0m\u001b[0minitializer\u001b[0m \u001b[1;32mimport\u001b[0m \u001b[0mInitialize\u001b[0m\u001b[1;33m\u001b[0m\u001b[1;33m\u001b[0m\u001b[0m\n\u001b[0m\u001b[0;32m     51\u001b[0m \u001b[1;32mfrom\u001b[0m \u001b[1;33m.\u001b[0m\u001b[0munitary\u001b[0m \u001b[1;32mimport\u001b[0m \u001b[0mUnitaryGate\u001b[0m\u001b[1;33m\u001b[0m\u001b[1;33m\u001b[0m\u001b[0m\n\u001b[0;32m     52\u001b[0m \u001b[1;32mfrom\u001b[0m \u001b[1;33m.\u001b[0m\u001b[0mhamiltonian_gate\u001b[0m \u001b[1;32mimport\u001b[0m \u001b[0mHamiltonianGate\u001b[0m\u001b[1;33m\u001b[0m\u001b[1;33m\u001b[0m\u001b[0m\n",
      "\u001b[1;32m~\\qiskit-terra\\qiskit\\extensions\\quantum_initializer\\initializer.py\u001b[0m in \u001b[0;36m<module>\u001b[1;34m\u001b[0m\n\u001b[0;32m     29\u001b[0m \u001b[1;32mfrom\u001b[0m \u001b[0mqiskit\u001b[0m\u001b[1;33m.\u001b[0m\u001b[0mcircuit\u001b[0m\u001b[1;33m.\u001b[0m\u001b[0mlibrary\u001b[0m\u001b[1;33m.\u001b[0m\u001b[0mstandard_gates\u001b[0m\u001b[1;33m.\u001b[0m\u001b[0mrz\u001b[0m \u001b[1;32mimport\u001b[0m \u001b[0mRZGate\u001b[0m\u001b[1;33m\u001b[0m\u001b[1;33m\u001b[0m\u001b[0m\n\u001b[0;32m     30\u001b[0m \u001b[1;32mfrom\u001b[0m \u001b[0mqiskit\u001b[0m\u001b[1;33m.\u001b[0m\u001b[0mcircuit\u001b[0m\u001b[1;33m.\u001b[0m\u001b[0mreset\u001b[0m \u001b[1;32mimport\u001b[0m \u001b[0mReset\u001b[0m\u001b[1;33m\u001b[0m\u001b[1;33m\u001b[0m\u001b[0m\n\u001b[1;32m---> 31\u001b[1;33m \u001b[1;32mfrom\u001b[0m \u001b[0mqiskit\u001b[0m\u001b[1;33m.\u001b[0m\u001b[0mquantum_info\u001b[0m \u001b[1;32mimport\u001b[0m \u001b[0mStatevector\u001b[0m\u001b[1;33m\u001b[0m\u001b[1;33m\u001b[0m\u001b[0m\n\u001b[0m\u001b[0;32m     32\u001b[0m \u001b[1;33m\u001b[0m\u001b[0m\n\u001b[0;32m     33\u001b[0m \u001b[0m_EPS\u001b[0m \u001b[1;33m=\u001b[0m \u001b[1;36m1e-10\u001b[0m  \u001b[1;31m# global variable used to chop very small numbers to zero\u001b[0m\u001b[1;33m\u001b[0m\u001b[1;33m\u001b[0m\u001b[0m\n",
      "\u001b[1;32m~\\qiskit-terra\\qiskit\\quantum_info\\__init__.py\u001b[0m in \u001b[0;36m<module>\u001b[1;34m\u001b[0m\n\u001b[0;32m    121\u001b[0m \"\"\"\n\u001b[0;32m    122\u001b[0m \u001b[1;33m\u001b[0m\u001b[0m\n\u001b[1;32m--> 123\u001b[1;33m \u001b[1;32mfrom\u001b[0m \u001b[1;33m.\u001b[0m\u001b[0moperators\u001b[0m \u001b[1;32mimport\u001b[0m \u001b[0mOperator\u001b[0m\u001b[1;33m,\u001b[0m \u001b[0mScalarOp\u001b[0m\u001b[1;33m,\u001b[0m \u001b[0mPauli\u001b[0m\u001b[1;33m,\u001b[0m \u001b[0mClifford\u001b[0m\u001b[1;33m,\u001b[0m \u001b[0mSparsePauliOp\u001b[0m\u001b[1;33m\u001b[0m\u001b[1;33m\u001b[0m\u001b[0m\n\u001b[0m\u001b[0;32m    124\u001b[0m \u001b[1;32mfrom\u001b[0m \u001b[1;33m.\u001b[0m\u001b[0moperators\u001b[0m \u001b[1;32mimport\u001b[0m \u001b[0mPauliTable\u001b[0m\u001b[1;33m,\u001b[0m \u001b[0mStabilizerTable\u001b[0m\u001b[1;33m,\u001b[0m \u001b[0mpauli_basis\u001b[0m\u001b[1;33m,\u001b[0m \u001b[0mpauli_group\u001b[0m\u001b[1;33m\u001b[0m\u001b[1;33m\u001b[0m\u001b[0m\n\u001b[0;32m    125\u001b[0m \u001b[1;32mfrom\u001b[0m \u001b[1;33m.\u001b[0m\u001b[0moperators\u001b[0m\u001b[1;33m.\u001b[0m\u001b[0mchannel\u001b[0m \u001b[1;32mimport\u001b[0m \u001b[0mChoi\u001b[0m\u001b[1;33m,\u001b[0m \u001b[0mSuperOp\u001b[0m\u001b[1;33m,\u001b[0m \u001b[0mKraus\u001b[0m\u001b[1;33m,\u001b[0m \u001b[0mStinespring\u001b[0m\u001b[1;33m,\u001b[0m \u001b[0mChi\u001b[0m\u001b[1;33m,\u001b[0m \u001b[0mPTM\u001b[0m\u001b[1;33m\u001b[0m\u001b[1;33m\u001b[0m\u001b[0m\n",
      "\u001b[1;32m~\\qiskit-terra\\qiskit\\quantum_info\\operators\\__init__.py\u001b[0m in \u001b[0;36m<module>\u001b[1;34m\u001b[0m\n\u001b[0;32m     16\u001b[0m \u001b[1;32mfrom\u001b[0m \u001b[1;33m.\u001b[0m\u001b[0mscalar_op\u001b[0m \u001b[1;32mimport\u001b[0m \u001b[0mScalarOp\u001b[0m\u001b[1;33m\u001b[0m\u001b[1;33m\u001b[0m\u001b[0m\n\u001b[0;32m     17\u001b[0m \u001b[1;32mfrom\u001b[0m \u001b[1;33m.\u001b[0m\u001b[0mchannel\u001b[0m \u001b[1;32mimport\u001b[0m \u001b[0mChoi\u001b[0m\u001b[1;33m,\u001b[0m \u001b[0mSuperOp\u001b[0m\u001b[1;33m,\u001b[0m \u001b[0mKraus\u001b[0m\u001b[1;33m,\u001b[0m \u001b[0mStinespring\u001b[0m\u001b[1;33m,\u001b[0m \u001b[0mChi\u001b[0m\u001b[1;33m,\u001b[0m \u001b[0mPTM\u001b[0m\u001b[1;33m\u001b[0m\u001b[1;33m\u001b[0m\u001b[0m\n\u001b[1;32m---> 18\u001b[1;33m \u001b[1;32mfrom\u001b[0m \u001b[1;33m.\u001b[0m\u001b[0mmeasures\u001b[0m \u001b[1;32mimport\u001b[0m \u001b[0mprocess_fidelity\u001b[0m\u001b[1;33m,\u001b[0m \u001b[0maverage_gate_fidelity\u001b[0m\u001b[1;33m,\u001b[0m \u001b[0mgate_error\u001b[0m\u001b[1;33m,\u001b[0m \u001b[0mdiamond_norm\u001b[0m\u001b[1;33m\u001b[0m\u001b[1;33m\u001b[0m\u001b[0m\n\u001b[0m\u001b[0;32m     19\u001b[0m \u001b[1;32mfrom\u001b[0m \u001b[1;33m.\u001b[0m\u001b[0msymplectic\u001b[0m \u001b[1;32mimport\u001b[0m \u001b[0mClifford\u001b[0m\u001b[1;33m,\u001b[0m \u001b[0mPauli\u001b[0m\u001b[1;33m,\u001b[0m \u001b[0mSparsePauliOp\u001b[0m\u001b[1;33m,\u001b[0m \u001b[0mPauliTable\u001b[0m\u001b[1;33m,\u001b[0m \u001b[0mStabilizerTable\u001b[0m\u001b[1;33m\u001b[0m\u001b[1;33m\u001b[0m\u001b[0m\n\u001b[0;32m     20\u001b[0m \u001b[1;32mfrom\u001b[0m \u001b[1;33m.\u001b[0m\u001b[0msymplectic\u001b[0m \u001b[1;32mimport\u001b[0m \u001b[0mpauli_basis\u001b[0m\u001b[1;33m\u001b[0m\u001b[1;33m\u001b[0m\u001b[0m\n",
      "\u001b[1;32m~\\qiskit-terra\\qiskit\\quantum_info\\operators\\measures.py\u001b[0m in \u001b[0;36m<module>\u001b[1;34m\u001b[0m\n\u001b[0;32m     26\u001b[0m \u001b[1;32mfrom\u001b[0m \u001b[0mqiskit\u001b[0m\u001b[1;33m.\u001b[0m\u001b[0mquantum_info\u001b[0m\u001b[1;33m.\u001b[0m\u001b[0moperators\u001b[0m\u001b[1;33m.\u001b[0m\u001b[0mchannel\u001b[0m\u001b[1;33m.\u001b[0m\u001b[0mquantum_channel\u001b[0m \u001b[1;32mimport\u001b[0m \u001b[0mQuantumChannel\u001b[0m\u001b[1;33m\u001b[0m\u001b[1;33m\u001b[0m\u001b[0m\n\u001b[0;32m     27\u001b[0m \u001b[1;32mfrom\u001b[0m \u001b[0mqiskit\u001b[0m\u001b[1;33m.\u001b[0m\u001b[0mquantum_info\u001b[0m\u001b[1;33m.\u001b[0m\u001b[0moperators\u001b[0m\u001b[1;33m.\u001b[0m\u001b[0mchannel\u001b[0m \u001b[1;32mimport\u001b[0m \u001b[0mChoi\u001b[0m\u001b[1;33m,\u001b[0m \u001b[0mSuperOp\u001b[0m\u001b[1;33m\u001b[0m\u001b[1;33m\u001b[0m\u001b[0m\n\u001b[1;32m---> 28\u001b[1;33m \u001b[1;32mfrom\u001b[0m \u001b[0mqiskit\u001b[0m\u001b[1;33m.\u001b[0m\u001b[0mquantum_info\u001b[0m\u001b[1;33m.\u001b[0m\u001b[0mstates\u001b[0m\u001b[1;33m.\u001b[0m\u001b[0mdensitymatrix\u001b[0m \u001b[1;32mimport\u001b[0m \u001b[0mDensityMatrix\u001b[0m\u001b[1;33m\u001b[0m\u001b[1;33m\u001b[0m\u001b[0m\n\u001b[0m\u001b[0;32m     29\u001b[0m \u001b[1;32mfrom\u001b[0m \u001b[0mqiskit\u001b[0m\u001b[1;33m.\u001b[0m\u001b[0mquantum_info\u001b[0m\u001b[1;33m.\u001b[0m\u001b[0mstates\u001b[0m\u001b[1;33m.\u001b[0m\u001b[0mmeasures\u001b[0m \u001b[1;32mimport\u001b[0m \u001b[0mstate_fidelity\u001b[0m\u001b[1;33m\u001b[0m\u001b[1;33m\u001b[0m\u001b[0m\n\u001b[0;32m     30\u001b[0m \u001b[1;33m\u001b[0m\u001b[0m\n",
      "\u001b[1;32m~\\qiskit-terra\\qiskit\\quantum_info\\states\\__init__.py\u001b[0m in \u001b[0;36m<module>\u001b[1;34m\u001b[0m\n\u001b[0;32m     13\u001b[0m \u001b[1;34m\"\"\"Quantum States.\"\"\"\u001b[0m\u001b[1;33m\u001b[0m\u001b[1;33m\u001b[0m\u001b[0m\n\u001b[0;32m     14\u001b[0m \u001b[1;33m\u001b[0m\u001b[0m\n\u001b[1;32m---> 15\u001b[1;33m \u001b[1;32mfrom\u001b[0m \u001b[1;33m.\u001b[0m\u001b[0mstatevector\u001b[0m \u001b[1;32mimport\u001b[0m \u001b[0mStatevector\u001b[0m\u001b[1;33m\u001b[0m\u001b[1;33m\u001b[0m\u001b[0m\n\u001b[0m\u001b[0;32m     16\u001b[0m \u001b[1;32mfrom\u001b[0m \u001b[1;33m.\u001b[0m\u001b[0mstabilizerstate\u001b[0m \u001b[1;32mimport\u001b[0m \u001b[0mStabilizerState\u001b[0m\u001b[1;33m\u001b[0m\u001b[1;33m\u001b[0m\u001b[0m\n\u001b[0;32m     17\u001b[0m \u001b[1;32mfrom\u001b[0m \u001b[1;33m.\u001b[0m\u001b[0mdensitymatrix\u001b[0m \u001b[1;32mimport\u001b[0m \u001b[0mDensityMatrix\u001b[0m\u001b[1;33m\u001b[0m\u001b[1;33m\u001b[0m\u001b[0m\n",
      "\u001b[1;32m~\\qiskit-terra\\qiskit\\quantum_info\\states\\statevector.py\u001b[0m in \u001b[0;36m<module>\u001b[1;34m\u001b[0m\n\u001b[0;32m     32\u001b[0m \u001b[1;33m\u001b[0m\u001b[0m\n\u001b[0;32m     33\u001b[0m \u001b[1;31m# pylint: disable=no-name-in-module\u001b[0m\u001b[1;33m\u001b[0m\u001b[1;33m\u001b[0m\u001b[1;33m\u001b[0m\u001b[0m\n\u001b[1;32m---> 34\u001b[1;33m \u001b[1;32mfrom\u001b[0m \u001b[1;33m.\u001b[0m\u001b[0mcython\u001b[0m\u001b[1;33m.\u001b[0m\u001b[0mexp_value\u001b[0m \u001b[1;32mimport\u001b[0m \u001b[0mexpval_pauli_no_x\u001b[0m\u001b[1;33m,\u001b[0m \u001b[0mexpval_pauli_with_x\u001b[0m\u001b[1;33m\u001b[0m\u001b[1;33m\u001b[0m\u001b[0m\n\u001b[0m\u001b[0;32m     35\u001b[0m \u001b[1;33m\u001b[0m\u001b[0m\n\u001b[0;32m     36\u001b[0m \u001b[1;33m\u001b[0m\u001b[0m\n",
      "\u001b[1;31mModuleNotFoundError\u001b[0m: No module named 'qiskit.quantum_info.states.cython.exp_value'"
     ]
    }
   ],
   "source": [
    "import qiskit"
   ]
  },
  {
   "cell_type": "code",
   "execution_count": null,
   "id": "3cc9af1f",
   "metadata": {},
   "outputs": [],
   "source": []
  }
 ],
 "metadata": {
  "kernelspec": {
   "display_name": "fixissueenv",
   "language": "python",
   "name": "fixissueenv"
  },
  "language_info": {
   "codemirror_mode": {
    "name": "ipython",
    "version": 3
   },
   "file_extension": ".py",
   "mimetype": "text/x-python",
   "name": "python",
   "nbconvert_exporter": "python",
   "pygments_lexer": "ipython3",
   "version": "3.9.5"
  }
 },
 "nbformat": 4,
 "nbformat_minor": 5
}
