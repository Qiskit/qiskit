{
 "cells": [
  {
   "cell_type": "markdown",
   "metadata": {},
   "source": [
    "# Operator Flow"
   ]
  },
  {
   "cell_type": "markdown",
   "metadata": {},
   "source": [
    "## Introduction\n",
    "\n",
    "Qiskit provides classes representing states and operators and sums, tensor products, and compositions thereof. These algebraic constructs allow us to build expressions representing operators.\n",
    "\n",
    "We introduce expressions by building them from Pauli operators. In subsequent sections we explore in more detail operators and states, how they are represented, and what we can do with them. In the last section we construct a state, evolve it with a Hamiltonian, and compute expectation values of an observable.\n",
    "\n",
    "### Pauli operators, sums, compositions, and tensor products\n",
    "\n",
    "The most important base operators are the Pauli operators.\n",
    "The Pauli operators are represented like this.\n"
   ]
  },
  {
   "cell_type": "code",
   "execution_count": 1,
   "metadata": {
    "execution": {
     "iopub.execute_input": "2023-08-25T18:25:55.220124Z",
     "iopub.status.busy": "2023-08-25T18:25:55.218526Z",
     "iopub.status.idle": "2023-08-25T18:25:55.802288Z",
     "shell.execute_reply": "2023-08-25T18:25:55.801595Z"
    }
   },
   "outputs": [
    {
     "name": "stdout",
     "output_type": "stream",
     "text": [
      "I X Y Z\n"
     ]
    },
    {
     "name": "stderr",
     "output_type": "stream",
     "text": [
      "/tmp/ipykernel_10214/1460376431.py:1: DeprecationWarning: The ``qiskit.opflow`` module is deprecated as of qiskit-terra 0.24.0. It will be removed no earlier than 3 months after the release date. For code migration guidelines, visit https://qisk.it/opflow_migration.\n",
      "  from qiskit.opflow import I, X, Y, Z\n"
     ]
    }
   ],
   "source": [
    "from qiskit.opflow import I, X, Y, Z\n",
    "print(I, X, Y, Z)"
   ]
  },
  {
   "cell_type": "markdown",
   "metadata": {},
   "source": [
    "These operators may also carry a coefficient."
   ]
  },
  {
   "cell_type": "code",
   "execution_count": 2,
   "metadata": {
    "execution": {
     "iopub.execute_input": "2023-08-25T18:25:55.807526Z",
     "iopub.status.busy": "2023-08-25T18:25:55.806057Z",
     "iopub.status.idle": "2023-08-25T18:25:55.812872Z",
     "shell.execute_reply": "2023-08-25T18:25:55.812293Z"
    }
   },
   "outputs": [
    {
     "name": "stdout",
     "output_type": "stream",
     "text": [
      "1.5 * I\n",
      "2.5 * X\n"
     ]
    }
   ],
   "source": [
    "print(1.5 * I)\n",
    "print(2.5 * X)"
   ]
  },
  {
   "cell_type": "markdown",
   "metadata": {},
   "source": [
    "These coefficients allow the operators to be used as terms in a sum."
   ]
  },
  {
   "cell_type": "code",
   "execution_count": 3,
   "metadata": {
    "execution": {
     "iopub.execute_input": "2023-08-25T18:25:55.817408Z",
     "iopub.status.busy": "2023-08-25T18:25:55.816257Z",
     "iopub.status.idle": "2023-08-25T18:25:55.823245Z",
     "shell.execute_reply": "2023-08-25T18:25:55.822662Z"
    }
   },
   "outputs": [
    {
     "name": "stdout",
     "output_type": "stream",
     "text": [
      "1.0 * X\n",
      "+ 2.0 * Y\n"
     ]
    }
   ],
   "source": [
    "print(X + 2.0 * Y)"
   ]
  },
  {
   "cell_type": "markdown",
   "metadata": {},
   "source": [
    "Tensor products are denoted with a caret, like this."
   ]
  },
  {
   "cell_type": "code",
   "execution_count": 4,
   "metadata": {
    "execution": {
     "iopub.execute_input": "2023-08-25T18:25:55.827766Z",
     "iopub.status.busy": "2023-08-25T18:25:55.826620Z",
     "iopub.status.idle": "2023-08-25T18:25:55.833020Z",
     "shell.execute_reply": "2023-08-25T18:25:55.832438Z"
    }
   },
   "outputs": [
    {
     "name": "stdout",
     "output_type": "stream",
     "text": [
      "XYZ\n"
     ]
    }
   ],
   "source": [
    "print(X^Y^Z)"
   ]
  },
  {
   "cell_type": "markdown",
   "metadata": {},
   "source": [
    "Composition is denoted by the `@` symbol."
   ]
  },
  {
   "cell_type": "code",
   "execution_count": 5,
   "metadata": {
    "execution": {
     "iopub.execute_input": "2023-08-25T18:25:55.837753Z",
     "iopub.status.busy": "2023-08-25T18:25:55.836589Z",
     "iopub.status.idle": "2023-08-25T18:25:55.843676Z",
     "shell.execute_reply": "2023-08-25T18:25:55.843080Z"
    }
   },
   "outputs": [
    {
     "name": "stdout",
     "output_type": "stream",
     "text": [
      "iI\n"
     ]
    }
   ],
   "source": [
    "print(X @ Y @ Z)"
   ]
  },
  {
   "cell_type": "markdown",
   "metadata": {},
   "source": [
    "In the preceding two examples, the tensor product and composition of Pauli operators were immediately reduced to the equivalent (possibly multi-qubit) Pauli operator. If we tensor or compose more complicated objects, the result is objects representing the unevaluated operations. That is, algebraic expressions."
   ]
  },
  {
   "cell_type": "markdown",
   "metadata": {},
   "source": [
    "For example, composing two sums gives"
   ]
  },
  {
   "cell_type": "code",
   "execution_count": 6,
   "metadata": {
    "execution": {
     "iopub.execute_input": "2023-08-25T18:25:55.847477Z",
     "iopub.status.busy": "2023-08-25T18:25:55.847011Z",
     "iopub.status.idle": "2023-08-25T18:25:55.854313Z",
     "shell.execute_reply": "2023-08-25T18:25:55.853730Z"
    }
   },
   "outputs": [
    {
     "name": "stdout",
     "output_type": "stream",
     "text": [
      "1j * Z\n",
      "+ -1j * Y\n",
      "+ 1.0 * I\n",
      "+ 1j * X\n"
     ]
    }
   ],
   "source": [
    "print((X + Y) @ (Y + Z))"
   ]
  },
  {
   "cell_type": "markdown",
   "metadata": {},
   "source": [
    "And tensoring two sums gives"
   ]
  },
  {
   "cell_type": "code",
   "execution_count": 7,
   "metadata": {
    "execution": {
     "iopub.execute_input": "2023-08-25T18:25:55.858119Z",
     "iopub.status.busy": "2023-08-25T18:25:55.857660Z",
     "iopub.status.idle": "2023-08-25T18:25:55.865015Z",
     "shell.execute_reply": "2023-08-25T18:25:55.864335Z"
    },
    "scrolled": true
   },
   "outputs": [
    {
     "name": "stdout",
     "output_type": "stream",
     "text": [
      "1.0 * XY\n",
      "+ 1.0 * XZ\n",
      "+ 1.0 * YY\n",
      "+ 1.0 * YZ\n"
     ]
    }
   ],
   "source": [
    "print((X + Y) ^ (Y + Z))"
   ]
  },
  {
   "cell_type": "markdown",
   "metadata": {},
   "source": [
    "Let's take a closer look at the types introduced above. First the Pauli operators."
   ]
  },
  {
   "cell_type": "code",
   "execution_count": 8,
   "metadata": {
    "execution": {
     "iopub.execute_input": "2023-08-25T18:25:55.868723Z",
     "iopub.status.busy": "2023-08-25T18:25:55.868250Z",
     "iopub.status.idle": "2023-08-25T18:25:55.878351Z",
     "shell.execute_reply": "2023-08-25T18:25:55.877739Z"
    }
   },
   "outputs": [
    {
     "data": {
      "text/plain": [
       "(PauliOp(Pauli('I'), coeff=1.0), PauliOp(Pauli('X'), coeff=1.0))"
      ]
     },
     "execution_count": 8,
     "metadata": {},
     "output_type": "execute_result"
    }
   ],
   "source": [
    "(I, X)"
   ]
  },
  {
   "cell_type": "markdown",
   "metadata": {},
   "source": [
    "Each Pauli operator is an instance of `PauliOp`, which wraps an instance of `qiskit.quantum_info.Pauli`, and adds a coefficient `coeff`. In general, a `PauliOp` represents a weighted tensor product of Pauli operators."
   ]
  },
  {
   "cell_type": "code",
   "execution_count": 9,
   "metadata": {
    "execution": {
     "iopub.execute_input": "2023-08-25T18:25:55.882960Z",
     "iopub.status.busy": "2023-08-25T18:25:55.881794Z",
     "iopub.status.idle": "2023-08-25T18:25:55.894792Z",
     "shell.execute_reply": "2023-08-25T18:25:55.894185Z"
    }
   },
   "outputs": [
    {
     "data": {
      "text/plain": [
       "PauliOp(Pauli('XYZ'), coeff=2.0)"
      ]
     },
     "execution_count": 9,
     "metadata": {},
     "output_type": "execute_result"
    }
   ],
   "source": [
    "2.0 * X^Y^Z"
   ]
  },
  {
   "cell_type": "markdown",
   "metadata": {},
   "source": [
    "For the encoding of the Pauli operators as pairs of Boolean values, see the documentation for `qiskit.quantum_info.Pauli`.\n",
    "\n",
    "All of the objects representing operators, whether as \"primitive\"s such as `PauliOp`, or algebraic expressions carry a coefficient"
   ]
  },
  {
   "cell_type": "code",
   "execution_count": 10,
   "metadata": {
    "execution": {
     "iopub.execute_input": "2023-08-25T18:25:55.900504Z",
     "iopub.status.busy": "2023-08-25T18:25:55.898811Z",
     "iopub.status.idle": "2023-08-25T18:25:55.909636Z",
     "shell.execute_reply": "2023-08-25T18:25:55.909017Z"
    }
   },
   "outputs": [
    {
     "name": "stdout",
     "output_type": "stream",
     "text": [
      "1.2 * (\n",
      "  1.1 * XY\n",
      "  + 1.4300000000000002 * XZ\n",
      ")\n"
     ]
    }
   ],
   "source": [
    "print(1.1 * ((1.2 * X)^(Y + (1.3 * Z))))"
   ]
  },
  {
   "cell_type": "markdown",
   "metadata": {},
   "source": [
    "In the following we take a broader and deeper look at Qiskit's operators, states, and the building blocks of quantum algorithms."
   ]
  },
  {
   "cell_type": "markdown",
   "metadata": {},
   "source": [
    "\n",
    "## Part I: State Functions and Measurements\n",
    "\n",
    "Quantum states are represented by subclasses of the class `StateFn`. There are four representations of quantum states: `DictStateFn` is a sparse representation in the computational basis, backed by a `dict`. `VectorStateFn` is a dense representation in the computational basis backed by a numpy array. `CircuitStateFn` is backed by a circuit and represents the state obtained by executing the circuit on the all-zero computational-basis state. `OperatorStateFn` represents mixed states via a density matrix. (As we will see later, `OperatorStateFn` is also used to represent observables.)\n",
    "\n",
    "Several `StateFn` instances are provided for convenience. For example `Zero, One, Plus, Minus`."
   ]
  },
  {
   "cell_type": "code",
   "execution_count": 11,
   "metadata": {
    "execution": {
     "iopub.execute_input": "2023-08-25T18:25:55.914460Z",
     "iopub.status.busy": "2023-08-25T18:25:55.913286Z",
     "iopub.status.idle": "2023-08-25T18:25:55.918398Z",
     "shell.execute_reply": "2023-08-25T18:25:55.917810Z"
    }
   },
   "outputs": [],
   "source": [
    "from qiskit.opflow import (StateFn, Zero, One, Plus, Minus, H,\n",
    "                           DictStateFn, VectorStateFn, CircuitStateFn, OperatorStateFn)"
   ]
  },
  {
   "cell_type": "markdown",
   "metadata": {},
   "source": [
    "`Zero` and `One` represent the quantum states $|0\\rangle$ and $|1\\rangle$. They are represented via `DictStateFn`."
   ]
  },
  {
   "cell_type": "code",
   "execution_count": 12,
   "metadata": {
    "execution": {
     "iopub.execute_input": "2023-08-25T18:25:55.922902Z",
     "iopub.status.busy": "2023-08-25T18:25:55.921567Z",
     "iopub.status.idle": "2023-08-25T18:25:55.928619Z",
     "shell.execute_reply": "2023-08-25T18:25:55.928008Z"
    }
   },
   "outputs": [
    {
     "name": "stdout",
     "output_type": "stream",
     "text": [
      "DictStateFn({'0': 1}) DictStateFn({'1': 1})\n"
     ]
    }
   ],
   "source": [
    "print(Zero, One)"
   ]
  },
  {
   "cell_type": "markdown",
   "metadata": {},
   "source": [
    "`Plus` and `Minus`, representing states $(|0\\rangle + |1\\rangle)/\\sqrt{2}$ and $(|0\\rangle - |1\\rangle)/\\sqrt{2}$ are represented via circuits. `H` is a synonym for `Plus`."
   ]
  },
  {
   "cell_type": "code",
   "execution_count": 13,
   "metadata": {
    "execution": {
     "iopub.execute_input": "2023-08-25T18:25:55.933273Z",
     "iopub.status.busy": "2023-08-25T18:25:55.932223Z",
     "iopub.status.idle": "2023-08-25T18:25:55.989875Z",
     "shell.execute_reply": "2023-08-25T18:25:55.988998Z"
    }
   },
   "outputs": [
    {
     "name": "stdout",
     "output_type": "stream",
     "text": [
      "CircuitStateFn(\n",
      "   ┌───┐\n",
      "q: ┤ H ├\n",
      "   └───┘\n",
      ") CircuitStateFn(\n",
      "   ┌───┐┌───┐\n",
      "q: ┤ X ├┤ H ├\n",
      "   └───┘└───┘\n",
      ")\n"
     ]
    }
   ],
   "source": [
    "print(Plus, Minus)"
   ]
  },
  {
   "cell_type": "markdown",
   "metadata": {},
   "source": [
    "Indexing into quantum states is done with the `eval` method. These examples return the coefficients of the `0` and `1` basis states. (Below, we will see that the `eval` method is used for other computations, as well.)"
   ]
  },
  {
   "cell_type": "code",
   "execution_count": 14,
   "metadata": {
    "execution": {
     "iopub.execute_input": "2023-08-25T18:25:55.993947Z",
     "iopub.status.busy": "2023-08-25T18:25:55.993499Z",
     "iopub.status.idle": "2023-08-25T18:25:56.036114Z",
     "shell.execute_reply": "2023-08-25T18:25:56.035247Z"
    }
   },
   "outputs": [
    {
     "name": "stdout",
     "output_type": "stream",
     "text": [
      "1.0\n",
      "0.0\n",
      "1.0\n"
     ]
    },
    {
     "name": "stdout",
     "output_type": "stream",
     "text": [
      "(0.7071067811865475+0j)\n",
      "(-0.7071067811865475+8.7e-17j)\n"
     ]
    }
   ],
   "source": [
    "print(Zero.eval('0'))\n",
    "print(Zero.eval('1'))\n",
    "print(One.eval('1'))\n",
    "print(Plus.eval('0'))\n",
    "print(Minus.eval('1'))"
   ]
  },
  {
   "cell_type": "markdown",
   "metadata": {},
   "source": [
    "The dual vector of a quantum state, that is the *bra* corresponding to a *ket* is obtained via the `adjoint` method. The `StateFn` carries a flag `is_measurement`, which is `False` if the object is a ket and `True` if it is a bra."
   ]
  },
  {
   "cell_type": "markdown",
   "metadata": {},
   "source": [
    "Here, we construct $\\langle 1 |$."
   ]
  },
  {
   "cell_type": "code",
   "execution_count": 15,
   "metadata": {
    "execution": {
     "iopub.execute_input": "2023-08-25T18:25:56.040370Z",
     "iopub.status.busy": "2023-08-25T18:25:56.039585Z",
     "iopub.status.idle": "2023-08-25T18:25:56.044683Z",
     "shell.execute_reply": "2023-08-25T18:25:56.044082Z"
    }
   },
   "outputs": [
    {
     "data": {
      "text/plain": [
       "DictStateFn({'1': 1}, coeff=1.0, is_measurement=True)"
      ]
     },
     "execution_count": 15,
     "metadata": {},
     "output_type": "execute_result"
    }
   ],
   "source": [
    "One.adjoint()"
   ]
  },
  {
   "cell_type": "markdown",
   "metadata": {},
   "source": [
    "For convenience, one may obtain the dual vector with a tilde, like this"
   ]
  },
  {
   "cell_type": "code",
   "execution_count": 16,
   "metadata": {
    "execution": {
     "iopub.execute_input": "2023-08-25T18:25:56.047797Z",
     "iopub.status.busy": "2023-08-25T18:25:56.047303Z",
     "iopub.status.idle": "2023-08-25T18:25:56.052085Z",
     "shell.execute_reply": "2023-08-25T18:25:56.051460Z"
    }
   },
   "outputs": [
    {
     "data": {
      "text/plain": [
       "DictStateFn({'1': 1}, coeff=1.0, is_measurement=True)"
      ]
     },
     "execution_count": 16,
     "metadata": {},
     "output_type": "execute_result"
    }
   ],
   "source": [
    "~One"
   ]
  },
  {
   "cell_type": "markdown",
   "metadata": {},
   "source": [
    "### Algebraic operations and predicates\n",
    "\n",
    "Many algebraic operations and predicates between `StateFn`s are supported, including:\n",
    "\n",
    "* `+` - addition\n",
    "* `-` - subtraction, negation (scalar multiplication by -1)\n",
    "* `*` - scalar multiplication\n",
    "* `/` - scalar division\n",
    "* `@` - composition\n",
    "* `^` - tensor product or tensor power (tensor with self n times)\n",
    "* `**` - composition power (compose with self n times)\n",
    "* `==` - equality\n",
    "* `~` - adjoint, alternating between a State Function and Measurement\n",
    "\n",
    "Be very aware that these operators obey the [Python rules for operator precedence](https://docs.python.org/3/reference/expressions.html#operator-precedence), which might not be what you expect mathematically.  For example, `I^X + X^I` will actually be parsed as `I ^ (X + X) ^ I == 2 * (I^X^I)` because Python evaluates `+` before `^`.  In these cases, you can use the methods (`.tensor()`, etc) or parentheses."
   ]
  },
  {
   "cell_type": "markdown",
   "metadata": {},
   "source": [
    "`StateFn`s carry a coefficient. This allows us to multiply states by a scalar, and so to construct sums."
   ]
  },
  {
   "cell_type": "markdown",
   "metadata": {},
   "source": [
    "Here, we construct $(2 + 3i)|0\\rangle$."
   ]
  },
  {
   "cell_type": "code",
   "execution_count": 17,
   "metadata": {
    "execution": {
     "iopub.execute_input": "2023-08-25T18:25:56.057090Z",
     "iopub.status.busy": "2023-08-25T18:25:56.056276Z",
     "iopub.status.idle": "2023-08-25T18:25:56.062034Z",
     "shell.execute_reply": "2023-08-25T18:25:56.061369Z"
    }
   },
   "outputs": [
    {
     "data": {
      "text/plain": [
       "DictStateFn({'0': 1}, coeff=(2+3j), is_measurement=False)"
      ]
     },
     "execution_count": 17,
     "metadata": {},
     "output_type": "execute_result"
    }
   ],
   "source": [
    "(2.0 + 3.0j) * Zero"
   ]
  },
  {
   "cell_type": "markdown",
   "metadata": {},
   "source": [
    "Here, we see that adding two `DictStateFn`s returns an object of the same type. We construct $|0\\rangle + |1\\rangle$."
   ]
  },
  {
   "cell_type": "code",
   "execution_count": 18,
   "metadata": {
    "execution": {
     "iopub.execute_input": "2023-08-25T18:25:56.066444Z",
     "iopub.status.busy": "2023-08-25T18:25:56.065959Z",
     "iopub.status.idle": "2023-08-25T18:25:56.069846Z",
     "shell.execute_reply": "2023-08-25T18:25:56.069265Z"
    }
   },
   "outputs": [
    {
     "name": "stdout",
     "output_type": "stream",
     "text": [
      "DictStateFn({'0': 1.0, '1': 1.0})\n"
     ]
    }
   ],
   "source": [
    "print(Zero + One)"
   ]
  },
  {
   "cell_type": "markdown",
   "metadata": {},
   "source": [
    "Note that you must normalize states by hand. For example, to construct $(|0\\rangle + |1\\rangle)/\\sqrt{2}$, we write"
   ]
  },
  {
   "cell_type": "code",
   "execution_count": 19,
   "metadata": {
    "execution": {
     "iopub.execute_input": "2023-08-25T18:25:56.074307Z",
     "iopub.status.busy": "2023-08-25T18:25:56.072919Z",
     "iopub.status.idle": "2023-08-25T18:25:56.079817Z",
     "shell.execute_reply": "2023-08-25T18:25:56.079220Z"
    }
   },
   "outputs": [
    {
     "name": "stdout",
     "output_type": "stream",
     "text": [
      "DictStateFn({'0': 1.0, '1': 1.0}) * 0.7071067811865475\n"
     ]
    }
   ],
   "source": [
    "import math\n",
    "\n",
    "v_zero_one = (Zero + One) / math.sqrt(2)\n",
    "print(v_zero_one)"
   ]
  },
  {
   "cell_type": "markdown",
   "metadata": {},
   "source": [
    "In other cases, the result is a symbolic representation of a sum. For example, here is a representation of $|+\\rangle + |-\\rangle$."
   ]
  },
  {
   "cell_type": "code",
   "execution_count": 20,
   "metadata": {
    "execution": {
     "iopub.execute_input": "2023-08-25T18:25:56.083384Z",
     "iopub.status.busy": "2023-08-25T18:25:56.082941Z",
     "iopub.status.idle": "2023-08-25T18:25:56.087976Z",
     "shell.execute_reply": "2023-08-25T18:25:56.087388Z"
    }
   },
   "outputs": [
    {
     "name": "stdout",
     "output_type": "stream",
     "text": [
      "SummedOp([\n",
      "  CircuitStateFn(\n",
      "     ┌───┐\n",
      "  q: ┤ H ├\n",
      "     └───┘\n",
      "  ),\n",
      "  CircuitStateFn(\n",
      "     ┌───┐┌───┐\n",
      "  q: ┤ X ├┤ H ├\n",
      "     └───┘└───┘\n",
      "  )\n",
      "])\n"
     ]
    }
   ],
   "source": [
    "print(Plus + Minus)"
   ]
  },
  {
   "cell_type": "markdown",
   "metadata": {},
   "source": [
    "The composition operator is used to perform an inner product, which by default is held in an unevaluated form. Here is a representation of $\\langle 1 | 1 \\rangle$."
   ]
  },
  {
   "cell_type": "code",
   "execution_count": 21,
   "metadata": {
    "execution": {
     "iopub.execute_input": "2023-08-25T18:25:56.094699Z",
     "iopub.status.busy": "2023-08-25T18:25:56.094237Z",
     "iopub.status.idle": "2023-08-25T18:25:56.100560Z",
     "shell.execute_reply": "2023-08-25T18:25:56.099970Z"
    }
   },
   "outputs": [
    {
     "name": "stdout",
     "output_type": "stream",
     "text": [
      "ComposedOp([\n",
      "  DictMeasurement({'1': 1}),\n",
      "  DictStateFn({'1': 1})\n",
      "])\n"
     ]
    }
   ],
   "source": [
    "print(~One @ One)"
   ]
  },
  {
   "cell_type": "markdown",
   "metadata": {},
   "source": [
    "Note that the `is_measurement` flag causes the (bra) state `~One` to be printed `DictMeasurement`."
   ]
  },
  {
   "cell_type": "markdown",
   "metadata": {},
   "source": [
    "Symbolic expressions may be evaluated with the `eval` method."
   ]
  },
  {
   "cell_type": "code",
   "execution_count": 22,
   "metadata": {
    "execution": {
     "iopub.execute_input": "2023-08-25T18:25:56.103964Z",
     "iopub.status.busy": "2023-08-25T18:25:56.103504Z",
     "iopub.status.idle": "2023-08-25T18:25:56.111143Z",
     "shell.execute_reply": "2023-08-25T18:25:56.110543Z"
    }
   },
   "outputs": [
    {
     "data": {
      "text/plain": [
       "1.0"
      ]
     },
     "execution_count": 22,
     "metadata": {},
     "output_type": "execute_result"
    }
   ],
   "source": [
    "(~One @ One).eval()"
   ]
  },
  {
   "cell_type": "code",
   "execution_count": 23,
   "metadata": {
    "execution": {
     "iopub.execute_input": "2023-08-25T18:25:56.114578Z",
     "iopub.status.busy": "2023-08-25T18:25:56.114126Z",
     "iopub.status.idle": "2023-08-25T18:25:56.121360Z",
     "shell.execute_reply": "2023-08-25T18:25:56.120728Z"
    }
   },
   "outputs": [
    {
     "data": {
      "text/plain": [
       "0.9999999999999998"
      ]
     },
     "execution_count": 23,
     "metadata": {},
     "output_type": "execute_result"
    }
   ],
   "source": [
    "(~v_zero_one @ v_zero_one).eval()"
   ]
  },
  {
   "cell_type": "markdown",
   "metadata": {},
   "source": [
    "Here is $\\langle - | 1 \\rangle = \\langle (\\langle 0| - \\langle 1|)/\\sqrt{2} | 1\\rangle$."
   ]
  },
  {
   "cell_type": "code",
   "execution_count": 24,
   "metadata": {
    "execution": {
     "iopub.execute_input": "2023-08-25T18:25:56.124828Z",
     "iopub.status.busy": "2023-08-25T18:25:56.124349Z",
     "iopub.status.idle": "2023-08-25T18:25:56.136495Z",
     "shell.execute_reply": "2023-08-25T18:25:56.135880Z"
    }
   },
   "outputs": [
    {
     "data": {
      "text/plain": [
       "(-0.7071067811865475-8.7e-17j)"
      ]
     },
     "execution_count": 24,
     "metadata": {},
     "output_type": "execute_result"
    }
   ],
   "source": [
    "(~Minus @ One).eval()"
   ]
  },
  {
   "cell_type": "markdown",
   "metadata": {},
   "source": [
    "The composition operator `@` is equivalent to calling the `compose` method."
   ]
  },
  {
   "cell_type": "code",
   "execution_count": 25,
   "metadata": {
    "execution": {
     "iopub.execute_input": "2023-08-25T18:25:56.141205Z",
     "iopub.status.busy": "2023-08-25T18:25:56.139980Z",
     "iopub.status.idle": "2023-08-25T18:25:56.146565Z",
     "shell.execute_reply": "2023-08-25T18:25:56.145974Z"
    }
   },
   "outputs": [
    {
     "name": "stdout",
     "output_type": "stream",
     "text": [
      "ComposedOp([\n",
      "  DictMeasurement({'1': 1}),\n",
      "  DictStateFn({'1': 1})\n",
      "])\n"
     ]
    }
   ],
   "source": [
    "print((~One).compose(One))"
   ]
  },
  {
   "cell_type": "markdown",
   "metadata": {},
   "source": [
    "Inner products may also be computed using the `eval` method directly, without constructing a `ComposedOp`."
   ]
  },
  {
   "cell_type": "code",
   "execution_count": 26,
   "metadata": {
    "execution": {
     "iopub.execute_input": "2023-08-25T18:25:56.151201Z",
     "iopub.status.busy": "2023-08-25T18:25:56.150056Z",
     "iopub.status.idle": "2023-08-25T18:25:56.157474Z",
     "shell.execute_reply": "2023-08-25T18:25:56.156893Z"
    }
   },
   "outputs": [
    {
     "data": {
      "text/plain": [
       "1.0"
      ]
     },
     "execution_count": 26,
     "metadata": {},
     "output_type": "execute_result"
    }
   ],
   "source": [
    "(~One).eval(One)"
   ]
  },
  {
   "cell_type": "markdown",
   "metadata": {},
   "source": [
    "Symbolic tensor products are constructed as follows. Here is $|0\\rangle \\otimes |+\\rangle$."
   ]
  },
  {
   "cell_type": "code",
   "execution_count": 27,
   "metadata": {
    "execution": {
     "iopub.execute_input": "2023-08-25T18:25:56.162108Z",
     "iopub.status.busy": "2023-08-25T18:25:56.160970Z",
     "iopub.status.idle": "2023-08-25T18:25:56.167828Z",
     "shell.execute_reply": "2023-08-25T18:25:56.167237Z"
    }
   },
   "outputs": [
    {
     "name": "stdout",
     "output_type": "stream",
     "text": [
      "TensoredOp([\n",
      "  DictStateFn({'0': 1}),\n",
      "  CircuitStateFn(\n",
      "     ┌───┐\n",
      "  q: ┤ H ├\n",
      "     └───┘\n",
      "  )\n",
      "])\n"
     ]
    }
   ],
   "source": [
    "print(Zero^Plus)"
   ]
  },
  {
   "cell_type": "markdown",
   "metadata": {},
   "source": [
    "This may be represented as a simple (not compound) `CircuitStateFn`."
   ]
  },
  {
   "cell_type": "code",
   "execution_count": 28,
   "metadata": {
    "execution": {
     "iopub.execute_input": "2023-08-25T18:25:56.171497Z",
     "iopub.status.busy": "2023-08-25T18:25:56.171041Z",
     "iopub.status.idle": "2023-08-25T18:25:56.183381Z",
     "shell.execute_reply": "2023-08-25T18:25:56.182766Z"
    },
    "scrolled": false
   },
   "outputs": [
    {
     "name": "stdout",
     "output_type": "stream",
     "text": [
      "CircuitStateFn(\n",
      "     ┌───┐\n",
      "q_0: ┤ H ├\n",
      "     └───┘\n",
      "q_1: ─────\n",
      "          \n",
      ")\n"
     ]
    }
   ],
   "source": [
    "print((Zero^Plus).to_circuit_op())"
   ]
  },
  {
   "cell_type": "markdown",
   "metadata": {},
   "source": [
    "Tensor powers are constructed using the caret `^` as follows. Here are $600 (|11111\\rangle + |00000\\rangle)$, and $|10\\rangle^{\\otimes 3}$."
   ]
  },
  {
   "cell_type": "code",
   "execution_count": 29,
   "metadata": {
    "execution": {
     "iopub.execute_input": "2023-08-25T18:25:56.189118Z",
     "iopub.status.busy": "2023-08-25T18:25:56.187406Z",
     "iopub.status.idle": "2023-08-25T18:25:56.197144Z",
     "shell.execute_reply": "2023-08-25T18:25:56.196543Z"
    }
   },
   "outputs": [
    {
     "name": "stdout",
     "output_type": "stream",
     "text": [
      "DictStateFn({'11111': 1.0, '00000': 1.0}) * 600.0\n",
      "DictStateFn({'101010': 1})\n"
     ]
    }
   ],
   "source": [
    "print(600 * ((One^5) + (Zero^5)))\n",
    "print((One^Zero)^3)"
   ]
  },
  {
   "cell_type": "markdown",
   "metadata": {},
   "source": [
    "The method `to_matrix_op` converts to `VectorStateFn`."
   ]
  },
  {
   "cell_type": "code",
   "execution_count": 30,
   "metadata": {
    "execution": {
     "iopub.execute_input": "2023-08-25T18:25:56.202791Z",
     "iopub.status.busy": "2023-08-25T18:25:56.201106Z",
     "iopub.status.idle": "2023-08-25T18:25:56.271843Z",
     "shell.execute_reply": "2023-08-25T18:25:56.271157Z"
    }
   },
   "outputs": [
    {
     "name": "stdout",
     "output_type": "stream",
     "text": [
      "VectorStateFn(Statevector([ 0.25-6.1e-17j, -0.25+6.1e-17j,  0.25-6.1e-17j,\n",
      "             -0.25+6.1e-17j, -0.25+6.1e-17j,  0.25-6.1e-17j,\n",
      "             -0.25+6.1e-17j,  0.25-6.1e-17j,  0.25-6.1e-17j,\n",
      "             -0.25+6.1e-17j,  0.25-6.1e-17j, -0.25+6.1e-17j,\n",
      "             -0.25+6.1e-17j,  0.25-6.1e-17j, -0.25+6.1e-17j,\n",
      "              0.25-6.1e-17j],\n",
      "            dims=(2, 2, 2, 2)))"
     ]
    },
    {
     "name": "stdout",
     "output_type": "stream",
     "text": [
      "\n",
      "CircuitStateFn(\n",
      "     ┌───┐\n",
      "q_0: ┤ X ├\n",
      "     ├───┤\n",
      "q_1: ┤ H ├\n",
      "     ├───┤\n",
      "q_2: ┤ X ├\n",
      "     ├───┤\n",
      "q_3: ┤ H ├\n",
      "     └───┘\n",
      ")\n",
      "{'1111': 0.2724609375, '1101': 0.2626953125, '0101': 0.2490234375, '0111': 0.2158203125}\n"
     ]
    }
   ],
   "source": [
    "print(((Plus^Minus)^2).to_matrix_op())\n",
    "print(((Plus^One)^2).to_circuit_op())\n",
    "print(((Plus^One)^2).to_matrix_op().sample())"
   ]
  },
  {
   "cell_type": "markdown",
   "metadata": {},
   "source": [
    "Constructing a StateFn is easy. The `StateFn` class also serves as a factory, and can take any applicable primitive in its constructor and return the correct StateFn subclass. Currently the following primitives can be passed into the constructor, listed alongside the `StateFn` subclass they produce:\n",
    "\n",
    "* str (equal to some basis bitstring) -> DictStateFn\n",
    "* dict  -> DictStateFn\n",
    "* Qiskit Result object -> DictStateFn\n",
    "* list -> VectorStateFn\n",
    "* np.ndarray -> VectorStateFn\n",
    "* Statevector -> VectorStateFn\n",
    "* QuantumCircuit -> CircuitStateFn\n",
    "* Instruction -> CircuitStateFn\n",
    "* OperatorBase -> OperatorStateFn"
   ]
  },
  {
   "cell_type": "code",
   "execution_count": 31,
   "metadata": {
    "execution": {
     "iopub.execute_input": "2023-08-25T18:25:56.276809Z",
     "iopub.status.busy": "2023-08-25T18:25:56.275581Z",
     "iopub.status.idle": "2023-08-25T18:25:56.629683Z",
     "shell.execute_reply": "2023-08-25T18:25:56.628999Z"
    }
   },
   "outputs": [
    {
     "name": "stdout",
     "output_type": "stream",
     "text": [
      "DictStateFn({'0': 1})\n",
      "True\n",
      "VectorStateFn(Statevector([0.+0.j, 1.+0.j, 1.+0.j, 0.+0.j],\n",
      "            dims=(2, 2)))\n"
     ]
    },
    {
     "name": "stderr",
     "output_type": "stream",
     "text": [
      "/tmp/ipykernel_10214/1137983803.py:1: DeprecationWarning: The class ``qiskit.opflow.state_fns.dict_state_fn.DictStateFn`` is deprecated as of qiskit-terra 0.24.0. It will be removed no earlier than 3 months after the release date. For code migration guidelines, visit https://qisk.it/opflow_migration.\n",
      "  print(StateFn({'0':1}))\n",
      "/tmp/ipykernel_10214/1137983803.py:2: DeprecationWarning: The class ``qiskit.opflow.state_fns.dict_state_fn.DictStateFn`` is deprecated as of qiskit-terra 0.24.0. It will be removed no earlier than 3 months after the release date. For code migration guidelines, visit https://qisk.it/opflow_migration.\n",
      "  print(StateFn({'0':1}) == Zero)\n",
      "/tmp/ipykernel_10214/1137983803.py:4: DeprecationWarning: The class ``qiskit.opflow.state_fns.vector_state_fn.VectorStateFn`` is deprecated as of qiskit-terra 0.24.0. It will be removed no earlier than 3 months after the release date. For code migration guidelines, visit https://qisk.it/opflow_migration.\n",
      "  print(StateFn([0,1,1,0]))\n",
      "/tmp/ipykernel_10214/1137983803.py:7: DeprecationWarning: The class ``qiskit.opflow.state_fns.circuit_state_fn.CircuitStateFn`` is deprecated as of qiskit-terra 0.24.0. It will be removed no earlier than 3 months after the release date. For code migration guidelines, visit https://qisk.it/opflow_migration.\n",
      "  print(StateFn(RealAmplitudes(2)))\n"
     ]
    },
    {
     "name": "stdout",
     "output_type": "stream",
     "text": [
      "CircuitStateFn(\n",
      "     ┌──────────────────────────────────────────────────────────┐\n",
      "q_0: ┤0                                                         ├\n",
      "     │  RealAmplitudes(θ[0],θ[1],θ[2],θ[3],θ[4],θ[5],θ[6],θ[7]) │\n",
      "q_1: ┤1                                                         ├\n",
      "     └──────────────────────────────────────────────────────────┘\n",
      ")\n"
     ]
    }
   ],
   "source": [
    "print(StateFn({'0':1}))\n",
    "print(StateFn({'0':1}) == Zero)\n",
    "\n",
    "print(StateFn([0,1,1,0]))\n",
    "\n",
    "from qiskit.circuit.library import RealAmplitudes\n",
    "print(StateFn(RealAmplitudes(2)))"
   ]
  },
  {
   "cell_type": "markdown",
   "metadata": {},
   "source": [
    "## Part II: `PrimitiveOp`s\n",
    "\n",
    "The basic Operators are subclasses of `PrimitiveOp`. Just like `StateFn`, `PrimitiveOp` is also a factory for creating the correct type of `PrimitiveOp` for a given primitive. Currently, the following primitives can be passed into the constructor, listed alongside the `PrimitiveOp` subclass they produce:\n",
    "\n",
    "* Terra's Pauli -> PauliOp\n",
    "* Instruction -> CircuitOp\n",
    "* QuantumCircuit -> CircuitOp\n",
    "* 2d List -> MatrixOp\n",
    "* np.ndarray -> MatrixOp\n",
    "* spmatrix -> MatrixOp\n",
    "* Terra's quantum_info.Operator -> MatrixOp"
   ]
  },
  {
   "cell_type": "code",
   "execution_count": 32,
   "metadata": {
    "execution": {
     "iopub.execute_input": "2023-08-25T18:25:56.634723Z",
     "iopub.status.busy": "2023-08-25T18:25:56.633405Z",
     "iopub.status.idle": "2023-08-25T18:25:56.638555Z",
     "shell.execute_reply": "2023-08-25T18:25:56.637972Z"
    }
   },
   "outputs": [],
   "source": [
    "from qiskit.opflow import X, Y, Z, I, CX, T, H, S, PrimitiveOp"
   ]
  },
  {
   "cell_type": "markdown",
   "metadata": {},
   "source": [
    "### Matrix elements"
   ]
  },
  {
   "cell_type": "markdown",
   "metadata": {},
   "source": [
    "The `eval` method returns a column from an operator. For example, the Pauli $X$ operator is represented by a `PauliOp`. Asking for a column returns an instance of the sparse representation, a `DictStateFn`."
   ]
  },
  {
   "cell_type": "code",
   "execution_count": 33,
   "metadata": {
    "execution": {
     "iopub.execute_input": "2023-08-25T18:25:56.643193Z",
     "iopub.status.busy": "2023-08-25T18:25:56.642046Z",
     "iopub.status.idle": "2023-08-25T18:25:56.649256Z",
     "shell.execute_reply": "2023-08-25T18:25:56.648680Z"
    }
   },
   "outputs": [
    {
     "data": {
      "text/plain": [
       "PauliOp(Pauli('X'), coeff=1.0)"
      ]
     },
     "execution_count": 33,
     "metadata": {},
     "output_type": "execute_result"
    }
   ],
   "source": [
    "X"
   ]
  },
  {
   "cell_type": "code",
   "execution_count": 34,
   "metadata": {
    "execution": {
     "iopub.execute_input": "2023-08-25T18:25:56.653652Z",
     "iopub.status.busy": "2023-08-25T18:25:56.652514Z",
     "iopub.status.idle": "2023-08-25T18:25:56.659131Z",
     "shell.execute_reply": "2023-08-25T18:25:56.658557Z"
    }
   },
   "outputs": [
    {
     "name": "stdout",
     "output_type": "stream",
     "text": [
      "DictStateFn({'1': (1+0j)})\n"
     ]
    }
   ],
   "source": [
    "print(X.eval('0'))"
   ]
  },
  {
   "cell_type": "markdown",
   "metadata": {},
   "source": [
    "It follows that indexing into an operator, that is obtaining a matrix element, is performed with two calls to the `eval` method."
   ]
  },
  {
   "cell_type": "markdown",
   "metadata": {},
   "source": [
    "We have $X = \\left(\\begin{matrix} 0 & 1 \\\\\n",
    "                            1 & 0\n",
    "                            \\end{matrix} \\right)$. And the matrix element $\\left\\{X \\right\\}_{0,1}$ is"
   ]
  },
  {
   "cell_type": "code",
   "execution_count": 35,
   "metadata": {
    "execution": {
     "iopub.execute_input": "2023-08-25T18:25:56.663573Z",
     "iopub.status.busy": "2023-08-25T18:25:56.662447Z",
     "iopub.status.idle": "2023-08-25T18:25:56.669990Z",
     "shell.execute_reply": "2023-08-25T18:25:56.669417Z"
    }
   },
   "outputs": [
    {
     "data": {
      "text/plain": [
       "(1+0j)"
      ]
     },
     "execution_count": 35,
     "metadata": {},
     "output_type": "execute_result"
    }
   ],
   "source": [
    "X.eval('0').eval('1')"
   ]
  },
  {
   "cell_type": "markdown",
   "metadata": {},
   "source": [
    "Here is an example using the two qubit operator `CX`, the controlled `X`, which is represented by a circuit."
   ]
  },
  {
   "cell_type": "code",
   "execution_count": 36,
   "metadata": {
    "execution": {
     "iopub.execute_input": "2023-08-25T18:25:56.674396Z",
     "iopub.status.busy": "2023-08-25T18:25:56.673268Z",
     "iopub.status.idle": "2023-08-25T18:25:56.681289Z",
     "shell.execute_reply": "2023-08-25T18:25:56.680710Z"
    }
   },
   "outputs": [
    {
     "name": "stdout",
     "output_type": "stream",
     "text": [
      "          \n",
      "q_0: ──■──\n",
      "     ┌─┴─┐\n",
      "q_1: ┤ X ├\n",
      "     └───┘\n",
      "[[1. 0. 0. 0.]\n",
      " [0. 0. 0. 1.]\n",
      " [0. 0. 1. 0.]\n",
      " [0. 1. 0. 0.]]\n"
     ]
    }
   ],
   "source": [
    "print(CX)\n",
    "print(CX.to_matrix().real) # The imaginary part vanishes."
   ]
  },
  {
   "cell_type": "code",
   "execution_count": 37,
   "metadata": {
    "execution": {
     "iopub.execute_input": "2023-08-25T18:25:56.685652Z",
     "iopub.status.busy": "2023-08-25T18:25:56.684482Z",
     "iopub.status.idle": "2023-08-25T18:25:56.692980Z",
     "shell.execute_reply": "2023-08-25T18:25:56.692401Z"
    }
   },
   "outputs": [
    {
     "data": {
      "text/plain": [
       "VectorStateFn(Statevector([0.+0.j, 0.+0.j, 0.+0.j, 1.+0.j],\n",
       "            dims=(2, 2)), coeff=1.0, is_measurement=False)"
      ]
     },
     "execution_count": 37,
     "metadata": {},
     "output_type": "execute_result"
    }
   ],
   "source": [
    "CX.eval('01')  # 01 is the one in decimal. We get the first column."
   ]
  },
  {
   "cell_type": "code",
   "execution_count": 38,
   "metadata": {
    "execution": {
     "iopub.execute_input": "2023-08-25T18:25:56.697419Z",
     "iopub.status.busy": "2023-08-25T18:25:56.696288Z",
     "iopub.status.idle": "2023-08-25T18:25:56.704529Z",
     "shell.execute_reply": "2023-08-25T18:25:56.703961Z"
    }
   },
   "outputs": [
    {
     "data": {
      "text/plain": [
       "(1+0j)"
      ]
     },
     "execution_count": 38,
     "metadata": {},
     "output_type": "execute_result"
    }
   ],
   "source": [
    "CX.eval('01').eval('11')  # This returns element with (zero-based) index (1, 3)"
   ]
  },
  {
   "cell_type": "markdown",
   "metadata": {},
   "source": [
    "### Applying an operator to a state vector"
   ]
  },
  {
   "cell_type": "markdown",
   "metadata": {},
   "source": [
    "Applying an operator to a state vector may be done with the `compose` method (equivalently, `@` operator). Here is a representation of $X | 1 \\rangle = |0\\rangle$."
   ]
  },
  {
   "cell_type": "code",
   "execution_count": 39,
   "metadata": {
    "execution": {
     "iopub.execute_input": "2023-08-25T18:25:56.708965Z",
     "iopub.status.busy": "2023-08-25T18:25:56.707826Z",
     "iopub.status.idle": "2023-08-25T18:25:56.713940Z",
     "shell.execute_reply": "2023-08-25T18:25:56.713382Z"
    }
   },
   "outputs": [
    {
     "name": "stdout",
     "output_type": "stream",
     "text": [
      "ComposedOp([\n",
      "  X,\n",
      "  DictStateFn({'1': 1})\n",
      "])\n"
     ]
    }
   ],
   "source": [
    "print(X @ One)"
   ]
  },
  {
   "cell_type": "markdown",
   "metadata": {},
   "source": [
    "A simpler representation, the `DictStateFn` representation of $|0\\rangle$, is obtained with `eval`."
   ]
  },
  {
   "cell_type": "code",
   "execution_count": 40,
   "metadata": {
    "execution": {
     "iopub.execute_input": "2023-08-25T18:25:56.718292Z",
     "iopub.status.busy": "2023-08-25T18:25:56.717168Z",
     "iopub.status.idle": "2023-08-25T18:25:56.724395Z",
     "shell.execute_reply": "2023-08-25T18:25:56.723815Z"
    }
   },
   "outputs": [
    {
     "data": {
      "text/plain": [
       "DictStateFn({'0': (1+0j)}, coeff=(1+0j), is_measurement=False)"
      ]
     },
     "execution_count": 40,
     "metadata": {},
     "output_type": "execute_result"
    }
   ],
   "source": [
    "(X @ One).eval()"
   ]
  },
  {
   "cell_type": "markdown",
   "metadata": {},
   "source": [
    "The intermediate `ComposedOp` step may be avoided by using `eval` directly."
   ]
  },
  {
   "cell_type": "code",
   "execution_count": 41,
   "metadata": {
    "execution": {
     "iopub.execute_input": "2023-08-25T18:25:56.728722Z",
     "iopub.status.busy": "2023-08-25T18:25:56.727581Z",
     "iopub.status.idle": "2023-08-25T18:25:56.734661Z",
     "shell.execute_reply": "2023-08-25T18:25:56.734099Z"
    }
   },
   "outputs": [
    {
     "data": {
      "text/plain": [
       "DictStateFn({'0': (1+0j)}, coeff=(1+0j), is_measurement=False)"
      ]
     },
     "execution_count": 41,
     "metadata": {},
     "output_type": "execute_result"
    }
   ],
   "source": [
    "X.eval(One)"
   ]
  },
  {
   "cell_type": "markdown",
   "metadata": {},
   "source": [
    "Composition and tensor products of operators are effected with `@` and `^`. Here are some examples."
   ]
  },
  {
   "cell_type": "code",
   "execution_count": 42,
   "metadata": {
    "execution": {
     "iopub.execute_input": "2023-08-25T18:25:56.738961Z",
     "iopub.status.busy": "2023-08-25T18:25:56.737846Z",
     "iopub.status.idle": "2023-08-25T18:25:56.802032Z",
     "shell.execute_reply": "2023-08-25T18:25:56.801300Z"
    }
   },
   "outputs": [
    {
     "name": "stdout",
     "output_type": "stream",
     "text": [
      "(1+0j)\n",
      "          ┌───┐          ┌───┐     \n",
      "q_0: ──■──┤ H ├───────■──┤ H ├─────\n",
      "     ┌─┴─┐└───┘┌───┐┌─┴─┐└───┘┌───┐\n",
      "q_1: ┤ X ├──■──┤ H ├┤ X ├──■──┤ H ├\n",
      "     └───┘┌─┴─┐├───┤└───┘┌─┴─┐├───┤\n",
      "q_2: ──■──┤ X ├┤ H ├──■──┤ X ├┤ H ├\n",
      "     ┌─┴─┐└───┘├───┤┌─┴─┐└───┘├───┤\n",
      "q_3: ┤ X ├──■──┤ H ├┤ X ├──■──┤ H ├\n",
      "     └───┘┌─┴─┐├───┤└───┘┌─┴─┐├───┤\n",
      "q_4: ─────┤ X ├┤ H ├─────┤ X ├┤ H ├\n",
      "          └───┘└───┘     └───┘└───┘\n",
      "CircuitStateFn(\n",
      "     ┌───┐┌───┐     ┌───┐          ┌───┐     \n",
      "q_0: ┤ X ├┤ H ├──■──┤ H ├───────■──┤ H ├─────\n",
      "     ├───┤├───┤┌─┴─┐└───┘┌───┐┌─┴─┐└───┘┌───┐\n",
      "q_1: ┤ X ├┤ H ├┤ X ├──■──┤ H ├┤ X ├──■──┤ H ├\n",
      "     ├───┤├───┤└───┘┌─┴─┐├───┤└───┘┌─┴─┐├───┤\n",
      "q_2: ┤ X ├┤ H ├──■──┤ X ├┤ H ├──■──┤ X ├┤ H ├\n",
      "     ├───┤├───┤┌─┴─┐└───┘├───┤┌─┴─┐└───┘├───┤\n",
      "q_3: ┤ X ├┤ H ├┤ X ├──■──┤ H ├┤ X ├──■──┤ H ├\n",
      "     ├───┤├───┤└───┘┌─┴─┐├───┤└───┘┌─┴─┐├───┤\n",
      "q_4: ┤ X ├┤ H ├─────┤ X ├┤ H ├─────┤ X ├┤ H ├\n",
      "     └───┘└───┘     └───┘└───┘     └───┘└───┘\n",
      ")\n",
      "CircuitStateFn(\n",
      "     ┌─────────────┐     \n",
      "q_0: ┤0            ├─────\n",
      "     │             │     \n",
      "q_1: ┤1 Pauli(XII) ├─────\n",
      "     │             │┌───┐\n",
      "q_2: ┤2            ├┤ H ├\n",
      "     └─────────────┘└───┘\n",
      ")\n"
     ]
    }
   ],
   "source": [
    "print(((~One^2) @ (CX.eval('01'))).eval())\n",
    "\n",
    "print(((H^5) @ ((CX^2)^I) @ (I^(CX^2)))**2)\n",
    "print((((H^5) @ ((CX^2)^I) @ (I^(CX^2)))**2) @ (Minus^5))\n",
    "print(((H^I^I)@(X^I^I)@Zero))"
   ]
  },
  {
   "cell_type": "code",
   "execution_count": 43,
   "metadata": {
    "execution": {
     "iopub.execute_input": "2023-08-25T18:25:56.807042Z",
     "iopub.status.busy": "2023-08-25T18:25:56.805863Z",
     "iopub.status.idle": "2023-08-25T18:25:56.812886Z",
     "shell.execute_reply": "2023-08-25T18:25:56.812321Z"
    }
   },
   "outputs": [
    {
     "name": "stdout",
     "output_type": "stream",
     "text": [
      "ComposedOp([\n",
      "  DictMeasurement({'1': 1}),\n",
      "  CircuitStateFn(\n",
      "     ┌───┐┌───┐\n",
      "  q: ┤ X ├┤ H ├\n",
      "     └───┘└───┘\n",
      "  )\n",
      "])\n"
     ]
    }
   ],
   "source": [
    "print(~One @ Minus)"
   ]
  },
  {
   "cell_type": "markdown",
   "metadata": {},
   "source": [
    "## Part III: `ListOp` and subclasses"
   ]
  },
  {
   "cell_type": "markdown",
   "metadata": {},
   "source": [
    "### `ListOp`\n",
    "\n",
    "`ListOp` is a container for effectively vectorizing operations over a list of operators and states."
   ]
  },
  {
   "cell_type": "code",
   "execution_count": 44,
   "metadata": {
    "execution": {
     "iopub.execute_input": "2023-08-25T18:25:56.817440Z",
     "iopub.status.busy": "2023-08-25T18:25:56.816254Z",
     "iopub.status.idle": "2023-08-25T18:25:56.824392Z",
     "shell.execute_reply": "2023-08-25T18:25:56.823779Z"
    }
   },
   "outputs": [
    {
     "name": "stdout",
     "output_type": "stream",
     "text": [
      "ComposedOp([\n",
      "  ListOp([\n",
      "    DictMeasurement({'1': 1}),\n",
      "    DictMeasurement({'0': 1})\n",
      "  ]),\n",
      "  ListOp([\n",
      "    DictStateFn({'1': 1}),\n",
      "    DictStateFn({'0': 1})\n",
      "  ])\n",
      "])\n"
     ]
    },
    {
     "name": "stderr",
     "output_type": "stream",
     "text": [
      "/tmp/ipykernel_10214/1512571236.py:3: DeprecationWarning: The class ``qiskit.opflow.list_ops.list_op.ListOp`` is deprecated as of qiskit-terra 0.24.0. It will be removed no earlier than 3 months after the release date. For code migration guidelines, visit https://qisk.it/opflow_migration.\n",
      "  print((~ListOp([One, Zero]) @ ListOp([One, Zero])))\n"
     ]
    }
   ],
   "source": [
    "from qiskit.opflow import ListOp\n",
    "\n",
    "print((~ListOp([One, Zero]) @ ListOp([One, Zero])))"
   ]
  },
  {
   "cell_type": "markdown",
   "metadata": {},
   "source": [
    "For example, the composition above is distributed over the lists (`ListOp`) using the simplification method `reduce`."
   ]
  },
  {
   "cell_type": "code",
   "execution_count": 45,
   "metadata": {
    "execution": {
     "iopub.execute_input": "2023-08-25T18:25:56.828945Z",
     "iopub.status.busy": "2023-08-25T18:25:56.827797Z",
     "iopub.status.idle": "2023-08-25T18:25:56.836469Z",
     "shell.execute_reply": "2023-08-25T18:25:56.835868Z"
    }
   },
   "outputs": [
    {
     "name": "stdout",
     "output_type": "stream",
     "text": [
      "ListOp([\n",
      "  ListOp([\n",
      "    ComposedOp([\n",
      "      DictMeasurement({'1': 1}),\n",
      "      DictStateFn({'1': 1})\n",
      "    ]),\n",
      "    ComposedOp([\n",
      "      DictMeasurement({'1': 1}),\n",
      "      DictStateFn({'0': 1})\n",
      "    ])\n",
      "  ]),\n",
      "  ListOp([\n",
      "    ComposedOp([\n",
      "      DictMeasurement({'0': 1}),\n",
      "      DictStateFn({'1': 1})\n",
      "    ]),\n",
      "    ComposedOp([\n",
      "      DictMeasurement({'0': 1}),\n",
      "      DictStateFn({'0': 1})\n",
      "    ])\n",
      "  ])\n",
      "])\n"
     ]
    },
    {
     "name": "stderr",
     "output_type": "stream",
     "text": [
      "/tmp/ipykernel_10214/2216466513.py:1: DeprecationWarning: The class ``qiskit.opflow.list_ops.list_op.ListOp`` is deprecated as of qiskit-terra 0.24.0. It will be removed no earlier than 3 months after the release date. For code migration guidelines, visit https://qisk.it/opflow_migration.\n",
      "  print((~ListOp([One, Zero]) @ ListOp([One, Zero])).reduce())\n"
     ]
    }
   ],
   "source": [
    "print((~ListOp([One, Zero]) @ ListOp([One, Zero])).reduce())"
   ]
  },
  {
   "cell_type": "markdown",
   "metadata": {},
   "source": [
    "### `ListOp`s: `SummedOp`, `ComposedOp`, `TensoredOp`\n",
    "\n",
    "`ListOp`, introduced above, is useful for vectorizing operations. But, it also serves as the superclass for list-like composite classes.\n",
    "If you've already played around with the above, you'll notice that you can easily perform operations between `OperatorBase`s which we may not know how to perform efficiently in general (or simply haven't implemented an efficient procedure for yet), such as addition between `CircuitOp`s. In those cases, you may receive a `ListOp` result (or subclass thereof) from your operation representing the lazy execution of the operation. For example, if you attempt to add together a `DictStateFn` and a `CircuitStateFn`, you'll receive a `SummedOp` representing the sum of the two. This composite State function still has a working `eval` (but may need to perform a non-scalable computation under the hood, such as converting both to vectors).\n",
    "\n",
    "These composite `OperatorBase`s are how we construct increasingly complex and rich computation out of `PrimitiveOp` and `StateFn` building blocks.\n",
    "\n",
    "Every `ListOp` has four properties:\n",
    "\n",
    "* `oplist` - The list of `OperatorBase`s which may represent terms, factors, etc.\n",
    "* `combo_fn` - The function taking a list of complex numbers to an output value which defines how to combine the outputs of the `oplist` items. For broadcasting simplicity, this function is defined over NumPy arrays.\n",
    "* `coeff` - A coefficient multiplying the primitive. Note that `coeff` can be int, float, complex or a free `Parameter` object (from `qiskit.circuit` in Terra) to be bound later using `my_op.bind_parameters`.\n",
    "* `abelian` - Indicates whether the Operators in `oplist` are known to mutually commute (usually set after being converted by the `AbelianGrouper` converter).\n",
    "\n",
    "Note that `ListOp` supports typical sequence overloads, so you can use indexing like `my_op[4]` to access the `OperatorBase`s in `oplist`."
   ]
  },
  {
   "cell_type": "markdown",
   "metadata": {},
   "source": [
    "### `OperatorStateFn`\n",
    "\n",
    "We mentioned above that `OperatorStateFn` represents a density operator. But, if the `is_measurement` flag is `True`, then `OperatorStateFn` represents an observable. The expectation value of this observable can then be constructed via `ComposedOp`. Or, directly, using `eval`. Recall that the `is_measurement` flag (property) is set via the `adjoint` method."
   ]
  },
  {
   "cell_type": "markdown",
   "metadata": {},
   "source": [
    "Here we construct the observable corresponding to the Pauli $Z$ operator. Note that when printing, it is called `OperatorMeasurement`."
   ]
  },
  {
   "cell_type": "code",
   "execution_count": 46,
   "metadata": {
    "execution": {
     "iopub.execute_input": "2023-08-25T18:25:56.841037Z",
     "iopub.status.busy": "2023-08-25T18:25:56.839884Z",
     "iopub.status.idle": "2023-08-25T18:25:56.851255Z",
     "shell.execute_reply": "2023-08-25T18:25:56.850682Z"
    }
   },
   "outputs": [
    {
     "name": "stdout",
     "output_type": "stream",
     "text": [
      "OperatorMeasurement(Z)\n"
     ]
    },
    {
     "name": "stderr",
     "output_type": "stream",
     "text": [
      "/tmp/ipykernel_10214/2925661353.py:1: DeprecationWarning: The class ``qiskit.opflow.state_fns.operator_state_fn.OperatorStateFn`` is deprecated as of qiskit-terra 0.24.0. It will be removed no earlier than 3 months after the release date. For code migration guidelines, visit https://qisk.it/opflow_migration.\n",
      "  print(StateFn(Z).adjoint())\n",
      "/tmp/ipykernel_10214/2925661353.py:2: DeprecationWarning: The class ``qiskit.opflow.state_fns.operator_state_fn.OperatorStateFn`` is deprecated as of qiskit-terra 0.24.0. It will be removed no earlier than 3 months after the release date. For code migration guidelines, visit https://qisk.it/opflow_migration.\n",
      "  StateFn(Z).adjoint()\n"
     ]
    },
    {
     "data": {
      "text/plain": [
       "OperatorStateFn(PauliOp(Pauli('Z'), coeff=1.0), coeff=1.0, is_measurement=True)"
      ]
     },
     "execution_count": 46,
     "metadata": {},
     "output_type": "execute_result"
    }
   ],
   "source": [
    "print(StateFn(Z).adjoint())\n",
    "StateFn(Z).adjoint()"
   ]
  },
  {
   "cell_type": "markdown",
   "metadata": {},
   "source": [
    "Here, we compute $\\langle 0 | Z | 0 \\rangle$, $\\langle 1 | Z | 1 \\rangle$, and $\\langle + | Z | + \\rangle$, where $|+\\rangle = (|0\\rangle + |1\\rangle)/\\sqrt{2}$."
   ]
  },
  {
   "cell_type": "code",
   "execution_count": 47,
   "metadata": {
    "execution": {
     "iopub.execute_input": "2023-08-25T18:25:56.854777Z",
     "iopub.status.busy": "2023-08-25T18:25:56.854341Z",
     "iopub.status.idle": "2023-08-25T18:25:56.869160Z",
     "shell.execute_reply": "2023-08-25T18:25:56.868532Z"
    }
   },
   "outputs": [
    {
     "name": "stdout",
     "output_type": "stream",
     "text": [
      "(1+0j)\n",
      "(-1+0j)\n",
      "(-2.2e-17+0j)\n"
     ]
    },
    {
     "name": "stderr",
     "output_type": "stream",
     "text": [
      "/tmp/ipykernel_10214/2804323468.py:1: DeprecationWarning: The class ``qiskit.opflow.state_fns.operator_state_fn.OperatorStateFn`` is deprecated as of qiskit-terra 0.24.0. It will be removed no earlier than 3 months after the release date. For code migration guidelines, visit https://qisk.it/opflow_migration.\n",
      "  print(StateFn(Z).adjoint().eval(Zero))\n",
      "/tmp/ipykernel_10214/2804323468.py:2: DeprecationWarning: The class ``qiskit.opflow.state_fns.operator_state_fn.OperatorStateFn`` is deprecated as of qiskit-terra 0.24.0. It will be removed no earlier than 3 months after the release date. For code migration guidelines, visit https://qisk.it/opflow_migration.\n",
      "  print(StateFn(Z).adjoint().eval(One))\n",
      "/tmp/ipykernel_10214/2804323468.py:3: DeprecationWarning: The class ``qiskit.opflow.state_fns.operator_state_fn.OperatorStateFn`` is deprecated as of qiskit-terra 0.24.0. It will be removed no earlier than 3 months after the release date. For code migration guidelines, visit https://qisk.it/opflow_migration.\n",
      "  print(StateFn(Z).adjoint().eval(Plus))\n"
     ]
    }
   ],
   "source": [
    "print(StateFn(Z).adjoint().eval(Zero))\n",
    "print(StateFn(Z).adjoint().eval(One))\n",
    "print(StateFn(Z).adjoint().eval(Plus))"
   ]
  },
  {
   "cell_type": "markdown",
   "metadata": {},
   "source": [
    "## Part IV: Converters\n",
    "\n",
    "Converters are classes that manipulate operators and states and perform building blocks of algorithms. Examples include changing the basis of operators and Trotterization.\n",
    "Converters traverse an expression and perform a particular manipulation or replacement, defined by the converter's `convert()` method, of the Operators within. Typically, if a converter encounters an `OperatorBase` in the recursion which is irrelevant to its conversion purpose, that `OperatorBase` is left unchanged."
   ]
  },
  {
   "cell_type": "code",
   "execution_count": 48,
   "metadata": {
    "execution": {
     "iopub.execute_input": "2023-08-25T18:25:56.873880Z",
     "iopub.status.busy": "2023-08-25T18:25:56.872707Z",
     "iopub.status.idle": "2023-08-25T18:25:56.878114Z",
     "shell.execute_reply": "2023-08-25T18:25:56.877442Z"
    }
   },
   "outputs": [],
   "source": [
    "import numpy as np\n",
    "from qiskit.opflow import I, X, Y, Z, H, CX, Zero, ListOp, PauliExpectation, PauliTrotterEvolution, CircuitSampler, MatrixEvolution, Suzuki\n",
    "from qiskit.circuit import Parameter\n",
    "from qiskit import Aer"
   ]
  },
  {
   "cell_type": "markdown",
   "metadata": {},
   "source": [
    "### Evolutions, `exp_i()`, and the `EvolvedOp`\n",
    "\n",
    "Every `PrimitiveOp` and `ListOp` has an `.exp_i()` function such that `H.exp_i()` corresponds to $e^{-iH}$. In practice, only a few of these Operators have an efficiently computable exponentiation (such as MatrixOp and the PauliOps with only one non-identity single-qubit Pauli), so we need to return a placeholder, or symbolic representation, (similar to how `SummedOp` is a placeholder when we can't perform addition). This placeholder is called `EvolvedOp`, and it holds the `OperatorBase` to be exponentiated in its `.primitive` property.\n",
    "\n",
    "Qiskit operators fully support parameterization, so we can use a `Parameter` for our evolution time here. Notice that there's no \"evolution time\" argument in any function. The Operator flow exponentiates whatever operator we tell it to, and if we choose to multiply the operator by an evolution time, $e^{-iHt}$, that will be reflected in our exponentiation parameters."
   ]
  },
  {
   "cell_type": "markdown",
   "metadata": {},
   "source": [
    "#### Weighted sum of Pauli operators\n",
    "A Hamiltonian expressed as a linear combination of multi-qubit Pauli operators may be constructed like this."
   ]
  },
  {
   "cell_type": "code",
   "execution_count": 49,
   "metadata": {
    "execution": {
     "iopub.execute_input": "2023-08-25T18:25:56.882746Z",
     "iopub.status.busy": "2023-08-25T18:25:56.881594Z",
     "iopub.status.idle": "2023-08-25T18:25:56.888390Z",
     "shell.execute_reply": "2023-08-25T18:25:56.887704Z"
    }
   },
   "outputs": [],
   "source": [
    "two_qubit_H2 =  (-1.0523732 * I^I) + \\\n",
    "                (0.39793742 * I^Z) + \\\n",
    "                (-0.3979374 * Z^I) + \\\n",
    "                (-0.0112801 * Z^Z) + \\\n",
    "                (0.18093119 * X^X)"
   ]
  },
  {
   "cell_type": "markdown",
   "metadata": {},
   "source": [
    "Note that `two_qubit_H2` is represented as a `SummedOp` whose terms are `PauliOp`s."
   ]
  },
  {
   "cell_type": "code",
   "execution_count": 50,
   "metadata": {
    "execution": {
     "iopub.execute_input": "2023-08-25T18:25:56.893005Z",
     "iopub.status.busy": "2023-08-25T18:25:56.891830Z",
     "iopub.status.idle": "2023-08-25T18:25:56.898482Z",
     "shell.execute_reply": "2023-08-25T18:25:56.897846Z"
    }
   },
   "outputs": [
    {
     "name": "stdout",
     "output_type": "stream",
     "text": [
      "-1.0523732 * II\n",
      "+ 0.39793742 * IZ\n",
      "- 0.3979374 * ZI\n",
      "- 0.0112801 * ZZ\n",
      "+ 0.18093119 * XX\n"
     ]
    }
   ],
   "source": [
    "print(two_qubit_H2)"
   ]
  },
  {
   "cell_type": "markdown",
   "metadata": {},
   "source": [
    "Next, we multiply the Hamiltonian by a `Parameter`. This `Parameter` is stored in the `coeff` property of the `SummedOp`. Calling `exp_i()` on the result wraps it in `EvolvedOp`, representing exponentiation."
   ]
  },
  {
   "cell_type": "code",
   "execution_count": 51,
   "metadata": {
    "execution": {
     "iopub.execute_input": "2023-08-25T18:25:56.903041Z",
     "iopub.status.busy": "2023-08-25T18:25:56.901906Z",
     "iopub.status.idle": "2023-08-25T18:25:56.910883Z",
     "shell.execute_reply": "2023-08-25T18:25:56.910278Z"
    }
   },
   "outputs": [
    {
     "name": "stdout",
     "output_type": "stream",
     "text": [
      "e^(-i*1.0*θ * (\n",
      "  -1.0523732 * II\n",
      "  + 0.39793742 * IZ\n",
      "  - 0.3979374 * ZI\n",
      "  - 0.0112801 * ZZ\n",
      "  + 0.18093119 * XX\n",
      "))\n",
      "EvolvedOp(PauliSumOp(SparsePauliOp(['II', 'IZ', 'ZI', 'ZZ', 'XX'],\n",
      "              coeffs=[-1.0523732 +0.j,  0.39793742+0.j, -0.3979374 +0.j, -0.0112801 +0.j,\n",
      "  0.18093119+0.j]), coeff=1.0*θ), coeff=1.0)\n"
     ]
    }
   ],
   "source": [
    "evo_time = Parameter('θ')\n",
    "evolution_op = (evo_time*two_qubit_H2).exp_i()\n",
    "print(evolution_op) # Note, EvolvedOps print as exponentiations\n",
    "print(repr(evolution_op))"
   ]
  },
  {
   "cell_type": "markdown",
   "metadata": {},
   "source": [
    "We construct `h2_measurement`, which represents `two_qubit_H2` as an observable."
   ]
  },
  {
   "cell_type": "code",
   "execution_count": 52,
   "metadata": {
    "execution": {
     "iopub.execute_input": "2023-08-25T18:25:56.915515Z",
     "iopub.status.busy": "2023-08-25T18:25:56.914348Z",
     "iopub.status.idle": "2023-08-25T18:25:56.923483Z",
     "shell.execute_reply": "2023-08-25T18:25:56.922884Z"
    }
   },
   "outputs": [
    {
     "name": "stdout",
     "output_type": "stream",
     "text": [
      "OperatorMeasurement(-1.0523732 * II\n",
      "+ 0.39793742 * IZ\n",
      "- 0.3979374 * ZI\n",
      "- 0.0112801 * ZZ\n",
      "+ 0.18093119 * XX)\n"
     ]
    },
    {
     "name": "stderr",
     "output_type": "stream",
     "text": [
      "/tmp/ipykernel_10214/251610506.py:1: DeprecationWarning: The class ``qiskit.opflow.state_fns.operator_state_fn.OperatorStateFn`` is deprecated as of qiskit-terra 0.24.0. It will be removed no earlier than 3 months after the release date. For code migration guidelines, visit https://qisk.it/opflow_migration.\n",
      "  h2_measurement = StateFn(two_qubit_H2).adjoint()\n"
     ]
    }
   ],
   "source": [
    "h2_measurement = StateFn(two_qubit_H2).adjoint()\n",
    "print(h2_measurement)"
   ]
  },
  {
   "cell_type": "markdown",
   "metadata": {},
   "source": [
    "We construct a Bell state $|\\Phi_+\\rangle$ via $\\text{CX} (H\\otimes I) |00\\rangle$."
   ]
  },
  {
   "cell_type": "code",
   "execution_count": 53,
   "metadata": {
    "execution": {
     "iopub.execute_input": "2023-08-25T18:25:56.928037Z",
     "iopub.status.busy": "2023-08-25T18:25:56.926867Z",
     "iopub.status.idle": "2023-08-25T18:25:56.940800Z",
     "shell.execute_reply": "2023-08-25T18:25:56.940163Z"
    }
   },
   "outputs": [
    {
     "name": "stdout",
     "output_type": "stream",
     "text": [
      "CircuitStateFn(\n",
      "     ┌───┐     \n",
      "q_0: ┤ H ├──■──\n",
      "     └───┘┌─┴─┐\n",
      "q_1: ─────┤ X ├\n",
      "          └───┘\n",
      ")\n"
     ]
    }
   ],
   "source": [
    "bell = CX @ (I ^ H) @ Zero\n",
    "print(bell)"
   ]
  },
  {
   "cell_type": "markdown",
   "metadata": {},
   "source": [
    "Here is the expression $H e^{-iHt} |\\Phi_+\\rangle$."
   ]
  },
  {
   "cell_type": "code",
   "execution_count": 54,
   "metadata": {
    "execution": {
     "iopub.execute_input": "2023-08-25T18:25:56.946668Z",
     "iopub.status.busy": "2023-08-25T18:25:56.944947Z",
     "iopub.status.idle": "2023-08-25T18:25:56.957552Z",
     "shell.execute_reply": "2023-08-25T18:25:56.956933Z"
    }
   },
   "outputs": [
    {
     "name": "stdout",
     "output_type": "stream",
     "text": [
      "ComposedOp([\n",
      "  OperatorMeasurement(-1.0523732 * II\n",
      "  + 0.39793742 * IZ\n",
      "  - 0.3979374 * ZI\n",
      "  - 0.0112801 * ZZ\n",
      "  + 0.18093119 * XX),\n",
      "  e^(-i*1.0*θ * (\n",
      "    -1.0523732 * II\n",
      "    + 0.39793742 * IZ\n",
      "    - 0.3979374 * ZI\n",
      "    - 0.0112801 * ZZ\n",
      "    + 0.18093119 * XX\n",
      "  )),\n",
      "  CircuitStateFn(\n",
      "       ┌───┐     \n",
      "  q_0: ┤ H ├──■──\n",
      "       └───┘┌─┴─┐\n",
      "  q_1: ─────┤ X ├\n",
      "            └───┘\n",
      "  )\n",
      "])\n"
     ]
    }
   ],
   "source": [
    "evo_and_meas = h2_measurement @ evolution_op @ bell\n",
    "print(evo_and_meas)"
   ]
  },
  {
   "cell_type": "markdown",
   "metadata": {},
   "source": [
    "Typically, we want to approximate $e^{-iHt}$ using two-qubit gates. We achieve this with the `convert` method of `PauliTrotterEvolution`, which traverses expressions applying trotterization to all `EvolvedOp`s encountered. Although we use `PauliTrotterEvolution` here, there are other possibilities, such as `MatrixEvolution`, which performs the exponentiation exactly."
   ]
  },
  {
   "cell_type": "code",
   "execution_count": 55,
   "metadata": {
    "execution": {
     "iopub.execute_input": "2023-08-25T18:25:56.963254Z",
     "iopub.status.busy": "2023-08-25T18:25:56.961595Z",
     "iopub.status.idle": "2023-08-25T18:25:56.979035Z",
     "shell.execute_reply": "2023-08-25T18:25:56.978364Z"
    }
   },
   "outputs": [
    {
     "name": "stdout",
     "output_type": "stream",
     "text": [
      "ComposedOp([\n",
      "  OperatorMeasurement(-1.0523732 * II\n",
      "  + 0.39793742 * IZ\n",
      "  - 0.3979374 * ZI\n",
      "  - 0.0112801 * ZZ\n",
      "  + 0.18093119 * XX),\n",
      "  CircuitStateFn(\n",
      "       ┌───┐     ┌───────────────────────────────────────────┐\n",
      "  q_0: ┤ H ├──■──┤0                                          ├\n",
      "       └───┘┌─┴─┐│  exp(-it (II + IZ + ZI + ZZ + XX))(1.0*θ) │\n",
      "  q_1: ─────┤ X ├┤1                                          ├\n",
      "            └───┘└───────────────────────────────────────────┘\n",
      "  )\n",
      "])\n"
     ]
    },
    {
     "name": "stderr",
     "output_type": "stream",
     "text": [
      "/tmp/ipykernel_10214/3156331339.py:1: DeprecationWarning: The class ``qiskit.opflow.evolutions.trotterizations.suzuki.Suzuki`` is deprecated as of qiskit-terra 0.24.0. It will be removed no earlier than 3 months after the release date. For code migration guidelines, visit https://qisk.it/opflow_migration.\n",
      "  trotterized_op = PauliTrotterEvolution(trotter_mode=Suzuki(order=2, reps=1)).convert(evo_and_meas)\n",
      "/tmp/ipykernel_10214/3156331339.py:1: DeprecationWarning: The class ``qiskit.opflow.evolutions.pauli_trotter_evolution.PauliTrotterEvolution`` is deprecated as of qiskit-terra 0.24.0. It will be removed no earlier than 3 months after the release date. For code migration guidelines, visit https://qisk.it/opflow_migration.\n",
      "  trotterized_op = PauliTrotterEvolution(trotter_mode=Suzuki(order=2, reps=1)).convert(evo_and_meas)\n"
     ]
    }
   ],
   "source": [
    "trotterized_op = PauliTrotterEvolution(trotter_mode=Suzuki(order=2, reps=1)).convert(evo_and_meas)\n",
    "# We can also set trotter_mode='suzuki' or leave it empty to default to first order Trotterization.\n",
    "print(trotterized_op)"
   ]
  },
  {
   "cell_type": "markdown",
   "metadata": {},
   "source": [
    "`trotterized_op` contains a `Parameter`. The `bind_parameters` method traverses the expression binding values to parameter names as specified via a `dict`. In this case, there is only one parameter."
   ]
  },
  {
   "cell_type": "code",
   "execution_count": 56,
   "metadata": {
    "execution": {
     "iopub.execute_input": "2023-08-25T18:25:56.983663Z",
     "iopub.status.busy": "2023-08-25T18:25:56.982499Z",
     "iopub.status.idle": "2023-08-25T18:25:56.987858Z",
     "shell.execute_reply": "2023-08-25T18:25:56.987268Z"
    }
   },
   "outputs": [],
   "source": [
    "bound = trotterized_op.bind_parameters({evo_time: .5})"
   ]
  },
  {
   "cell_type": "markdown",
   "metadata": {},
   "source": [
    "`bound` is a `ComposedOp`. The second factor is the circuit. Let's draw it to verify that the binding has taken place."
   ]
  },
  {
   "cell_type": "code",
   "execution_count": 57,
   "metadata": {
    "execution": {
     "iopub.execute_input": "2023-08-25T18:25:56.992373Z",
     "iopub.status.busy": "2023-08-25T18:25:56.991221Z",
     "iopub.status.idle": "2023-08-25T18:25:57.003384Z",
     "shell.execute_reply": "2023-08-25T18:25:57.002808Z"
    }
   },
   "outputs": [
    {
     "data": {
      "text/html": [
       "<pre style=\"word-wrap: normal;white-space: pre;background: #fff0;line-height: 1.1;font-family: &quot;Courier New&quot;,Courier,monospace\">     ┌───┐     ┌─────────────────────────────────────────┐\n",
       "q_0: ┤ H ├──■──┤0                                        ├\n",
       "     └───┘┌─┴─┐│  exp(-it (II + IZ + ZI + ZZ + XX))(0.5) │\n",
       "q_1: ─────┤ X ├┤1                                        ├\n",
       "          └───┘└─────────────────────────────────────────┘</pre>"
      ],
      "text/plain": [
       "     ┌───┐     ┌─────────────────────────────────────────┐\n",
       "q_0: ┤ H ├──■──┤0                                        ├\n",
       "     └───┘┌─┴─┐│  exp(-it (II + IZ + ZI + ZZ + XX))(0.5) │\n",
       "q_1: ─────┤ X ├┤1                                        ├\n",
       "          └───┘└─────────────────────────────────────────┘"
      ]
     },
     "execution_count": 57,
     "metadata": {},
     "output_type": "execute_result"
    }
   ],
   "source": [
    "bound[1].to_circuit().draw()"
   ]
  },
  {
   "cell_type": "markdown",
   "metadata": {},
   "source": [
    "### Expectations\n",
    "\n",
    "`Expectation`s are converters that enable the computation of expectation values of observables. They traverse an Operator tree, replacing `OperatorStateFn`s (observables) with equivalent instructions which are more amenable to\n",
    "computation on quantum or classical hardware. For example, if we want to measure the expectation value of an Operator `o` expressed as a sum of Paulis with respect to some state function, but can only access diagonal measurements on quantum hardware, we can create an observable `~StateFn(o)` and use a ``PauliExpectation`` to convert it to a diagonal measurement and circuit pre-rotations to append to the state.\n",
    "\n",
    "Another interesting `Expectation` is the `AerPauliExpectation`, which converts the observable into a `CircuitStateFn` containing a special expectation snapshot instruction which `Aer` can execute natively with high performance."
   ]
  },
  {
   "cell_type": "code",
   "execution_count": 58,
   "metadata": {
    "execution": {
     "iopub.execute_input": "2023-08-25T18:25:57.008810Z",
     "iopub.status.busy": "2023-08-25T18:25:57.007113Z",
     "iopub.status.idle": "2023-08-25T18:25:57.038750Z",
     "shell.execute_reply": "2023-08-25T18:25:57.038119Z"
    }
   },
   "outputs": [
    {
     "name": "stderr",
     "output_type": "stream",
     "text": [
      "/tmp/ipykernel_10214/119115492.py:2: DeprecationWarning: The class ``qiskit.opflow.expectations.pauli_expectation.PauliExpectation`` is deprecated as of qiskit-terra 0.24.0. It will be removed no earlier than 3 months after the release date. For code migration guidelines, visit https://qisk.it/opflow_migration.\n",
      "  print(PauliExpectation(group_paulis=False).convert(h2_measurement))\n"
     ]
    },
    {
     "name": "stdout",
     "output_type": "stream",
     "text": [
      "SummedOp([\n",
      "  ComposedOp([\n",
      "    OperatorMeasurement(-1.0523732 * II),\n",
      "    II\n",
      "  ]),\n",
      "  ComposedOp([\n",
      "    OperatorMeasurement(0.39793742 * IZ),\n",
      "    II\n",
      "  ]),\n",
      "  ComposedOp([\n",
      "    OperatorMeasurement(-0.3979374 * ZI),\n",
      "    II\n",
      "  ]),\n",
      "  ComposedOp([\n",
      "    OperatorMeasurement(-0.0112801 * ZZ),\n",
      "    II\n",
      "  ]),\n",
      "  ComposedOp([\n",
      "    OperatorMeasurement(0.18093119 * ZZ),\n",
      "         ┌───┐\n",
      "    q_0: ┤ H ├\n",
      "         ├───┤\n",
      "    q_1: ┤ H ├\n",
      "         └───┘\n",
      "  ])\n",
      "])\n"
     ]
    }
   ],
   "source": [
    "# Note that XX was the only non-diagonal measurement in our H2 Observable\n",
    "print(PauliExpectation(group_paulis=False).convert(h2_measurement))"
   ]
  },
  {
   "cell_type": "markdown",
   "metadata": {},
   "source": [
    "By default `group_paulis=True`, which will use the `AbelianGrouper` to convert the `SummedOp` into groups of mutually qubit-wise commuting Paulis. This reduces circuit execution overhead, as each group can share the same circuit execution."
   ]
  },
  {
   "cell_type": "code",
   "execution_count": 59,
   "metadata": {
    "execution": {
     "iopub.execute_input": "2023-08-25T18:25:57.043515Z",
     "iopub.status.busy": "2023-08-25T18:25:57.042286Z",
     "iopub.status.idle": "2023-08-25T18:25:57.059888Z",
     "shell.execute_reply": "2023-08-25T18:25:57.059208Z"
    }
   },
   "outputs": [
    {
     "name": "stdout",
     "output_type": "stream",
     "text": [
      "SummedOp([\n",
      "  ComposedOp([\n",
      "    OperatorMeasurement(0.18093119 * ZZ\n",
      "    - 1.0523732 * II),\n",
      "         ┌───┐\n",
      "    q_0: ┤ H ├\n",
      "         ├───┤\n",
      "    q_1: ┤ H ├\n",
      "         └───┘\n",
      "  ]),\n",
      "  ComposedOp([\n",
      "    OperatorMeasurement(0.39793742 * IZ\n",
      "    - 0.3979374 * ZI\n",
      "    - 0.0112801 * ZZ),\n",
      "    II\n",
      "  ])\n",
      "])\n"
     ]
    },
    {
     "name": "stderr",
     "output_type": "stream",
     "text": [
      "/tmp/ipykernel_10214/2025675328.py:1: DeprecationWarning: The class ``qiskit.opflow.expectations.pauli_expectation.PauliExpectation`` is deprecated as of qiskit-terra 0.24.0. It will be removed no earlier than 3 months after the release date. For code migration guidelines, visit https://qisk.it/opflow_migration.\n",
      "  print(PauliExpectation().convert(h2_measurement))\n"
     ]
    }
   ],
   "source": [
    "print(PauliExpectation().convert(h2_measurement))"
   ]
  },
  {
   "cell_type": "markdown",
   "metadata": {},
   "source": [
    "Note that converters act recursively, that is, they traverse an expression applying their action only where possible. So we can just convert our full evolution and measurement expression. We could have equivalently composed the converted `h2_measurement` with our evolution `CircuitStateFn`. We proceed by applying the conversion on the entire expression."
   ]
  },
  {
   "cell_type": "code",
   "execution_count": 60,
   "metadata": {
    "execution": {
     "iopub.execute_input": "2023-08-25T18:25:57.064656Z",
     "iopub.status.busy": "2023-08-25T18:25:57.063441Z",
     "iopub.status.idle": "2023-08-25T18:25:57.085692Z",
     "shell.execute_reply": "2023-08-25T18:25:57.085076Z"
    },
    "scrolled": true
   },
   "outputs": [
    {
     "name": "stdout",
     "output_type": "stream",
     "text": [
      "SummedOp([\n",
      "  ComposedOp([\n",
      "    OperatorMeasurement(0.18093119 * ZZ\n",
      "    - 1.0523732 * II),\n",
      "    CircuitStateFn(\n",
      "         ┌───┐     ┌───────────────────────────────────────────┐┌───┐\n",
      "    q_0: ┤ H ├──■──┤0                                          ├┤ H ├\n",
      "         └───┘┌─┴─┐│  exp(-it (II + IZ + ZI + ZZ + XX))(1.0*θ) │├───┤\n",
      "    q_1: ─────┤ X ├┤1                                          ├┤ H ├\n",
      "              └───┘└───────────────────────────────────────────┘└───┘\n",
      "    )\n",
      "  ]),\n",
      "  ComposedOp([\n",
      "    OperatorMeasurement(0.39793742 * IZ\n",
      "    - 0.3979374 * ZI\n",
      "    - 0.0112801 * ZZ),\n",
      "    CircuitStateFn(\n",
      "         ┌───┐     ┌───────────────────────────────────────────┐\n",
      "    q_0: ┤ H ├──■──┤0                                          ├\n",
      "         └───┘┌─┴─┐│  exp(-it (II + IZ + ZI + ZZ + XX))(1.0*θ) │\n",
      "    q_1: ─────┤ X ├┤1                                          ├\n",
      "              └───┘└───────────────────────────────────────────┘\n",
      "    )\n",
      "  ])\n",
      "])\n"
     ]
    },
    {
     "name": "stderr",
     "output_type": "stream",
     "text": [
      "/tmp/ipykernel_10214/4170641321.py:1: DeprecationWarning: The class ``qiskit.opflow.expectations.pauli_expectation.PauliExpectation`` is deprecated as of qiskit-terra 0.24.0. It will be removed no earlier than 3 months after the release date. For code migration guidelines, visit https://qisk.it/opflow_migration.\n",
      "  diagonalized_meas_op = PauliExpectation().convert(trotterized_op)\n"
     ]
    }
   ],
   "source": [
    "diagonalized_meas_op = PauliExpectation().convert(trotterized_op)\n",
    "print(diagonalized_meas_op)"
   ]
  },
  {
   "cell_type": "markdown",
   "metadata": {},
   "source": [
    "Now we bind multiple parameter values into a `ListOp`, followed by `eval` to evaluate the entire expression. We could have used `eval` earlier if we bound earlier, but it would not be efficient. Here, `eval` will convert our `CircuitStateFn`s to `VectorStateFn`s through simulation internally."
   ]
  },
  {
   "cell_type": "code",
   "execution_count": 61,
   "metadata": {
    "execution": {
     "iopub.execute_input": "2023-08-25T18:25:57.090356Z",
     "iopub.status.busy": "2023-08-25T18:25:57.089147Z",
     "iopub.status.idle": "2023-08-25T18:25:57.097072Z",
     "shell.execute_reply": "2023-08-25T18:25:57.096482Z"
    }
   },
   "outputs": [],
   "source": [
    "evo_time_points = list(range(8))\n",
    "h2_trotter_expectations = diagonalized_meas_op.bind_parameters({evo_time: evo_time_points})"
   ]
  },
  {
   "cell_type": "markdown",
   "metadata": {},
   "source": [
    "Here are the expectation values $\\langle \\Phi_+| e^{iHt} H e^{-iHt} |\\Phi_+\\rangle$ corresponding to the different values of the parameter."
   ]
  },
  {
   "cell_type": "code",
   "execution_count": 62,
   "metadata": {
    "execution": {
     "iopub.execute_input": "2023-08-25T18:25:57.101588Z",
     "iopub.status.busy": "2023-08-25T18:25:57.100436Z",
     "iopub.status.idle": "2023-08-25T18:25:57.411162Z",
     "shell.execute_reply": "2023-08-25T18:25:57.410486Z"
    }
   },
   "outputs": [
    {
     "data": {
      "text/plain": [
       "array([-0.88272211+0.j, -0.88272211+0.j, -0.88272211+0.j, -0.88272211+0.j,\n",
       "       -0.88272211+0.j, -0.88272211+0.j, -0.88272211+0.j, -0.88272211+0.j])"
      ]
     },
     "execution_count": 62,
     "metadata": {},
     "output_type": "execute_result"
    }
   ],
   "source": [
    "h2_trotter_expectations.eval()"
   ]
  },
  {
   "cell_type": "markdown",
   "metadata": {},
   "source": [
    "### Executing `CircuitStateFn`s with the `CircuitSampler`\n",
    "\n",
    "The `CircuitSampler` traverses an Operator and converts any `CircuitStateFn`s into approximations of the resulting state function by a `DictStateFn` or `VectorStateFn` using a quantum backend. Note that in order to approximate the value of the `CircuitStateFn`, it must 1) send the state function through a depolarizing channel, which will destroy all phase information and 2) replace the sampled frequencies with **square roots** of the frequency, rather than the raw probability of sampling (which would be the equivalent of sampling the **square** of the state function, per the Born rule)."
   ]
  },
  {
   "cell_type": "code",
   "execution_count": 63,
   "metadata": {
    "execution": {
     "iopub.execute_input": "2023-08-25T18:25:57.416132Z",
     "iopub.status.busy": "2023-08-25T18:25:57.414939Z",
     "iopub.status.idle": "2023-08-25T18:25:58.273080Z",
     "shell.execute_reply": "2023-08-25T18:25:58.272263Z"
    }
   },
   "outputs": [
    {
     "name": "stderr",
     "output_type": "stream",
     "text": [
      "/tmp/ipykernel_10214/2634295565.py:1: DeprecationWarning: The class ``qiskit.opflow.converters.circuit_sampler.CircuitSampler`` is deprecated as of qiskit-terra 0.24.0. It will be removed no earlier than 3 months after the release date. For code migration guidelines, visit https://qisk.it/opflow_migration.\n",
      "  sampler = CircuitSampler(backend=Aer.get_backend('aer_simulator'))\n"
     ]
    },
    {
     "name": "stdout",
     "output_type": "stream",
     "text": [
      "Sampled Trotterized energies:\n",
      " [-0.88272211 -0.88272211 -0.88272211 -0.88272211 -0.88272211 -0.88272211\n",
      " -0.88272211 -0.88272211]\n"
     ]
    }
   ],
   "source": [
    "sampler = CircuitSampler(backend=Aer.get_backend('aer_simulator'))\n",
    "# sampler.quantum_instance.run_config.shots = 1000\n",
    "sampled_trotter_exp_op = sampler.convert(h2_trotter_expectations)\n",
    "sampled_trotter_energies = sampled_trotter_exp_op.eval()\n",
    "print('Sampled Trotterized energies:\\n {}'.format(np.real(sampled_trotter_energies)))"
   ]
  },
  {
   "cell_type": "markdown",
   "metadata": {},
   "source": [
    "Note again that the circuits are replaced by dicts with ***square roots*** of the circuit sampling probabilities. Take a look at one sub-expression before and after the conversion:"
   ]
  },
  {
   "cell_type": "code",
   "execution_count": 64,
   "metadata": {
    "execution": {
     "iopub.execute_input": "2023-08-25T18:25:58.277314Z",
     "iopub.status.busy": "2023-08-25T18:25:58.277024Z",
     "iopub.status.idle": "2023-08-25T18:25:58.297905Z",
     "shell.execute_reply": "2023-08-25T18:25:58.297085Z"
    }
   },
   "outputs": [
    {
     "name": "stdout",
     "output_type": "stream",
     "text": [
      "Before:\n",
      "\n",
      "ComposedOp([\n",
      "  OperatorMeasurement(0.18093119 * ZZ\n",
      "  - 1.0523732 * II),\n",
      "  CircuitStateFn(\n",
      "       ┌───┐     ┌───────────────────────────────────────┐┌───┐\n",
      "  q_0: ┤ H ├──■──┤0                                      ├┤ H ├\n",
      "       └───┘┌─┴─┐│  exp(-it (II + IZ + ZI + ZZ + XX))(0) │├───┤\n",
      "  q_1: ─────┤ X ├┤1                                      ├┤ H ├\n",
      "            └───┘└───────────────────────────────────────┘└───┘\n",
      "  )\n",
      "])\n",
      "\n",
      "After:\n",
      "\n",
      "ComposedOp([\n",
      "  OperatorMeasurement(0.18093119 * ZZ\n",
      "  - 1.0523732 * II),\n",
      "  DictStateFn({'11': 0.7091753573693885, '00': 0.7050321357924049})\n",
      "])\n"
     ]
    }
   ],
   "source": [
    "print('Before:\\n')\n",
    "print(h2_trotter_expectations.reduce()[0][0])\n",
    "print('\\nAfter:\\n')\n",
    "print(sampled_trotter_exp_op[0][0])"
   ]
  },
  {
   "cell_type": "code",
   "execution_count": 65,
   "metadata": {
    "execution": {
     "iopub.execute_input": "2023-08-25T18:25:58.303397Z",
     "iopub.status.busy": "2023-08-25T18:25:58.302115Z",
     "iopub.status.idle": "2023-08-25T18:25:58.902660Z",
     "shell.execute_reply": "2023-08-25T18:25:58.902010Z"
    }
   },
   "outputs": [
    {
     "data": {
      "text/html": [
       "<h3>Version Information</h3><table><tr><th>Software</th><th>Version</th></tr><tr><td><code>qiskit</code></td><td>None</td></tr><tr><td><code>qiskit-terra</code></td><td>0.45.0</td></tr><tr><td><code>qiskit_aer</code></td><td>0.12.2</td></tr><tr><th colspan='2'>System information</th></tr><tr><td>Python version</td><td>3.8.17</td></tr><tr><td>Python compiler</td><td>GCC 11.3.0</td></tr><tr><td>Python build</td><td>default, Jun  7 2023 12:29:56</td></tr><tr><td>OS</td><td>Linux</td></tr><tr><td>CPUs</td><td>2</td></tr><tr><td>Memory (Gb)</td><td>6.7694854736328125</td></tr><tr><td colspan='2'>Fri Aug 25 18:25:58 2023 UTC</td></tr></table>"
      ],
      "text/plain": [
       "<IPython.core.display.HTML object>"
      ]
     },
     "metadata": {},
     "output_type": "display_data"
    },
    {
     "data": {
      "text/html": [
       "<div style='width: 100%; background-color:#d5d9e0;padding-left: 10px; padding-bottom: 10px; padding-right: 10px; padding-top: 5px'><h3>This code is a part of Qiskit</h3><p>&copy; Copyright IBM 2017, 2023.</p><p>This code is licensed under the Apache License, Version 2.0. You may<br>obtain a copy of this license in the LICENSE.txt file in the root directory<br> of this source tree or at http://www.apache.org/licenses/LICENSE-2.0.<p>Any modifications or derivative works of this code must retain this<br>copyright notice, and modified files need to carry a notice indicating<br>that they have been altered from the originals.</p></div>"
      ],
      "text/plain": [
       "<IPython.core.display.HTML object>"
      ]
     },
     "metadata": {},
     "output_type": "display_data"
    }
   ],
   "source": [
    "import qiskit.tools.jupyter\n",
    "%qiskit_version_table\n",
    "%qiskit_copyright"
   ]
  }
 ],
 "metadata": {
  "kernelspec": {
   "display_name": "Python 3",
   "language": "python",
   "name": "python3"
  },
  "language_info": {
   "codemirror_mode": {
    "name": "ipython",
    "version": 3
   },
   "file_extension": ".py",
   "mimetype": "text/x-python",
   "name": "python",
   "nbconvert_exporter": "python",
   "pygments_lexer": "ipython3",
   "version": "3.8.17"
  },
  "widgets": {
   "application/vnd.jupyter.widget-state+json": {
    "state": {
     "0536aec4253349f0a510da687a7cb5ad": {
      "model_module": "@jupyter-widgets/base",
      "model_module_version": "2.0.0",
      "model_name": "LayoutModel",
      "state": {
       "_model_module": "@jupyter-widgets/base",
       "_model_module_version": "2.0.0",
       "_model_name": "LayoutModel",
       "_view_count": null,
       "_view_module": "@jupyter-widgets/base",
       "_view_module_version": "2.0.0",
       "_view_name": "LayoutView",
       "align_content": null,
       "align_items": null,
       "align_self": null,
       "border_bottom": null,
       "border_left": null,
       "border_right": null,
       "border_top": null,
       "bottom": null,
       "display": null,
       "flex": null,
       "flex_flow": null,
       "grid_area": null,
       "grid_auto_columns": null,
       "grid_auto_flow": null,
       "grid_auto_rows": null,
       "grid_column": null,
       "grid_gap": null,
       "grid_row": null,
       "grid_template_areas": null,
       "grid_template_columns": null,
       "grid_template_rows": null,
       "height": null,
       "justify_content": null,
       "justify_items": null,
       "left": null,
       "margin": "0px 0px 10px 0px",
       "max_height": null,
       "max_width": null,
       "min_height": null,
       "min_width": null,
       "object_fit": null,
       "object_position": null,
       "order": null,
       "overflow": null,
       "padding": null,
       "right": null,
       "top": null,
       "visibility": null,
       "width": null
      }
     },
     "4462da81d1df499e82002402b0af8517": {
      "model_module": "@jupyter-widgets/controls",
      "model_module_version": "2.0.0",
      "model_name": "HTMLModel",
      "state": {
       "_dom_classes": [],
       "_model_module": "@jupyter-widgets/controls",
       "_model_module_version": "2.0.0",
       "_model_name": "HTMLModel",
       "_view_count": null,
       "_view_module": "@jupyter-widgets/controls",
       "_view_module_version": "2.0.0",
       "_view_name": "HTMLView",
       "description": "",
       "description_allow_html": false,
       "layout": "IPY_MODEL_0536aec4253349f0a510da687a7cb5ad",
       "placeholder": "​",
       "style": "IPY_MODEL_6491e46af2f8493eb678e78d34c39e13",
       "tabbable": null,
       "tooltip": null,
       "value": "<p style='font-family: IBM Plex Sans, Arial, Helvetica, sans-serif; font-size: 20px; font-weight: medium;'>Circuit Properties</p>"
      }
     },
     "6491e46af2f8493eb678e78d34c39e13": {
      "model_module": "@jupyter-widgets/controls",
      "model_module_version": "2.0.0",
      "model_name": "HTMLStyleModel",
      "state": {
       "_model_module": "@jupyter-widgets/controls",
       "_model_module_version": "2.0.0",
       "_model_name": "HTMLStyleModel",
       "_view_count": null,
       "_view_module": "@jupyter-widgets/base",
       "_view_module_version": "2.0.0",
       "_view_name": "StyleView",
       "background": null,
       "description_width": "",
       "font_size": null,
       "text_color": null
      }
     }
    },
    "version_major": 2,
    "version_minor": 0
   }
  }
 },
 "nbformat": 4,
 "nbformat_minor": 4
}
