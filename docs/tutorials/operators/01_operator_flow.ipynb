{
 "cells": [
  {
   "cell_type": "markdown",
   "metadata": {},
   "source": [
    "# Operator Flow"
   ]
  },
  {
   "cell_type": "markdown",
   "metadata": {},
   "source": [
    "## Introduction\n",
    "\n",
    "Qiskit provides classes representing states and operators and sums, tensor products, and compositions thereof. These algebraic constructs allow us to build expressions representing operators.\n",
    "\n",
    "We introduce expressions by building them from Pauli operators. In subsequent sections we explore in more detail operators and states, how they are represented, and what we can do with them. In the last section we construct a state, evolve it with a Hamiltonian, and compute expectation values of an observable.\n",
    "\n",
    "### Pauli operators, sums, compositions, and tensor products\n",
    "\n",
    "The most important base operators are the Pauli operators.\n",
    "The Pauli operators are represented like this.\n"
   ]
  },
  {
   "cell_type": "code",
   "execution_count": 1,
   "metadata": {},
   "outputs": [
    {
     "name": "stdout",
     "output_type": "stream",
     "text": [
      "I X Y Z\n"
     ]
    }
   ],
   "source": [
    "from qiskit.opflow import I, X, Y, Z\n",
    "print(I, X, Y, Z)"
   ]
  },
  {
   "cell_type": "markdown",
   "metadata": {},
   "source": [
    "These operators may also carry a coefficient."
   ]
  },
  {
   "cell_type": "code",
   "execution_count": 2,
   "metadata": {},
   "outputs": [
    {
     "name": "stdout",
     "output_type": "stream",
     "text": [
      "1.5 * I\n",
      "2.5 * X\n"
     ]
    }
   ],
   "source": [
    "print(1.5 * I)\n",
    "print(2.5 * X)"
   ]
  },
  {
   "cell_type": "markdown",
   "metadata": {},
   "source": [
    "These coefficients allow the operators to be used as terms in a sum."
   ]
  },
  {
   "cell_type": "code",
   "execution_count": 3,
   "metadata": {},
   "outputs": [
    {
     "name": "stdout",
     "output_type": "stream",
     "text": [
      "1.0 * X\n",
      "+ 2.0 * Y\n"
     ]
    }
   ],
   "source": [
    "print(X + 2.0 * Y)"
   ]
  },
  {
   "cell_type": "markdown",
   "metadata": {},
   "source": [
    "Tensor products are denoted with a caret, like this."
   ]
  },
  {
   "cell_type": "code",
   "execution_count": 4,
   "metadata": {},
   "outputs": [
    {
     "name": "stdout",
     "output_type": "stream",
     "text": [
      "XYZ\n"
     ]
    }
   ],
   "source": [
    "print(X^Y^Z)"
   ]
  },
  {
   "cell_type": "markdown",
   "metadata": {},
   "source": [
    "Composition is denoted by the `@` symbol."
   ]
  },
  {
   "cell_type": "code",
   "execution_count": 5,
   "metadata": {},
   "outputs": [
    {
     "name": "stdout",
     "output_type": "stream",
     "text": [
      "iI\n"
     ]
    }
   ],
   "source": [
    "print(X @ Y @ Z)"
   ]
  },
  {
   "cell_type": "markdown",
   "metadata": {},
   "source": [
    "In the preceding two examples, the tensor product and composition of Pauli operators were immediately reduced to the equivalent (possibly multi-qubit) Pauli operator. If we tensor or compose more complicated objects, the result is objects representing the unevaluated operations. That is, algebraic expressions."
   ]
  },
  {
   "cell_type": "markdown",
   "metadata": {},
   "source": [
    "For example, composing two sums gives"
   ]
  },
  {
   "cell_type": "code",
   "execution_count": 6,
   "metadata": {},
   "outputs": [
    {
     "name": "stdout",
     "output_type": "stream",
     "text": [
      "1j * Z\n",
      "+ -1j * Y\n",
      "+ 1.0 * I\n",
      "+ 1j * X\n"
     ]
    }
   ],
   "source": [
    "print((X + Y) @ (Y + Z))"
   ]
  },
  {
   "cell_type": "markdown",
   "metadata": {},
   "source": [
    "And tensoring two sums gives"
   ]
  },
  {
   "cell_type": "code",
   "execution_count": 7,
   "metadata": {
    "scrolled": true
   },
   "outputs": [
    {
     "name": "stdout",
     "output_type": "stream",
     "text": [
      "1.0 * XY\n",
      "+ 1.0 * XZ\n",
      "+ 1.0 * YY\n",
      "+ 1.0 * YZ\n"
     ]
    }
   ],
   "source": [
    "print((X + Y) ^ (Y + Z))"
   ]
  },
  {
   "cell_type": "markdown",
   "metadata": {},
   "source": [
    "Let's take a closer look at the types introduced above. First the Pauli operators."
   ]
  },
  {
   "cell_type": "code",
   "execution_count": 8,
   "metadata": {},
   "outputs": [
    {
     "data": {
      "text/plain": [
       "(PauliOp(Pauli('I'), coeff=1.0), PauliOp(Pauli('X'), coeff=1.0))"
      ]
     },
     "execution_count": 8,
     "metadata": {},
     "output_type": "execute_result"
    }
   ],
   "source": [
    "(I, X)"
   ]
  },
  {
   "cell_type": "markdown",
   "metadata": {},
   "source": [
    "Each Pauli operator is an instance of `PauliOp`, which wraps an instance of `qiskit.quantum_info.Pauli`, and adds a coefficient `coeff`. In general, a `PauliOp` represents a weighted tensor product of Pauli operators."
   ]
  },
  {
   "cell_type": "code",
   "execution_count": 9,
   "metadata": {},
   "outputs": [
    {
     "data": {
      "text/plain": [
       "PauliOp(Pauli('XYZ'), coeff=2.0)"
      ]
     },
     "execution_count": 9,
     "metadata": {},
     "output_type": "execute_result"
    }
   ],
   "source": [
    "2.0 * X^Y^Z"
   ]
  },
  {
   "cell_type": "markdown",
   "metadata": {},
   "source": [
    "For the encoding of the Pauli operators as pairs of Boolean values, see the documentation for `qiskit.quantum_info.Pauli`.\n",
    "\n",
    "All of the objects representing operators, whether as \"primitive\"s such as `PauliOp`, or algebraic expressions carry a coefficient"
   ]
  },
  {
   "cell_type": "code",
   "execution_count": 10,
   "metadata": {},
   "outputs": [
    {
     "name": "stdout",
     "output_type": "stream",
     "text": [
      "1.2 * (\n",
      "  1.1 * XY\n",
      "  + 1.4300000000000002 * XZ\n",
      ")\n"
     ]
    }
   ],
   "source": [
    "print(1.1 * ((1.2 * X)^(Y + (1.3 * Z))))"
   ]
  },
  {
   "cell_type": "markdown",
   "metadata": {},
   "source": [
    "In the following we take a broader and deeper look at Qiskit's operators, states, and the building blocks of quantum algorithms."
   ]
  },
  {
   "cell_type": "markdown",
   "metadata": {},
   "source": [
    "\n",
    "## Part I: State Functions and Measurements\n",
    "\n",
    "Quantum states are represented by subclasses of the class `StateFn`. There are four representations of quantum states: `DictStateFn` is a sparse representation in the computational basis, backed by a `dict`. `VectorStateFn` is a dense representation in the computational basis backed by a numpy array. `CircuitStateFn` is backed by a circuit and represents the state obtained by executing the circuit on the all-zero computational-basis state. `OperatorStateFn` represents mixed states via a density matrix. (As we will see later, `OperatorStateFn` is also used to represent observables.)\n",
    "\n",
    "Several `StateFn` instances are provided for convenience. For example `Zero, One, Plus, Minus`."
   ]
  },
  {
   "cell_type": "code",
   "execution_count": 11,
   "metadata": {},
   "outputs": [],
   "source": [
    "from qiskit.opflow import (StateFn, Zero, One, Plus, Minus, H,\n",
    "                           DictStateFn, VectorStateFn, CircuitStateFn, OperatorStateFn)"
   ]
  },
  {
   "cell_type": "markdown",
   "metadata": {},
   "source": [
    "`Zero` and `One` represent the quantum states $|0\\rangle$ and $|1\\rangle$. They are represented via `DictStateFn`."
   ]
  },
  {
   "cell_type": "code",
   "execution_count": 12,
   "metadata": {},
   "outputs": [
    {
     "name": "stdout",
     "output_type": "stream",
     "text": [
      "DictStateFn({'0': 1}) DictStateFn({'1': 1})\n"
     ]
    }
   ],
   "source": [
    "print(Zero, One)"
   ]
  },
  {
   "cell_type": "markdown",
   "metadata": {},
   "source": [
    "`Plus` and `Minus`, representing states $(|0\\rangle + |1\\rangle)/\\sqrt{2}$ and $(|0\\rangle - |1\\rangle)/\\sqrt{2}$ are represented via circuits. `H` is a synonym for `Plus`."
   ]
  },
  {
   "cell_type": "code",
   "execution_count": 13,
   "metadata": {},
   "outputs": [
    {
     "name": "stdout",
     "output_type": "stream",
     "text": [
      "CircuitStateFn(\n",
      "   ┌───┐\n",
      "q: ┤ H ├\n",
      "   └───┘\n",
      ") CircuitStateFn(\n",
      "   ┌───┐┌───┐\n",
      "q: ┤ X ├┤ H ├\n",
      "   └───┘└───┘\n",
      ")\n"
     ]
    }
   ],
   "source": [
    "print(Plus, Minus)"
   ]
  },
  {
   "cell_type": "markdown",
   "metadata": {},
   "source": [
    "Indexing into quantum states is done with the `eval` method. These examples return the coefficients of the `0` and `1` basis states. (Below, we will see that the `eval` method is used for other computations, as well.)"
   ]
  },
  {
   "cell_type": "code",
   "execution_count": 14,
   "metadata": {},
   "outputs": [
    {
     "name": "stdout",
     "output_type": "stream",
     "text": [
      "1.0\n",
      "0.0\n",
      "1.0\n",
      "(0.7071067811865475+0j)\n",
      "(-0.7071067811865475+8.7e-17j)\n"
     ]
    }
   ],
   "source": [
    "print(Zero.eval('0'))\n",
    "print(Zero.eval('1'))\n",
    "print(One.eval('1'))\n",
    "print(Plus.eval('0'))\n",
    "print(Minus.eval('1'))"
   ]
  },
  {
   "cell_type": "markdown",
   "metadata": {},
   "source": [
    "The dual vector of a quantum state, that is the *bra* corresponding to a *ket* is obtained via the `adjoint` method. The `StateFn` carries a flag `is_measurement`, which is `False` if the object is a ket and `True` if it is a bra."
   ]
  },
  {
   "cell_type": "markdown",
   "metadata": {},
   "source": [
    "Here, we construct $\\langle 1 |$."
   ]
  },
  {
   "cell_type": "code",
   "execution_count": 15,
   "metadata": {},
   "outputs": [
    {
     "data": {
      "text/plain": [
       "DictStateFn({'1': 1}, coeff=1.0, is_measurement=True)"
      ]
     },
     "execution_count": 15,
     "metadata": {},
     "output_type": "execute_result"
    }
   ],
   "source": [
    "One.adjoint()"
   ]
  },
  {
   "cell_type": "markdown",
   "metadata": {},
   "source": [
    "For convenience, one may obtain the dual vector with a tilde, like this"
   ]
  },
  {
   "cell_type": "code",
   "execution_count": 16,
   "metadata": {},
   "outputs": [
    {
     "data": {
      "text/plain": [
       "DictStateFn({'1': 1}, coeff=1.0, is_measurement=True)"
      ]
     },
     "execution_count": 16,
     "metadata": {},
     "output_type": "execute_result"
    }
   ],
   "source": [
    "~One"
   ]
  },
  {
   "cell_type": "markdown",
   "metadata": {},
   "source": [
    "### Algebraic operations and predicates\n",
    "\n",
    "Many algebraic operations and predicates between `StateFn`s are supported, including:\n",
    "\n",
    "* `+` - addition\n",
    "* `-` - subtraction, negation (scalar multiplication by -1)\n",
    "* `*` - scalar multiplication\n",
    "* `/` - scalar division\n",
    "* `@` - composition\n",
    "* `^` - tensor product or tensor power (tensor with self n times)\n",
    "* `**` - composition power (compose with self n times)\n",
    "* `==` - equality\n",
    "* `~` - adjoint, alternating between a State Function and Measurement\n",
    "\n",
    "Be very aware that these operators obey the [Python rules for operator precedence](https://docs.python.org/3/reference/expressions.html#operator-precedence), which might not be what you expect mathematically.  For example, `I^X + X^I` will actually be parsed as `I ^ (X + X) ^ I == 2 * (I^X^I)` because Python evaluates `+` before `^`.  In these cases, you can use the methods (`.tensor()`, etc) or parentheses."
   ]
  },
  {
   "cell_type": "markdown",
   "metadata": {},
   "source": [
    "`StateFn`s carry a coefficient. This allows us to multiply states by a scalar, and so to construct sums."
   ]
  },
  {
   "cell_type": "markdown",
   "metadata": {},
   "source": [
    "Here, we construct $(2 + 3i)|0\\rangle$."
   ]
  },
  {
   "cell_type": "code",
   "execution_count": 17,
   "metadata": {},
   "outputs": [
    {
     "data": {
      "text/plain": [
       "DictStateFn({'0': 1}, coeff=(2+3j), is_measurement=False)"
      ]
     },
     "execution_count": 17,
     "metadata": {},
     "output_type": "execute_result"
    }
   ],
   "source": [
    "(2.0 + 3.0j) * Zero"
   ]
  },
  {
   "cell_type": "markdown",
   "metadata": {},
   "source": [
    "Here, we see that adding two `DictStateFn`s returns an object of the same type. We construct $|0\\rangle + |1\\rangle$."
   ]
  },
  {
   "cell_type": "code",
   "execution_count": 18,
   "metadata": {},
   "outputs": [
    {
     "name": "stdout",
     "output_type": "stream",
     "text": [
      "DictStateFn({'0': 1.0, '1': 1.0})\n"
     ]
    }
   ],
   "source": [
    "print(Zero + One)"
   ]
  },
  {
   "cell_type": "markdown",
   "metadata": {},
   "source": [
    "Note that you must normalize states by hand. For example, to construct $(|0\\rangle + |1\\rangle)/\\sqrt{2}$, we write"
   ]
  },
  {
   "cell_type": "code",
   "execution_count": 19,
   "metadata": {},
   "outputs": [
    {
     "name": "stdout",
     "output_type": "stream",
     "text": [
      "DictStateFn({'0': 1.0, '1': 1.0}) * 0.7071067811865475\n"
     ]
    }
   ],
   "source": [
    "import math\n",
    "\n",
    "v_zero_one = (Zero + One) / math.sqrt(2)\n",
    "print(v_zero_one)"
   ]
  },
  {
   "cell_type": "markdown",
   "metadata": {},
   "source": [
    "In other cases, the result is a symbolic representation of a sum. For example, here is a representation of $|+\\rangle + |-\\rangle$."
   ]
  },
  {
   "cell_type": "code",
   "execution_count": 20,
   "metadata": {},
   "outputs": [
    {
     "name": "stdout",
     "output_type": "stream",
     "text": [
      "SummedOp([\n",
      "  CircuitStateFn(\n",
      "     ┌───┐\n",
      "  q: ┤ H ├\n",
      "     └───┘\n",
      "  ),\n",
      "  CircuitStateFn(\n",
      "     ┌───┐┌───┐\n",
      "  q: ┤ X ├┤ H ├\n",
      "     └───┘└───┘\n",
      "  )\n",
      "])\n"
     ]
    }
   ],
   "source": [
    "print(Plus + Minus)"
   ]
  },
  {
   "cell_type": "markdown",
   "metadata": {},
   "source": [
    "The composition operator is used to perform an inner product, which by default is held in an unevaluated form. Here is a representation of $\\langle 1 | 1 \\rangle$."
   ]
  },
  {
   "cell_type": "code",
   "execution_count": 21,
   "metadata": {},
   "outputs": [
    {
     "name": "stdout",
     "output_type": "stream",
     "text": [
      "ComposedOp([\n",
      "  DictMeasurement({'1': 1}),\n",
      "  DictStateFn({'1': 1})\n",
      "])\n"
     ]
    }
   ],
   "source": [
    "print(~One @ One)"
   ]
  },
  {
   "cell_type": "markdown",
   "metadata": {},
   "source": [
    "Note that the `is_measurement` flag causes the (bra) state `~One` to be printed `DictMeasurement`."
   ]
  },
  {
   "cell_type": "markdown",
   "metadata": {},
   "source": [
    "Symbolic expressions may be evaluated with the `eval` method."
   ]
  },
  {
   "cell_type": "code",
   "execution_count": 22,
   "metadata": {},
   "outputs": [
    {
     "data": {
      "text/plain": [
       "1.0"
      ]
     },
     "execution_count": 22,
     "metadata": {},
     "output_type": "execute_result"
    }
   ],
   "source": [
    "(~One @ One).eval()"
   ]
  },
  {
   "cell_type": "code",
   "execution_count": 23,
   "metadata": {},
   "outputs": [
    {
     "data": {
      "text/plain": [
       "0.9999999999999998"
      ]
     },
     "execution_count": 23,
     "metadata": {},
     "output_type": "execute_result"
    }
   ],
   "source": [
    "(~v_zero_one @ v_zero_one).eval()"
   ]
  },
  {
   "cell_type": "markdown",
   "metadata": {},
   "source": [
    "Here is $\\langle - | 1 \\rangle = \\langle (\\langle 0| - \\langle 1|)/\\sqrt{2} | 1\\rangle$."
   ]
  },
  {
   "cell_type": "code",
   "execution_count": 24,
   "metadata": {},
   "outputs": [
    {
     "data": {
      "text/plain": [
       "(-0.7071067811865475-8.7e-17j)"
      ]
     },
     "execution_count": 24,
     "metadata": {},
     "output_type": "execute_result"
    }
   ],
   "source": [
    "(~Minus @ One).eval()"
   ]
  },
  {
   "cell_type": "markdown",
   "metadata": {},
   "source": [
    "The composition operator `@` is equivalent to calling the `compose` method."
   ]
  },
  {
   "cell_type": "code",
   "execution_count": 25,
   "metadata": {},
   "outputs": [
    {
     "name": "stdout",
     "output_type": "stream",
     "text": [
      "ComposedOp([\n",
      "  DictMeasurement({'1': 1}),\n",
      "  DictStateFn({'1': 1})\n",
      "])\n"
     ]
    }
   ],
   "source": [
    "print((~One).compose(One))"
   ]
  },
  {
   "cell_type": "markdown",
   "metadata": {},
   "source": [
    "Inner products may also be computed using the `eval` method directly, without constructing a `ComposedOp`."
   ]
  },
  {
   "cell_type": "code",
   "execution_count": 26,
   "metadata": {},
   "outputs": [
    {
     "data": {
      "text/plain": [
       "1.0"
      ]
     },
     "execution_count": 26,
     "metadata": {},
     "output_type": "execute_result"
    }
   ],
   "source": [
    "(~One).eval(One)"
   ]
  },
  {
   "cell_type": "markdown",
   "metadata": {},
   "source": [
    "Symbolic tensor products are constructed as follows. Here is $|0\\rangle \\otimes |+\\rangle$."
   ]
  },
  {
   "cell_type": "code",
   "execution_count": 27,
   "metadata": {},
   "outputs": [
    {
     "name": "stdout",
     "output_type": "stream",
     "text": [
      "TensoredOp([\n",
      "  DictStateFn({'0': 1}),\n",
      "  CircuitStateFn(\n",
      "     ┌───┐\n",
      "  q: ┤ H ├\n",
      "     └───┘\n",
      "  )\n",
      "])\n"
     ]
    }
   ],
   "source": [
    "print(Zero^Plus)"
   ]
  },
  {
   "cell_type": "markdown",
   "metadata": {},
   "source": [
    "This may be represented as a simple (not compound) `CircuitStateFn`."
   ]
  },
  {
   "cell_type": "code",
   "execution_count": 28,
   "metadata": {
    "scrolled": false
   },
   "outputs": [
    {
     "name": "stdout",
     "output_type": "stream",
     "text": [
      "CircuitStateFn(\n",
      "     ┌───┐\n",
      "q_0: ┤ H ├\n",
      "     └───┘\n",
      "q_1: ─────\n",
      "          \n",
      ")\n"
     ]
    }
   ],
   "source": [
    "print((Zero^Plus).to_circuit_op())"
   ]
  },
  {
   "cell_type": "markdown",
   "metadata": {},
   "source": [
    "Tensor powers are constructed using the caret `^` as follows. Here are $600 (|11111\\rangle + |00000\\rangle)$, and $|10\\rangle^{\\otimes 3}$."
   ]
  },
  {
   "cell_type": "code",
   "execution_count": 29,
   "metadata": {},
   "outputs": [
    {
     "name": "stdout",
     "output_type": "stream",
     "text": [
      "DictStateFn({'11111': 1.0, '00000': 1.0}) * 600.0\n",
      "DictStateFn({'101010': 1})\n"
     ]
    }
   ],
   "source": [
    "print(600 * ((One^5) + (Zero^5)))\n",
    "print((One^Zero)^3)"
   ]
  },
  {
   "cell_type": "markdown",
   "metadata": {},
   "source": [
    "The method `to_matrix_op` converts to `VectorStateFn`."
   ]
  },
  {
   "cell_type": "code",
   "execution_count": 30,
   "metadata": {},
   "outputs": [
    {
     "name": "stdout",
     "output_type": "stream",
     "text": [
      "VectorStateFn(Statevector([ 0.25-6.1e-17j, -0.25+6.1e-17j,  0.25-6.1e-17j,\n",
      "             -0.25+6.1e-17j, -0.25+6.1e-17j,  0.25-6.1e-17j,\n",
      "             -0.25+6.1e-17j,  0.25-6.1e-17j,  0.25-6.1e-17j,\n",
      "             -0.25+6.1e-17j,  0.25-6.1e-17j, -0.25+6.1e-17j,\n",
      "             -0.25+6.1e-17j,  0.25-6.1e-17j, -0.25+6.1e-17j,\n",
      "              0.25-6.1e-17j],\n",
      "            dims=(2, 2, 2, 2)))\n",
      "CircuitStateFn(\n",
      "     ┌───┐\n",
      "q_0: ┤ X ├\n",
      "     ├───┤\n",
      "q_1: ┤ H ├\n",
      "     ├───┤\n",
      "q_2: ┤ X ├\n",
      "     ├───┤\n",
      "q_3: ┤ H ├\n",
      "     └───┘\n",
      ")\n",
      "{'1101': 0.2734375, '0111': 0.2509765625, '1111': 0.24609375, '0101': 0.2294921875}\n"
     ]
    }
   ],
   "source": [
    "print(((Plus^Minus)^2).to_matrix_op())\n",
    "print(((Plus^One)^2).to_circuit_op())\n",
    "print(((Plus^One)^2).to_matrix_op().sample())"
   ]
  },
  {
   "cell_type": "markdown",
   "metadata": {},
   "source": [
    "Constructing a StateFn is easy. The `StateFn` class also serves as a factory, and can take any applicable primitive in its constructor and return the correct StateFn subclass. Currently the following primitives can be passed into the constructor, listed alongside the `StateFn` subclass they produce:\n",
    "\n",
    "* str (equal to some basis bitstring) -> DictStateFn\n",
    "* dict  -> DictStateFn\n",
    "* Qiskit Result object -> DictStateFn\n",
    "* list -> VectorStateFn\n",
    "* np.ndarray -> VectorStateFn\n",
    "* Statevector -> VectorStateFn\n",
    "* QuantumCircuit -> CircuitStateFn\n",
    "* Instruction -> CircuitStateFn\n",
    "* OperatorBase -> OperatorStateFn"
   ]
  },
  {
   "cell_type": "code",
   "execution_count": 31,
   "metadata": {},
   "outputs": [
    {
     "name": "stdout",
     "output_type": "stream",
     "text": [
      "DictStateFn({'0': 1})\n",
      "True\n",
      "VectorStateFn(Statevector([0.+0.j, 1.+0.j, 1.+0.j, 0.+0.j],\n",
      "            dims=(2, 2)))\n",
      "CircuitStateFn(\n",
      "     ┌──────────────────────────────────────────────────────────┐\n",
      "q_0: ┤0                                                         ├\n",
      "     │  RealAmplitudes(θ[0],θ[1],θ[2],θ[3],θ[4],θ[5],θ[6],θ[7]) │\n",
      "q_1: ┤1                                                         ├\n",
      "     └──────────────────────────────────────────────────────────┘\n",
      ")\n"
     ]
    }
   ],
   "source": [
    "print(StateFn({'0':1}))\n",
    "print(StateFn({'0':1}) == Zero)\n",
    "\n",
    "print(StateFn([0,1,1,0]))\n",
    "\n",
    "from qiskit.circuit.library import RealAmplitudes\n",
    "print(StateFn(RealAmplitudes(2)))"
   ]
  },
  {
   "cell_type": "markdown",
   "metadata": {},
   "source": [
    "## Part II: `PrimitiveOp`s\n",
    "\n",
    "The basic Operators are subclasses of `PrimitiveOp`. Just like `StateFn`, `PrimitiveOp` is also a factory for creating the correct type of `PrimitiveOp` for a given primitive. Currently, the following primitives can be passed into the constructor, listed alongside the `PrimitiveOp` subclass they produce:\n",
    "\n",
    "* Terra's Pauli -> PauliOp\n",
    "* Instruction -> CircuitOp\n",
    "* QuantumCircuit -> CircuitOp\n",
    "* 2d List -> MatrixOp\n",
    "* np.ndarray -> MatrixOp\n",
    "* spmatrix -> MatrixOp\n",
    "* Terra's quantum_info.Operator -> MatrixOp"
   ]
  },
  {
   "cell_type": "code",
   "execution_count": 32,
   "metadata": {},
   "outputs": [],
   "source": [
    "from qiskit.opflow import X, Y, Z, I, CX, T, H, S, PrimitiveOp"
   ]
  },
  {
   "cell_type": "markdown",
   "metadata": {},
   "source": [
    "### Matrix elements"
   ]
  },
  {
   "cell_type": "markdown",
   "metadata": {},
   "source": [
    "The `eval` method returns a column from an operator. For example, the Pauli $X$ operator is represented by a `PauliOp`. Asking for a column returns an instance of the sparse representation, a `DictStateFn`."
   ]
  },
  {
   "cell_type": "code",
   "execution_count": 33,
   "metadata": {},
   "outputs": [
    {
     "data": {
      "text/plain": [
       "PauliOp(Pauli('X'), coeff=1.0)"
      ]
     },
     "execution_count": 33,
     "metadata": {},
     "output_type": "execute_result"
    }
   ],
   "source": [
    "X"
   ]
  },
  {
   "cell_type": "code",
   "execution_count": 34,
   "metadata": {},
   "outputs": [
    {
     "name": "stdout",
     "output_type": "stream",
     "text": [
      "DictStateFn({'1': (1+0j)})\n"
     ]
    }
   ],
   "source": [
    "print(X.eval('0'))"
   ]
  },
  {
   "cell_type": "markdown",
   "metadata": {},
   "source": [
    "It follows that indexing into an operator, that is obtaining a matrix element, is performed with two calls to the `eval` method."
   ]
  },
  {
   "cell_type": "markdown",
   "metadata": {},
   "source": [
    "We have $X = \\left(\\begin{matrix} 0 & 1 \\\\\n",
    "                            1 & 0\n",
    "                            \\end{matrix} \\right)$. And the matrix element $\\left\\{X \\right\\}_{0,1}$ is"
   ]
  },
  {
   "cell_type": "code",
   "execution_count": 35,
   "metadata": {},
   "outputs": [
    {
     "data": {
      "text/plain": [
       "(1+0j)"
      ]
     },
     "execution_count": 35,
     "metadata": {},
     "output_type": "execute_result"
    }
   ],
   "source": [
    "X.eval('0').eval('1')"
   ]
  },
  {
   "cell_type": "markdown",
   "metadata": {},
   "source": [
    "Here is an example using the two qubit operator `CX`, the controlled `X`, which is represented by a circuit."
   ]
  },
  {
   "cell_type": "code",
   "execution_count": 36,
   "metadata": {},
   "outputs": [
    {
     "name": "stdout",
     "output_type": "stream",
     "text": [
      "          \n",
      "q_0: ──■──\n",
      "     ┌─┴─┐\n",
      "q_1: ┤ X ├\n",
      "     └───┘\n",
      "[[1. 0. 0. 0.]\n",
      " [0. 0. 0. 1.]\n",
      " [0. 0. 1. 0.]\n",
      " [0. 1. 0. 0.]]\n"
     ]
    }
   ],
   "source": [
    "print(CX)\n",
    "print(CX.to_matrix().real) # The imaginary part vanishes."
   ]
  },
  {
   "cell_type": "code",
   "execution_count": 37,
   "metadata": {},
   "outputs": [
    {
     "data": {
      "text/plain": [
       "VectorStateFn(Statevector([0.+0.j, 0.+0.j, 0.+0.j, 1.+0.j],\n",
       "            dims=(2, 2)), coeff=1.0, is_measurement=False)"
      ]
     },
     "execution_count": 37,
     "metadata": {},
     "output_type": "execute_result"
    }
   ],
   "source": [
    "CX.eval('01')  # 01 is the one in decimal. We get the first column."
   ]
  },
  {
   "cell_type": "code",
   "execution_count": 38,
   "metadata": {},
   "outputs": [
    {
     "data": {
      "text/plain": [
       "(1+0j)"
      ]
     },
     "execution_count": 38,
     "metadata": {},
     "output_type": "execute_result"
    }
   ],
   "source": [
    "CX.eval('01').eval('11')  # This returns element with (zero-based) index (1, 3)"
   ]
  },
  {
   "cell_type": "markdown",
   "metadata": {},
   "source": [
    "### Applying an operator to a state vector"
   ]
  },
  {
   "cell_type": "markdown",
   "metadata": {},
   "source": [
    "Applying an operator to a state vector may be done with the `compose` method (equivalently, `@` operator). Here is a representation of $X | 1 \\rangle = |0\\rangle$."
   ]
  },
  {
   "cell_type": "code",
   "execution_count": 39,
   "metadata": {},
   "outputs": [
    {
     "name": "stdout",
     "output_type": "stream",
     "text": [
      "ComposedOp([\n",
      "  X,\n",
      "  DictStateFn({'1': 1})\n",
      "])\n"
     ]
    }
   ],
   "source": [
    "print(X @ One)"
   ]
  },
  {
   "cell_type": "markdown",
   "metadata": {},
   "source": [
    "A simpler representation, the `DictStateFn` representation of $|0\\rangle$, is obtained with `eval`."
   ]
  },
  {
   "cell_type": "code",
   "execution_count": 40,
   "metadata": {},
   "outputs": [
    {
     "data": {
      "text/plain": [
       "DictStateFn({'0': (1+0j)}, coeff=(1+0j), is_measurement=False)"
      ]
     },
     "execution_count": 40,
     "metadata": {},
     "output_type": "execute_result"
    }
   ],
   "source": [
    "(X @ One).eval()"
   ]
  },
  {
   "cell_type": "markdown",
   "metadata": {},
   "source": [
    "The intermediate `ComposedOp` step may be avoided by using `eval` directly."
   ]
  },
  {
   "cell_type": "code",
   "execution_count": 41,
   "metadata": {},
   "outputs": [
    {
     "data": {
      "text/plain": [
       "DictStateFn({'0': (1+0j)}, coeff=(1+0j), is_measurement=False)"
      ]
     },
     "execution_count": 41,
     "metadata": {},
     "output_type": "execute_result"
    }
   ],
   "source": [
    "X.eval(One)"
   ]
  },
  {
   "cell_type": "markdown",
   "metadata": {},
   "source": [
    "Composition and tensor products of operators are effected with `@` and `^`. Here are some examples."
   ]
  },
  {
   "cell_type": "code",
   "execution_count": 42,
   "metadata": {},
   "outputs": [
    {
     "name": "stdout",
     "output_type": "stream",
     "text": [
      "(1+0j)\n",
      "          ┌───┐          ┌───┐     \n",
      "q_0: ──■──┤ H ├───────■──┤ H ├─────\n",
      "     ┌─┴─┐└───┘┌───┐┌─┴─┐└───┘┌───┐\n",
      "q_1: ┤ X ├──■──┤ H ├┤ X ├──■──┤ H ├\n",
      "     └───┘┌─┴─┐├───┤└───┘┌─┴─┐├───┤\n",
      "q_2: ──■──┤ X ├┤ H ├──■──┤ X ├┤ H ├\n",
      "     ┌─┴─┐└───┘├───┤┌─┴─┐└───┘├───┤\n",
      "q_3: ┤ X ├──■──┤ H ├┤ X ├──■──┤ H ├\n",
      "     └───┘┌─┴─┐├───┤└───┘┌─┴─┐├───┤\n",
      "q_4: ─────┤ X ├┤ H ├─────┤ X ├┤ H ├\n",
      "          └───┘└───┘     └───┘└───┘\n",
      "CircuitStateFn(\n",
      "     ┌───┐┌───┐     ┌───┐          ┌───┐     \n",
      "q_0: ┤ X ├┤ H ├──■──┤ H ├───────■──┤ H ├─────\n",
      "     ├───┤├───┤┌─┴─┐└───┘┌───┐┌─┴─┐└───┘┌───┐\n",
      "q_1: ┤ X ├┤ H ├┤ X ├──■──┤ H ├┤ X ├──■──┤ H ├\n",
      "     ├───┤├───┤└───┘┌─┴─┐├───┤└───┘┌─┴─┐├───┤\n",
      "q_2: ┤ X ├┤ H ├──■──┤ X ├┤ H ├──■──┤ X ├┤ H ├\n",
      "     ├───┤├───┤┌─┴─┐└───┘├───┤┌─┴─┐└───┘├───┤\n",
      "q_3: ┤ X ├┤ H ├┤ X ├──■──┤ H ├┤ X ├──■──┤ H ├\n",
      "     ├───┤├───┤└───┘┌─┴─┐├───┤└───┘┌─┴─┐├───┤\n",
      "q_4: ┤ X ├┤ H ├─────┤ X ├┤ H ├─────┤ X ├┤ H ├\n",
      "     └───┘└───┘     └───┘└───┘     └───┘└───┘\n",
      ")\n",
      "CircuitStateFn(\n",
      "     ┌─────────────┐     \n",
      "q_0: ┤0            ├─────\n",
      "     │             │     \n",
      "q_1: ┤1 Pauli(XII) ├─────\n",
      "     │             │┌───┐\n",
      "q_2: ┤2            ├┤ H ├\n",
      "     └─────────────┘└───┘\n",
      ")\n"
     ]
    }
   ],
   "source": [
    "print(((~One^2) @ (CX.eval('01'))).eval())\n",
    "\n",
    "print(((H^5) @ ((CX^2)^I) @ (I^(CX^2)))**2)\n",
    "print((((H^5) @ ((CX^2)^I) @ (I^(CX^2)))**2) @ (Minus^5))\n",
    "print(((H^I^I)@(X^I^I)@Zero))"
   ]
  },
  {
   "cell_type": "code",
   "execution_count": 43,
   "metadata": {},
   "outputs": [
    {
     "name": "stdout",
     "output_type": "stream",
     "text": [
      "ComposedOp([\n",
      "  DictMeasurement({'1': 1}),\n",
      "  CircuitStateFn(\n",
      "     ┌───┐┌───┐\n",
      "  q: ┤ X ├┤ H ├\n",
      "     └───┘└───┘\n",
      "  )\n",
      "])\n"
     ]
    }
   ],
   "source": [
    "print(~One @ Minus)"
   ]
  },
  {
   "cell_type": "markdown",
   "metadata": {},
   "source": [
    "## Part III: `ListOp` and subclasses"
   ]
  },
  {
   "cell_type": "markdown",
   "metadata": {},
   "source": [
    "### `ListOp`\n",
    "\n",
    "`ListOp` is a container for effectively vectorizing operations over a list of operators and states."
   ]
  },
  {
   "cell_type": "code",
   "execution_count": 44,
   "metadata": {},
   "outputs": [
    {
     "name": "stdout",
     "output_type": "stream",
     "text": [
      "ComposedOp([\n",
      "  ListOp([\n",
      "    DictMeasurement({'1': 1}),\n",
      "    DictMeasurement({'0': 1})\n",
      "  ]),\n",
      "  ListOp([\n",
      "    DictStateFn({'1': 1}),\n",
      "    DictStateFn({'0': 1})\n",
      "  ])\n",
      "])\n"
     ]
    }
   ],
   "source": [
    "from qiskit.opflow import ListOp\n",
    "\n",
    "print((~ListOp([One, Zero]) @ ListOp([One, Zero])))"
   ]
  },
  {
   "cell_type": "markdown",
   "metadata": {},
   "source": [
    "For example, the composition above is distributed over the lists (`ListOp`) using the simplification method `reduce`."
   ]
  },
  {
   "cell_type": "code",
   "execution_count": 45,
   "metadata": {},
   "outputs": [
    {
     "name": "stdout",
     "output_type": "stream",
     "text": [
      "ListOp([\n",
      "  ListOp([\n",
      "    ComposedOp([\n",
      "      DictMeasurement({'1': 1}),\n",
      "      DictStateFn({'1': 1})\n",
      "    ]),\n",
      "    ComposedOp([\n",
      "      DictMeasurement({'1': 1}),\n",
      "      DictStateFn({'0': 1})\n",
      "    ])\n",
      "  ]),\n",
      "  ListOp([\n",
      "    ComposedOp([\n",
      "      DictMeasurement({'0': 1}),\n",
      "      DictStateFn({'1': 1})\n",
      "    ]),\n",
      "    ComposedOp([\n",
      "      DictMeasurement({'0': 1}),\n",
      "      DictStateFn({'0': 1})\n",
      "    ])\n",
      "  ])\n",
      "])\n"
     ]
    }
   ],
   "source": [
    "print((~ListOp([One, Zero]) @ ListOp([One, Zero])).reduce())"
   ]
  },
  {
   "cell_type": "markdown",
   "metadata": {},
   "source": [
    "### `ListOp`s: `SummedOp`, `ComposedOp`, `TensoredOp`\n",
    "\n",
    "`ListOp`, introduced above, is useful for vectorizing operations. But, it also serves as the superclass for list-like composite classes.\n",
    "If you've already played around with the above, you'll notice that you can easily perform operations between `OperatorBase`s which we may not know how to perform efficiently in general (or simply haven't implemented an efficient procedure for yet), such as addition between `CircuitOp`s. In those cases, you may receive a `ListOp` result (or subclass thereof) from your operation representing the lazy execution of the operation. For example, if you attempt to add together a `DictStateFn` and a `CircuitStateFn`, you'll receive a `SummedOp` representing the sum of the two. This composite State function still has a working `eval` (but may need to perform a non-scalable computation under the hood, such as converting both to vectors).\n",
    "\n",
    "These composite `OperatorBase`s are how we construct increasingly complex and rich computation out of `PrimitiveOp` and `StateFn` building blocks.\n",
    "\n",
    "Every `ListOp` has four properties:\n",
    "\n",
    "* `oplist` - The list of `OperatorBase`s which may represent terms, factors, etc.\n",
    "* `combo_fn` - The function taking a list of complex numbers to an output value which defines how to combine the outputs of the `oplist` items. For broadcasting simplicity, this function is defined over NumPy arrays.\n",
    "* `coeff` - A coefficient multiplying the primitive. Note that `coeff` can be int, float, complex or a free `Parameter` object (from `qiskit.circuit` in Terra) to be bound later using `my_op.bind_parameters`.\n",
    "* `abelian` - Indicates whether the Operators in `oplist` are known to mutually commute (usually set after being converted by the `AbelianGrouper` converter).\n",
    "\n",
    "Note that `ListOp` supports typical sequence overloads, so you can use indexing like `my_op[4]` to access the `OperatorBase`s in `oplist`."
   ]
  },
  {
   "cell_type": "markdown",
   "metadata": {},
   "source": [
    "### `OperatorStateFn`\n",
    "\n",
    "We mentioned above that `OperatorStateFn` represents a density operator. But, if the `is_measurement` flag is `True`, then `OperatorStateFn` represents an observable. The expectation value of this observable can then be constructed via `ComposedOp`. Or, directly, using `eval`. Recall that the `is_measurement` flag (property) is set via the `adjoint` method."
   ]
  },
  {
   "cell_type": "markdown",
   "metadata": {},
   "source": [
    "Here we construct the observable corresponding to the Pauli $Z$ operator. Note that when printing, it is called `OperatorMeasurement`."
   ]
  },
  {
   "cell_type": "code",
   "execution_count": 46,
   "metadata": {},
   "outputs": [
    {
     "name": "stdout",
     "output_type": "stream",
     "text": [
      "OperatorMeasurement(Z)\n"
     ]
    },
    {
     "data": {
      "text/plain": [
       "OperatorStateFn(PauliOp(Pauli('Z'), coeff=1.0), coeff=1.0, is_measurement=True)"
      ]
     },
     "execution_count": 46,
     "metadata": {},
     "output_type": "execute_result"
    }
   ],
   "source": [
    "print(StateFn(Z).adjoint())\n",
    "StateFn(Z).adjoint()"
   ]
  },
  {
   "cell_type": "markdown",
   "metadata": {},
   "source": [
    "Here, we compute $\\langle 0 | Z | 0 \\rangle$, $\\langle 1 | Z | 1 \\rangle$, and $\\langle + | Z | + \\rangle$, where $|+\\rangle = (|0\\rangle + |1\\rangle)/\\sqrt{2}$."
   ]
  },
  {
   "cell_type": "code",
   "execution_count": 47,
   "metadata": {},
   "outputs": [
    {
     "name": "stdout",
     "output_type": "stream",
     "text": [
      "(1+0j)\n",
      "(-1+0j)\n",
      "0j\n"
     ]
    }
   ],
   "source": [
    "print(StateFn(Z).adjoint().eval(Zero))\n",
    "print(StateFn(Z).adjoint().eval(One))\n",
    "print(StateFn(Z).adjoint().eval(Plus))"
   ]
  },
  {
   "cell_type": "markdown",
   "metadata": {},
   "source": [
    "## Part IV: Converters\n",
    "\n",
    "Converters are classes that manipulate operators and states and perform building blocks of algorithms. Examples include changing the basis of operators and Trotterization.\n",
    "Converters traverse an expression and perform a particular manipulation or replacement, defined by the converter's `convert()` method, of the Operators within. Typically, if a converter encounters an `OperatorBase` in the recursion which is irrelevant to its conversion purpose, that `OperatorBase` is left unchanged."
   ]
  },
  {
   "cell_type": "code",
   "execution_count": 48,
   "metadata": {},
   "outputs": [],
   "source": [
    "import numpy as np\n",
    "from qiskit.opflow import I, X, Y, Z, H, CX, Zero, ListOp, PauliExpectation, PauliTrotterEvolution, CircuitSampler, MatrixEvolution, Suzuki\n",
    "from qiskit.circuit import Parameter\n",
    "from qiskit import Aer"
   ]
  },
  {
   "cell_type": "markdown",
   "metadata": {},
   "source": [
    "### Evolutions, `exp_i()`, and the `EvolvedOp`\n",
    "\n",
    "Every `PrimitiveOp` and `ListOp` has an `.exp_i()` function such that `H.exp_i()` corresponds to $e^{-iH}$. In practice, only a few of these Operators have an efficiently computable exponentiation (such as MatrixOp and the PauliOps with only one non-identity single-qubit Pauli), so we need to return a placeholder, or symbolic representation, (similar to how `SummedOp` is a placeholder when we can't perform addition). This placeholder is called `EvolvedOp`, and it holds the `OperatorBase` to be exponentiated in its `.primitive` property.\n",
    "\n",
    "Qiskit operators fully support parameterization, so we can use a `Parameter` for our evolution time here. Notice that there's no \"evolution time\" argument in any function. The Operator flow exponentiates whatever operator we tell it to, and if we choose to multiply the operator by an evolution time, $e^{-iHt}$, that will be reflected in our exponentiation parameters."
   ]
  },
  {
   "cell_type": "markdown",
   "metadata": {},
   "source": [
    "#### Weighted sum of Pauli operators\n",
    "A Hamiltonian expressed as a linear combination of multi-qubit Pauli operators may be constructed like this."
   ]
  },
  {
   "cell_type": "code",
   "execution_count": 49,
   "metadata": {},
   "outputs": [],
   "source": [
    "two_qubit_H2 =  (-1.0523732 * I^I) + \\\n",
    "                (0.39793742 * I^Z) + \\\n",
    "                (-0.3979374 * Z^I) + \\\n",
    "                (-0.0112801 * Z^Z) + \\\n",
    "                (0.18093119 * X^X)"
   ]
  },
  {
   "cell_type": "markdown",
   "metadata": {},
   "source": [
    "Note that `two_qubit_H2` is represented as a `SummedOp` whose terms are `PauliOp`s."
   ]
  },
  {
   "cell_type": "code",
   "execution_count": 50,
   "metadata": {},
   "outputs": [
    {
     "name": "stdout",
     "output_type": "stream",
     "text": [
      "-1.0523732 * II\n",
      "+ 0.39793742 * IZ\n",
      "- 0.3979374 * ZI\n",
      "- 0.0112801 * ZZ\n",
      "+ 0.18093119 * XX\n"
     ]
    }
   ],
   "source": [
    "print(two_qubit_H2)"
   ]
  },
  {
   "cell_type": "markdown",
   "metadata": {},
   "source": [
    "Next, we multiply the Hamiltonian by a `Parameter`. This `Parameter` is stored in the `coeff` property of the `SummedOp`. Calling `exp_i()` on the result wraps it in `EvolvedOp`, representing exponentiation."
   ]
  },
  {
   "cell_type": "code",
   "execution_count": 51,
   "metadata": {},
   "outputs": [
    {
     "name": "stdout",
     "output_type": "stream",
     "text": [
      "e^(-i*1.0*θ * (\n",
      "  -1.0523732 * II\n",
      "  + 0.39793742 * IZ\n",
      "  - 0.3979374 * ZI\n",
      "  - 0.0112801 * ZZ\n",
      "  + 0.18093119 * XX\n",
      "))\n",
      "EvolvedOp(PauliSumOp(SparsePauliOp(['II', 'IZ', 'ZI', 'ZZ', 'XX'],\n",
      "              coeffs=[-1.0523732 +0.j,  0.39793742+0.j, -0.3979374 +0.j, -0.0112801 +0.j,\n",
      "  0.18093119+0.j]), coeff=1.0*θ), coeff=1.0)\n"
     ]
    }
   ],
   "source": [
    "evo_time = Parameter('θ')\n",
    "evolution_op = (evo_time*two_qubit_H2).exp_i()\n",
    "print(evolution_op) # Note, EvolvedOps print as exponentiations\n",
    "print(repr(evolution_op))"
   ]
  },
  {
   "cell_type": "markdown",
   "metadata": {},
   "source": [
    "We construct `h2_measurement`, which represents `two_qubit_H2` as an observable."
   ]
  },
  {
   "cell_type": "code",
   "execution_count": 52,
   "metadata": {},
   "outputs": [
    {
     "name": "stdout",
     "output_type": "stream",
     "text": [
      "OperatorMeasurement(-1.0523732 * II\n",
      "+ 0.39793742 * IZ\n",
      "- 0.3979374 * ZI\n",
      "- 0.0112801 * ZZ\n",
      "+ 0.18093119 * XX)\n"
     ]
    }
   ],
   "source": [
    "h2_measurement = StateFn(two_qubit_H2).adjoint()\n",
    "print(h2_measurement)"
   ]
  },
  {
   "cell_type": "markdown",
   "metadata": {},
   "source": [
    "We construct a Bell state $|\\Phi_+\\rangle$ via $\\text{CX} (H\\otimes I) |00\\rangle$."
   ]
  },
  {
   "cell_type": "code",
   "execution_count": 53,
   "metadata": {},
   "outputs": [
    {
     "name": "stdout",
     "output_type": "stream",
     "text": [
      "CircuitStateFn(\n",
      "     ┌───┐     \n",
      "q_0: ┤ H ├──■──\n",
      "     └───┘┌─┴─┐\n",
      "q_1: ─────┤ X ├\n",
      "          └───┘\n",
      ")\n"
     ]
    }
   ],
   "source": [
    "bell = CX @ (I ^ H) @ Zero\n",
    "print(bell)"
   ]
  },
  {
   "cell_type": "markdown",
   "metadata": {},
   "source": [
    "Here is the expression $H e^{-iHt} |\\Phi_+\\rangle$."
   ]
  },
  {
   "cell_type": "code",
   "execution_count": 54,
   "metadata": {},
   "outputs": [
    {
     "name": "stdout",
     "output_type": "stream",
     "text": [
      "ComposedOp([\n",
      "  OperatorMeasurement(-1.0523732 * II\n",
      "  + 0.39793742 * IZ\n",
      "  - 0.3979374 * ZI\n",
      "  - 0.0112801 * ZZ\n",
      "  + 0.18093119 * XX),\n",
      "  e^(-i*1.0*θ * (\n",
      "    -1.0523732 * II\n",
      "    + 0.39793742 * IZ\n",
      "    - 0.3979374 * ZI\n",
      "    - 0.0112801 * ZZ\n",
      "    + 0.18093119 * XX\n",
      "  )),\n",
      "  CircuitStateFn(\n",
      "       ┌───┐     \n",
      "  q_0: ┤ H ├──■──\n",
      "       └───┘┌─┴─┐\n",
      "  q_1: ─────┤ X ├\n",
      "            └───┘\n",
      "  )\n",
      "])\n"
     ]
    }
   ],
   "source": [
    "evo_and_meas = h2_measurement @ evolution_op @ bell\n",
    "print(evo_and_meas)"
   ]
  },
  {
   "cell_type": "markdown",
   "metadata": {},
   "source": [
    "Typically, we want to approximate $e^{-iHt}$ using two-qubit gates. We achieve this with the `convert` method of `PauliTrotterEvolution`, which traverses expressions applying trotterization to all `EvolvedOp`s encountered. Although we use `PauliTrotterEvolution` here, there are other possibilities, such as `MatrixEvolution`, which performs the exponentiation exactly."
   ]
  },
  {
   "cell_type": "code",
   "execution_count": 55,
   "metadata": {},
   "outputs": [
    {
     "name": "stdout",
     "output_type": "stream",
     "text": [
      "ComposedOp([\n",
      "  OperatorMeasurement(-1.0523732 * II\n",
      "  + 0.39793742 * IZ\n",
      "  - 0.3979374 * ZI\n",
      "  - 0.0112801 * ZZ\n",
      "  + 0.18093119 * XX),\n",
      "  CircuitStateFn(\n",
      "  global phase: 1.0523732*θ\n",
      "       ┌───┐     ┌───┐┌───┐┌──────────────────┐┌───┐┌───┐┌───┐»\n",
      "  q_0: ┤ H ├──■──┤ H ├┤ X ├┤ Rz(0.18093119*θ) ├┤ X ├┤ H ├┤ X ├»\n",
      "       └───┘┌─┴─┐├───┤└─┬─┘└──────────────────┘└─┬─┘├───┤└─┬─┘»\n",
      "  q_1: ─────┤ X ├┤ H ├──■────────────────────────■──┤ H ├──■──»\n",
      "            └───┘└───┘                              └───┘     »\n",
      "  «     ┌──────────────────┐┌───┐┌──────────────────┐┌──────────────────┐┌───┐»\n",
      "  «q_0: ┤ Rz(-0.0112801*θ) ├┤ X ├┤ Rz(0.39793742*θ) ├┤ Rz(0.39793742*θ) ├┤ X ├»\n",
      "  «     └──────────────────┘└─┬─┘├──────────────────┤├──────────────────┤└─┬─┘»\n",
      "  «q_1: ──────────────────────■──┤ Rz(-0.3979374*θ) ├┤ Rz(-0.3979374*θ) ├──■──»\n",
      "  «                              └──────────────────┘└──────────────────┘     »\n",
      "  «     ┌──────────────────┐┌───┐┌───┐┌───┐┌──────────────────┐┌───┐┌───┐\n",
      "  «q_0: ┤ Rz(-0.0112801*θ) ├┤ X ├┤ H ├┤ X ├┤ Rz(0.18093119*θ) ├┤ X ├┤ H ├\n",
      "  «     └──────────────────┘└─┬─┘├───┤└─┬─┘└──────────────────┘└─┬─┘├───┤\n",
      "  «q_1: ──────────────────────■──┤ H ├──■────────────────────────■──┤ H ├\n",
      "  «                              └───┘                              └───┘\n",
      "  )\n",
      "])\n"
     ]
    }
   ],
   "source": [
    "trotterized_op = PauliTrotterEvolution(trotter_mode=Suzuki(order=2, reps=1)).convert(evo_and_meas)\n",
    "# We can also set trotter_mode='suzuki' or leave it empty to default to first order Trotterization.\n",
    "print(trotterized_op)"
   ]
  },
  {
   "cell_type": "markdown",
   "metadata": {},
   "source": [
    "`trotterized_op` contains a `Parameter`. The `bind_parameters` method traverses the expression binding values to parameter names as specified via a `dict`. In this case, there is only one parameter."
   ]
  },
  {
   "cell_type": "code",
   "execution_count": 56,
   "metadata": {},
   "outputs": [],
   "source": [
    "bound = trotterized_op.bind_parameters({evo_time: .5})"
   ]
  },
  {
   "cell_type": "markdown",
   "metadata": {},
   "source": [
    "`bound` is a `ComposedOp`. The second factor is the circuit. Let's draw it to verify that the binding has taken place."
   ]
  },
  {
   "cell_type": "code",
   "execution_count": 57,
   "metadata": {},
   "outputs": [
    {
     "data": {
      "text/html": [
       "<pre style=\"word-wrap: normal;white-space: pre;background: #fff0;line-height: 1.1;font-family: &quot;Courier New&quot;,Courier,monospace\">global phase: 0.52619\n",
       "     ┌───┐     ┌───┐┌───┐┌─────────────────┐┌───┐┌───┐┌───┐┌─────────────────┐»\n",
       "q_0: ┤ H ├──■──┤ H ├┤ X ├┤ Rz(0.090465595) ├┤ X ├┤ H ├┤ X ├┤ Rz(-0.00564005) ├»\n",
       "     └───┘┌─┴─┐├───┤└─┬─┘└─────────────────┘└─┬─┘├───┤└─┬─┘└─────────────────┘»\n",
       "q_1: ─────┤ X ├┤ H ├──■───────────────────────■──┤ H ├──■─────────────────────»\n",
       "          └───┘└───┘                             └───┘                        »\n",
       "«     ┌───┐┌────────────────┐┌────────────────┐┌───┐┌─────────────────┐┌───┐»\n",
       "«q_0: ┤ X ├┤ Rz(0.19896871) ├┤ Rz(0.19896871) ├┤ X ├┤ Rz(-0.00564005) ├┤ X ├»\n",
       "«     └─┬─┘├────────────────┤├────────────────┤└─┬─┘└─────────────────┘└─┬─┘»\n",
       "«q_1: ──■──┤ Rz(-0.1989687) ├┤ Rz(-0.1989687) ├──■───────────────────────■──»\n",
       "«          └────────────────┘└────────────────┘                             »\n",
       "«     ┌───┐┌───┐┌─────────────────┐┌───┐┌───┐\n",
       "«q_0: ┤ H ├┤ X ├┤ Rz(0.090465595) ├┤ X ├┤ H ├\n",
       "«     ├───┤└─┬─┘└─────────────────┘└─┬─┘├───┤\n",
       "«q_1: ┤ H ├──■───────────────────────■──┤ H ├\n",
       "«     └───┘                             └───┘</pre>"
      ],
      "text/plain": [
       "global phase: 0.52619\n",
       "     ┌───┐     ┌───┐┌───┐┌─────────────────┐┌───┐┌───┐┌───┐┌─────────────────┐»\n",
       "q_0: ┤ H ├──■──┤ H ├┤ X ├┤ Rz(0.090465595) ├┤ X ├┤ H ├┤ X ├┤ Rz(-0.00564005) ├»\n",
       "     └───┘┌─┴─┐├───┤└─┬─┘└─────────────────┘└─┬─┘├───┤└─┬─┘└─────────────────┘»\n",
       "q_1: ─────┤ X ├┤ H ├──■───────────────────────■──┤ H ├──■─────────────────────»\n",
       "          └───┘└───┘                             └───┘                        »\n",
       "«     ┌───┐┌────────────────┐┌────────────────┐┌───┐┌─────────────────┐┌───┐»\n",
       "«q_0: ┤ X ├┤ Rz(0.19896871) ├┤ Rz(0.19896871) ├┤ X ├┤ Rz(-0.00564005) ├┤ X ├»\n",
       "«     └─┬─┘├────────────────┤├────────────────┤└─┬─┘└─────────────────┘└─┬─┘»\n",
       "«q_1: ──■──┤ Rz(-0.1989687) ├┤ Rz(-0.1989687) ├──■───────────────────────■──»\n",
       "«          └────────────────┘└────────────────┘                             »\n",
       "«     ┌───┐┌───┐┌─────────────────┐┌───┐┌───┐\n",
       "«q_0: ┤ H ├┤ X ├┤ Rz(0.090465595) ├┤ X ├┤ H ├\n",
       "«     ├───┤└─┬─┘└─────────────────┘└─┬─┘├───┤\n",
       "«q_1: ┤ H ├──■───────────────────────■──┤ H ├\n",
       "«     └───┘                             └───┘"
      ]
     },
     "execution_count": 57,
     "metadata": {},
     "output_type": "execute_result"
    }
   ],
   "source": [
    "bound[1].to_circuit().draw()"
   ]
  },
  {
   "cell_type": "markdown",
   "metadata": {},
   "source": [
    "### Expectations\n",
    "\n",
    "`Expectation`s are converters that enable the computation of expectation values of observables. They traverse an Operator tree, replacing `OperatorStateFn`s (observables) with equivalent instructions which are more amenable to\n",
    "computation on quantum or classical hardware. For example, if we want to measure the expectation value of an Operator `o` expressed as a sum of Paulis with respect to some state function, but can only access diagonal measurements on quantum hardware, we can create an observable `~StateFn(o)` and use a ``PauliExpectation`` to convert it to a diagonal measurement and circuit pre-rotations to append to the state.\n",
    "\n",
    "Another interesting `Expectation` is the `AerPauliExpectation`, which converts the observable into a `CircuitStateFn` containing a special expectation snapshot instruction which `Aer` can execute natively with high performance."
   ]
  },
  {
   "cell_type": "code",
   "execution_count": 58,
   "metadata": {},
   "outputs": [
    {
     "name": "stdout",
     "output_type": "stream",
     "text": [
      "SummedOp([\n",
      "  ComposedOp([\n",
      "    OperatorMeasurement(-1.0523732 * II),\n",
      "    II\n",
      "  ]),\n",
      "  ComposedOp([\n",
      "    OperatorMeasurement(0.39793742 * IZ),\n",
      "    II\n",
      "  ]),\n",
      "  ComposedOp([\n",
      "    OperatorMeasurement(-0.3979374 * ZI),\n",
      "    II\n",
      "  ]),\n",
      "  ComposedOp([\n",
      "    OperatorMeasurement(-0.0112801 * ZZ),\n",
      "    II\n",
      "  ]),\n",
      "  ComposedOp([\n",
      "    OperatorMeasurement(0.18093119 * ZZ),\n",
      "         ┌───┐\n",
      "    q_0: ┤ H ├\n",
      "         ├───┤\n",
      "    q_1: ┤ H ├\n",
      "         └───┘\n",
      "  ])\n",
      "])\n"
     ]
    }
   ],
   "source": [
    "# Note that XX was the only non-diagonal measurement in our H2 Observable\n",
    "print(PauliExpectation(group_paulis=False).convert(h2_measurement))"
   ]
  },
  {
   "cell_type": "markdown",
   "metadata": {},
   "source": [
    "By default `group_paulis=True`, which will use the `AbelianGrouper` to convert the `SummedOp` into groups of mutually qubit-wise commuting Paulis. This reduces circuit execution overhead, as each group can share the same circuit execution."
   ]
  },
  {
   "cell_type": "code",
   "execution_count": 59,
   "metadata": {},
   "outputs": [
    {
     "name": "stdout",
     "output_type": "stream",
     "text": [
      "SummedOp([\n",
      "  ComposedOp([\n",
      "    OperatorMeasurement(0.18093119 * ZZ\n",
      "    - 1.0523732 * II),\n",
      "         ┌───┐\n",
      "    q_0: ┤ H ├\n",
      "         ├───┤\n",
      "    q_1: ┤ H ├\n",
      "         └───┘\n",
      "  ]),\n",
      "  ComposedOp([\n",
      "    OperatorMeasurement(0.39793742 * IZ\n",
      "    - 0.3979374 * ZI\n",
      "    - 0.0112801 * ZZ),\n",
      "    II\n",
      "  ])\n",
      "])\n"
     ]
    }
   ],
   "source": [
    "print(PauliExpectation().convert(h2_measurement))"
   ]
  },
  {
   "cell_type": "markdown",
   "metadata": {},
   "source": [
    "Note that converters act recursively, that is, they traverse an expression applying their action only where possible. So we can just convert our full evolution and measurement expression. We could have equivalently composed the converted `h2_measurement` with our evolution `CircuitStateFn`. We proceed by applying the conversion on the entire expression."
   ]
  },
  {
   "cell_type": "code",
   "execution_count": 60,
   "metadata": {
    "scrolled": true
   },
   "outputs": [
    {
     "name": "stdout",
     "output_type": "stream",
     "text": [
      "SummedOp([\n",
      "  ComposedOp([\n",
      "    OperatorMeasurement(0.18093119 * ZZ\n",
      "    - 1.0523732 * II),\n",
      "    CircuitStateFn(\n",
      "    global phase: 1.0523732*θ\n",
      "         ┌───┐     ┌───┐┌───┐┌──────────────────┐┌───┐┌───┐┌───┐»\n",
      "    q_0: ┤ H ├──■──┤ H ├┤ X ├┤ Rz(0.18093119*θ) ├┤ X ├┤ H ├┤ X ├»\n",
      "         └───┘┌─┴─┐├───┤└─┬─┘└──────────────────┘└─┬─┘├───┤└─┬─┘»\n",
      "    q_1: ─────┤ X ├┤ H ├──■────────────────────────■──┤ H ├──■──»\n",
      "              └───┘└───┘                              └───┘     »\n",
      "    «     ┌──────────────────┐┌───┐┌──────────────────┐┌──────────────────┐┌───┐»\n",
      "    «q_0: ┤ Rz(-0.0112801*θ) ├┤ X ├┤ Rz(0.39793742*θ) ├┤ Rz(0.39793742*θ) ├┤ X ├»\n",
      "    «     └──────────────────┘└─┬─┘├──────────────────┤├──────────────────┤└─┬─┘»\n",
      "    «q_1: ──────────────────────■──┤ Rz(-0.3979374*θ) ├┤ Rz(-0.3979374*θ) ├──■──»\n",
      "    «                              └──────────────────┘└──────────────────┘     »\n",
      "    «     ┌──────────────────┐┌───┐┌───┐┌───┐┌──────────────────┐┌───┐┌───┐┌───┐\n",
      "    «q_0: ┤ Rz(-0.0112801*θ) ├┤ X ├┤ H ├┤ X ├┤ Rz(0.18093119*θ) ├┤ X ├┤ H ├┤ H ├\n",
      "    «     └──────────────────┘└─┬─┘├───┤└─┬─┘└──────────────────┘└─┬─┘├───┤├───┤\n",
      "    «q_1: ──────────────────────■──┤ H ├──■────────────────────────■──┤ H ├┤ H ├\n",
      "    «                              └───┘                              └───┘└───┘\n",
      "    )\n",
      "  ]),\n",
      "  ComposedOp([\n",
      "    OperatorMeasurement(0.39793742 * IZ\n",
      "    - 0.3979374 * ZI\n",
      "    - 0.0112801 * ZZ),\n",
      "    CircuitStateFn(\n",
      "    global phase: 1.0523732*θ\n",
      "         ┌───┐     ┌───┐┌───┐┌──────────────────┐┌───┐┌───┐┌───┐»\n",
      "    q_0: ┤ H ├──■──┤ H ├┤ X ├┤ Rz(0.18093119*θ) ├┤ X ├┤ H ├┤ X ├»\n",
      "         └───┘┌─┴─┐├───┤└─┬─┘└──────────────────┘└─┬─┘├───┤└─┬─┘»\n",
      "    q_1: ─────┤ X ├┤ H ├──■────────────────────────■──┤ H ├──■──»\n",
      "              └───┘└───┘                              └───┘     »\n",
      "    «     ┌──────────────────┐┌───┐┌──────────────────┐┌──────────────────┐┌───┐»\n",
      "    «q_0: ┤ Rz(-0.0112801*θ) ├┤ X ├┤ Rz(0.39793742*θ) ├┤ Rz(0.39793742*θ) ├┤ X ├»\n",
      "    «     └──────────────────┘└─┬─┘├──────────────────┤├──────────────────┤└─┬─┘»\n",
      "    «q_1: ──────────────────────■──┤ Rz(-0.3979374*θ) ├┤ Rz(-0.3979374*θ) ├──■──»\n",
      "    «                              └──────────────────┘└──────────────────┘     »\n",
      "    «     ┌──────────────────┐┌───┐┌───┐┌───┐┌──────────────────┐┌───┐┌───┐\n",
      "    «q_0: ┤ Rz(-0.0112801*θ) ├┤ X ├┤ H ├┤ X ├┤ Rz(0.18093119*θ) ├┤ X ├┤ H ├\n",
      "    «     └──────────────────┘└─┬─┘├───┤└─┬─┘└──────────────────┘└─┬─┘├───┤\n",
      "    «q_1: ──────────────────────■──┤ H ├──■────────────────────────■──┤ H ├\n",
      "    «                              └───┘                              └───┘\n",
      "    )\n",
      "  ])\n",
      "])\n"
     ]
    }
   ],
   "source": [
    "diagonalized_meas_op = PauliExpectation().convert(trotterized_op)\n",
    "print(diagonalized_meas_op)"
   ]
  },
  {
   "cell_type": "markdown",
   "metadata": {},
   "source": [
    "Now we bind multiple parameter values into a `ListOp`, followed by `eval` to evaluate the entire expression. We could have used `eval` earlier if we bound earlier, but it would not be efficient. Here, `eval` will convert our `CircuitStateFn`s to `VectorStateFn`s through simulation internally."
   ]
  },
  {
   "cell_type": "code",
   "execution_count": 61,
   "metadata": {},
   "outputs": [],
   "source": [
    "evo_time_points = list(range(8))\n",
    "h2_trotter_expectations = diagonalized_meas_op.bind_parameters({evo_time: evo_time_points})"
   ]
  },
  {
   "cell_type": "markdown",
   "metadata": {},
   "source": [
    "Here are the expectation values $\\langle \\Phi_+| e^{iHt} H e^{-iHt} |\\Phi_+\\rangle$ corresponding to the different values of the parameter."
   ]
  },
  {
   "cell_type": "code",
   "execution_count": 62,
   "metadata": {},
   "outputs": [
    {
     "data": {
      "text/plain": [
       "array([-0.88272211+0.0e+00j, -0.88272211+0.0e+00j, -0.88272211+0.0e+00j,\n",
       "       -0.88272211+0.0e+00j, -0.88272211+0.0e+00j, -0.88272211+0.0e+00j,\n",
       "       -0.88272211+5.6e-17j, -0.88272211+0.0e+00j])"
      ]
     },
     "execution_count": 62,
     "metadata": {},
     "output_type": "execute_result"
    }
   ],
   "source": [
    "h2_trotter_expectations.eval()"
   ]
  },
  {
   "cell_type": "markdown",
   "metadata": {},
   "source": [
    "### Executing `CircuitStateFn`s with the `CircuitSampler`\n",
    "\n",
    "The `CircuitSampler` traverses an Operator and converts any `CircuitStateFn`s into approximations of the resulting state function by a `DictStateFn` or `VectorStateFn` using a quantum backend. Note that in order to approximate the value of the `CircuitStateFn`, it must 1) send the state function through a depolarizing channel, which will destroy all phase information and 2) replace the sampled frequencies with **square roots** of the frequency, rather than the raw probability of sampling (which would be the equivalent of sampling the **square** of the state function, per the Born rule)."
   ]
  },
  {
   "cell_type": "code",
   "execution_count": 63,
   "metadata": {},
   "outputs": [
    {
     "name": "stdout",
     "output_type": "stream",
     "text": [
      "Sampled Trotterized energies:\n",
      " [-0.88272211 -0.88272211 -0.88272211 -0.88272211 -0.88272211 -0.88272211\n",
      " -0.88272211 -0.88272211]\n"
     ]
    }
   ],
   "source": [
    "sampler = CircuitSampler(backend=Aer.get_backend('aer_simulator'))\n",
    "# sampler.quantum_instance.run_config.shots = 1000\n",
    "sampled_trotter_exp_op = sampler.convert(h2_trotter_expectations)\n",
    "sampled_trotter_energies = sampled_trotter_exp_op.eval()\n",
    "print('Sampled Trotterized energies:\\n {}'.format(np.real(sampled_trotter_energies)))"
   ]
  },
  {
   "cell_type": "markdown",
   "metadata": {},
   "source": [
    "Note again that the circuits are replaced by dicts with ***square roots*** of the circuit sampling probabilities. Take a look at one sub-expression before and after the conversion:"
   ]
  },
  {
   "cell_type": "code",
   "execution_count": 64,
   "metadata": {},
   "outputs": [
    {
     "name": "stdout",
     "output_type": "stream",
     "text": [
      "Before:\n",
      "\n",
      "ComposedOp([\n",
      "  OperatorMeasurement(0.18093119 * ZZ\n",
      "  - 1.0523732 * II),\n",
      "  CircuitStateFn(\n",
      "       ┌───┐     ┌───┐┌───┐┌───────┐┌───┐┌───┐┌───┐┌───────┐┌───┐┌───────┐»\n",
      "  q_0: ┤ H ├──■──┤ H ├┤ X ├┤ Rz(0) ├┤ X ├┤ H ├┤ X ├┤ Rz(0) ├┤ X ├┤ Rz(0) ├»\n",
      "       └───┘┌─┴─┐├───┤└─┬─┘└───────┘└─┬─┘├───┤└─┬─┘└───────┘└─┬─┘├───────┤»\n",
      "  q_1: ─────┤ X ├┤ H ├──■─────────────■──┤ H ├──■─────────────■──┤ Rz(0) ├»\n",
      "            └───┘└───┘                   └───┘                   └───────┘»\n",
      "  «     ┌───────┐┌───┐┌───────┐┌───┐┌───┐┌───┐┌───────┐┌───┐┌───┐┌───┐\n",
      "  «q_0: ┤ Rz(0) ├┤ X ├┤ Rz(0) ├┤ X ├┤ H ├┤ X ├┤ Rz(0) ├┤ X ├┤ H ├┤ H ├\n",
      "  «     ├───────┤└─┬─┘└───────┘└─┬─┘├───┤└─┬─┘└───────┘└─┬─┘├───┤├───┤\n",
      "  «q_1: ┤ Rz(0) ├──■─────────────■──┤ H ├──■─────────────■──┤ H ├┤ H ├\n",
      "  «     └───────┘                   └───┘                   └───┘└───┘\n",
      "  )\n",
      "])\n",
      "\n",
      "After:\n",
      "\n",
      "ComposedOp([\n",
      "  OperatorMeasurement(0.18093119 * ZZ\n",
      "  - 1.0523732 * II),\n",
      "  DictStateFn({'00': 0.7167090588237321, '11': 0.6973723001381686})\n",
      "])\n"
     ]
    }
   ],
   "source": [
    "print('Before:\\n')\n",
    "print(h2_trotter_expectations.reduce()[0][0])\n",
    "print('\\nAfter:\\n')\n",
    "print(sampled_trotter_exp_op[0][0])"
   ]
  },
  {
   "cell_type": "code",
   "execution_count": 65,
   "metadata": {},
   "outputs": [
    {
     "data": {
      "text/html": [
       "<h3>Version Information</h3><table><tr><th>Qiskit Software</th><th>Version</th></tr><tr><td><code>qiskit-terra</code></td><td>0.19.0.dev0+fe3eb3f</td></tr><tr><td><code>qiskit-aer</code></td><td>0.10.0.dev0+b78f265</td></tr><tr><td><code>qiskit-ignis</code></td><td>0.7.0.dev0+0eb9dcc</td></tr><tr><td><code>qiskit-ibmq-provider</code></td><td>0.17.0.dev0+15d2dfe</td></tr><tr><th>System information</th></tr><tr><td>Python version</td><td>3.9.5</td></tr><tr><td>Python compiler</td><td>Clang 10.0.0 </td></tr><tr><td>Python build</td><td>default, May 18 2021 12:31:01</td></tr><tr><td>OS</td><td>Darwin</td></tr><tr><td>CPUs</td><td>4</td></tr><tr><td>Memory (Gb)</td><td>32.0</td></tr><tr><td colspan='2'>Fri Oct 29 16:10:45 2021 BST</td></tr></table>"
      ],
      "text/plain": [
       "<IPython.core.display.HTML object>"
      ]
     },
     "metadata": {},
     "output_type": "display_data"
    },
    {
     "data": {
      "text/html": [
       "<div style='width: 100%; background-color:#d5d9e0;padding-left: 10px; padding-bottom: 10px; padding-right: 10px; padding-top: 5px'><h3>This code is a part of Qiskit</h3><p>&copy; Copyright IBM 2017, 2021.</p><p>This code is licensed under the Apache License, Version 2.0. You may<br>obtain a copy of this license in the LICENSE.txt file in the root directory<br> of this source tree or at http://www.apache.org/licenses/LICENSE-2.0.<p>Any modifications or derivative works of this code must retain this<br>copyright notice, and modified files need to carry a notice indicating<br>that they have been altered from the originals.</p></div>"
      ],
      "text/plain": [
       "<IPython.core.display.HTML object>"
      ]
     },
     "metadata": {},
     "output_type": "display_data"
    }
   ],
   "source": [
    "import qiskit.tools.jupyter\n",
    "%qiskit_version_table\n",
    "%qiskit_copyright"
   ]
  }
 ],
 "metadata": {
  "kernelspec": {
   "display_name": "Python 3",
   "language": "python",
   "name": "python3"
  },
  "language_info": {
   "codemirror_mode": {
    "name": "ipython",
    "version": 3
   },
   "file_extension": ".py",
   "mimetype": "text/x-python",
   "name": "python",
   "nbconvert_exporter": "python",
   "pygments_lexer": "ipython3",
   "version": "3.9.5"
  }
 },
 "nbformat": 4,
 "nbformat_minor": 4
}
