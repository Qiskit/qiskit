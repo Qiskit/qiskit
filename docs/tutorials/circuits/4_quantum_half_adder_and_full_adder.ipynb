{
  "nbformat": 4,
  "nbformat_minor": 0,
  "metadata": {
    "colab": {
      "name": "4_quantum_half_adder_and_full_adder.ipynb",
      "provenance": [],
      "collapsed_sections": []
    },
    "kernelspec": {
      "name": "python3",
      "display_name": "Python 3"
    }
  },
  "cells": [
    {
      "cell_type": "markdown",
      "metadata": {
        "id": "_jiTxtRnxWb7",
        "colab_type": "text"
      },
      "source": [
        "# **Quantum Half-Adder and Full-Adder**"
      ]
    },
    {
      "cell_type": "markdown",
      "metadata": {
        "id": "EgwJACH9xiJp",
        "colab_type": "text"
      },
      "source": [
        "In this section, we shall utilize our existing knowledge of quantum logic gates, and shall build a quantum half-adder and a quantum-full adder. This shall lay the foreground to build more complex circuits of quantum multiplexers and quantum encoders/decoders."
      ]
    },
    {
      "cell_type": "markdown",
      "metadata": {
        "id": "KcN9F5c0yY3h",
        "colab_type": "text"
      },
      "source": [
        "## **Brief introduction to Adders** \n",
        "Adders are basic digital circuits that help in addition of two numbers, encoded in the binary format. They form the building block of ALU (Arithmetic Logic Units), which is a key processing component of modern day CPU's.\n",
        "\n"
      ]
    },
    {
      "cell_type": "markdown",
      "metadata": {
        "id": "7Ur1SuJty2Yw",
        "colab_type": "text"
      },
      "source": [
        "### *Difference between Half and Full Adder*\n",
        "A half adder just adds two bits together and gives a two-bit output. A full adder adds two inputs and a carried input from another adder, and also gives a two-bit output."
      ]
    },
    {
      "cell_type": "markdown",
      "metadata": {
        "id": "KY6wY3g81zqv",
        "colab_type": "text"
      },
      "source": [
        "### **Quantum Half-Adder Circuit Implementation**"
      ]
    },
    {
      "cell_type": "code",
      "metadata": {
        "id": "h6Th6Gky1oFo",
        "colab_type": "code",
        "colab": {
          "base_uri": "https://localhost:8080/",
          "height": 894
        },
        "outputId": "f2c336ab-64b2-4220-b952-9bc66b4f6697"
      },
      "source": [
        "!pip install qiskit\n",
        "from qiskit import *\n",
        "from qiskit.visualization import plot_histogram"
      ],
      "execution_count": 1,
      "outputs": [
        {
          "output_type": "stream",
          "text": [
            "Requirement already satisfied: qiskit in /usr/local/lib/python3.6/dist-packages (0.20.0)\n",
            "Requirement already satisfied: qiskit-aer==0.6.1 in /usr/local/lib/python3.6/dist-packages (from qiskit) (0.6.1)\n",
            "Requirement already satisfied: qiskit-ibmq-provider==0.8.0 in /usr/local/lib/python3.6/dist-packages (from qiskit) (0.8.0)\n",
            "Requirement already satisfied: qiskit-aqua==0.7.5 in /usr/local/lib/python3.6/dist-packages (from qiskit) (0.7.5)\n",
            "Requirement already satisfied: qiskit-ignis==0.4.0 in /usr/local/lib/python3.6/dist-packages (from qiskit) (0.4.0)\n",
            "Requirement already satisfied: qiskit-terra==0.15.1 in /usr/local/lib/python3.6/dist-packages (from qiskit) (0.15.1)\n",
            "Requirement already satisfied: numpy>=1.16.3; python_version > \"3.5\" in /usr/local/lib/python3.6/dist-packages (from qiskit-aer==0.6.1->qiskit) (1.18.5)\n",
            "Requirement already satisfied: cython>=0.27.1 in /usr/local/lib/python3.6/dist-packages (from qiskit-aer==0.6.1->qiskit) (0.29.21)\n",
            "Requirement already satisfied: pybind11>=2.4 in /usr/local/lib/python3.6/dist-packages (from qiskit-aer==0.6.1->qiskit) (2.5.0)\n",
            "Requirement already satisfied: scipy>=1.0; python_version > \"3.5\" in /usr/local/lib/python3.6/dist-packages (from qiskit-aer==0.6.1->qiskit) (1.4.1)\n",
            "Requirement already satisfied: urllib3>=1.21.1 in /usr/local/lib/python3.6/dist-packages (from qiskit-ibmq-provider==0.8.0->qiskit) (1.24.3)\n",
            "Requirement already satisfied: nest-asyncio!=1.1.0,>=1.0.0 in /usr/local/lib/python3.6/dist-packages (from qiskit-ibmq-provider==0.8.0->qiskit) (1.4.0)\n",
            "Requirement already satisfied: python-dateutil>=2.8.0 in /usr/local/lib/python3.6/dist-packages (from qiskit-ibmq-provider==0.8.0->qiskit) (2.8.1)\n",
            "Requirement already satisfied: requests-ntlm>=1.1.0 in /usr/local/lib/python3.6/dist-packages (from qiskit-ibmq-provider==0.8.0->qiskit) (1.1.0)\n",
            "Requirement already satisfied: websockets<8,>=7; python_version <= \"3.6\" in /usr/local/lib/python3.6/dist-packages (from qiskit-ibmq-provider==0.8.0->qiskit) (7.0)\n",
            "Requirement already satisfied: requests>=2.19 in /usr/local/lib/python3.6/dist-packages (from qiskit-ibmq-provider==0.8.0->qiskit) (2.23.0)\n",
            "Requirement already satisfied: dlx in /usr/local/lib/python3.6/dist-packages (from qiskit-aqua==0.7.5->qiskit) (1.0.4)\n",
            "Requirement already satisfied: psutil>=5 in /usr/local/lib/python3.6/dist-packages (from qiskit-aqua==0.7.5->qiskit) (5.4.8)\n",
            "Requirement already satisfied: setuptools>=40.1.0 in /usr/local/lib/python3.6/dist-packages (from qiskit-aqua==0.7.5->qiskit) (49.6.0)\n",
            "Requirement already satisfied: pandas in /usr/local/lib/python3.6/dist-packages (from qiskit-aqua==0.7.5->qiskit) (1.0.5)\n",
            "Requirement already satisfied: docplex in /usr/local/lib/python3.6/dist-packages (from qiskit-aqua==0.7.5->qiskit) (2.15.194)\n",
            "Requirement already satisfied: fastdtw in /usr/local/lib/python3.6/dist-packages (from qiskit-aqua==0.7.5->qiskit) (0.3.4)\n",
            "Requirement already satisfied: quandl in /usr/local/lib/python3.6/dist-packages (from qiskit-aqua==0.7.5->qiskit) (3.5.2)\n",
            "Requirement already satisfied: networkx>=2.2 in /usr/local/lib/python3.6/dist-packages (from qiskit-aqua==0.7.5->qiskit) (2.5)\n",
            "Requirement already satisfied: yfinance in /usr/local/lib/python3.6/dist-packages (from qiskit-aqua==0.7.5->qiskit) (0.1.54)\n",
            "Requirement already satisfied: sympy>=1.3 in /usr/local/lib/python3.6/dist-packages (from qiskit-aqua==0.7.5->qiskit) (1.6.2)\n",
            "Requirement already satisfied: h5py in /usr/local/lib/python3.6/dist-packages (from qiskit-aqua==0.7.5->qiskit) (2.10.0)\n",
            "Requirement already satisfied: scikit-learn>=0.20.0 in /usr/local/lib/python3.6/dist-packages (from qiskit-aqua==0.7.5->qiskit) (0.22.2.post1)\n",
            "Requirement already satisfied: ply>=3.10 in /usr/local/lib/python3.6/dist-packages (from qiskit-terra==0.15.1->qiskit) (3.11)\n",
            "Requirement already satisfied: retworkx>=0.4.0 in /usr/local/lib/python3.6/dist-packages (from qiskit-terra==0.15.1->qiskit) (0.4.0)\n",
            "Requirement already satisfied: contextvars>=2.4; python_version < \"3.7\" in /usr/local/lib/python3.6/dist-packages (from qiskit-terra==0.15.1->qiskit) (2.4)\n",
            "Requirement already satisfied: jsonschema>=2.6 in /usr/local/lib/python3.6/dist-packages (from qiskit-terra==0.15.1->qiskit) (2.6.0)\n",
            "Requirement already satisfied: dill>=0.3 in /usr/local/lib/python3.6/dist-packages (from qiskit-terra==0.15.1->qiskit) (0.3.2)\n",
            "Requirement already satisfied: fastjsonschema>=2.10 in /usr/local/lib/python3.6/dist-packages (from qiskit-terra==0.15.1->qiskit) (2.14.5)\n",
            "Requirement already satisfied: python-constraint>=1.4 in /usr/local/lib/python3.6/dist-packages (from qiskit-terra==0.15.1->qiskit) (1.4.0)\n",
            "Requirement already satisfied: six>=1.5 in /usr/local/lib/python3.6/dist-packages (from python-dateutil>=2.8.0->qiskit-ibmq-provider==0.8.0->qiskit) (1.15.0)\n",
            "Requirement already satisfied: ntlm-auth>=1.0.2 in /usr/local/lib/python3.6/dist-packages (from requests-ntlm>=1.1.0->qiskit-ibmq-provider==0.8.0->qiskit) (1.5.0)\n",
            "Requirement already satisfied: cryptography>=1.3 in /usr/local/lib/python3.6/dist-packages (from requests-ntlm>=1.1.0->qiskit-ibmq-provider==0.8.0->qiskit) (3.1)\n",
            "Requirement already satisfied: chardet<4,>=3.0.2 in /usr/local/lib/python3.6/dist-packages (from requests>=2.19->qiskit-ibmq-provider==0.8.0->qiskit) (3.0.4)\n",
            "Requirement already satisfied: idna<3,>=2.5 in /usr/local/lib/python3.6/dist-packages (from requests>=2.19->qiskit-ibmq-provider==0.8.0->qiskit) (2.10)\n",
            "Requirement already satisfied: certifi>=2017.4.17 in /usr/local/lib/python3.6/dist-packages (from requests>=2.19->qiskit-ibmq-provider==0.8.0->qiskit) (2020.6.20)\n",
            "Requirement already satisfied: pytz>=2017.2 in /usr/local/lib/python3.6/dist-packages (from pandas->qiskit-aqua==0.7.5->qiskit) (2018.9)\n",
            "Requirement already satisfied: inflection>=0.3.1 in /usr/local/lib/python3.6/dist-packages (from quandl->qiskit-aqua==0.7.5->qiskit) (0.5.1)\n",
            "Requirement already satisfied: more-itertools in /usr/local/lib/python3.6/dist-packages (from quandl->qiskit-aqua==0.7.5->qiskit) (8.4.0)\n",
            "Requirement already satisfied: decorator>=4.3.0 in /usr/local/lib/python3.6/dist-packages (from networkx>=2.2->qiskit-aqua==0.7.5->qiskit) (4.4.2)\n",
            "Requirement already satisfied: multitasking>=0.0.7 in /usr/local/lib/python3.6/dist-packages (from yfinance->qiskit-aqua==0.7.5->qiskit) (0.0.9)\n",
            "Requirement already satisfied: mpmath>=0.19 in /usr/local/lib/python3.6/dist-packages (from sympy>=1.3->qiskit-aqua==0.7.5->qiskit) (1.1.0)\n",
            "Requirement already satisfied: joblib>=0.11 in /usr/local/lib/python3.6/dist-packages (from scikit-learn>=0.20.0->qiskit-aqua==0.7.5->qiskit) (0.16.0)\n",
            "Requirement already satisfied: immutables>=0.9 in /usr/local/lib/python3.6/dist-packages (from contextvars>=2.4; python_version < \"3.7\"->qiskit-terra==0.15.1->qiskit) (0.14)\n",
            "Requirement already satisfied: cffi!=1.11.3,>=1.8 in /usr/local/lib/python3.6/dist-packages (from cryptography>=1.3->requests-ntlm>=1.1.0->qiskit-ibmq-provider==0.8.0->qiskit) (1.14.2)\n",
            "Requirement already satisfied: pycparser in /usr/local/lib/python3.6/dist-packages (from cffi!=1.11.3,>=1.8->cryptography>=1.3->requests-ntlm>=1.1.0->qiskit-ibmq-provider==0.8.0->qiskit) (2.20)\n"
          ],
          "name": "stdout"
        }
      ]
    },
    {
      "cell_type": "code",
      "metadata": {
        "id": "3Aa4tIITyyyo",
        "colab_type": "code",
        "colab": {
          "base_uri": "https://localhost:8080/",
          "height": 184
        },
        "outputId": "7d66510a-45b0-4f13-9a77-7bacaabe6f37"
      },
      "source": [
        "half_adder = QuantumCircuit(4, 2)\n",
        "#Encode your input here. The input encode in our case is 11\n",
        "half_adder.x(0)\n",
        "half_adder.x(1)\n",
        "\n",
        "half_adder.barrier()\n",
        "\n",
        "#Two CNOTs\n",
        "half_adder.cx(0,2)\n",
        "half_adder.cx(1,2)\n",
        "#Toffoli gate\n",
        "half_adder.ccx(0,1,3) \n",
        "\n",
        "#second barrier\n",
        "half_adder.barrier()\n",
        "\n",
        "#measures\n",
        "half_adder.measure(2,0)\n",
        "half_adder.measure(3,1)\n",
        "\n",
        "half_adder.draw()\n"
      ],
      "execution_count": 2,
      "outputs": [
        {
          "output_type": "execute_result",
          "data": {
            "text/html": [
              "<pre style=\"word-wrap: normal;white-space: pre;background: #fff0;line-height: 1.1;font-family: &quot;Courier New&quot;,Courier,monospace\">     ┌───┐ ░                 ░       \n",
              "q_0: ┤ X ├─░───■─────────■───░───────\n",
              "     ├───┤ ░   │         │   ░       \n",
              "q_1: ┤ X ├─░───┼────■────■───░───────\n",
              "     └───┘ ░ ┌─┴─┐┌─┴─┐  │   ░ ┌─┐   \n",
              "q_2: ──────░─┤ X ├┤ X ├──┼───░─┤M├───\n",
              "           ░ └───┘└───┘┌─┴─┐ ░ └╥┘┌─┐\n",
              "q_3: ──────░───────────┤ X ├─░──╫─┤M├\n",
              "           ░           └───┘ ░  ║ └╥┘\n",
              "c: 2/═══════════════════════════╩══╩═\n",
              "                                0  1 </pre>"
            ],
            "text/plain": [
              "     ┌───┐ ░                 ░       \n",
              "q_0: ┤ X ├─░───■─────────■───░───────\n",
              "     ├───┤ ░   │         │   ░       \n",
              "q_1: ┤ X ├─░───┼────■────■───░───────\n",
              "     └───┘ ░ ┌─┴─┐┌─┴─┐  │   ░ ┌─┐   \n",
              "q_2: ──────░─┤ X ├┤ X ├──┼───░─┤M├───\n",
              "           ░ └───┘└───┘┌─┴─┐ ░ └╥┘┌─┐\n",
              "q_3: ──────░───────────┤ X ├─░──╫─┤M├\n",
              "           ░           └───┘ ░  ║ └╥┘\n",
              "c: 2/═══════════════════════════╩══╩═\n",
              "                                0  1 "
            ]
          },
          "metadata": {
            "tags": []
          },
          "execution_count": 2
        }
      ]
    },
    {
      "cell_type": "code",
      "metadata": {
        "id": "kIqcBIyH1eiQ",
        "colab_type": "code",
        "colab": {
          "base_uri": "https://localhost:8080/",
          "height": 331
        },
        "outputId": "8c167d5b-d99a-492c-ecda-f1dfe44af181"
      },
      "source": [
        "#let's execute\n",
        "counts_ha = execute(half_adder,Aer.get_backend('qasm_simulator')).result().get_counts()\n",
        "plot_histogram(counts_ha)"
      ],
      "execution_count": 3,
      "outputs": [
        {
          "output_type": "execute_result",
          "data": {
            "image/png": "[encoded data removed]",
            "text/plain": [
              "<Figure size 504x360 with 1 Axes>"
            ]
          },
          "metadata": {
            "tags": []
          },
          "execution_count": 3
        }
      ]
    },
    {
      "cell_type": "markdown",
      "metadata": {
        "id": "afs1yrW01xBH",
        "colab_type": "text"
      },
      "source": [
        "### **Full-Adder Quantum Circuit**\n",
        "\n",
        "Note- A full-adder circuit has three inputs. A, B and Carry. So, we will require three qubit inputs. However, just like half-adder, we still have two bit output. Hence, we define a two output qubits. \n",
        "\n"
      ]
    },
    {
      "cell_type": "code",
      "metadata": {
        "id": "2d2DkOaF2C-g",
        "colab_type": "code",
        "colab": {}
      },
      "source": [
        "full_adder = QuantumCircuit(7,2)\n"
      ],
      "execution_count": 4,
      "outputs": []
    },
    {
      "cell_type": "markdown",
      "metadata": {
        "id": "pDtmsl6A2xYP",
        "colab_type": "text"
      },
      "source": [
        "You might notice that we took 7 qubits. Let's break this down -\n",
        "\n",
        "1. We take 3 qubits for our input\n",
        "2. We take 2 qubits for out output\n",
        "3. Finally, we take 2 qubits for storing the outputs by the Toffoli gates. \n",
        "\n",
        "\n",
        "Toffoli gates store their output in a seperate gate, unlike the CNOT gate, which writes over its (CNOT's) value on the *target qubit*.\n",
        "\n",
        "This above tip comes in handy while designing a bit complex circuits, which require the use of Toffoli gates."
      ]
    },
    {
      "cell_type": "code",
      "metadata": {
        "id": "chFq1A-q3sCn",
        "colab_type": "code",
        "colab": {
          "base_uri": "https://localhost:8080/",
          "height": 34
        },
        "outputId": "becb3565-4856-4190-cfdb-caaf7ed3c224"
      },
      "source": [
        "#Encode your input here. The input taken in this case is 0,1,1\n",
        "full_adder.x(1)\n",
        "full_adder.x(2)\n",
        "#full_adder.x(0)\n",
        "full_adder.barrier()\n"
      ],
      "execution_count": 5,
      "outputs": [
        {
          "output_type": "execute_result",
          "data": {
            "text/plain": [
              "<qiskit.circuit.instructionset.InstructionSet at 0x7fa09d226160>"
            ]
          },
          "metadata": {
            "tags": []
          },
          "execution_count": 5
        }
      ]
    },
    {
      "cell_type": "markdown",
      "metadata": {
        "id": "YOLPS3iU4j0P",
        "colab_type": "text"
      },
      "source": [
        "### **Moving from Half-Adder to Full-Adder**\n",
        "\n",
        "Full-Adder in it's most basic form is made of two Half-adders and one OR gate. \n",
        "\n",
        "\n",
        "This is how the full-adder is made - \n",
        "\n",
        "1. The first half-adder takes the first two input bits (A and B), which results in the two output bits, one from the CNOT implementation of the half-adder and one from the Toffoli gate implementation of the half-adder.\n",
        "\n",
        "2. The second half-adder takes the two inputs - the XOR result of the previous half-adder and the third input bit (Carry), given initially for our full-adder. "
      ]
    },
    {
      "cell_type": "code",
      "metadata": {
        "id": "50D3sBGP3lD9",
        "colab_type": "code",
        "colab": {
          "base_uri": "https://localhost:8080/",
          "height": 34
        },
        "outputId": "3f3632b3-a4ac-4b53-8730-e5910d8d7a6f"
      },
      "source": [
        "\n",
        "# Notice the first half-adder. The template is similar to our previous example of half-adder.\n",
        "full_adder.cx(0,3)\n",
        "full_adder.cx(1,3)\n",
        "full_adder.ccx(0,1,4)\n",
        "\n",
        "#The first half-adder ends here. The output bit of first half-adder being qubit 3 and qubit 4.\n"
      ],
      "execution_count": 6,
      "outputs": [
        {
          "output_type": "execute_result",
          "data": {
            "text/plain": [
              "<qiskit.circuit.instructionset.InstructionSet at 0x7fa017f050b8>"
            ]
          },
          "metadata": {
            "tags": []
          },
          "execution_count": 6
        }
      ]
    },
    {
      "cell_type": "code",
      "metadata": {
        "id": "S4rYBxDW657o",
        "colab_type": "code",
        "colab": {
          "base_uri": "https://localhost:8080/",
          "height": 34
        },
        "outputId": "e4156fdd-c030-4ab4-d7e4-00f9869aeecf"
      },
      "source": [
        "# Notice the second half-adder. Input bits are qubit 2 (carry) and qubit 3 (XOR result of first half-adder)\n",
        "full_adder.ccx(3,2,5)\n",
        "#This operation is done before because we would require the value of qubit 2 again for XOR implementation of our second-half adder\n",
        "full_adder.cx(2,3)\n",
        "#You might notice that we don't use two CNOTs for the first operation. This is because, we don't require the value of XOR implementation of first half-adder, hence we overwrite it, by making it the target qubit for out CNOT operation\n"
      ],
      "execution_count": 7,
      "outputs": [
        {
          "output_type": "execute_result",
          "data": {
            "text/plain": [
              "<qiskit.circuit.instructionset.InstructionSet at 0x7fa017f057f0>"
            ]
          },
          "metadata": {
            "tags": []
          },
          "execution_count": 7
        }
      ]
    },
    {
      "cell_type": "markdown",
      "metadata": {
        "id": "kjvM_aCu8cjN",
        "colab_type": "text"
      },
      "source": [
        "Our final task is implementing an OR gate. \n",
        "\n",
        "**Note that there is no in-build function to execute a logical OR gate in Qiskit.**\n",
        "\n",
        "*However, by the power of CNOT and Toffoli, we can build a combinational quantum circuit that yield the same truth table as that of OR gate*.\n",
        "\n",
        "We require to perform an OR operation on qubit 4 and qubit 5. Also, we require to save it's value on differnt qubit 6. \n",
        "Here, we use one possible combinations. Many other ways also exist. Try finding one of your own !\n"
      ]
    },
    {
      "cell_type": "code",
      "metadata": {
        "id": "Piqni14_8TlY",
        "colab_type": "code",
        "colab": {
          "base_uri": "https://localhost:8080/",
          "height": 34
        },
        "outputId": "9ae1c511-99f9-4f82-c0de-45589037c567"
      },
      "source": [
        "full_adder.x(4)\n",
        "full_adder.x(5)\n",
        "full_adder.ccx(4,5,6)\n",
        "full_adder.x(6)"
      ],
      "execution_count": 8,
      "outputs": [
        {
          "output_type": "execute_result",
          "data": {
            "text/plain": [
              "<qiskit.circuit.instructionset.InstructionSet at 0x7fa017f05b70>"
            ]
          },
          "metadata": {
            "tags": []
          },
          "execution_count": 8
        }
      ]
    },
    {
      "cell_type": "code",
      "metadata": {
        "id": "mdzGxD678VCt",
        "colab_type": "code",
        "colab": {
          "base_uri": "https://localhost:8080/",
          "height": 275
        },
        "outputId": "d5ce676e-ef79-4569-f669-9eb6019a61c4"
      },
      "source": [
        "full_adder.barrier()\n",
        "full_adder.draw()"
      ],
      "execution_count": 9,
      "outputs": [
        {
          "output_type": "execute_result",
          "data": {
            "text/html": [
              "<pre style=\"word-wrap: normal;white-space: pre;background: #fff0;line-height: 1.1;font-family: &quot;Courier New&quot;,Courier,monospace\">           ░                                     ░ \n",
              "q_0: ──────░───■─────────■───────────────────────░─\n",
              "     ┌───┐ ░   │         │                       ░ \n",
              "q_1: ┤ X ├─░───┼────■────■───────────────────────░─\n",
              "     ├───┤ ░   │    │    │                       ░ \n",
              "q_2: ┤ X ├─░───┼────┼────┼────■────■─────────────░─\n",
              "     └───┘ ░ ┌─┴─┐┌─┴─┐  │    │  ┌─┴─┐           ░ \n",
              "q_3: ──────░─┤ X ├┤ X ├──┼────■──┤ X ├───────────░─\n",
              "           ░ └───┘└───┘┌─┴─┐  │  ├───┤           ░ \n",
              "q_4: ──────░───────────┤ X ├──┼──┤ X ├──■────────░─\n",
              "           ░           └───┘┌─┴─┐├───┤  │        ░ \n",
              "q_5: ──────░────────────────┤ X ├┤ X ├──■────────░─\n",
              "           ░                └───┘└───┘┌─┴─┐┌───┐ ░ \n",
              "q_6: ──────░──────────────────────────┤ X ├┤ X ├─░─\n",
              "           ░                          └───┘└───┘ ░ \n",
              "c: 2/══════════════════════════════════════════════\n",
              "                                                   </pre>"
            ],
            "text/plain": [
              "           ░                                     ░ \n",
              "q_0: ──────░───■─────────■───────────────────────░─\n",
              "     ┌───┐ ░   │         │                       ░ \n",
              "q_1: ┤ X ├─░───┼────■────■───────────────────────░─\n",
              "     ├───┤ ░   │    │    │                       ░ \n",
              "q_2: ┤ X ├─░───┼────┼────┼────■────■─────────────░─\n",
              "     └───┘ ░ ┌─┴─┐┌─┴─┐  │    │  ┌─┴─┐           ░ \n",
              "q_3: ──────░─┤ X ├┤ X ├──┼────■──┤ X ├───────────░─\n",
              "           ░ └───┘└───┘┌─┴─┐  │  ├───┤           ░ \n",
              "q_4: ──────░───────────┤ X ├──┼──┤ X ├──■────────░─\n",
              "           ░           └───┘┌─┴─┐├───┤  │        ░ \n",
              "q_5: ──────░────────────────┤ X ├┤ X ├──■────────░─\n",
              "           ░                └───┘└───┘┌─┴─┐┌───┐ ░ \n",
              "q_6: ──────░──────────────────────────┤ X ├┤ X ├─░─\n",
              "           ░                          └───┘└───┘ ░ \n",
              "c: 2/══════════════════════════════════════════════\n",
              "                                                   "
            ]
          },
          "metadata": {
            "tags": []
          },
          "execution_count": 9
        }
      ]
    },
    {
      "cell_type": "code",
      "metadata": {
        "id": "vbEE-P-W8ZK-",
        "colab_type": "code",
        "colab": {
          "base_uri": "https://localhost:8080/",
          "height": 34
        },
        "outputId": "933ede2f-1053-4b94-962d-1617474a4950"
      },
      "source": [
        "full_adder.measure(6,0)\n",
        "full_adder.measure(3,1)\n"
      ],
      "execution_count": 10,
      "outputs": [
        {
          "output_type": "execute_result",
          "data": {
            "text/plain": [
              "<qiskit.circuit.instructionset.InstructionSet at 0x7fa017a48ac8>"
            ]
          },
          "metadata": {
            "tags": []
          },
          "execution_count": 10
        }
      ]
    },
    {
      "cell_type": "code",
      "metadata": {
        "id": "vdq7Nskx4C6G",
        "colab_type": "code",
        "colab": {
          "base_uri": "https://localhost:8080/",
          "height": 331
        },
        "outputId": "adbbd173-ff9e-44b2-eec9-b6031ac47e02"
      },
      "source": [
        "counts = execute(full_adder, Aer.get_backend(\"qasm_simulator\")).result().get_counts()\n",
        "plot_histogram(counts)\n"
      ],
      "execution_count": 11,
      "outputs": [
        {
          "output_type": "execute_result",
          "data": {
            "image/png": "[encoded data removed]",
            "text/plain": [
              "<Figure size 504x360 with 1 Axes>"
            ]
          },
          "metadata": {
            "tags": []
          },
          "execution_count": 11
        }
      ]
    },
    {
      "cell_type": "code",
      "metadata": {
        "id": "bjNbU3dtBmos",
        "colab_type": "code",
        "colab": {
          "base_uri": "https://localhost:8080/",
          "height": 532
        },
        "outputId": "353565ec-8b12-4414-a704-c882f5ab5c32"
      },
      "source": [
        "import qiskit.tools.jupyter\n",
        "%qiskit_version_table\n",
        "%qiskit_copyright"
      ],
      "execution_count": 12,
      "outputs": [
        {
          "output_type": "display_data",
          "data": {
            "text/html": [
              "<h3>Version Information</h3><table><tr><th>Qiskit Software</th><th>Version</th></tr><tr><td>Qiskit</td><td>0.20.0</td></tr><tr><td>Terra</td><td>0.15.1</td></tr><tr><td>Aer</td><td>0.6.1</td></tr><tr><td>Ignis</td><td>0.4.0</td></tr><tr><td>Aqua</td><td>0.7.5</td></tr><tr><td>IBM Q Provider</td><td>0.8.0</td></tr><tr><th>System information</th></tr><tr><td>Python</td><td>3.6.9 (default, Jul 17 2020, 12:50:27) \n",
              "[GCC 8.4.0]</td></tr><tr><td>OS</td><td>Linux</td></tr><tr><td>CPUs</td><td>1</td></tr><tr><td>Memory (Gb)</td><td>12.715866088867188</td></tr><tr><td colspan='2'>Tue Sep 01 09:36:33 2020 UTC</td></tr></table>"
            ],
            "text/plain": [
              "<IPython.core.display.HTML object>"
            ]
          },
          "metadata": {
            "tags": []
          }
        },
        {
          "output_type": "display_data",
          "data": {
            "text/html": [
              "<div style='width: 100%; background-color:#d5d9e0;padding-left: 10px; padding-bottom: 10px; padding-right: 10px; padding-top: 5px'><h3>This code is a part of Qiskit</h3><p>&copy; Copyright IBM 2017, 2020.</p><p>This code is licensed under the Apache License, Version 2.0. You may<br>obtain a copy of this license in the LICENSE.txt file in the root directory<br> of this source tree or at http://www.apache.org/licenses/LICENSE-2.0.<p>Any modifications or derivative works of this code must retain this<br>copyright notice, and modified files need to carry a notice indicating<br>that they have been altered from the originals.</p></div>"
            ],
            "text/plain": [
              "<IPython.core.display.HTML object>"
            ]
          },
          "metadata": {
            "tags": []
          }
        }
      ]
    }
  ]
}