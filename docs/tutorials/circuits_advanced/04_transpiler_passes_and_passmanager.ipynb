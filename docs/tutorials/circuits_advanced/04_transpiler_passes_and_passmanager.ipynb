{
 "cells": [
  {
   "cell_type": "markdown",
   "metadata": {},
   "source": [
    "# Transpiler Passes and Pass Manager"
   ]
  },
  {
   "cell_type": "markdown",
   "metadata": {},
   "source": [
    "## Introduction"
   ]
  },
  {
   "cell_type": "markdown",
   "metadata": {},
   "source": [
    "A central component of Qiskit Terra is the transpiler, which is designed for modularity and extensibility. The goal is to be able to easily write new circuit transformations (known as transpiler **passes**), and combine them with other existing passes.  Which passes are chained together and in which order has a major effect on the final outcome. This pipeline is determined by a **pass manager**, which schedules the passes and also allows passes to communicate with each other by providing a shared space. In this way, the transpiler opens up the door for research into aggressive optimization of quantum circuits.\n",
    "\n",
    "In this notebook, we look at the built-in passes, how to use the pass manager, and develop a simple custom transpiler pass. In order to do the latter, we first need to introduce the internal representation of quantum circuits in Qiskit, in the form of a Directed Acyclic Graph, or **DAG**. Then, we illustrate a simple swap mapper pass, which transforms an input circuit to be compatible with a limited-connectivity quantum device.\n",
    "\n",
    "***Before you start***: You may need to install the `pydot` library and the `graphviz` library for the DAG plotting routines. If you are using Anaconda Python, you can install both with the `conda` command. If you use your system's native Python interpreter, install `pydot` using the `pip` command, and install `graphviz` using your system's native package manager (e.g. `yum`, `apt`, `dnf`, `brew`, etc.)."
   ]
  },
  {
   "cell_type": "code",
   "execution_count": 1,
   "metadata": {
    "ExecuteTime": {
     "end_time": "2019-12-10T21:47:56.857930Z",
     "start_time": "2019-12-10T21:47:54.444353Z"
    }
   },
   "outputs": [],
   "source": [
    "from qiskit import QuantumCircuit\n",
    "from qiskit.compiler import transpile\n",
    "from qiskit.transpiler import PassManager"
   ]
  },
  {
   "cell_type": "markdown",
   "metadata": {
    "ExecuteTime": {
     "end_time": "2019-08-21T09:12:12.822442Z",
     "start_time": "2019-08-21T09:12:12.819902Z"
    }
   },
   "source": [
    "## PassManager object\n",
    "\n",
    "Lets you specify the set of passes you want."
   ]
  },
  {
   "cell_type": "code",
   "execution_count": 2,
   "metadata": {
    "ExecuteTime": {
     "end_time": "2019-12-10T21:47:57.268332Z",
     "start_time": "2019-12-10T21:47:56.860709Z"
    }
   },
   "outputs": [
    {
     "data": {
      "image/png": "[encoded data removed]",
      "text/plain": [
       "<Figure size 146.797x204.68 with 1 Axes>"
      ]
     },
     "execution_count": 2,
     "metadata": {},
     "output_type": "execute_result"
    }
   ],
   "source": [
    "circ = QuantumCircuit(3)\n",
    "circ.ccx(0, 1, 2)\n",
    "circ.draw(output='mpl')"
   ]
  },
  {
   "cell_type": "code",
   "execution_count": 3,
   "metadata": {
    "ExecuteTime": {
     "end_time": "2019-12-10T21:47:57.533035Z",
     "start_time": "2019-12-10T21:47:57.270693Z"
    }
   },
   "outputs": [
    {
     "data": {
      "image/png": "[encoded data removed]",
      "text/plain": [
       "<Figure size 748.797x204.68 with 1 Axes>"
      ]
     },
     "execution_count": 3,
     "metadata": {},
     "output_type": "execute_result"
    }
   ],
   "source": [
    "from qiskit.transpiler.passes import Unroller\n",
    "pass_ = Unroller(['u1', 'u2', 'u3', 'cx'])\n",
    "pm = PassManager(pass_)\n",
    "new_circ = pm.run(circ)\n",
    "new_circ.draw(output='mpl')"
   ]
  },
  {
   "cell_type": "markdown",
   "metadata": {},
   "source": [
    "All of Qiskit's transpiler passes are accessible from ``qiskit.transpiler.passes``."
   ]
  },
  {
   "cell_type": "code",
   "execution_count": 4,
   "metadata": {
    "ExecuteTime": {
     "end_time": "2019-12-10T21:47:57.539422Z",
     "start_time": "2019-12-10T21:47:57.535048Z"
    }
   },
   "outputs": [
    {
     "data": {
      "text/plain": [
       "['ALAPSchedule',\n",
       " 'ALAPScheduleAnalysis',\n",
       " 'ASAPSchedule',\n",
       " 'ASAPScheduleAnalysis',\n",
       " 'AlignMeasures',\n",
       " 'ApplyLayout',\n",
       " 'BIPMapping',\n",
       " 'BarrierBeforeFinalMeasurements',\n",
       " 'BasicSwap',\n",
       " 'BasisTranslator',\n",
       " 'CSPLayout',\n",
       " 'CXCancellation',\n",
       " 'CXDirection',\n",
       " 'CheckCXDirection',\n",
       " 'CheckGateDirection',\n",
       " 'CheckMap',\n",
       " 'Collect1qRuns',\n",
       " 'Collect2qBlocks',\n",
       " 'CollectLinearFunctions',\n",
       " 'CollectMultiQBlocks',\n",
       " 'CommutationAnalysis',\n",
       " 'CommutativeCancellation',\n",
       " 'CommutativeInverseCancellation',\n",
       " 'Commuting2qGateRouter',\n",
       " 'ConsolidateBlocks',\n",
       " 'ConstrainedReschedule',\n",
       " 'ContainsInstruction',\n",
       " 'ConvertConditionsToIfOps',\n",
       " 'CountOps',\n",
       " 'CountOpsLongestPath',\n",
       " 'CrosstalkAdaptiveSchedule',\n",
       " 'DAGFixedPoint',\n",
       " 'DAGLongestPath',\n",
       " 'Decompose',\n",
       " 'DenseLayout',\n",
       " 'Depth',\n",
       " 'DynamicalDecoupling',\n",
       " 'EchoRZXWeylDecomposition',\n",
       " 'EnlargeWithAncilla',\n",
       " 'Error',\n",
       " 'FixedPoint',\n",
       " 'FullAncillaAllocation',\n",
       " 'GateDirection',\n",
       " 'GatesInBasis',\n",
       " 'HLSConfig',\n",
       " 'HighLevelSynthesis',\n",
       " 'HoareOptimizer',\n",
       " 'InstructionDurationCheck',\n",
       " 'InverseCancellation',\n",
       " 'Layout2qDistance',\n",
       " 'LayoutTransformation',\n",
       " 'LinearFunctionsSynthesis',\n",
       " 'LinearFunctionsToPermutations',\n",
       " 'LookaheadSwap',\n",
       " 'MergeAdjacentBarriers',\n",
       " 'NoiseAdaptiveLayout',\n",
       " 'NumTensorFactors',\n",
       " 'Optimize1qGates',\n",
       " 'Optimize1qGatesDecomposition',\n",
       " 'Optimize1qGatesSimpleCommutation',\n",
       " 'OptimizeCliffords',\n",
       " 'OptimizeSwapBeforeMeasure',\n",
       " 'PadDelay',\n",
       " 'PadDynamicalDecoupling',\n",
       " 'PulseGates',\n",
       " 'RZXCalibrationBuilder',\n",
       " 'RZXCalibrationBuilderNoEcho',\n",
       " 'RemoveBarriers',\n",
       " 'RemoveDiagonalGatesBeforeMeasure',\n",
       " 'RemoveFinalMeasurements',\n",
       " 'RemoveResetInZeroState',\n",
       " 'ResetAfterMeasureSimplification',\n",
       " 'ResourceEstimation',\n",
       " 'SabreLayout',\n",
       " 'SabreSwap',\n",
       " 'SetIOLatency',\n",
       " 'SetLayout',\n",
       " 'Size',\n",
       " 'StochasticSwap',\n",
       " 'TemplateOptimization',\n",
       " 'TimeUnitConversion',\n",
       " 'TrivialLayout',\n",
       " 'UnitarySynthesis',\n",
       " 'Unroll3qOrMore',\n",
       " 'UnrollCustomDefinitions',\n",
       " 'Unroller',\n",
       " 'VF2Layout',\n",
       " 'VF2PostLayout',\n",
       " 'ValidatePulseGates',\n",
       " 'Width']"
      ]
     },
     "execution_count": 4,
     "metadata": {},
     "output_type": "execute_result"
    }
   ],
   "source": [
    "from qiskit.transpiler import passes\n",
    "[pass_ for pass_ in dir(passes) if pass_[0].isupper()]"
   ]
  },
  {
   "cell_type": "markdown",
   "metadata": {},
   "source": [
    "## Different Variants of the Same Pass\n",
    "\n",
    "There can be passes that do the same job, but in different ways. For example, the ``TrivialLayout``, ``DenseLayout`` and ``NoiseAdaptiveLayout`` all choose a layout (binding of virtual qubits to physical qubits), but use different algorithms and objectives. Similarly, the ``BasicSwap``, ``LookaheadSwap`` and ``StochasticSwap`` all insert swaps to make the circuit compatible with the coupling map. The modularity of the transpiler allows plug-and-play replacements for each pass.\n",
    "\n",
    "Below, we show the swapper passes all applied to the same circuit, to transform it to match a linear chain topology. You can see differences in performance, where the ``StochasticSwap`` is clearly the best. However, this can vary depending on the input circuit."
   ]
  },
  {
   "cell_type": "code",
   "execution_count": 5,
   "metadata": {
    "ExecuteTime": {
     "end_time": "2019-12-10T21:47:57.681468Z",
     "start_time": "2019-12-10T21:47:57.541513Z"
    }
   },
   "outputs": [],
   "source": [
    "from qiskit.transpiler import CouplingMap, Layout\n",
    "from qiskit.transpiler.passes import BasicSwap, LookaheadSwap, StochasticSwap\n",
    "\n",
    "coupling = [[0, 1], [1, 2], [2, 3], [3, 4], [4, 5], [5, 6]]\n",
    "\n",
    "circuit = QuantumCircuit(7)\n",
    "circuit.h(3)\n",
    "circuit.cx(0, 6)\n",
    "circuit.cx(6, 0)\n",
    "circuit.cx(0, 1)\n",
    "circuit.cx(3, 1)\n",
    "circuit.cx(3, 0)\n",
    "\n",
    "coupling_map = CouplingMap(couplinglist=coupling)\n",
    "\n",
    "bs = BasicSwap(coupling_map=coupling_map)\n",
    "pass_manager = PassManager(bs)\n",
    "basic_circ = pass_manager.run(circuit)\n",
    "\n",
    "ls = LookaheadSwap(coupling_map=coupling_map)\n",
    "pass_manager = PassManager(ls)\n",
    "lookahead_circ = pass_manager.run(circuit)\n",
    "\n",
    "ss = StochasticSwap(coupling_map=coupling_map)\n",
    "pass_manager = PassManager(ss)\n",
    "stochastic_circ = pass_manager.run(circuit)"
   ]
  },
  {
   "cell_type": "code",
   "execution_count": 6,
   "metadata": {
    "ExecuteTime": {
     "end_time": "2019-12-10T21:47:57.902461Z",
     "start_time": "2019-12-10T21:47:57.682997Z"
    }
   },
   "outputs": [
    {
     "data": {
      "image/png": "[encoded data removed]",
      "text/plain": [
       "<Figure size 447.797x445.48 with 1 Axes>"
      ]
     },
     "execution_count": 6,
     "metadata": {},
     "output_type": "execute_result"
    }
   ],
   "source": [
    "circuit.draw(output='mpl')"
   ]
  },
  {
   "cell_type": "code",
   "execution_count": 7,
   "metadata": {
    "ExecuteTime": {
     "end_time": "2019-12-10T21:47:58.238179Z",
     "start_time": "2019-12-10T21:47:57.904473Z"
    }
   },
   "outputs": [
    {
     "data": {
      "image/png": "[encoded data removed]",
      "text/plain": [
       "<Figure size 989.597x445.48 with 1 Axes>"
      ]
     },
     "execution_count": 7,
     "metadata": {},
     "output_type": "execute_result"
    }
   ],
   "source": [
    "basic_circ.draw(output='mpl')"
   ]
  },
  {
   "cell_type": "code",
   "execution_count": 8,
   "metadata": {
    "ExecuteTime": {
     "end_time": "2019-12-10T21:47:58.643611Z",
     "start_time": "2019-12-10T21:47:58.241545Z"
    }
   },
   "outputs": [
    {
     "data": {
      "image/png": "[encoded data removed]",
      "text/plain": [
       "<Figure size 628.397x445.48 with 1 Axes>"
      ]
     },
     "execution_count": 8,
     "metadata": {},
     "output_type": "execute_result"
    }
   ],
   "source": [
    "lookahead_circ.draw(output='mpl')"
   ]
  },
  {
   "cell_type": "code",
   "execution_count": 9,
   "metadata": {
    "ExecuteTime": {
     "end_time": "2019-12-10T21:47:58.935337Z",
     "start_time": "2019-12-10T21:47:58.646318Z"
    }
   },
   "outputs": [
    {
     "data": {
      "image/png": "[encoded data removed]",
      "text/plain": [
       "<Figure size 808.997x445.48 with 1 Axes>"
      ]
     },
     "execution_count": 9,
     "metadata": {},
     "output_type": "execute_result"
    }
   ],
   "source": [
    "stochastic_circ.draw(output='mpl')"
   ]
  },
  {
   "cell_type": "markdown",
   "metadata": {},
   "source": [
    "## Preset Pass Managers\n",
    "\n",
    "Qiskit comes with several pre-defined pass managers, corresponding to various levels of optimization achieved through different pipelines of passes. Currently ``optimization_level`` 0 through 3 are supported; the higher the number, the more optimized it is, at the expense of more time. Choosing a good pass manager may take trial and error, as it depends heavily on the circuit being transpiled and the backend being targeted.\n",
    "\n",
    "Here we illustrate the different levels by looking at a state synthesis circuit. We initialize four qubits to an arbitrary state, and then try to optimize the circuit that achieves this.\n",
    "\n",
    "- ``optimization_level=0``: just maps the circuit to the backend, with no explicit optimization (except whatever optimizations the mapper does).\n",
    "\n",
    "- ``optimization_level=1``: maps the circuit, but also does light-weight optimizations by collapsing adjacent gates.\n",
    "\n",
    "- ``optimization_level=2``: medium-weight optimization, including a noise-adaptive layout and a gate-cancellation procedure based on gate commutation relationships.\n",
    "\n",
    "- ``optimization_level=3``: heavy-weight optimization, which in addition to previous steps, does resynthesis of two-qubit blocks of gates in the circuit."
   ]
  },
  {
   "cell_type": "code",
   "execution_count": 10,
   "metadata": {
    "ExecuteTime": {
     "end_time": "2019-12-10T21:47:58.956270Z",
     "start_time": "2019-12-10T21:47:58.937115Z"
    }
   },
   "outputs": [],
   "source": [
    "import math\n",
    "from qiskit.providers.fake_provider import FakeTokyo\n",
    "\n",
    "backend = FakeTokyo()     # mimics the tokyo device in terms of coupling map and basis gates"
   ]
  },
  {
   "cell_type": "code",
   "execution_count": 11,
   "metadata": {
    "ExecuteTime": {
     "end_time": "2019-12-10T21:47:59.632459Z",
     "start_time": "2019-12-10T21:47:58.959187Z"
    }
   },
   "outputs": [
    {
     "data": {
      "text/html": [
       "<pre style=\"word-wrap: normal;white-space: pre;background: #fff0;line-height: 1.1;font-family: &quot;Courier New&quot;,Courier,monospace\">     »\n",
       "q_0: »\n",
       "     »\n",
       "q_1: »\n",
       "     »\n",
       "q_2: »\n",
       "     »\n",
       "q_3: »\n",
       "     »\n",
       "q_4: »\n",
       "     »\n",
       "q_5: »\n",
       "     »\n",
       "q_6: »\n",
       "     »\n",
       "q_7: »\n",
       "     »\n",
       "q_8: »\n",
       "     »\n",
       "q_9: »\n",
       "     »\n",
       "«     ┌────────────────────────────────────────────────────────────────────────────┐\n",
       "«q_0: ┤0                                                                           ├\n",
       "«     │                                                                            │\n",
       "«q_1: ┤1                                                                           ├\n",
       "«     │  Initialize(0.5j,0.35355,0,0,0,0,0,0,0.35355,0.35355j,0,0,0,0,0.5,0.35355) │\n",
       "«q_2: ┤2                                                                           ├\n",
       "«     │                                                                            │\n",
       "«q_3: ┤3                                                                           ├\n",
       "«     └────────────────────────────────────────────────────────────────────────────┘\n",
       "«q_4: ──────────────────────────────────────────────────────────────────────────────\n",
       "«                                                                                   \n",
       "«q_5: ──────────────────────────────────────────────────────────────────────────────\n",
       "«                                                                                   \n",
       "«q_6: ──────────────────────────────────────────────────────────────────────────────\n",
       "«                                                                                   \n",
       "«q_7: ──────────────────────────────────────────────────────────────────────────────\n",
       "«                                                                                   \n",
       "«q_8: ──────────────────────────────────────────────────────────────────────────────\n",
       "«                                                                                   \n",
       "«q_9: ──────────────────────────────────────────────────────────────────────────────\n",
       "«                                                                                   </pre>"
      ],
      "text/plain": [
       "     »\n",
       "q_0: »\n",
       "     »\n",
       "q_1: »\n",
       "     »\n",
       "q_2: »\n",
       "     »\n",
       "q_3: »\n",
       "     »\n",
       "q_4: »\n",
       "     »\n",
       "q_5: »\n",
       "     »\n",
       "q_6: »\n",
       "     »\n",
       "q_7: »\n",
       "     »\n",
       "q_8: »\n",
       "     »\n",
       "q_9: »\n",
       "     »\n",
       "«     ┌────────────────────────────────────────────────────────────────────────────┐\n",
       "«q_0: ┤0                                                                           ├\n",
       "«     │                                                                            │\n",
       "«q_1: ┤1                                                                           ├\n",
       "«     │  Initialize(0.5j,0.35355,0,0,0,0,0,0,0.35355,0.35355j,0,0,0,0,0.5,0.35355) │\n",
       "«q_2: ┤2                                                                           ├\n",
       "«     │                                                                            │\n",
       "«q_3: ┤3                                                                           ├\n",
       "«     └────────────────────────────────────────────────────────────────────────────┘\n",
       "«q_4: ──────────────────────────────────────────────────────────────────────────────\n",
       "«                                                                                   \n",
       "«q_5: ──────────────────────────────────────────────────────────────────────────────\n",
       "«                                                                                   \n",
       "«q_6: ──────────────────────────────────────────────────────────────────────────────\n",
       "«                                                                                   \n",
       "«q_7: ──────────────────────────────────────────────────────────────────────────────\n",
       "«                                                                                   \n",
       "«q_8: ──────────────────────────────────────────────────────────────────────────────\n",
       "«                                                                                   \n",
       "«q_9: ──────────────────────────────────────────────────────────────────────────────\n",
       "«                                                                                   "
      ]
     },
     "execution_count": 11,
     "metadata": {},
     "output_type": "execute_result"
    }
   ],
   "source": [
    "qc = QuantumCircuit(10)\n",
    "\n",
    "random_state = [\n",
    "    1 / math.sqrt(4) * complex(0, 1),\n",
    "    1 / math.sqrt(8) * complex(1, 0),\n",
    "    0,\n",
    "    0,\n",
    "    0,\n",
    "    0,\n",
    "    0,\n",
    "    0,\n",
    "    1 / math.sqrt(8) * complex(1, 0),\n",
    "    1 / math.sqrt(8) * complex(0, 1),\n",
    "    0,\n",
    "    0,\n",
    "    0,\n",
    "    0,\n",
    "    1 / math.sqrt(4) * complex(1, 0),\n",
    "    1 / math.sqrt(8) * complex(1, 0)]\n",
    "\n",
    "qc.initialize(random_state, range(4))\n",
    "qc.draw()"
   ]
  },
  {
   "cell_type": "markdown",
   "metadata": {},
   "source": [
    "Now map this to the 20-qubit Tokyo device, with different optimization levels:"
   ]
  },
  {
   "cell_type": "code",
   "execution_count": 12,
   "metadata": {
    "ExecuteTime": {
     "end_time": "2019-12-10T21:48:00.000884Z",
     "start_time": "2019-12-10T21:47:59.634920Z"
    }
   },
   "outputs": [
    {
     "name": "stdout",
     "output_type": "stream",
     "text": [
      "gates =  OrderedDict([('cx', 70), ('u3', 15), ('u1', 15), ('reset', 4)])\n",
      "depth =  87\n"
     ]
    }
   ],
   "source": [
    "optimized_0 = transpile(qc, backend=backend, seed_transpiler=11, optimization_level=0)\n",
    "print('gates = ', optimized_0.count_ops())\n",
    "print('depth = ', optimized_0.depth())"
   ]
  },
  {
   "cell_type": "code",
   "execution_count": 13,
   "metadata": {
    "ExecuteTime": {
     "end_time": "2019-12-10T21:48:00.474954Z",
     "start_time": "2019-12-10T21:48:00.003129Z"
    }
   },
   "outputs": [
    {
     "name": "stdout",
     "output_type": "stream",
     "text": [
      "gates =  OrderedDict([('cx', 22), ('u3', 15), ('u1', 6)])\n",
      "depth =  40\n"
     ]
    }
   ],
   "source": [
    "optimized_1 = transpile(qc, backend=backend, seed_transpiler=11, optimization_level=1)\n",
    "print('gates = ', optimized_1.count_ops())\n",
    "print('depth = ', optimized_1.depth())"
   ]
  },
  {
   "cell_type": "code",
   "execution_count": 14,
   "metadata": {
    "ExecuteTime": {
     "end_time": "2019-12-10T21:48:01.649048Z",
     "start_time": "2019-12-10T21:48:00.477272Z"
    }
   },
   "outputs": [
    {
     "name": "stdout",
     "output_type": "stream",
     "text": [
      "gates =  OrderedDict([('cx', 20), ('u3', 15), ('u1', 6)])\n",
      "depth =  38\n"
     ]
    }
   ],
   "source": [
    "optimized_2 = transpile(qc, backend=backend, seed_transpiler=11, optimization_level=2)\n",
    "print('gates = ', optimized_2.count_ops())\n",
    "print('depth = ', optimized_2.depth())"
   ]
  },
  {
   "cell_type": "code",
   "execution_count": 15,
   "metadata": {
    "ExecuteTime": {
     "end_time": "2019-12-10T21:48:03.166110Z",
     "start_time": "2019-12-10T21:48:01.651535Z"
    }
   },
   "outputs": [
    {
     "name": "stdout",
     "output_type": "stream",
     "text": [
      "gates =  OrderedDict([('cx', 20), ('u3', 15), ('u1', 6)])\n",
      "depth =  38\n"
     ]
    }
   ],
   "source": [
    "optimized_3 = transpile(qc, backend=backend, seed_transpiler=11, optimization_level=3)\n",
    "print('gates = ', optimized_3.count_ops())\n",
    "print('depth = ', optimized_3.depth())"
   ]
  },
  {
   "cell_type": "markdown",
   "metadata": {},
   "source": [
    "## Introducing the DAG"
   ]
  },
  {
   "cell_type": "markdown",
   "metadata": {},
   "source": [
    "In Qiskit, we represent circuits internally using a Directed Acyclic Graph (DAG). The advantage of this representation over a pure list of gates (i.e., *netlist*) is that the flow of information between operations are explicit, making it easier for passes to make transformation decisions without changing the semantics of the circuit.\n",
    "\n",
    "Let's start by building a simple circuit, and examining its DAG."
   ]
  },
  {
   "cell_type": "code",
   "execution_count": 16,
   "metadata": {
    "ExecuteTime": {
     "end_time": "2019-12-10T21:48:03.375950Z",
     "start_time": "2019-12-10T21:48:03.169405Z"
    }
   },
   "outputs": [
    {
     "data": {
      "image/png": "[encoded data removed]",
      "text/plain": [
       "<Figure size 327.397x264.88 with 1 Axes>"
      ]
     },
     "execution_count": 16,
     "metadata": {},
     "output_type": "execute_result"
    }
   ],
   "source": [
    "from qiskit import QuantumRegister, ClassicalRegister, QuantumCircuit\n",
    "from qiskit.dagcircuit import DAGCircuit\n",
    "q = QuantumRegister(3, 'q')\n",
    "c = ClassicalRegister(3, 'c')\n",
    "circ = QuantumCircuit(q, c)\n",
    "circ.h(q[0])\n",
    "circ.cx(q[0], q[1])\n",
    "circ.measure(q[0], c[0])\n",
    "circ.rz(0.5, q[1]).c_if(c, 2)\n",
    "circ.draw(output='mpl')"
   ]
  },
  {
   "cell_type": "markdown",
   "metadata": {},
   "source": [
    "In the DAG, there are three kinds of graph nodes: qubit/clbit input nodes (green), operation nodes (blue), and output nodes (red). Each edge indicates data flow (or dependency) between two nodes. "
   ]
  },
  {
   "cell_type": "code",
   "execution_count": 17,
   "metadata": {
    "ExecuteTime": {
     "end_time": "2019-12-10T21:48:03.525267Z",
     "start_time": "2019-12-10T21:48:03.378085Z"
    },
    "scrolled": true
   },
   "outputs": [
    {
     "data": {
      "image/png": "[encoded data removed]",
      "text/plain": [
       "<PIL.Image.Image image mode=RGBA size=331x466 at 0x7FF9942676D0>"
      ]
     },
     "execution_count": 17,
     "metadata": {},
     "output_type": "execute_result"
    }
   ],
   "source": [
    "from qiskit.converters import circuit_to_dag\n",
    "from qiskit.tools.visualization import dag_drawer\n",
    "dag = circuit_to_dag(circ)\n",
    "dag_drawer(dag)"
   ]
  },
  {
   "cell_type": "markdown",
   "metadata": {},
   "source": [
    "Therefore, writing a transpiler pass means using Qiskit's DAGCircuit API to analyze or transform the circuit. Let's see some examples of this."
   ]
  },
  {
   "cell_type": "markdown",
   "metadata": {},
   "source": [
    "**a. Get all op nodes in the DAG:**"
   ]
  },
  {
   "cell_type": "code",
   "execution_count": 18,
   "metadata": {
    "ExecuteTime": {
     "end_time": "2019-12-10T21:48:03.532050Z",
     "start_time": "2019-12-10T21:48:03.527373Z"
    }
   },
   "outputs": [
    {
     "data": {
      "text/plain": [
       "[DAGOpNode(op=Instruction(name='h', num_qubits=1, num_clbits=0, params=[]), qargs=(Qubit(QuantumRegister(3, 'q'), 0),), cargs=()),\n",
       " DAGOpNode(op=Instruction(name='cx', num_qubits=2, num_clbits=0, params=[]), qargs=(Qubit(QuantumRegister(3, 'q'), 0), Qubit(QuantumRegister(3, 'q'), 1)), cargs=()),\n",
       " DAGOpNode(op=Instruction(name='measure', num_qubits=1, num_clbits=1, params=[]), qargs=(Qubit(QuantumRegister(3, 'q'), 0),), cargs=(Clbit(ClassicalRegister(3, 'c'), 0),)),\n",
       " DAGOpNode(op=Instruction(name='rz', num_qubits=1, num_clbits=0, params=[0.5]), qargs=(Qubit(QuantumRegister(3, 'q'), 1),), cargs=())]"
      ]
     },
     "execution_count": 18,
     "metadata": {},
     "output_type": "execute_result"
    }
   ],
   "source": [
    "dag.op_nodes()"
   ]
  },
  {
   "cell_type": "markdown",
   "metadata": {},
   "source": [
    "Each node is an instance of the ``DAGOpNode`` class. Let's examine the information stored in the fourth op node."
   ]
  },
  {
   "cell_type": "code",
   "execution_count": 19,
   "metadata": {
    "ExecuteTime": {
     "end_time": "2019-12-10T21:48:03.540054Z",
     "start_time": "2019-12-10T21:48:03.534378Z"
    }
   },
   "outputs": [
    {
     "name": "stdout",
     "output_type": "stream",
     "text": [
      "node name:  rz\n",
      "node op:  Instruction(name='rz', num_qubits=1, num_clbits=0, params=[0.5])\n",
      "node qargs:  (Qubit(QuantumRegister(3, 'q'), 1),)\n",
      "node cargs:  ()\n",
      "node condition:  (ClassicalRegister(3, 'c'), 2)\n"
     ]
    }
   ],
   "source": [
    "node = dag.op_nodes()[3]\n",
    "print(\"node name: \", node.name)\n",
    "print(\"node op: \", node.op)\n",
    "print(\"node qargs: \", node.qargs)\n",
    "print(\"node cargs: \", node.cargs)\n",
    "print(\"node condition: \", node.op.condition)"
   ]
  },
  {
   "cell_type": "markdown",
   "metadata": {},
   "source": [
    "**b. Add an operation to the back:**"
   ]
  },
  {
   "cell_type": "code",
   "execution_count": 20,
   "metadata": {
    "ExecuteTime": {
     "end_time": "2019-12-10T21:48:03.660392Z",
     "start_time": "2019-12-10T21:48:03.542892Z"
    },
    "tags": [
     "nbsphinx-thumbnail"
    ]
   },
   "outputs": [
    {
     "data": {
      "image/png": "[encoded data removed]",
      "text/plain": [
       "<PIL.Image.Image image mode=RGBA size=388x466 at 0x7FF9942673A0>"
      ]
     },
     "execution_count": 20,
     "metadata": {},
     "output_type": "execute_result"
    }
   ],
   "source": [
    "from qiskit.circuit.library import HGate\n",
    "dag.apply_operation_back(HGate(), qargs=[q[0]])\n",
    "dag_drawer(dag)"
   ]
  },
  {
   "cell_type": "markdown",
   "metadata": {},
   "source": [
    "**c. Add an operation to the front:**"
   ]
  },
  {
   "cell_type": "code",
   "execution_count": 21,
   "metadata": {
    "ExecuteTime": {
     "end_time": "2019-12-10T21:48:03.773434Z",
     "start_time": "2019-12-10T21:48:03.662725Z"
    }
   },
   "outputs": [
    {
     "data": {
      "image/png": "[encoded data removed]",
      "text/plain": [
       "<PIL.Image.Image image mode=RGBA size=388x550 at 0x7FF9CC99FA60>"
      ]
     },
     "execution_count": 21,
     "metadata": {},
     "output_type": "execute_result"
    }
   ],
   "source": [
    "from qiskit.circuit.library import CCXGate\n",
    "dag.apply_operation_front(CCXGate(), qargs=[q[0], q[1], q[2]], cargs=[])\n",
    "dag_drawer(dag)"
   ]
  },
  {
   "cell_type": "markdown",
   "metadata": {},
   "source": [
    "**d. Substitute a node with a subcircuit:**"
   ]
  },
  {
   "cell_type": "code",
   "execution_count": 22,
   "metadata": {
    "ExecuteTime": {
     "end_time": "2019-12-10T21:48:03.905653Z",
     "start_time": "2019-12-10T21:48:03.776373Z"
    }
   },
   "outputs": [
    {
     "data": {
      "image/png": "[encoded data removed]",
      "text/plain": [
       "<PIL.Image.Image image mode=RGB size=391x550 at 0x7FF9FC402B00>"
      ]
     },
     "execution_count": 22,
     "metadata": {},
     "output_type": "execute_result"
    }
   ],
   "source": [
    "from qiskit.circuit.library import CHGate, U2Gate, CXGate\n",
    "mini_dag = DAGCircuit()\n",
    "p = QuantumRegister(2, \"p\")\n",
    "mini_dag.add_qreg(p)\n",
    "mini_dag.apply_operation_back(CHGate(), qargs=[p[1], p[0]])\n",
    "mini_dag.apply_operation_back(U2Gate(0.1, 0.2), qargs=[p[1]])\n",
    "\n",
    "# substitute the cx node with the above mini-dag\n",
    "cx_node = dag.op_nodes(op=CXGate).pop()\n",
    "dag.substitute_node_with_dag(node=cx_node, input_dag=mini_dag, wires=[p[0], p[1]])\n",
    "dag_drawer(dag)"
   ]
  },
  {
   "cell_type": "markdown",
   "metadata": {},
   "source": [
    "Finally, after all transformations are complete, we can convert back to a regular QuantumCircuit object.\n",
    "This is what the transpiler does! It takes a circuit, operates on it in DAG form, and outputs a transformed circuit."
   ]
  },
  {
   "cell_type": "code",
   "execution_count": 23,
   "metadata": {
    "ExecuteTime": {
     "end_time": "2019-12-10T21:48:04.154317Z",
     "start_time": "2019-12-10T21:48:03.916725Z"
    }
   },
   "outputs": [
    {
     "data": {
      "image/png": "[encoded data removed]",
      "text/plain": [
       "<Figure size 447.797x264.88 with 1 Axes>"
      ]
     },
     "execution_count": 23,
     "metadata": {},
     "output_type": "execute_result"
    }
   ],
   "source": [
    "from qiskit.converters import dag_to_circuit\n",
    "circuit = dag_to_circuit(dag)\n",
    "circuit.draw(output='mpl')"
   ]
  },
  {
   "cell_type": "markdown",
   "metadata": {},
   "source": [
    "## Implementing a BasicMapper Pass"
   ]
  },
  {
   "cell_type": "markdown",
   "metadata": {},
   "source": [
    "Now that we are familiar with the DAG, let's use it to write a transpiler pass. Here we will implement a basic pass for mapping an arbitrary circuit to a device with limited qubit connectivity. We call this the BasicMapper. This pass is included in Qiskit Terra as well.\n",
    "\n",
    "The first thing to do when writing a transpiler pass is to decide whether the pass class derives from a ``TransformationPass`` or ``AnalysisPass``. Transformation passes modify the circuit, while analysis passes only collect information about a circuit (to be used by other passes). Then, the ``run(dag)`` method is implemented, which does the main task. Finally, the pass is registered inside the ``qiskit.transpiler.passes`` module.\n",
    "\n",
    "This pass functions as follows: it traverses the DAG layer-by-layer (each layer is a group of operations acting on independent qubits, so in theory all operations in a layer can be done independently). For each operation, if it does not already meet the coupling map constraints, the pass identifies a swap path and inserts swaps to bring the two qubits close to each other.\n",
    "\n",
    "Follow the comments in the code for more details."
   ]
  },
  {
   "cell_type": "code",
   "execution_count": 24,
   "metadata": {
    "ExecuteTime": {
     "end_time": "2019-12-10T21:48:04.178919Z",
     "start_time": "2019-12-10T21:48:04.159510Z"
    }
   },
   "outputs": [],
   "source": [
    "from copy import copy\n",
    "\n",
    "from qiskit.transpiler.basepasses import TransformationPass\n",
    "from qiskit.transpiler import Layout\n",
    "from qiskit.circuit.library import SwapGate\n",
    "\n",
    "\n",
    "class BasicSwap(TransformationPass):\n",
    "    \"\"\"Maps (with minimum effort) a DAGCircuit onto a `coupling_map` adding swap gates.\"\"\"\n",
    "\n",
    "    def __init__(self,\n",
    "                 coupling_map,\n",
    "                 initial_layout=None):\n",
    "        \"\"\"Maps a DAGCircuit onto a `coupling_map` using swap gates.\n",
    "        \n",
    "        Args:\n",
    "            coupling_map (CouplingMap): Directed graph represented a coupling map.\n",
    "            initial_layout (Layout): initial layout of qubits in mapping\n",
    "        \"\"\"\n",
    "        super().__init__()\n",
    "        self.coupling_map = coupling_map\n",
    "        self.initial_layout = initial_layout\n",
    "\n",
    "    def run(self, dag):\n",
    "        \"\"\"Runs the BasicSwap pass on `dag`.\n",
    "        \n",
    "        Args:\n",
    "            dag (DAGCircuit): DAG to map.\n",
    "\n",
    "        Returns:\n",
    "            DAGCircuit: A mapped DAG.\n",
    "\n",
    "        Raises:\n",
    "            TranspilerError: if the coupling map or the layout are not\n",
    "            compatible with the DAG.\n",
    "        \"\"\"\n",
    "        new_dag = DAGCircuit()\n",
    "        for qreg in dag.qregs.values():\n",
    "            new_dag.add_qreg(qreg)\n",
    "        for creg in dag.cregs.values():\n",
    "            new_dag.add_creg(creg)\n",
    "        \n",
    "\n",
    "        if self.initial_layout is None:\n",
    "            if self.property_set[\"layout\"]:\n",
    "                self.initial_layout = self.property_set[\"layout\"]\n",
    "            else:\n",
    "                self.initial_layout = Layout.generate_trivial_layout(*dag.qregs.values())\n",
    "\n",
    "        if len(dag.qubits) != len(self.initial_layout):\n",
    "            raise TranspilerError('The layout does not match the amount of qubits in the DAG')\n",
    "\n",
    "        if len(self.coupling_map.physical_qubits) != len(self.initial_layout):\n",
    "            raise TranspilerError(\n",
    "                \"Mappers require to have the layout to be the same size as the coupling map\")\n",
    "            \n",
    "        canonical_register = dag.qregs['q']\n",
    "        trivial_layout = Layout.generate_trivial_layout(canonical_register)\n",
    "        current_layout = trivial_layout.copy()\n",
    "\n",
    "        for layer in dag.serial_layers():\n",
    "            subdag = layer['graph']\n",
    "\n",
    "            for gate in subdag.two_qubit_ops():\n",
    "                physical_q0 = current_layout[gate.qargs[0]]\n",
    "                physical_q1 = current_layout[gate.qargs[1]]\n",
    "                if self.coupling_map.distance(physical_q0, physical_q1) != 1:\n",
    "                    # Insert a new layer with the SWAP(s).\n",
    "                    swap_layer = DAGCircuit()\n",
    "                    swap_layer.add_qreg(canonical_register)\n",
    "\n",
    "                    path = self.coupling_map.shortest_undirected_path(physical_q0, physical_q1)\n",
    "                    for swap in range(len(path) - 2):\n",
    "                        connected_wire_1 = path[swap]\n",
    "                        connected_wire_2 = path[swap + 1]\n",
    "\n",
    "                        qubit_1 = current_layout[connected_wire_1]\n",
    "                        qubit_2 = current_layout[connected_wire_2]\n",
    "\n",
    "                        # create the swap operation\n",
    "                        swap_layer.apply_operation_back(SwapGate(),\n",
    "                                                        qargs=[qubit_1, qubit_2],\n",
    "                                                        cargs=[])\n",
    "\n",
    "                    # layer insertion\n",
    "                    order = current_layout.reorder_bits(new_dag.qubits)\n",
    "                    new_dag.compose(swap_layer, qubits=order)\n",
    "\n",
    "                    # update current_layout\n",
    "                    for swap in range(len(path) - 2):\n",
    "                        current_layout.swap(path[swap], path[swap + 1])\n",
    "\n",
    "            order = current_layout.reorder_bits(new_dag.qubits)\n",
    "            new_dag.compose(subdag, qubits=order)\n",
    "\n",
    "        return new_dag"
   ]
  },
  {
   "cell_type": "markdown",
   "metadata": {},
   "source": [
    "Let's test this pass on a small example circuit."
   ]
  },
  {
   "cell_type": "code",
   "execution_count": 25,
   "metadata": {
    "ExecuteTime": {
     "end_time": "2019-12-10T21:48:04.189596Z",
     "start_time": "2019-12-10T21:48:04.181850Z"
    }
   },
   "outputs": [
    {
     "data": {
      "text/plain": [
       "<qiskit.circuit.instructionset.InstructionSet at 0x7ff990428370>"
      ]
     },
     "execution_count": 25,
     "metadata": {},
     "output_type": "execute_result"
    }
   ],
   "source": [
    "q = QuantumRegister(7, 'q')\n",
    "in_circ = QuantumCircuit(q)\n",
    "in_circ.h(q[0])\n",
    "in_circ.cx(q[0], q[4])\n",
    "in_circ.cx(q[2], q[3])\n",
    "in_circ.cx(q[6], q[1])\n",
    "in_circ.cx(q[5], q[0])\n",
    "in_circ.rz(0.1, q[2])\n",
    "in_circ.cx(q[5], q[0])"
   ]
  },
  {
   "cell_type": "markdown",
   "metadata": {},
   "source": [
    "Now we construct a pass manager that contains our new pass. We pass the example circuit above to this pass manager, and obtain a new, transformed circuit."
   ]
  },
  {
   "cell_type": "code",
   "execution_count": 26,
   "metadata": {
    "ExecuteTime": {
     "end_time": "2019-12-10T21:48:04.207681Z",
     "start_time": "2019-12-10T21:48:04.191604Z"
    }
   },
   "outputs": [],
   "source": [
    "from qiskit.transpiler import PassManager\n",
    "from qiskit.transpiler import CouplingMap\n",
    "from qiskit import BasicAer\n",
    "pm = PassManager()\n",
    "coupling = [[0, 1], [1, 2], [2, 3], [3, 4], [4, 5], [5, 6]]\n",
    "coupling_map = CouplingMap(couplinglist=coupling)\n",
    "\n",
    "pm.append([BasicSwap(coupling_map)])\n",
    "\n",
    "out_circ = pm.run(in_circ)"
   ]
  },
  {
   "cell_type": "code",
   "execution_count": 27,
   "metadata": {
    "ExecuteTime": {
     "end_time": "2019-12-10T21:48:04.457320Z",
     "start_time": "2019-12-10T21:48:04.210267Z"
    }
   },
   "outputs": [
    {
     "data": {
      "image/png": "[encoded data removed]",
      "text/plain": [
       "<Figure size 447.797x445.48 with 1 Axes>"
      ]
     },
     "execution_count": 27,
     "metadata": {},
     "output_type": "execute_result"
    }
   ],
   "source": [
    "in_circ.draw(output='mpl')"
   ]
  },
  {
   "cell_type": "code",
   "execution_count": 28,
   "metadata": {
    "ExecuteTime": {
     "end_time": "2019-12-10T21:48:04.807143Z",
     "start_time": "2019-12-10T21:48:04.459740Z"
    }
   },
   "outputs": [
    {
     "data": {
      "image/png": "[encoded data removed]",
      "text/plain": [
       "<Figure size 869.197x445.48 with 1 Axes>"
      ]
     },
     "execution_count": 28,
     "metadata": {},
     "output_type": "execute_result"
    }
   ],
   "source": [
    "out_circ.draw(output='mpl')"
   ]
  },
  {
   "cell_type": "markdown",
   "metadata": {},
   "source": [
    "Note that this pass only inserts the swaps necessary to make every two-qubit interaction conform to the device coupling map. It does not, for example, care about the direction of interactions, or the native gate set supported by the device. This is a design philosophy of Qiskit's transpiler: every pass performs a small, well-defined action, and the aggressive circuit optimization is achieved by the pass manager through combining multiple passes."
   ]
  },
  {
   "cell_type": "markdown",
   "metadata": {},
   "source": [
    "## Transpiler Logging <a name='logging'></a>\n",
    "\n",
    "Due to the complexity of the internal operations that the transpiler is performing it's likely that you'll end up in a situation where you'd like to debug an issue or just understand more of what is happening inside the transpiler when you call it. To facilitate this the transpiler emits log messages as part of its normal operation. This logging uses the Python standard library `logging` module to emit the log messages. Python's standard logging was used because it allows Qiskit-Terra's logging to integrate in a standard way with other applications and libraries.\n",
    "\n",
    "For a more thorough introduction to Python logging refer to the [official documentation](https://docs.python.org/3/library/logging.html) and the tutorials and cookbook linked off of there."
   ]
  },
  {
   "cell_type": "markdown",
   "metadata": {},
   "source": [
    "<div class=\"alert alert-block alert-success\">\n",
    "    <b>Note:</b> Most of the <code>logging</code> module functions used in this section adjust global settings. If you run commands in this section it might effect the output from other cells if they are run in a different order.\n",
    "</div>"
   ]
  },
  {
   "cell_type": "markdown",
   "metadata": {},
   "source": [
    "### Configuring Python Standard Library Logging\n",
    "\n",
    "By default Python Standard Logging only prints log messages at the `WARNING`, `ERROR`, or `CRITICAL` log levels.\n",
    "Since none of the logs emitted by the transpiler use these log levels (they're all informative) you need to configure logging.\n",
    "\n",
    "The simplest way to do this is to just run:"
   ]
  },
  {
   "cell_type": "code",
   "execution_count": 29,
   "metadata": {
    "ExecuteTime": {
     "end_time": "2019-12-10T21:48:04.813322Z",
     "start_time": "2019-12-10T21:48:04.809390Z"
    }
   },
   "outputs": [],
   "source": [
    "import logging\n",
    "\n",
    "logging.basicConfig(level='DEBUG')"
   ]
  },
  {
   "cell_type": "markdown",
   "metadata": {},
   "source": [
    "The `basicConfig()` function (see the docs here: https://docs.python.org/3/library/logging.html#logging.basicConfig) configures a root handler and formatter. We also specify the [log level](https://docs.python.org/3/library/logging.html#levels) to display with the `level` kwarg. Setting it to a level will also include and higher levels. For example, if you set it to `'INFO'`, in addition to the `INFO` level, this will also include the `WARNING`, `ERROR`, and `CRITICAL` log levels.\n",
    "\n",
    "Now the python environment in this notebook is configured to emit log messages to stderr when you run the transpiler. For example:"
   ]
  },
  {
   "cell_type": "markdown",
   "metadata": {},
   "source": [
    "<div class=\"alert alert-block alert-success\">\n",
    "    <b>Note:</b> <code>basicConfig()</code> will only work when called the first time it's called. It detects if a root handler and formatter have already been setup (either by using an earlier <code>basicConfig()</code> call or otherwise) and does nothing if they have. Further adjustments will have to by interacting with the handler directly.\n",
    "</div>"
   ]
  },
  {
   "cell_type": "code",
   "execution_count": 30,
   "metadata": {
    "ExecuteTime": {
     "end_time": "2019-12-10T21:48:04.870900Z",
     "start_time": "2019-12-10T21:48:04.815673Z"
    }
   },
   "outputs": [
    {
     "name": "stderr",
     "output_type": "stream",
     "text": [
      "DEBUG:stevedore.extension:found extension EntryPoint(name='basic', value='qiskit.transpiler.preset_passmanagers.builtin_plugins:BasicSwapPassManager', group='qiskit.transpiler.routing')\n",
      "DEBUG:stevedore.extension:found extension EntryPoint(name='lookahead', value='qiskit.transpiler.preset_passmanagers.builtin_plugins:LookaheadSwapPassManager', group='qiskit.transpiler.routing')\n",
      "DEBUG:stevedore.extension:found extension EntryPoint(name='none', value='qiskit.transpiler.preset_passmanagers.builtin_plugins:NoneRoutingPassManager', group='qiskit.transpiler.routing')\n",
      "DEBUG:stevedore.extension:found extension EntryPoint(name='sabre', value='qiskit.transpiler.preset_passmanagers.builtin_plugins:SabreSwapPassManager', group='qiskit.transpiler.routing')\n",
      "DEBUG:stevedore.extension:found extension EntryPoint(name='stochastic', value='qiskit.transpiler.preset_passmanagers.builtin_plugins:StochasticSwapPassManager', group='qiskit.transpiler.routing')\n",
      "INFO:qiskit.transpiler.runningpassmanager:Pass: ContainsInstruction - 0.01121 (ms)\n",
      "INFO:qiskit.transpiler.runningpassmanager:Pass: UnitarySynthesis - 0.07796 (ms)\n",
      "DEBUG:stevedore.extension:found extension EntryPoint(name='clifford.default', value='qiskit.transpiler.passes.synthesis.high_level_synthesis:DefaultSynthesisClifford', group='qiskit.synthesis')\n",
      "DEBUG:stevedore.extension:found extension EntryPoint(name='linear_function.default', value='qiskit.transpiler.passes.synthesis.high_level_synthesis:DefaultSynthesisLinearFunction', group='qiskit.synthesis')\n",
      "INFO:qiskit.transpiler.runningpassmanager:Pass: HighLevelSynthesis - 1.30749 (ms)\n",
      "INFO:qiskit.transpiler.runningpassmanager:Pass: Unroll3qOrMore - 0.02146 (ms)\n",
      "INFO:qiskit.transpiler.runningpassmanager:Pass: SetLayout - 0.00739 (ms)\n",
      "INFO:qiskit.transpiler.runningpassmanager:Pass: TrivialLayout - 0.06509 (ms)\n",
      "INFO:qiskit.transpiler.runningpassmanager:Pass: CheckMap - 0.09203 (ms)\n",
      "INFO:qiskit.transpiler.runningpassmanager:Pass: FullAncillaAllocation - 0.18358 (ms)\n",
      "INFO:qiskit.transpiler.runningpassmanager:Pass: EnlargeWithAncilla - 0.11158 (ms)\n",
      "INFO:qiskit.transpiler.runningpassmanager:Pass: ApplyLayout - 0.24843 (ms)\n",
      "INFO:qiskit.transpiler.runningpassmanager:Pass: ContainsInstruction - 0.01645 (ms)\n",
      "INFO:qiskit.transpiler.runningpassmanager:Pass: CheckMap - 0.08273 (ms)\n",
      "INFO:qiskit.transpiler.runningpassmanager:Pass: UnitarySynthesis - 0.14734 (ms)\n",
      "DEBUG:stevedore.extension:found extension EntryPoint(name='clifford.default', value='qiskit.transpiler.passes.synthesis.high_level_synthesis:DefaultSynthesisClifford', group='qiskit.synthesis')\n",
      "DEBUG:stevedore.extension:found extension EntryPoint(name='linear_function.default', value='qiskit.transpiler.passes.synthesis.high_level_synthesis:DefaultSynthesisLinearFunction', group='qiskit.synthesis')\n",
      "INFO:qiskit.transpiler.runningpassmanager:Pass: HighLevelSynthesis - 2.12932 (ms)\n",
      "INFO:qiskit.transpiler.runningpassmanager:Pass: UnrollCustomDefinitions - 0.18430 (ms)\n",
      "INFO:qiskit.transpiler.passes.basis.basis_translator:Begin BasisTranslator from source basis {('cx', 2), ('x', 1), ('measure', 1), ('h', 1)} to target basis {'snapshot', 'u1', 'u3', 'u2', 'measure', 'reset', 'id', 'barrier', 'cx', 'delay'}.\n",
      "DEBUG:qiskit.transpiler.passes.basis.basis_translator:Begining basis search from {('cx', 2), ('x', 1), ('measure', 1), ('h', 1)} to {'snapshot', 'u1', 'u3', 'u2', 'measure', 'reset', 'id', 'barrier', 'cx', 'delay'}.\n",
      "DEBUG:qiskit.transpiler.passes.basis.basis_translator:Gate r generated using rule \n",
      "   ┌───────────────────────────────────┐\n",
      "q: ┤ U3(theta,phi - π/2,π/2 - 1.0*phi) ├\n",
      "   └───────────────────────────────────┘\n",
      " with total cost of 1.0.\n",
      "DEBUG:qiskit.transpiler.passes.basis.basis_translator:Gate u generated using rule \n",
      "   ┌───────────────────┐\n",
      "q: ┤ U3(theta,phi,lam) ├\n",
      "   └───────────────────┘\n",
      " with total cost of 1.0.\n",
      "DEBUG:qiskit.transpiler.passes.basis.basis_translator:Gate tdg generated using rule \n",
      "   ┌──────────┐\n",
      "q: ┤ U1(-π/4) ├\n",
      "   └──────────┘\n",
      " with total cost of 1.0.\n",
      "DEBUG:qiskit.transpiler.passes.basis.basis_translator:Gate s generated using rule \n",
      "   ┌─────────┐\n",
      "q: ┤ U1(π/2) ├\n",
      "   └─────────┘\n",
      " with total cost of 1.0.\n",
      "DEBUG:qiskit.transpiler.passes.basis.basis_translator:Gate rz generated using rule \n",
      "global phase: -0.5*theta\n",
      "   ┌───────────┐\n",
      "q: ┤ U1(theta) ├\n",
      "   └───────────┘\n",
      " with total cost of 1.0.\n",
      "DEBUG:qiskit.transpiler.passes.basis.basis_translator:Gate z generated using rule \n",
      "   ┌───────┐\n",
      "q: ┤ U1(π) ├\n",
      "   └───────┘\n",
      " with total cost of 1.0.\n",
      "DEBUG:qiskit.transpiler.passes.basis.basis_translator:Gate ry generated using rule \n",
      "   ┌──────────────┐\n",
      "q: ┤ R(theta,π/2) ├\n",
      "   └──────────────┘\n",
      " with total cost of 1.0.\n",
      "DEBUG:qiskit.transpiler.passes.basis.basis_translator:Gate x generated using rule \n",
      "   ┌───────────┐\n",
      "q: ┤ U3(π,0,π) ├\n",
      "   └───────────┘\n",
      " with total cost of 1.0.\n",
      "DEBUG:qiskit.transpiler.passes.basis.basis_translator:Gate t generated using rule \n",
      "   ┌─────────┐\n",
      "q: ┤ U1(π/4) ├\n",
      "   └─────────┘\n",
      " with total cost of 1.0.\n",
      "DEBUG:qiskit.transpiler.passes.basis.basis_translator:Gate p generated using rule \n",
      "   ┌───────────┐\n",
      "q: ┤ U1(theta) ├\n",
      "   └───────────┘\n",
      " with total cost of 1.0.\n",
      "DEBUG:qiskit.transpiler.passes.basis.basis_translator:Gate h generated using rule \n",
      "   ┌─────────┐\n",
      "q: ┤ U2(0,π) ├\n",
      "   └─────────┘\n",
      " with total cost of 1.0.\n",
      "DEBUG:qiskit.transpiler.passes.basis.basis_translator:Transformation path:\n",
      "DEBUG:qiskit.transpiler.passes.basis.basis_translator:h/1 => []\n",
      "   ┌─────────┐\n",
      "q: ┤ U2(0,π) ├\n",
      "   └─────────┘\n",
      "DEBUG:qiskit.transpiler.passes.basis.basis_translator:p/1 => [Parameter(theta)]\n",
      "   ┌───────────┐\n",
      "q: ┤ U1(theta) ├\n",
      "   └───────────┘\n",
      "DEBUG:qiskit.transpiler.passes.basis.basis_translator:t/1 => []\n",
      "   ┌─────────┐\n",
      "q: ┤ U1(π/4) ├\n",
      "   └─────────┘\n",
      "DEBUG:qiskit.transpiler.passes.basis.basis_translator:x/1 => []\n",
      "   ┌───────────┐\n",
      "q: ┤ U3(π,0,π) ├\n",
      "   └───────────┘\n",
      "DEBUG:qiskit.transpiler.passes.basis.basis_translator:ry/1 => [Parameter(theta)]\n",
      "   ┌──────────────┐\n",
      "q: ┤ R(theta,π/2) ├\n",
      "   └──────────────┘\n",
      "DEBUG:qiskit.transpiler.passes.basis.basis_translator:z/1 => []\n",
      "   ┌───────┐\n",
      "q: ┤ U1(π) ├\n",
      "   └───────┘\n",
      "DEBUG:qiskit.transpiler.passes.basis.basis_translator:rz/1 => [Parameter(theta)]\n",
      "global phase: -0.5*theta\n",
      "   ┌───────────┐\n",
      "q: ┤ U1(theta) ├\n",
      "   └───────────┘\n",
      "DEBUG:qiskit.transpiler.passes.basis.basis_translator:s/1 => []\n",
      "   ┌─────────┐\n",
      "q: ┤ U1(π/2) ├\n",
      "   └─────────┘\n",
      "DEBUG:qiskit.transpiler.passes.basis.basis_translator:tdg/1 => []\n",
      "   ┌──────────┐\n",
      "q: ┤ U1(-π/4) ├\n",
      "   └──────────┘\n",
      "DEBUG:qiskit.transpiler.passes.basis.basis_translator:u/1 => [Parameter(theta), Parameter(phi), Parameter(lam)]\n",
      "   ┌───────────────────┐\n",
      "q: ┤ U3(theta,phi,lam) ├\n",
      "   └───────────────────┘\n",
      "DEBUG:qiskit.transpiler.passes.basis.basis_translator:r/1 => [Parameter(theta), Parameter(phi)]\n",
      "   ┌───────────────────────────────────┐\n",
      "q: ┤ U3(theta,phi - π/2,π/2 - 1.0*phi) ├\n",
      "   └───────────────────────────────────┘\n",
      "INFO:qiskit.transpiler.passes.basis.basis_translator:Basis translation path search completed in 0.079s.\n",
      "DEBUG:qiskit.transpiler.passes.basis.basis_translator:Composing transform step: h/1 [] =>\n",
      "   ┌─────────┐\n",
      "q: ┤ U2(0,π) ├\n",
      "   └─────────┘\n",
      "DEBUG:qiskit.transpiler.passes.basis.basis_translator:Updating transform for mapped instr ('h', 1) h, [] from \n",
      "      ┌───┐\n",
      "q270: ┤ h ├\n",
      "      └───┘\n",
      "DEBUG:qiskit.transpiler.passes.basis.basis_translator:Updated transform for mapped instr ('h', 1) h, [] to\n",
      "      ┌─────────┐\n",
      "q270: ┤ U2(0,π) ├\n",
      "      └─────────┘\n",
      "DEBUG:qiskit.transpiler.passes.basis.basis_translator:Composing transform step: p/1 [Parameter(theta)] =>\n",
      "   ┌───────────┐\n",
      "q: ┤ U1(theta) ├\n",
      "   └───────────┘\n",
      "DEBUG:qiskit.transpiler.passes.basis.basis_translator:Composing transform step: t/1 [] =>\n",
      "   ┌─────────┐\n",
      "q: ┤ U1(π/4) ├\n",
      "   └─────────┘\n",
      "DEBUG:qiskit.transpiler.passes.basis.basis_translator:Composing transform step: x/1 [] =>\n",
      "   ┌───────────┐\n",
      "q: ┤ U3(π,0,π) ├\n",
      "   └───────────┘\n",
      "DEBUG:qiskit.transpiler.passes.basis.basis_translator:Updating transform for mapped instr ('x', 1) x, [] from \n",
      "      ┌───┐\n",
      "q268: ┤ x ├\n",
      "      └───┘\n",
      "DEBUG:qiskit.transpiler.passes.basis.basis_translator:Updated transform for mapped instr ('x', 1) x, [] to\n",
      "      ┌───────────┐\n",
      "q268: ┤ U3(π,0,π) ├\n",
      "      └───────────┘\n",
      "DEBUG:qiskit.transpiler.passes.basis.basis_translator:Composing transform step: ry/1 [Parameter(theta)] =>\n",
      "   ┌──────────────┐\n",
      "q: ┤ R(theta,π/2) ├\n",
      "   └──────────────┘\n",
      "DEBUG:qiskit.transpiler.passes.basis.basis_translator:Composing transform step: z/1 [] =>\n",
      "   ┌───────┐\n",
      "q: ┤ U1(π) ├\n",
      "   └───────┘\n",
      "DEBUG:qiskit.transpiler.passes.basis.basis_translator:Composing transform step: rz/1 [Parameter(theta)] =>\n",
      "global phase: -0.5*theta\n",
      "   ┌───────────┐\n",
      "q: ┤ U1(theta) ├\n",
      "   └───────────┘\n",
      "DEBUG:qiskit.transpiler.passes.basis.basis_translator:Composing transform step: s/1 [] =>\n",
      "   ┌─────────┐\n",
      "q: ┤ U1(π/2) ├\n",
      "   └─────────┘\n",
      "DEBUG:qiskit.transpiler.passes.basis.basis_translator:Composing transform step: tdg/1 [] =>\n",
      "   ┌──────────┐\n",
      "q: ┤ U1(-π/4) ├\n",
      "   └──────────┘\n",
      "DEBUG:qiskit.transpiler.passes.basis.basis_translator:Composing transform step: u/1 [Parameter(theta), Parameter(phi), Parameter(lam)] =>\n",
      "   ┌───────────────────┐\n",
      "q: ┤ U3(theta,phi,lam) ├\n",
      "   └───────────────────┘\n",
      "DEBUG:qiskit.transpiler.passes.basis.basis_translator:Composing transform step: r/1 [Parameter(theta), Parameter(phi)] =>\n",
      "   ┌───────────────────────────────────┐\n",
      "q: ┤ U3(theta,phi - π/2,π/2 - 1.0*phi) ├\n",
      "   └───────────────────────────────────┘\n",
      "INFO:qiskit.transpiler.passes.basis.basis_translator:Basis translation paths composed in 0.045s.\n",
      "INFO:qiskit.transpiler.passes.basis.basis_translator:Basis translation instructions replaced in 0.000s.\n",
      "INFO:qiskit.transpiler.runningpassmanager:Pass: BasisTranslator - 127.81143 (ms)\n",
      "INFO:qiskit.transpiler.runningpassmanager:Pass: CheckGateDirection - 0.14639 (ms)\n",
      "INFO:qiskit.transpiler.runningpassmanager:Pass: GateDirection - 0.28825 (ms)\n",
      "INFO:qiskit.transpiler.runningpassmanager:Pass: RemoveResetInZeroState - 0.03529 (ms)\n",
      "INFO:qiskit.transpiler.runningpassmanager:Pass: Depth - 0.06032 (ms)\n",
      "INFO:qiskit.transpiler.runningpassmanager:Pass: FixedPoint - 0.05436 (ms)\n",
      "INFO:qiskit.transpiler.runningpassmanager:Pass: Size - 0.51093 (ms)\n",
      "INFO:qiskit.transpiler.runningpassmanager:Pass: FixedPoint - 0.02146 (ms)\n",
      "INFO:qiskit.transpiler.runningpassmanager:Pass: Optimize1qGatesDecomposition - 3.89552 (ms)\n",
      "INFO:qiskit.transpiler.runningpassmanager:Pass: CXCancellation - 0.05627 (ms)\n",
      "INFO:qiskit.transpiler.runningpassmanager:Pass: GatesInBasis - 0.06032 (ms)\n",
      "INFO:qiskit.transpiler.runningpassmanager:Pass: Depth - 0.07224 (ms)\n",
      "INFO:qiskit.transpiler.runningpassmanager:Pass: FixedPoint - 0.01645 (ms)\n",
      "INFO:qiskit.transpiler.runningpassmanager:Pass: Size - 0.05436 (ms)\n",
      "INFO:qiskit.transpiler.runningpassmanager:Pass: FixedPoint - 0.01717 (ms)\n",
      "INFO:qiskit.transpiler.runningpassmanager:Pass: Optimize1qGatesDecomposition - 2.38466 (ms)\n",
      "INFO:qiskit.transpiler.runningpassmanager:Pass: CXCancellation - 0.10848 (ms)\n",
      "INFO:qiskit.transpiler.runningpassmanager:Pass: GatesInBasis - 0.08154 (ms)\n",
      "INFO:qiskit.transpiler.runningpassmanager:Pass: Depth - 0.10681 (ms)\n",
      "INFO:qiskit.transpiler.runningpassmanager:Pass: FixedPoint - 0.01884 (ms)\n",
      "INFO:qiskit.transpiler.runningpassmanager:Pass: Size - 0.08702 (ms)\n",
      "INFO:qiskit.transpiler.runningpassmanager:Pass: FixedPoint - 0.02027 (ms)\n",
      "INFO:qiskit.transpiler.runningpassmanager:Pass: ContainsInstruction - 0.07558 (ms)\n",
      "INFO:qiskit.compiler.transpiler:Total Transpile Time - 205.91760 (ms)\n"
     ]
    }
   ],
   "source": [
    "from qiskit.providers.fake_provider import FakeTenerife\n",
    "\n",
    "\n",
    "log_circ = QuantumCircuit(2, 2)\n",
    "log_circ.h(0)\n",
    "log_circ.h(1)\n",
    "log_circ.h(1)\n",
    "log_circ.x(1)\n",
    "log_circ.cx(0, 1)\n",
    "log_circ.measure([0,1], [0,1])\n",
    "\n",
    "backend = FakeTenerife()\n",
    "\n",
    "transpile(log_circ, backend);"
   ]
  },
  {
   "cell_type": "markdown",
   "metadata": {},
   "source": [
    "As you can clearly see here when calling `transpile()` it now prints 2 types of log messages. The first is at the `INFO` log level and come from the pass manager. These indicate each pass that was executed and how long that took. The second are at the `DEBUG` level and come from the StochasticSwap pass and describes the internal operation of that pass. It's useful for debugging issues in the pass's operation."
   ]
  },
  {
   "cell_type": "markdown",
   "metadata": {},
   "source": [
    "### Adjusting the log level for the transpiler\n",
    "\n",
    "The qiskit transpiler uses a single namespace ``qiskit.transpiler``, as used by ``logging.getLogger('qiskit.transpiler')``. This makes it very easy to adjust the log level for just the transpiler. For example if you only wish to see log messages at the INFO level or above you can run:"
   ]
  },
  {
   "cell_type": "code",
   "execution_count": 31,
   "metadata": {
    "ExecuteTime": {
     "end_time": "2019-12-10T21:48:04.917836Z",
     "start_time": "2019-12-10T21:48:04.872823Z"
    }
   },
   "outputs": [
    {
     "name": "stderr",
     "output_type": "stream",
     "text": [
      "DEBUG:stevedore.extension:found extension EntryPoint(name='basic', value='qiskit.transpiler.preset_passmanagers.builtin_plugins:BasicSwapPassManager', group='qiskit.transpiler.routing')\n",
      "DEBUG:stevedore.extension:found extension EntryPoint(name='lookahead', value='qiskit.transpiler.preset_passmanagers.builtin_plugins:LookaheadSwapPassManager', group='qiskit.transpiler.routing')\n",
      "DEBUG:stevedore.extension:found extension EntryPoint(name='none', value='qiskit.transpiler.preset_passmanagers.builtin_plugins:NoneRoutingPassManager', group='qiskit.transpiler.routing')\n",
      "DEBUG:stevedore.extension:found extension EntryPoint(name='sabre', value='qiskit.transpiler.preset_passmanagers.builtin_plugins:SabreSwapPassManager', group='qiskit.transpiler.routing')\n",
      "DEBUG:stevedore.extension:found extension EntryPoint(name='stochastic', value='qiskit.transpiler.preset_passmanagers.builtin_plugins:StochasticSwapPassManager', group='qiskit.transpiler.routing')\n",
      "INFO:qiskit.transpiler.runningpassmanager:Pass: ContainsInstruction - 0.00882 (ms)\n",
      "INFO:qiskit.transpiler.runningpassmanager:Pass: UnitarySynthesis - 0.04649 (ms)\n",
      "DEBUG:stevedore.extension:found extension EntryPoint(name='clifford.default', value='qiskit.transpiler.passes.synthesis.high_level_synthesis:DefaultSynthesisClifford', group='qiskit.synthesis')\n",
      "DEBUG:stevedore.extension:found extension EntryPoint(name='linear_function.default', value='qiskit.transpiler.passes.synthesis.high_level_synthesis:DefaultSynthesisLinearFunction', group='qiskit.synthesis')\n",
      "INFO:qiskit.transpiler.runningpassmanager:Pass: HighLevelSynthesis - 3.08633 (ms)\n",
      "INFO:qiskit.transpiler.runningpassmanager:Pass: Unroll3qOrMore - 0.03195 (ms)\n",
      "INFO:qiskit.transpiler.runningpassmanager:Pass: SetLayout - 0.00644 (ms)\n",
      "INFO:qiskit.transpiler.runningpassmanager:Pass: TrivialLayout - 0.05007 (ms)\n",
      "INFO:qiskit.transpiler.runningpassmanager:Pass: CheckMap - 0.09489 (ms)\n",
      "INFO:qiskit.transpiler.runningpassmanager:Pass: FullAncillaAllocation - 0.09966 (ms)\n",
      "INFO:qiskit.transpiler.runningpassmanager:Pass: EnlargeWithAncilla - 0.06652 (ms)\n",
      "INFO:qiskit.transpiler.runningpassmanager:Pass: ApplyLayout - 0.28276 (ms)\n",
      "INFO:qiskit.transpiler.runningpassmanager:Pass: ContainsInstruction - 0.01192 (ms)\n",
      "INFO:qiskit.transpiler.runningpassmanager:Pass: CheckMap - 0.06318 (ms)\n",
      "INFO:qiskit.transpiler.runningpassmanager:Pass: UnitarySynthesis - 0.12589 (ms)\n",
      "DEBUG:stevedore.extension:found extension EntryPoint(name='clifford.default', value='qiskit.transpiler.passes.synthesis.high_level_synthesis:DefaultSynthesisClifford', group='qiskit.synthesis')\n",
      "DEBUG:stevedore.extension:found extension EntryPoint(name='linear_function.default', value='qiskit.transpiler.passes.synthesis.high_level_synthesis:DefaultSynthesisLinearFunction', group='qiskit.synthesis')\n",
      "INFO:qiskit.transpiler.runningpassmanager:Pass: HighLevelSynthesis - 1.47748 (ms)\n",
      "INFO:qiskit.transpiler.runningpassmanager:Pass: UnrollCustomDefinitions - 0.05245 (ms)\n",
      "INFO:qiskit.transpiler.passes.basis.basis_translator:Begin BasisTranslator from source basis {('cx', 2), ('x', 1), ('measure', 1), ('h', 1)} to target basis {'snapshot', 'u1', 'u3', 'u2', 'measure', 'reset', 'id', 'barrier', 'cx', 'delay'}.\n",
      "INFO:qiskit.transpiler.passes.basis.basis_translator:Basis translation path search completed in 0.001s.\n",
      "INFO:qiskit.transpiler.passes.basis.basis_translator:Basis translation paths composed in 0.002s.\n",
      "INFO:qiskit.transpiler.passes.basis.basis_translator:Basis translation instructions replaced in 0.000s.\n",
      "INFO:qiskit.transpiler.runningpassmanager:Pass: BasisTranslator - 7.40910 (ms)\n",
      "INFO:qiskit.transpiler.runningpassmanager:Pass: CheckGateDirection - 0.07319 (ms)\n",
      "INFO:qiskit.transpiler.runningpassmanager:Pass: GateDirection - 0.15426 (ms)\n",
      "INFO:qiskit.transpiler.runningpassmanager:Pass: RemoveResetInZeroState - 0.02313 (ms)\n",
      "INFO:qiskit.transpiler.runningpassmanager:Pass: Depth - 0.08106 (ms)\n",
      "INFO:qiskit.transpiler.runningpassmanager:Pass: FixedPoint - 0.01669 (ms)\n",
      "INFO:qiskit.transpiler.runningpassmanager:Pass: Size - 0.04125 (ms)\n",
      "INFO:qiskit.transpiler.runningpassmanager:Pass: FixedPoint - 0.02027 (ms)\n",
      "INFO:qiskit.transpiler.runningpassmanager:Pass: Optimize1qGatesDecomposition - 4.40145 (ms)\n",
      "INFO:qiskit.transpiler.runningpassmanager:Pass: CXCancellation - 0.13161 (ms)\n",
      "INFO:qiskit.transpiler.runningpassmanager:Pass: GatesInBasis - 0.08607 (ms)\n",
      "INFO:qiskit.transpiler.runningpassmanager:Pass: Depth - 0.05746 (ms)\n",
      "INFO:qiskit.transpiler.runningpassmanager:Pass: FixedPoint - 0.01931 (ms)\n",
      "INFO:qiskit.transpiler.runningpassmanager:Pass: Size - 0.13041 (ms)\n",
      "INFO:qiskit.transpiler.runningpassmanager:Pass: FixedPoint - 0.02146 (ms)\n",
      "INFO:qiskit.transpiler.runningpassmanager:Pass: Optimize1qGatesDecomposition - 1.33228 (ms)\n",
      "INFO:qiskit.transpiler.runningpassmanager:Pass: CXCancellation - 0.07725 (ms)\n",
      "INFO:qiskit.transpiler.runningpassmanager:Pass: GatesInBasis - 0.10133 (ms)\n",
      "INFO:qiskit.transpiler.runningpassmanager:Pass: Depth - 0.10204 (ms)\n",
      "INFO:qiskit.transpiler.runningpassmanager:Pass: FixedPoint - 0.02313 (ms)\n",
      "INFO:qiskit.transpiler.runningpassmanager:Pass: Size - 0.06318 (ms)\n",
      "INFO:qiskit.transpiler.runningpassmanager:Pass: FixedPoint - 0.01836 (ms)\n",
      "INFO:qiskit.transpiler.runningpassmanager:Pass: ContainsInstruction - 0.04482 (ms)\n",
      "INFO:qiskit.compiler.transpiler:Total Transpile Time - 79.09131 (ms)\n"
     ]
    }
   ],
   "source": [
    "logging.getLogger('qiskit.transpiler').setLevel('INFO')\n",
    "transpile(log_circ, backend);"
   ]
  },
  {
   "cell_type": "markdown",
   "metadata": {},
   "source": [
    "### Setting up logging to deal with parallel execution\n",
    "\n",
    "When running the transpiler with multiple circuits by default these circuits are transpiled in parallel. If you want to do this with logging enabled and be able to understand the output some additional steps are required.\n",
    "\n",
    "If you were just to enable logging as above and then pass `transpile()` multiple circuits you'll get results that are difficult to decipher. For example:"
   ]
  },
  {
   "cell_type": "code",
   "execution_count": 32,
   "metadata": {
    "ExecuteTime": {
     "end_time": "2019-12-10T21:48:05.069815Z",
     "start_time": "2019-12-10T21:48:04.920183Z"
    },
    "scrolled": false
   },
   "outputs": [
    {
     "name": "stderr",
     "output_type": "stream",
     "text": [
      "DEBUG:stevedore.extension:found extension EntryPoint(name='basic', value='qiskit.transpiler.preset_passmanagers.builtin_plugins:BasicSwapPassManager', group='qiskit.transpiler.routing')\n",
      "DEBUG:stevedore.extension:found extension EntryPoint(name='basic', value='qiskit.transpiler.preset_passmanagers.builtin_plugins:BasicSwapPassManager', group='qiskit.transpiler.routing')\n",
      "DEBUG:stevedore.extension:found extension EntryPoint(name='lookahead', value='qiskit.transpiler.preset_passmanagers.builtin_plugins:LookaheadSwapPassManager', group='qiskit.transpiler.routing')\n",
      "DEBUG:stevedore.extension:found extension EntryPoint(name='lookahead', value='qiskit.transpiler.preset_passmanagers.builtin_plugins:LookaheadSwapPassManager', group='qiskit.transpiler.routing')\n",
      "DEBUG:stevedore.extension:found extension EntryPoint(name='none', value='qiskit.transpiler.preset_passmanagers.builtin_plugins:NoneRoutingPassManager', group='qiskit.transpiler.routing')\n",
      "DEBUG:stevedore.extension:found extension EntryPoint(name='none', value='qiskit.transpiler.preset_passmanagers.builtin_plugins:NoneRoutingPassManager', group='qiskit.transpiler.routing')\n",
      "DEBUG:stevedore.extension:found extension EntryPoint(name='sabre', value='qiskit.transpiler.preset_passmanagers.builtin_plugins:SabreSwapPassManager', group='qiskit.transpiler.routing')\n",
      "DEBUG:stevedore.extension:found extension EntryPoint(name='sabre', value='qiskit.transpiler.preset_passmanagers.builtin_plugins:SabreSwapPassManager', group='qiskit.transpiler.routing')\n",
      "DEBUG:stevedore.extension:found extension EntryPoint(name='stochastic', value='qiskit.transpiler.preset_passmanagers.builtin_plugins:StochasticSwapPassManager', group='qiskit.transpiler.routing')\n",
      "DEBUG:stevedore.extension:found extension EntryPoint(name='stochastic', value='qiskit.transpiler.preset_passmanagers.builtin_plugins:StochasticSwapPassManager', group='qiskit.transpiler.routing')\n",
      "INFO:qiskit.transpiler.runningpassmanager:Pass: ContainsInstruction - 0.11110 (ms)\n",
      "INFO:qiskit.transpiler.runningpassmanager:Pass: UnitarySynthesis - 0.27680 (ms)\n",
      "INFO:qiskit.transpiler.runningpassmanager:Pass: ContainsInstruction - 0.14544 (ms)\n",
      "DEBUG:stevedore.extension:found extension EntryPoint(name='clifford.default', value='qiskit.transpiler.passes.synthesis.high_level_synthesis:DefaultSynthesisClifford', group='qiskit.synthesis')\n",
      "INFO:qiskit.transpiler.runningpassmanager:Pass: UnitarySynthesis - 0.21100 (ms)\n",
      "DEBUG:stevedore.extension:found extension EntryPoint(name='clifford.default', value='qiskit.transpiler.passes.synthesis.high_level_synthesis:DefaultSynthesisClifford', group='qiskit.synthesis')\n",
      "DEBUG:stevedore.extension:found extension EntryPoint(name='linear_function.default', value='qiskit.transpiler.passes.synthesis.high_level_synthesis:DefaultSynthesisLinearFunction', group='qiskit.synthesis')\n",
      "DEBUG:stevedore.extension:found extension EntryPoint(name='linear_function.default', value='qiskit.transpiler.passes.synthesis.high_level_synthesis:DefaultSynthesisLinearFunction', group='qiskit.synthesis')\n",
      "INFO:qiskit.transpiler.runningpassmanager:Pass: HighLevelSynthesis - 3.80325 (ms)\n",
      "INFO:qiskit.transpiler.runningpassmanager:Pass: HighLevelSynthesis - 3.51930 (ms)\n",
      "INFO:qiskit.transpiler.runningpassmanager:Pass: Unroll3qOrMore - 0.07844 (ms)\n",
      "INFO:qiskit.transpiler.runningpassmanager:Pass: Unroll3qOrMore - 0.07057 (ms)\n",
      "INFO:qiskit.transpiler.runningpassmanager:Pass: SetLayout - 0.02217 (ms)\n",
      "INFO:qiskit.transpiler.runningpassmanager:Pass: SetLayout - 0.00978 (ms)\n",
      "INFO:qiskit.transpiler.runningpassmanager:Pass: TrivialLayout - 0.27537 (ms)\n",
      "INFO:qiskit.transpiler.runningpassmanager:Pass: TrivialLayout - 0.20695 (ms)\n",
      "INFO:qiskit.transpiler.runningpassmanager:Pass: CheckMap - 0.25034 (ms)\n",
      "INFO:qiskit.transpiler.runningpassmanager:Pass: CheckMap - 0.25201 (ms)\n",
      "INFO:qiskit.transpiler.runningpassmanager:Pass: FullAncillaAllocation - 0.17428 (ms)\n",
      "INFO:qiskit.transpiler.runningpassmanager:Pass: EnlargeWithAncilla - 0.14925 (ms)\n",
      "INFO:qiskit.transpiler.runningpassmanager:Pass: FullAncillaAllocation - 0.25582 (ms)\n",
      "INFO:qiskit.transpiler.runningpassmanager:Pass: EnlargeWithAncilla - 0.23961 (ms)\n",
      "INFO:qiskit.transpiler.runningpassmanager:Pass: ApplyLayout - 0.50950 (ms)\n",
      "INFO:qiskit.transpiler.runningpassmanager:Pass: ContainsInstruction - 0.08559 (ms)\n",
      "INFO:qiskit.transpiler.runningpassmanager:Pass: ApplyLayout - 1.11890 (ms)\n",
      "INFO:qiskit.transpiler.runningpassmanager:Pass: CheckMap - 0.11158 (ms)\n",
      "INFO:qiskit.transpiler.runningpassmanager:Pass: ContainsInstruction - 0.01860 (ms)\n",
      "INFO:qiskit.transpiler.runningpassmanager:Pass: CheckMap - 0.09012 (ms)\n",
      "INFO:qiskit.transpiler.runningpassmanager:Pass: UnitarySynthesis - 0.16379 (ms)\n",
      "INFO:qiskit.transpiler.runningpassmanager:Pass: UnitarySynthesis - 0.11730 (ms)\n",
      "DEBUG:stevedore.extension:found extension EntryPoint(name='clifford.default', value='qiskit.transpiler.passes.synthesis.high_level_synthesis:DefaultSynthesisClifford', group='qiskit.synthesis')\n",
      "DEBUG:stevedore.extension:found extension EntryPoint(name='clifford.default', value='qiskit.transpiler.passes.synthesis.high_level_synthesis:DefaultSynthesisClifford', group='qiskit.synthesis')\n",
      "DEBUG:stevedore.extension:found extension EntryPoint(name='linear_function.default', value='qiskit.transpiler.passes.synthesis.high_level_synthesis:DefaultSynthesisLinearFunction', group='qiskit.synthesis')\n",
      "INFO:qiskit.transpiler.runningpassmanager:Pass: HighLevelSynthesis - 3.08251 (ms)\n",
      "DEBUG:stevedore.extension:found extension EntryPoint(name='linear_function.default', value='qiskit.transpiler.passes.synthesis.high_level_synthesis:DefaultSynthesisLinearFunction', group='qiskit.synthesis')\n",
      "INFO:qiskit.transpiler.runningpassmanager:Pass: UnrollCustomDefinitions - 0.16665 (ms)\n",
      "INFO:qiskit.transpiler.runningpassmanager:Pass: HighLevelSynthesis - 2.89869 (ms)\n",
      "INFO:qiskit.transpiler.passes.basis.basis_translator:Begin BasisTranslator from source basis {('cx', 2), ('x', 1), ('measure', 1), ('h', 1)} to target basis {'snapshot', 'u1', 'u3', 'u2', 'measure', 'reset', 'id', 'barrier', 'cx', 'delay'}.\n",
      "INFO:qiskit.transpiler.runningpassmanager:Pass: UnrollCustomDefinitions - 0.64802 (ms)\n",
      "DEBUG:qiskit.transpiler.passes.basis.basis_translator:Begining basis search from {('cx', 2), ('x', 1), ('measure', 1), ('h', 1)} to {'snapshot', 'u1', 'u3', 'u2', 'measure', 'reset', 'id', 'barrier', 'cx', 'delay'}.\n",
      "INFO:qiskit.transpiler.passes.basis.basis_translator:Begin BasisTranslator from source basis {('cx', 2), ('x', 1), ('measure', 1), ('h', 1)} to target basis {'snapshot', 'u1', 'u3', 'u2', 'measure', 'reset', 'id', 'barrier', 'cx', 'delay'}.\n",
      "DEBUG:qiskit.transpiler.passes.basis.basis_translator:Begining basis search from {('cx', 2), ('x', 1), ('measure', 1), ('h', 1)} to {'snapshot', 'u1', 'u3', 'u2', 'measure', 'reset', 'id', 'barrier', 'cx', 'delay'}.\n",
      "DEBUG:qiskit.transpiler.passes.basis.basis_translator:Gate r generated using rule \n",
      "   ┌───────────────────────────────────┐\n",
      "q: ┤ U3(theta,phi - π/2,π/2 - 1.0*phi) ├\n",
      "   └───────────────────────────────────┘\n",
      " with total cost of 1.0.\n",
      "DEBUG:qiskit.transpiler.passes.basis.basis_translator:Gate r generated using rule \n",
      "   ┌───────────────────────────────────┐\n",
      "q: ┤ U3(theta,phi - π/2,π/2 - 1.0*phi) ├\n",
      "   └───────────────────────────────────┘\n",
      " with total cost of 1.0.\n",
      "DEBUG:qiskit.transpiler.passes.basis.basis_translator:Gate u generated using rule \n",
      "   ┌───────────────────┐\n",
      "q: ┤ U3(theta,phi,lam) ├\n",
      "   └───────────────────┘\n",
      " with total cost of 1.0.\n",
      "DEBUG:qiskit.transpiler.passes.basis.basis_translator:Gate u generated using rule \n",
      "   ┌───────────────────┐\n",
      "q: ┤ U3(theta,phi,lam) ├\n",
      "   └───────────────────┘\n",
      " with total cost of 1.0.\n",
      "DEBUG:qiskit.transpiler.passes.basis.basis_translator:Gate tdg generated using rule \n",
      "   ┌──────────┐\n",
      "q: ┤ U1(-π/4) ├\n",
      "   └──────────┘\n",
      " with total cost of 1.0.\n",
      "DEBUG:qiskit.transpiler.passes.basis.basis_translator:Gate s generated using rule \n",
      "   ┌─────────┐\n",
      "q: ┤ U1(π/2) ├\n",
      "   └─────────┘\n",
      " with total cost of 1.0.\n",
      "DEBUG:qiskit.transpiler.passes.basis.basis_translator:Gate tdg generated using rule \n",
      "   ┌──────────┐\n",
      "q: ┤ U1(-π/4) ├\n",
      "   └──────────┘\n",
      " with total cost of 1.0.\n",
      "DEBUG:qiskit.transpiler.passes.basis.basis_translator:Gate s generated using rule \n",
      "   ┌─────────┐\n",
      "q: ┤ U1(π/2) ├\n",
      "   └─────────┘\n",
      " with total cost of 1.0.\n",
      "DEBUG:qiskit.transpiler.passes.basis.basis_translator:Gate rz generated using rule \n",
      "global phase: -0.5*theta\n",
      "   ┌───────────┐\n",
      "q: ┤ U1(theta) ├\n",
      "   └───────────┘\n",
      " with total cost of 1.0.\n",
      "DEBUG:qiskit.transpiler.passes.basis.basis_translator:Gate z generated using rule \n",
      "   ┌───────┐\n",
      "q: ┤ U1(π) ├\n",
      "   └───────┘\n",
      " with total cost of 1.0.\n",
      "DEBUG:qiskit.transpiler.passes.basis.basis_translator:Gate rz generated using rule \n",
      "global phase: -0.5*theta\n",
      "   ┌───────────┐\n",
      "q: ┤ U1(theta) ├\n",
      "   └───────────┘\n",
      " with total cost of 1.0.\n",
      "DEBUG:qiskit.transpiler.passes.basis.basis_translator:Gate ry generated using rule \n",
      "   ┌──────────────┐\n",
      "q: ┤ R(theta,π/2) ├\n",
      "   └──────────────┘\n",
      " with total cost of 1.0.\n",
      "DEBUG:qiskit.transpiler.passes.basis.basis_translator:Gate z generated using rule \n",
      "   ┌───────┐\n",
      "q: ┤ U1(π) ├\n",
      "   └───────┘\n",
      " with total cost of 1.0.\n",
      "DEBUG:qiskit.transpiler.passes.basis.basis_translator:Gate x generated using rule \n",
      "   ┌───────────┐\n",
      "q: ┤ U3(π,0,π) ├\n",
      "   └───────────┘\n",
      " with total cost of 1.0.\n",
      "DEBUG:qiskit.transpiler.passes.basis.basis_translator:Gate ry generated using rule \n",
      "   ┌──────────────┐\n",
      "q: ┤ R(theta,π/2) ├\n",
      "   └──────────────┘\n",
      " with total cost of 1.0.\n",
      "DEBUG:qiskit.transpiler.passes.basis.basis_translator:Gate x generated using rule \n",
      "   ┌───────────┐\n",
      "q: ┤ U3(π,0,π) ├\n",
      "   └───────────┘\n",
      " with total cost of 1.0.\n",
      "DEBUG:qiskit.transpiler.passes.basis.basis_translator:Gate t generated using rule \n",
      "   ┌─────────┐\n",
      "q: ┤ U1(π/4) ├\n",
      "   └─────────┘\n",
      " with total cost of 1.0.\n",
      "DEBUG:qiskit.transpiler.passes.basis.basis_translator:Gate p generated using rule \n",
      "   ┌───────────┐\n",
      "q: ┤ U1(theta) ├\n",
      "   └───────────┘\n",
      " with total cost of 1.0.\n",
      "DEBUG:qiskit.transpiler.passes.basis.basis_translator:Gate t generated using rule \n",
      "   ┌─────────┐\n",
      "q: ┤ U1(π/4) ├\n",
      "   └─────────┘\n",
      " with total cost of 1.0.\n",
      "DEBUG:qiskit.transpiler.passes.basis.basis_translator:Gate h generated using rule \n",
      "   ┌─────────┐\n",
      "q: ┤ U2(0,π) ├\n",
      "   └─────────┘\n",
      " with total cost of 1.0.\n",
      "DEBUG:qiskit.transpiler.passes.basis.basis_translator:Gate p generated using rule \n",
      "   ┌───────────┐\n",
      "q: ┤ U1(theta) ├\n",
      "   └───────────┘\n",
      " with total cost of 1.0.\n",
      "DEBUG:qiskit.transpiler.passes.basis.basis_translator:Transformation path:\n",
      "DEBUG:qiskit.transpiler.passes.basis.basis_translator:Gate h generated using rule \n",
      "   ┌─────────┐\n",
      "q: ┤ U2(0,π) ├\n",
      "   └─────────┘\n",
      " with total cost of 1.0.\n",
      "DEBUG:qiskit.transpiler.passes.basis.basis_translator:Transformation path:\n",
      "DEBUG:qiskit.transpiler.passes.basis.basis_translator:h/1 => []\n",
      "   ┌─────────┐\n",
      "q: ┤ U2(0,π) ├\n",
      "   └─────────┘\n",
      "DEBUG:qiskit.transpiler.passes.basis.basis_translator:h/1 => []\n",
      "   ┌─────────┐\n",
      "q: ┤ U2(0,π) ├\n",
      "   └─────────┘\n",
      "DEBUG:qiskit.transpiler.passes.basis.basis_translator:p/1 => [Parameter(theta)]\n",
      "   ┌───────────┐\n",
      "q: ┤ U1(theta) ├\n",
      "   └───────────┘\n",
      "DEBUG:qiskit.transpiler.passes.basis.basis_translator:t/1 => []\n",
      "   ┌─────────┐\n",
      "q: ┤ U1(π/4) ├\n",
      "   └─────────┘\n",
      "DEBUG:qiskit.transpiler.passes.basis.basis_translator:p/1 => [Parameter(theta)]\n",
      "   ┌───────────┐\n",
      "q: ┤ U1(theta) ├\n",
      "   └───────────┘\n",
      "DEBUG:qiskit.transpiler.passes.basis.basis_translator:t/1 => []\n",
      "   ┌─────────┐\n",
      "q: ┤ U1(π/4) ├\n",
      "   └─────────┘\n",
      "DEBUG:qiskit.transpiler.passes.basis.basis_translator:x/1 => []\n",
      "   ┌───────────┐\n",
      "q: ┤ U3(π,0,π) ├\n",
      "   └───────────┘\n",
      "DEBUG:qiskit.transpiler.passes.basis.basis_translator:ry/1 => [Parameter(theta)]\n",
      "   ┌──────────────┐\n",
      "q: ┤ R(theta,π/2) ├\n",
      "   └──────────────┘\n",
      "DEBUG:qiskit.transpiler.passes.basis.basis_translator:x/1 => []\n",
      "   ┌───────────┐\n",
      "q: ┤ U3(π,0,π) ├\n",
      "   └───────────┘\n",
      "DEBUG:qiskit.transpiler.passes.basis.basis_translator:z/1 => []\n",
      "   ┌───────┐\n",
      "q: ┤ U1(π) ├\n",
      "   └───────┘\n",
      "DEBUG:qiskit.transpiler.passes.basis.basis_translator:ry/1 => [Parameter(theta)]\n",
      "   ┌──────────────┐\n",
      "q: ┤ R(theta,π/2) ├\n",
      "   └──────────────┘\n",
      "DEBUG:qiskit.transpiler.passes.basis.basis_translator:z/1 => []\n",
      "   ┌───────┐\n",
      "q: ┤ U1(π) ├\n",
      "   └───────┘\n",
      "DEBUG:qiskit.transpiler.passes.basis.basis_translator:rz/1 => [Parameter(theta)]\n",
      "global phase: -0.5*theta\n",
      "   ┌───────────┐\n",
      "q: ┤ U1(theta) ├\n",
      "   └───────────┘\n",
      "DEBUG:qiskit.transpiler.passes.basis.basis_translator:s/1 => []\n",
      "   ┌─────────┐\n",
      "q: ┤ U1(π/2) ├\n",
      "   └─────────┘\n",
      "DEBUG:qiskit.transpiler.passes.basis.basis_translator:rz/1 => [Parameter(theta)]\n",
      "global phase: -0.5*theta\n",
      "   ┌───────────┐\n",
      "q: ┤ U1(theta) ├\n",
      "   └───────────┘\n",
      "DEBUG:qiskit.transpiler.passes.basis.basis_translator:tdg/1 => []\n",
      "   ┌──────────┐\n",
      "q: ┤ U1(-π/4) ├\n",
      "   └──────────┘\n",
      "DEBUG:qiskit.transpiler.passes.basis.basis_translator:s/1 => []\n",
      "   ┌─────────┐\n",
      "q: ┤ U1(π/2) ├\n",
      "   └─────────┘\n",
      "DEBUG:qiskit.transpiler.passes.basis.basis_translator:u/1 => [Parameter(theta), Parameter(phi), Parameter(lam)]\n",
      "   ┌───────────────────┐\n",
      "q: ┤ U3(theta,phi,lam) ├\n",
      "   └───────────────────┘\n",
      "DEBUG:qiskit.transpiler.passes.basis.basis_translator:tdg/1 => []\n",
      "   ┌──────────┐\n",
      "q: ┤ U1(-π/4) ├\n",
      "   └──────────┘\n",
      "DEBUG:qiskit.transpiler.passes.basis.basis_translator:u/1 => [Parameter(theta), Parameter(phi), Parameter(lam)]\n",
      "   ┌───────────────────┐\n",
      "q: ┤ U3(theta,phi,lam) ├\n",
      "   └───────────────────┘\n",
      "DEBUG:qiskit.transpiler.passes.basis.basis_translator:r/1 => [Parameter(theta), Parameter(phi)]\n",
      "   ┌───────────────────────────────────┐\n",
      "q: ┤ U3(theta,phi - π/2,π/2 - 1.0*phi) ├\n",
      "   └───────────────────────────────────┘\n",
      "INFO:qiskit.transpiler.passes.basis.basis_translator:Basis translation path search completed in 0.096s.\n",
      "DEBUG:qiskit.transpiler.passes.basis.basis_translator:r/1 => [Parameter(theta), Parameter(phi)]\n",
      "   ┌───────────────────────────────────┐\n",
      "q: ┤ U3(theta,phi - π/2,π/2 - 1.0*phi) ├\n",
      "   └───────────────────────────────────┘\n",
      "INFO:qiskit.transpiler.passes.basis.basis_translator:Basis translation path search completed in 0.092s.\n",
      "DEBUG:qiskit.transpiler.passes.basis.basis_translator:Composing transform step: h/1 [] =>\n",
      "   ┌─────────┐\n",
      "q: ┤ U2(0,π) ├\n",
      "   └─────────┘\n",
      "DEBUG:qiskit.transpiler.passes.basis.basis_translator:Composing transform step: h/1 [] =>\n",
      "   ┌─────────┐\n",
      "q: ┤ U2(0,π) ├\n",
      "   └─────────┘\n",
      "DEBUG:qiskit.transpiler.passes.basis.basis_translator:Updating transform for mapped instr ('h', 1) h, [] from \n",
      "      ┌───┐\n",
      "q284: ┤ h ├\n",
      "      └───┘\n",
      "DEBUG:qiskit.transpiler.passes.basis.basis_translator:Updating transform for mapped instr ('h', 1) h, [] from \n",
      "      ┌───┐\n",
      "q284: ┤ h ├\n",
      "      └───┘\n",
      "DEBUG:qiskit.transpiler.passes.basis.basis_translator:Updated transform for mapped instr ('h', 1) h, [] to\n",
      "      ┌─────────┐\n",
      "q284: ┤ U2(0,π) ├\n",
      "      └─────────┘\n",
      "DEBUG:qiskit.transpiler.passes.basis.basis_translator:Composing transform step: p/1 [Parameter(theta)] =>\n",
      "   ┌───────────┐\n",
      "q: ┤ U1(theta) ├\n",
      "   └───────────┘\n",
      "DEBUG:qiskit.transpiler.passes.basis.basis_translator:Updated transform for mapped instr ('h', 1) h, [] to\n",
      "      ┌─────────┐\n",
      "q284: ┤ U2(0,π) ├\n",
      "      └─────────┘\n",
      "DEBUG:qiskit.transpiler.passes.basis.basis_translator:Composing transform step: t/1 [] =>\n",
      "   ┌─────────┐\n",
      "q: ┤ U1(π/4) ├\n",
      "   └─────────┘\n",
      "DEBUG:qiskit.transpiler.passes.basis.basis_translator:Composing transform step: p/1 [Parameter(theta)] =>\n",
      "   ┌───────────┐\n",
      "q: ┤ U1(theta) ├\n",
      "   └───────────┘\n",
      "DEBUG:qiskit.transpiler.passes.basis.basis_translator:Composing transform step: t/1 [] =>\n",
      "   ┌─────────┐\n",
      "q: ┤ U1(π/4) ├\n",
      "   └─────────┘\n",
      "DEBUG:qiskit.transpiler.passes.basis.basis_translator:Composing transform step: x/1 [] =>\n",
      "   ┌───────────┐\n",
      "q: ┤ U3(π,0,π) ├\n",
      "   └───────────┘\n",
      "DEBUG:qiskit.transpiler.passes.basis.basis_translator:Composing transform step: x/1 [] =>\n",
      "   ┌───────────┐\n",
      "q: ┤ U3(π,0,π) ├\n",
      "   └───────────┘\n",
      "DEBUG:qiskit.transpiler.passes.basis.basis_translator:Updating transform for mapped instr ('x', 1) x, [] from \n",
      "      ┌───┐\n",
      "q282: ┤ x ├\n",
      "      └───┘\n",
      "DEBUG:qiskit.transpiler.passes.basis.basis_translator:Updating transform for mapped instr ('x', 1) x, [] from \n",
      "      ┌───┐\n",
      "q282: ┤ x ├\n",
      "      └───┘\n",
      "DEBUG:qiskit.transpiler.passes.basis.basis_translator:Updated transform for mapped instr ('x', 1) x, [] to\n",
      "      ┌───────────┐\n",
      "q282: ┤ U3(π,0,π) ├\n",
      "      └───────────┘\n",
      "DEBUG:qiskit.transpiler.passes.basis.basis_translator:Updated transform for mapped instr ('x', 1) x, [] to\n",
      "      ┌───────────┐\n",
      "q282: ┤ U3(π,0,π) ├\n",
      "      └───────────┘\n",
      "DEBUG:qiskit.transpiler.passes.basis.basis_translator:Composing transform step: ry/1 [Parameter(theta)] =>\n",
      "   ┌──────────────┐\n",
      "q: ┤ R(theta,π/2) ├\n",
      "   └──────────────┘\n",
      "DEBUG:qiskit.transpiler.passes.basis.basis_translator:Composing transform step: ry/1 [Parameter(theta)] =>\n",
      "   ┌──────────────┐\n",
      "q: ┤ R(theta,π/2) ├\n",
      "   └──────────────┘\n",
      "DEBUG:qiskit.transpiler.passes.basis.basis_translator:Composing transform step: z/1 [] =>\n",
      "   ┌───────┐\n",
      "q: ┤ U1(π) ├\n",
      "   └───────┘\n",
      "DEBUG:qiskit.transpiler.passes.basis.basis_translator:Composing transform step: z/1 [] =>\n",
      "   ┌───────┐\n",
      "q: ┤ U1(π) ├\n",
      "   └───────┘\n",
      "DEBUG:qiskit.transpiler.passes.basis.basis_translator:Composing transform step: rz/1 [Parameter(theta)] =>\n",
      "global phase: -0.5*theta\n",
      "   ┌───────────┐\n",
      "q: ┤ U1(theta) ├\n",
      "   └───────────┘\n",
      "DEBUG:qiskit.transpiler.passes.basis.basis_translator:Composing transform step: rz/1 [Parameter(theta)] =>\n",
      "global phase: -0.5*theta\n",
      "   ┌───────────┐\n",
      "q: ┤ U1(theta) ├\n",
      "   └───────────┘\n",
      "DEBUG:qiskit.transpiler.passes.basis.basis_translator:Composing transform step: s/1 [] =>\n",
      "   ┌─────────┐\n",
      "q: ┤ U1(π/2) ├\n",
      "   └─────────┘\n",
      "DEBUG:qiskit.transpiler.passes.basis.basis_translator:Composing transform step: s/1 [] =>\n",
      "   ┌─────────┐\n",
      "q: ┤ U1(π/2) ├\n",
      "   └─────────┘\n",
      "DEBUG:qiskit.transpiler.passes.basis.basis_translator:Composing transform step: tdg/1 [] =>\n",
      "   ┌──────────┐\n",
      "q: ┤ U1(-π/4) ├\n",
      "   └──────────┘\n",
      "DEBUG:qiskit.transpiler.passes.basis.basis_translator:Composing transform step: tdg/1 [] =>\n",
      "   ┌──────────┐\n",
      "q: ┤ U1(-π/4) ├\n",
      "   └──────────┘\n",
      "DEBUG:qiskit.transpiler.passes.basis.basis_translator:Composing transform step: u/1 [Parameter(theta), Parameter(phi), Parameter(lam)] =>\n",
      "   ┌───────────────────┐\n",
      "q: ┤ U3(theta,phi,lam) ├\n",
      "   └───────────────────┘\n",
      "DEBUG:qiskit.transpiler.passes.basis.basis_translator:Composing transform step: u/1 [Parameter(theta), Parameter(phi), Parameter(lam)] =>\n",
      "   ┌───────────────────┐\n",
      "q: ┤ U3(theta,phi,lam) ├\n",
      "   └───────────────────┘\n",
      "DEBUG:qiskit.transpiler.passes.basis.basis_translator:Composing transform step: r/1 [Parameter(theta), Parameter(phi)] =>\n",
      "   ┌───────────────────────────────────┐\n",
      "q: ┤ U3(theta,phi - π/2,π/2 - 1.0*phi) ├\n",
      "   └───────────────────────────────────┘\n",
      "DEBUG:qiskit.transpiler.passes.basis.basis_translator:Composing transform step: r/1 [Parameter(theta), Parameter(phi)] =>\n",
      "   ┌───────────────────────────────────┐\n",
      "q: ┤ U3(theta,phi - π/2,π/2 - 1.0*phi) ├\n",
      "   └───────────────────────────────────┘\n",
      "INFO:qiskit.transpiler.passes.basis.basis_translator:Basis translation paths composed in 0.054s.\n",
      "INFO:qiskit.transpiler.passes.basis.basis_translator:Basis translation paths composed in 0.059s.\n",
      "INFO:qiskit.transpiler.passes.basis.basis_translator:Basis translation instructions replaced in 0.000s.\n",
      "INFO:qiskit.transpiler.passes.basis.basis_translator:Basis translation instructions replaced in 0.000s.\n",
      "INFO:qiskit.transpiler.runningpassmanager:Pass: BasisTranslator - 157.53222 (ms)\n",
      "INFO:qiskit.transpiler.runningpassmanager:Pass: BasisTranslator - 164.86216 (ms)\n",
      "INFO:qiskit.transpiler.runningpassmanager:Pass: CheckGateDirection - 0.11420 (ms)\n",
      "INFO:qiskit.transpiler.runningpassmanager:Pass: CheckGateDirection - 0.15402 (ms)\n",
      "INFO:qiskit.transpiler.runningpassmanager:Pass: GateDirection - 0.24891 (ms)\n",
      "INFO:qiskit.transpiler.runningpassmanager:Pass: GateDirection - 0.38290 (ms)\n",
      "INFO:qiskit.transpiler.runningpassmanager:Pass: RemoveResetInZeroState - 0.12541 (ms)\n",
      "INFO:qiskit.transpiler.runningpassmanager:Pass: RemoveResetInZeroState - 0.08464 (ms)\n",
      "INFO:qiskit.transpiler.runningpassmanager:Pass: Depth - 0.13971 (ms)\n",
      "INFO:qiskit.transpiler.runningpassmanager:Pass: Depth - 0.09847 (ms)\n",
      "INFO:qiskit.transpiler.runningpassmanager:Pass: FixedPoint - 0.04601 (ms)\n",
      "INFO:qiskit.transpiler.runningpassmanager:Pass: FixedPoint - 0.03552 (ms)\n",
      "INFO:qiskit.transpiler.runningpassmanager:Pass: Size - 0.10777 (ms)\n",
      "INFO:qiskit.transpiler.runningpassmanager:Pass: Size - 0.07534 (ms)\n",
      "INFO:qiskit.transpiler.runningpassmanager:Pass: FixedPoint - 0.03409 (ms)\n",
      "INFO:qiskit.transpiler.runningpassmanager:Pass: FixedPoint - 0.02384 (ms)\n",
      "INFO:qiskit.transpiler.runningpassmanager:Pass: Optimize1qGatesDecomposition - 5.46145 (ms)\n",
      "INFO:qiskit.transpiler.runningpassmanager:Pass: CXCancellation - 0.15616 (ms)\n",
      "INFO:qiskit.transpiler.runningpassmanager:Pass: GatesInBasis - 0.17238 (ms)\n",
      "INFO:qiskit.transpiler.runningpassmanager:Pass: Depth - 0.06294 (ms)\n",
      "INFO:qiskit.transpiler.runningpassmanager:Pass: Optimize1qGatesDecomposition - 6.20103 (ms)\n",
      "INFO:qiskit.transpiler.runningpassmanager:Pass: FixedPoint - 0.02456 (ms)\n",
      "INFO:qiskit.transpiler.runningpassmanager:Pass: CXCancellation - 0.20838 (ms)\n",
      "INFO:qiskit.transpiler.runningpassmanager:Pass: Size - 0.05889 (ms)\n",
      "INFO:qiskit.transpiler.runningpassmanager:Pass: GatesInBasis - 0.08988 (ms)\n",
      "INFO:qiskit.transpiler.runningpassmanager:Pass: FixedPoint - 0.02050 (ms)\n",
      "INFO:qiskit.transpiler.runningpassmanager:Pass: Depth - 0.09155 (ms)\n",
      "INFO:qiskit.transpiler.runningpassmanager:Pass: Optimize1qGatesDecomposition - 1.33586 (ms)\n",
      "INFO:qiskit.transpiler.runningpassmanager:Pass: FixedPoint - 0.02384 (ms)\n",
      "INFO:qiskit.transpiler.runningpassmanager:Pass: CXCancellation - 0.11396 (ms)\n",
      "INFO:qiskit.transpiler.runningpassmanager:Pass: Size - 0.06008 (ms)\n",
      "INFO:qiskit.transpiler.runningpassmanager:Pass: FixedPoint - 0.01812 (ms)\n",
      "INFO:qiskit.transpiler.runningpassmanager:Pass: GatesInBasis - 0.07248 (ms)\n",
      "INFO:qiskit.transpiler.runningpassmanager:Pass: Depth - 0.12565 (ms)\n",
      "INFO:qiskit.transpiler.runningpassmanager:Pass: Optimize1qGatesDecomposition - 1.33085 (ms)\n",
      "INFO:qiskit.transpiler.runningpassmanager:Pass: FixedPoint - 0.01884 (ms)\n",
      "INFO:qiskit.transpiler.runningpassmanager:Pass: CXCancellation - 0.10204 (ms)\n",
      "INFO:qiskit.transpiler.runningpassmanager:Pass: Size - 0.06866 (ms)\n",
      "INFO:qiskit.transpiler.runningpassmanager:Pass: GatesInBasis - 0.05865 (ms)\n",
      "INFO:qiskit.transpiler.runningpassmanager:Pass: FixedPoint - 0.02265 (ms)\n",
      "INFO:qiskit.transpiler.runningpassmanager:Pass: Depth - 0.11039 (ms)\n",
      "INFO:qiskit.transpiler.runningpassmanager:Pass: ContainsInstruction - 0.06700 (ms)\n",
      "INFO:qiskit.transpiler.runningpassmanager:Pass: FixedPoint - 0.02861 (ms)\n",
      "INFO:qiskit.transpiler.runningpassmanager:Pass: Size - 0.07248 (ms)\n",
      "INFO:qiskit.transpiler.runningpassmanager:Pass: FixedPoint - 0.05746 (ms)\n",
      "INFO:qiskit.transpiler.runningpassmanager:Pass: ContainsInstruction - 0.06485 (ms)\n",
      "INFO:qiskit.compiler.transpiler:Total Transpile Time - 401.94011 (ms)\n"
     ]
    }
   ],
   "source": [
    "# Change log level back to DEBUG\n",
    "logging.getLogger('qiskit.transpiler').setLevel('DEBUG')\n",
    "# Transpile multiple circuits\n",
    "circuits = [log_circ, log_circ]\n",
    "transpile(circuits, backend);"
   ]
  },
  {
   "cell_type": "markdown",
   "metadata": {},
   "source": [
    "As you can see here we get log messages from both circuits being transpiled together. There is no way to know which pass is part of which circuit's transpilation.  Luckily Python logging provides tools to deal with this. The simplest one is to just change the [log formatter](https://docs.python.org/3/library/logging.html#logging.Formatter) so that includes additional information so we can associate a log message with the process it came from."
   ]
  },
  {
   "cell_type": "code",
   "execution_count": 33,
   "metadata": {
    "ExecuteTime": {
     "end_time": "2019-12-10T21:48:05.077804Z",
     "start_time": "2019-12-10T21:48:05.073526Z"
    }
   },
   "outputs": [],
   "source": [
    "formatter = logging.Formatter('%(name)s - %(processName)-10s - %(levelname)s: %(message)s')\n",
    "handler = logging.getLogger().handlers[0]\n",
    "handler.setFormatter(formatter)"
   ]
  },
  {
   "cell_type": "markdown",
   "metadata": {},
   "source": [
    "Then rerun the `transpile()` call and see the new log formatter."
   ]
  },
  {
   "cell_type": "code",
   "execution_count": 34,
   "metadata": {
    "ExecuteTime": {
     "end_time": "2019-12-10T21:48:05.205597Z",
     "start_time": "2019-12-10T21:48:05.081153Z"
    },
    "scrolled": false
   },
   "outputs": [
    {
     "name": "stderr",
     "output_type": "stream",
     "text": [
      "stevedore.extension - ForkProcess-8 - DEBUG: found extension EntryPoint(name='basic', value='qiskit.transpiler.preset_passmanagers.builtin_plugins:BasicSwapPassManager', group='qiskit.transpiler.routing')\n",
      "stevedore.extension - ForkProcess-7 - DEBUG: found extension EntryPoint(name='basic', value='qiskit.transpiler.preset_passmanagers.builtin_plugins:BasicSwapPassManager', group='qiskit.transpiler.routing')\n",
      "stevedore.extension - ForkProcess-7 - DEBUG: found extension EntryPoint(name='lookahead', value='qiskit.transpiler.preset_passmanagers.builtin_plugins:LookaheadSwapPassManager', group='qiskit.transpiler.routing')\n",
      "stevedore.extension - ForkProcess-8 - DEBUG: found extension EntryPoint(name='lookahead', value='qiskit.transpiler.preset_passmanagers.builtin_plugins:LookaheadSwapPassManager', group='qiskit.transpiler.routing')\n",
      "stevedore.extension - ForkProcess-7 - DEBUG: found extension EntryPoint(name='none', value='qiskit.transpiler.preset_passmanagers.builtin_plugins:NoneRoutingPassManager', group='qiskit.transpiler.routing')\n",
      "stevedore.extension - ForkProcess-8 - DEBUG: found extension EntryPoint(name='none', value='qiskit.transpiler.preset_passmanagers.builtin_plugins:NoneRoutingPassManager', group='qiskit.transpiler.routing')\n",
      "stevedore.extension - ForkProcess-8 - DEBUG: found extension EntryPoint(name='sabre', value='qiskit.transpiler.preset_passmanagers.builtin_plugins:SabreSwapPassManager', group='qiskit.transpiler.routing')\n",
      "stevedore.extension - ForkProcess-7 - DEBUG: found extension EntryPoint(name='sabre', value='qiskit.transpiler.preset_passmanagers.builtin_plugins:SabreSwapPassManager', group='qiskit.transpiler.routing')\n",
      "stevedore.extension - ForkProcess-8 - DEBUG: found extension EntryPoint(name='stochastic', value='qiskit.transpiler.preset_passmanagers.builtin_plugins:StochasticSwapPassManager', group='qiskit.transpiler.routing')\n",
      "stevedore.extension - ForkProcess-7 - DEBUG: found extension EntryPoint(name='stochastic', value='qiskit.transpiler.preset_passmanagers.builtin_plugins:StochasticSwapPassManager', group='qiskit.transpiler.routing')\n",
      "qiskit.transpiler.runningpassmanager - ForkProcess-8 - INFO: Pass: ContainsInstruction - 0.03219 (ms)\n",
      "qiskit.transpiler.runningpassmanager - ForkProcess-7 - INFO: Pass: ContainsInstruction - 0.03409 (ms)\n",
      "qiskit.transpiler.runningpassmanager - ForkProcess-7 - INFO: Pass: UnitarySynthesis - 0.22340 (ms)\n",
      "qiskit.transpiler.runningpassmanager - ForkProcess-8 - INFO: Pass: UnitarySynthesis - 0.22054 (ms)\n",
      "stevedore.extension - ForkProcess-8 - DEBUG: found extension EntryPoint(name='clifford.default', value='qiskit.transpiler.passes.synthesis.high_level_synthesis:DefaultSynthesisClifford', group='qiskit.synthesis')\n",
      "stevedore.extension - ForkProcess-7 - DEBUG: found extension EntryPoint(name='clifford.default', value='qiskit.transpiler.passes.synthesis.high_level_synthesis:DefaultSynthesisClifford', group='qiskit.synthesis')\n",
      "stevedore.extension - ForkProcess-8 - DEBUG: found extension EntryPoint(name='linear_function.default', value='qiskit.transpiler.passes.synthesis.high_level_synthesis:DefaultSynthesisLinearFunction', group='qiskit.synthesis')\n",
      "stevedore.extension - ForkProcess-7 - DEBUG: found extension EntryPoint(name='linear_function.default', value='qiskit.transpiler.passes.synthesis.high_level_synthesis:DefaultSynthesisLinearFunction', group='qiskit.synthesis')\n",
      "qiskit.transpiler.runningpassmanager - ForkProcess-7 - INFO: Pass: HighLevelSynthesis - 4.45032 (ms)\n",
      "qiskit.transpiler.runningpassmanager - ForkProcess-8 - INFO: Pass: HighLevelSynthesis - 3.88885 (ms)\n",
      "qiskit.transpiler.runningpassmanager - ForkProcess-8 - INFO: Pass: Unroll3qOrMore - 0.06819 (ms)\n",
      "qiskit.transpiler.runningpassmanager - ForkProcess-7 - INFO: Pass: Unroll3qOrMore - 0.09251 (ms)\n",
      "qiskit.transpiler.runningpassmanager - ForkProcess-8 - INFO: Pass: SetLayout - 0.02050 (ms)\n",
      "qiskit.transpiler.runningpassmanager - ForkProcess-7 - INFO: Pass: SetLayout - 0.03481 (ms)\n",
      "qiskit.transpiler.runningpassmanager - ForkProcess-7 - INFO: Pass: TrivialLayout - 0.19765 (ms)\n",
      "qiskit.transpiler.runningpassmanager - ForkProcess-8 - INFO: Pass: TrivialLayout - 0.20719 (ms)\n",
      "qiskit.transpiler.runningpassmanager - ForkProcess-7 - INFO: Pass: CheckMap - 0.23437 (ms)\n",
      "qiskit.transpiler.runningpassmanager - ForkProcess-8 - INFO: Pass: CheckMap - 0.21529 (ms)\n",
      "qiskit.transpiler.runningpassmanager - ForkProcess-7 - INFO: Pass: FullAncillaAllocation - 0.22936 (ms)\n",
      "qiskit.transpiler.runningpassmanager - ForkProcess-8 - INFO: Pass: FullAncillaAllocation - 0.19598 (ms)\n",
      "qiskit.transpiler.runningpassmanager - ForkProcess-7 - INFO: Pass: EnlargeWithAncilla - 0.20957 (ms)\n",
      "qiskit.transpiler.runningpassmanager - ForkProcess-8 - INFO: Pass: EnlargeWithAncilla - 0.20599 (ms)\n",
      "qiskit.transpiler.runningpassmanager - ForkProcess-8 - INFO: Pass: ApplyLayout - 1.73903 (ms)\n",
      "qiskit.transpiler.runningpassmanager - ForkProcess-7 - INFO: Pass: ApplyLayout - 1.93524 (ms)\n",
      "qiskit.transpiler.runningpassmanager - ForkProcess-8 - INFO: Pass: ContainsInstruction - 0.16189 (ms)\n",
      "qiskit.transpiler.runningpassmanager - ForkProcess-7 - INFO: Pass: ContainsInstruction - 0.08154 (ms)\n",
      "qiskit.transpiler.runningpassmanager - ForkProcess-8 - INFO: Pass: CheckMap - 0.11396 (ms)\n",
      "qiskit.transpiler.runningpassmanager - ForkProcess-7 - INFO: Pass: CheckMap - 0.10371 (ms)\n",
      "qiskit.transpiler.runningpassmanager - ForkProcess-7 - INFO: Pass: UnitarySynthesis - 0.12875 (ms)\n",
      "qiskit.transpiler.runningpassmanager - ForkProcess-8 - INFO: Pass: UnitarySynthesis - 0.09084 (ms)\n",
      "stevedore.extension - ForkProcess-8 - DEBUG: found extension EntryPoint(name='clifford.default', value='qiskit.transpiler.passes.synthesis.high_level_synthesis:DefaultSynthesisClifford', group='qiskit.synthesis')\n",
      "stevedore.extension - ForkProcess-7 - DEBUG: found extension EntryPoint(name='clifford.default', value='qiskit.transpiler.passes.synthesis.high_level_synthesis:DefaultSynthesisClifford', group='qiskit.synthesis')\n",
      "stevedore.extension - ForkProcess-7 - DEBUG: found extension EntryPoint(name='linear_function.default', value='qiskit.transpiler.passes.synthesis.high_level_synthesis:DefaultSynthesisLinearFunction', group='qiskit.synthesis')\n",
      "stevedore.extension - ForkProcess-8 - DEBUG: found extension EntryPoint(name='linear_function.default', value='qiskit.transpiler.passes.synthesis.high_level_synthesis:DefaultSynthesisLinearFunction', group='qiskit.synthesis')\n",
      "qiskit.transpiler.runningpassmanager - ForkProcess-7 - INFO: Pass: HighLevelSynthesis - 7.49135 (ms)\n",
      "qiskit.transpiler.runningpassmanager - ForkProcess-8 - INFO: Pass: HighLevelSynthesis - 10.27989 (ms)\n",
      "qiskit.transpiler.runningpassmanager - ForkProcess-7 - INFO: Pass: UnrollCustomDefinitions - 0.27299 (ms)\n",
      "qiskit.transpiler.runningpassmanager - ForkProcess-8 - INFO: Pass: UnrollCustomDefinitions - 0.24176 (ms)\n",
      "qiskit.transpiler.passes.basis.basis_translator - ForkProcess-7 - INFO: Begin BasisTranslator from source basis {('cx', 2), ('x', 1), ('measure', 1), ('h', 1)} to target basis {'snapshot', 'u1', 'u3', 'u2', 'measure', 'reset', 'id', 'barrier', 'cx', 'delay'}.\n",
      "qiskit.transpiler.passes.basis.basis_translator - ForkProcess-8 - INFO: Begin BasisTranslator from source basis {('cx', 2), ('x', 1), ('measure', 1), ('h', 1)} to target basis {'snapshot', 'u1', 'u3', 'u2', 'measure', 'reset', 'id', 'barrier', 'cx', 'delay'}.\n",
      "qiskit.transpiler.passes.basis.basis_translator - ForkProcess-7 - DEBUG: Begining basis search from {('cx', 2), ('x', 1), ('measure', 1), ('h', 1)} to {'snapshot', 'u1', 'u3', 'u2', 'measure', 'reset', 'id', 'barrier', 'cx', 'delay'}.\n",
      "qiskit.transpiler.passes.basis.basis_translator - ForkProcess-8 - DEBUG: Begining basis search from {('cx', 2), ('x', 1), ('measure', 1), ('h', 1)} to {'snapshot', 'u1', 'u3', 'u2', 'measure', 'reset', 'id', 'barrier', 'cx', 'delay'}.\n",
      "qiskit.transpiler.passes.basis.basis_translator - ForkProcess-8 - DEBUG: Gate r generated using rule \n",
      "   ┌───────────────────────────────────┐\n",
      "q: ┤ U3(theta,phi - π/2,π/2 - 1.0*phi) ├\n",
      "   └───────────────────────────────────┘\n",
      " with total cost of 1.0.\n",
      "qiskit.transpiler.passes.basis.basis_translator - ForkProcess-7 - DEBUG: Gate r generated using rule \n",
      "   ┌───────────────────────────────────┐\n",
      "q: ┤ U3(theta,phi - π/2,π/2 - 1.0*phi) ├\n",
      "   └───────────────────────────────────┘\n",
      " with total cost of 1.0.\n",
      "qiskit.transpiler.passes.basis.basis_translator - ForkProcess-8 - DEBUG: Gate u generated using rule \n",
      "   ┌───────────────────┐\n",
      "q: ┤ U3(theta,phi,lam) ├\n",
      "   └───────────────────┘\n",
      " with total cost of 1.0.\n",
      "qiskit.transpiler.passes.basis.basis_translator - ForkProcess-7 - DEBUG: Gate u generated using rule \n",
      "   ┌───────────────────┐\n",
      "q: ┤ U3(theta,phi,lam) ├\n",
      "   └───────────────────┘\n",
      " with total cost of 1.0.\n",
      "qiskit.transpiler.passes.basis.basis_translator - ForkProcess-8 - DEBUG: Gate tdg generated using rule \n",
      "   ┌──────────┐\n",
      "q: ┤ U1(-π/4) ├\n",
      "   └──────────┘\n",
      " with total cost of 1.0.\n",
      "qiskit.transpiler.passes.basis.basis_translator - ForkProcess-7 - DEBUG: Gate tdg generated using rule \n",
      "   ┌──────────┐\n",
      "q: ┤ U1(-π/4) ├\n",
      "   └──────────┘\n",
      " with total cost of 1.0.\n",
      "qiskit.transpiler.passes.basis.basis_translator - ForkProcess-8 - DEBUG: Gate s generated using rule \n",
      "   ┌─────────┐\n",
      "q: ┤ U1(π/2) ├\n",
      "   └─────────┘\n",
      " with total cost of 1.0.\n",
      "qiskit.transpiler.passes.basis.basis_translator - ForkProcess-7 - DEBUG: Gate s generated using rule \n",
      "   ┌─────────┐\n",
      "q: ┤ U1(π/2) ├\n",
      "   └─────────┘\n",
      " with total cost of 1.0.\n",
      "qiskit.transpiler.passes.basis.basis_translator - ForkProcess-8 - DEBUG: Gate rz generated using rule \n",
      "global phase: -0.5*theta\n",
      "   ┌───────────┐\n",
      "q: ┤ U1(theta) ├\n",
      "   └───────────┘\n",
      " with total cost of 1.0.\n",
      "qiskit.transpiler.passes.basis.basis_translator - ForkProcess-7 - DEBUG: Gate rz generated using rule \n",
      "global phase: -0.5*theta\n",
      "   ┌───────────┐\n",
      "q: ┤ U1(theta) ├\n",
      "   └───────────┘\n",
      " with total cost of 1.0.\n",
      "qiskit.transpiler.passes.basis.basis_translator - ForkProcess-8 - DEBUG: Gate z generated using rule \n",
      "   ┌───────┐\n",
      "q: ┤ U1(π) ├\n",
      "   └───────┘\n",
      " with total cost of 1.0.\n",
      "qiskit.transpiler.passes.basis.basis_translator - ForkProcess-7 - DEBUG: Gate z generated using rule \n",
      "   ┌───────┐\n",
      "q: ┤ U1(π) ├\n",
      "   └───────┘\n",
      " with total cost of 1.0.\n",
      "qiskit.transpiler.passes.basis.basis_translator - ForkProcess-8 - DEBUG: Gate ry generated using rule \n",
      "   ┌──────────────┐\n",
      "q: ┤ R(theta,π/2) ├\n",
      "   └──────────────┘\n",
      " with total cost of 1.0.\n",
      "qiskit.transpiler.passes.basis.basis_translator - ForkProcess-7 - DEBUG: Gate ry generated using rule \n",
      "   ┌──────────────┐\n",
      "q: ┤ R(theta,π/2) ├\n",
      "   └──────────────┘\n",
      " with total cost of 1.0.\n",
      "qiskit.transpiler.passes.basis.basis_translator - ForkProcess-8 - DEBUG: Gate x generated using rule \n",
      "   ┌───────────┐\n",
      "q: ┤ U3(π,0,π) ├\n",
      "   └───────────┘\n",
      " with total cost of 1.0.\n",
      "qiskit.transpiler.passes.basis.basis_translator - ForkProcess-7 - DEBUG: Gate x generated using rule \n",
      "   ┌───────────┐\n",
      "q: ┤ U3(π,0,π) ├\n",
      "   └───────────┘\n",
      " with total cost of 1.0.\n",
      "qiskit.transpiler.passes.basis.basis_translator - ForkProcess-8 - DEBUG: Gate t generated using rule \n",
      "   ┌─────────┐\n",
      "q: ┤ U1(π/4) ├\n",
      "   └─────────┘\n",
      " with total cost of 1.0.\n",
      "qiskit.transpiler.passes.basis.basis_translator - ForkProcess-7 - DEBUG: Gate t generated using rule \n",
      "   ┌─────────┐\n",
      "q: ┤ U1(π/4) ├\n",
      "   └─────────┘\n",
      " with total cost of 1.0.\n",
      "qiskit.transpiler.passes.basis.basis_translator - ForkProcess-8 - DEBUG: Gate p generated using rule \n",
      "   ┌───────────┐\n",
      "q: ┤ U1(theta) ├\n",
      "   └───────────┘\n",
      " with total cost of 1.0.\n",
      "qiskit.transpiler.passes.basis.basis_translator - ForkProcess-8 - DEBUG: Gate h generated using rule \n",
      "   ┌─────────┐\n",
      "q: ┤ U2(0,π) ├\n",
      "   └─────────┘\n",
      " with total cost of 1.0.\n",
      "qiskit.transpiler.passes.basis.basis_translator - ForkProcess-7 - DEBUG: Gate p generated using rule \n",
      "   ┌───────────┐\n",
      "q: ┤ U1(theta) ├\n",
      "   └───────────┘\n",
      " with total cost of 1.0.\n",
      "qiskit.transpiler.passes.basis.basis_translator - ForkProcess-8 - DEBUG: Transformation path:\n",
      "qiskit.transpiler.passes.basis.basis_translator - ForkProcess-7 - DEBUG: Gate h generated using rule \n",
      "   ┌─────────┐\n",
      "q: ┤ U2(0,π) ├\n",
      "   └─────────┘\n",
      " with total cost of 1.0.\n",
      "qiskit.transpiler.passes.basis.basis_translator - ForkProcess-8 - DEBUG: h/1 => []\n",
      "   ┌─────────┐\n",
      "q: ┤ U2(0,π) ├\n",
      "   └─────────┘\n",
      "qiskit.transpiler.passes.basis.basis_translator - ForkProcess-7 - DEBUG: Transformation path:\n",
      "qiskit.transpiler.passes.basis.basis_translator - ForkProcess-7 - DEBUG: h/1 => []\n",
      "   ┌─────────┐\n",
      "q: ┤ U2(0,π) ├\n",
      "   └─────────┘\n",
      "qiskit.transpiler.passes.basis.basis_translator - ForkProcess-8 - DEBUG: p/1 => [Parameter(theta)]\n",
      "   ┌───────────┐\n",
      "q: ┤ U1(theta) ├\n",
      "   └───────────┘\n",
      "qiskit.transpiler.passes.basis.basis_translator - ForkProcess-7 - DEBUG: p/1 => [Parameter(theta)]\n",
      "   ┌───────────┐\n",
      "q: ┤ U1(theta) ├\n",
      "   └───────────┘\n",
      "qiskit.transpiler.passes.basis.basis_translator - ForkProcess-8 - DEBUG: t/1 => []\n",
      "   ┌─────────┐\n",
      "q: ┤ U1(π/4) ├\n",
      "   └─────────┘\n",
      "qiskit.transpiler.passes.basis.basis_translator - ForkProcess-7 - DEBUG: t/1 => []\n",
      "   ┌─────────┐\n",
      "q: ┤ U1(π/4) ├\n",
      "   └─────────┘\n",
      "qiskit.transpiler.passes.basis.basis_translator - ForkProcess-8 - DEBUG: x/1 => []\n",
      "   ┌───────────┐\n",
      "q: ┤ U3(π,0,π) ├\n",
      "   └───────────┘\n",
      "qiskit.transpiler.passes.basis.basis_translator - ForkProcess-7 - DEBUG: x/1 => []\n",
      "   ┌───────────┐\n",
      "q: ┤ U3(π,0,π) ├\n",
      "   └───────────┘\n",
      "qiskit.transpiler.passes.basis.basis_translator - ForkProcess-8 - DEBUG: ry/1 => [Parameter(theta)]\n",
      "   ┌──────────────┐\n",
      "q: ┤ R(theta,π/2) ├\n",
      "   └──────────────┘\n",
      "qiskit.transpiler.passes.basis.basis_translator - ForkProcess-7 - DEBUG: ry/1 => [Parameter(theta)]\n",
      "   ┌──────────────┐\n",
      "q: ┤ R(theta,π/2) ├\n",
      "   └──────────────┘\n",
      "qiskit.transpiler.passes.basis.basis_translator - ForkProcess-8 - DEBUG: z/1 => []\n",
      "   ┌───────┐\n",
      "q: ┤ U1(π) ├\n",
      "   └───────┘\n",
      "qiskit.transpiler.passes.basis.basis_translator - ForkProcess-7 - DEBUG: z/1 => []\n",
      "   ┌───────┐\n",
      "q: ┤ U1(π) ├\n",
      "   └───────┘\n",
      "qiskit.transpiler.passes.basis.basis_translator - ForkProcess-8 - DEBUG: rz/1 => [Parameter(theta)]\n",
      "global phase: -0.5*theta\n",
      "   ┌───────────┐\n",
      "q: ┤ U1(theta) ├\n",
      "   └───────────┘\n",
      "qiskit.transpiler.passes.basis.basis_translator - ForkProcess-8 - DEBUG: s/1 => []\n",
      "   ┌─────────┐\n",
      "q: ┤ U1(π/2) ├\n",
      "   └─────────┘\n",
      "qiskit.transpiler.passes.basis.basis_translator - ForkProcess-7 - DEBUG: rz/1 => [Parameter(theta)]\n",
      "global phase: -0.5*theta\n",
      "   ┌───────────┐\n",
      "q: ┤ U1(theta) ├\n",
      "   └───────────┘\n",
      "qiskit.transpiler.passes.basis.basis_translator - ForkProcess-8 - DEBUG: tdg/1 => []\n",
      "   ┌──────────┐\n",
      "q: ┤ U1(-π/4) ├\n",
      "   └──────────┘\n",
      "qiskit.transpiler.passes.basis.basis_translator - ForkProcess-7 - DEBUG: s/1 => []\n",
      "   ┌─────────┐\n",
      "q: ┤ U1(π/2) ├\n",
      "   └─────────┘\n",
      "qiskit.transpiler.passes.basis.basis_translator - ForkProcess-7 - DEBUG: tdg/1 => []\n",
      "   ┌──────────┐\n",
      "q: ┤ U1(-π/4) ├\n",
      "   └──────────┘\n",
      "qiskit.transpiler.passes.basis.basis_translator - ForkProcess-8 - DEBUG: u/1 => [Parameter(theta), Parameter(phi), Parameter(lam)]\n",
      "   ┌───────────────────┐\n",
      "q: ┤ U3(theta,phi,lam) ├\n",
      "   └───────────────────┘\n",
      "qiskit.transpiler.passes.basis.basis_translator - ForkProcess-7 - DEBUG: u/1 => [Parameter(theta), Parameter(phi), Parameter(lam)]\n",
      "   ┌───────────────────┐\n",
      "q: ┤ U3(theta,phi,lam) ├\n",
      "   └───────────────────┘\n",
      "qiskit.transpiler.passes.basis.basis_translator - ForkProcess-8 - DEBUG: r/1 => [Parameter(theta), Parameter(phi)]\n",
      "   ┌───────────────────────────────────┐\n",
      "q: ┤ U3(theta,phi - π/2,π/2 - 1.0*phi) ├\n",
      "   └───────────────────────────────────┘\n",
      "qiskit.transpiler.passes.basis.basis_translator - ForkProcess-7 - DEBUG: r/1 => [Parameter(theta), Parameter(phi)]\n",
      "   ┌───────────────────────────────────┐\n",
      "q: ┤ U3(theta,phi - π/2,π/2 - 1.0*phi) ├\n",
      "   └───────────────────────────────────┘\n",
      "qiskit.transpiler.passes.basis.basis_translator - ForkProcess-8 - INFO: Basis translation path search completed in 0.089s.\n",
      "qiskit.transpiler.passes.basis.basis_translator - ForkProcess-7 - INFO: Basis translation path search completed in 0.092s.\n",
      "qiskit.transpiler.passes.basis.basis_translator - ForkProcess-8 - DEBUG: Composing transform step: h/1 [] =>\n",
      "   ┌─────────┐\n",
      "q: ┤ U2(0,π) ├\n",
      "   └─────────┘\n",
      "qiskit.transpiler.passes.basis.basis_translator - ForkProcess-7 - DEBUG: Composing transform step: h/1 [] =>\n",
      "   ┌─────────┐\n",
      "q: ┤ U2(0,π) ├\n",
      "   └─────────┘\n",
      "qiskit.transpiler.passes.basis.basis_translator - ForkProcess-8 - DEBUG: Updating transform for mapped instr ('h', 1) h, [] from \n",
      "      ┌───┐\n",
      "q284: ┤ h ├\n",
      "      └───┘\n",
      "qiskit.transpiler.passes.basis.basis_translator - ForkProcess-7 - DEBUG: Updating transform for mapped instr ('h', 1) h, [] from \n",
      "      ┌───┐\n",
      "q284: ┤ h ├\n",
      "      └───┘\n",
      "qiskit.transpiler.passes.basis.basis_translator - ForkProcess-8 - DEBUG: Updated transform for mapped instr ('h', 1) h, [] to\n",
      "      ┌─────────┐\n",
      "q284: ┤ U2(0,π) ├\n",
      "      └─────────┘\n",
      "qiskit.transpiler.passes.basis.basis_translator - ForkProcess-7 - DEBUG: Updated transform for mapped instr ('h', 1) h, [] to\n",
      "      ┌─────────┐\n",
      "q284: ┤ U2(0,π) ├\n",
      "      └─────────┘\n",
      "qiskit.transpiler.passes.basis.basis_translator - ForkProcess-8 - DEBUG: Composing transform step: p/1 [Parameter(theta)] =>\n",
      "   ┌───────────┐\n",
      "q: ┤ U1(theta) ├\n",
      "   └───────────┘\n",
      "qiskit.transpiler.passes.basis.basis_translator - ForkProcess-7 - DEBUG: Composing transform step: p/1 [Parameter(theta)] =>\n",
      "   ┌───────────┐\n",
      "q: ┤ U1(theta) ├\n",
      "   └───────────┘\n",
      "qiskit.transpiler.passes.basis.basis_translator - ForkProcess-8 - DEBUG: Composing transform step: t/1 [] =>\n",
      "   ┌─────────┐\n",
      "q: ┤ U1(π/4) ├\n",
      "   └─────────┘\n",
      "qiskit.transpiler.passes.basis.basis_translator - ForkProcess-7 - DEBUG: Composing transform step: t/1 [] =>\n",
      "   ┌─────────┐\n",
      "q: ┤ U1(π/4) ├\n",
      "   └─────────┘\n",
      "qiskit.transpiler.passes.basis.basis_translator - ForkProcess-8 - DEBUG: Composing transform step: x/1 [] =>\n",
      "   ┌───────────┐\n",
      "q: ┤ U3(π,0,π) ├\n",
      "   └───────────┘\n",
      "qiskit.transpiler.passes.basis.basis_translator - ForkProcess-8 - DEBUG: Updating transform for mapped instr ('x', 1) x, [] from \n",
      "      ┌───┐\n",
      "q282: ┤ x ├\n",
      "      └───┘\n",
      "qiskit.transpiler.passes.basis.basis_translator - ForkProcess-7 - DEBUG: Composing transform step: x/1 [] =>\n",
      "   ┌───────────┐\n",
      "q: ┤ U3(π,0,π) ├\n",
      "   └───────────┘\n",
      "qiskit.transpiler.passes.basis.basis_translator - ForkProcess-7 - DEBUG: Updating transform for mapped instr ('x', 1) x, [] from \n",
      "      ┌───┐\n",
      "q282: ┤ x ├\n",
      "      └───┘\n",
      "qiskit.transpiler.passes.basis.basis_translator - ForkProcess-8 - DEBUG: Updated transform for mapped instr ('x', 1) x, [] to\n",
      "      ┌───────────┐\n",
      "q282: ┤ U3(π,0,π) ├\n",
      "      └───────────┘\n",
      "qiskit.transpiler.passes.basis.basis_translator - ForkProcess-8 - DEBUG: Composing transform step: ry/1 [Parameter(theta)] =>\n",
      "   ┌──────────────┐\n",
      "q: ┤ R(theta,π/2) ├\n",
      "   └──────────────┘\n",
      "qiskit.transpiler.passes.basis.basis_translator - ForkProcess-7 - DEBUG: Updated transform for mapped instr ('x', 1) x, [] to\n",
      "      ┌───────────┐\n",
      "q282: ┤ U3(π,0,π) ├\n",
      "      └───────────┘\n",
      "qiskit.transpiler.passes.basis.basis_translator - ForkProcess-8 - DEBUG: Composing transform step: z/1 [] =>\n",
      "   ┌───────┐\n",
      "q: ┤ U1(π) ├\n",
      "   └───────┘\n",
      "qiskit.transpiler.passes.basis.basis_translator - ForkProcess-7 - DEBUG: Composing transform step: ry/1 [Parameter(theta)] =>\n",
      "   ┌──────────────┐\n",
      "q: ┤ R(theta,π/2) ├\n",
      "   └──────────────┘\n",
      "qiskit.transpiler.passes.basis.basis_translator - ForkProcess-7 - DEBUG: Composing transform step: z/1 [] =>\n",
      "   ┌───────┐\n",
      "q: ┤ U1(π) ├\n",
      "   └───────┘\n",
      "qiskit.transpiler.passes.basis.basis_translator - ForkProcess-7 - DEBUG: Composing transform step: rz/1 [Parameter(theta)] =>\n",
      "global phase: -0.5*theta\n",
      "   ┌───────────┐\n",
      "q: ┤ U1(theta) ├\n",
      "   └───────────┘\n",
      "qiskit.transpiler.passes.basis.basis_translator - ForkProcess-8 - DEBUG: Composing transform step: rz/1 [Parameter(theta)] =>\n",
      "global phase: -0.5*theta\n",
      "   ┌───────────┐\n",
      "q: ┤ U1(theta) ├\n",
      "   └───────────┘\n",
      "qiskit.transpiler.passes.basis.basis_translator - ForkProcess-7 - DEBUG: Composing transform step: s/1 [] =>\n",
      "   ┌─────────┐\n",
      "q: ┤ U1(π/2) ├\n",
      "   └─────────┘\n",
      "qiskit.transpiler.passes.basis.basis_translator - ForkProcess-8 - DEBUG: Composing transform step: s/1 [] =>\n",
      "   ┌─────────┐\n",
      "q: ┤ U1(π/2) ├\n",
      "   └─────────┘\n",
      "qiskit.transpiler.passes.basis.basis_translator - ForkProcess-8 - DEBUG: Composing transform step: tdg/1 [] =>\n",
      "   ┌──────────┐\n",
      "q: ┤ U1(-π/4) ├\n",
      "   └──────────┘\n",
      "qiskit.transpiler.passes.basis.basis_translator - ForkProcess-7 - DEBUG: Composing transform step: tdg/1 [] =>\n",
      "   ┌──────────┐\n",
      "q: ┤ U1(-π/4) ├\n",
      "   └──────────┘\n",
      "qiskit.transpiler.passes.basis.basis_translator - ForkProcess-8 - DEBUG: Composing transform step: u/1 [Parameter(theta), Parameter(phi), Parameter(lam)] =>\n",
      "   ┌───────────────────┐\n",
      "q: ┤ U3(theta,phi,lam) ├\n",
      "   └───────────────────┘\n",
      "qiskit.transpiler.passes.basis.basis_translator - ForkProcess-7 - DEBUG: Composing transform step: u/1 [Parameter(theta), Parameter(phi), Parameter(lam)] =>\n",
      "   ┌───────────────────┐\n",
      "q: ┤ U3(theta,phi,lam) ├\n",
      "   └───────────────────┘\n",
      "qiskit.transpiler.passes.basis.basis_translator - ForkProcess-7 - DEBUG: Composing transform step: r/1 [Parameter(theta), Parameter(phi)] =>\n",
      "   ┌───────────────────────────────────┐\n",
      "q: ┤ U3(theta,phi - π/2,π/2 - 1.0*phi) ├\n",
      "   └───────────────────────────────────┘\n",
      "qiskit.transpiler.passes.basis.basis_translator - ForkProcess-8 - DEBUG: Composing transform step: r/1 [Parameter(theta), Parameter(phi)] =>\n",
      "   ┌───────────────────────────────────┐\n",
      "q: ┤ U3(theta,phi - π/2,π/2 - 1.0*phi) ├\n",
      "   └───────────────────────────────────┘\n",
      "qiskit.transpiler.passes.basis.basis_translator - ForkProcess-8 - INFO: Basis translation paths composed in 0.047s.\n",
      "qiskit.transpiler.passes.basis.basis_translator - ForkProcess-7 - INFO: Basis translation paths composed in 0.045s.\n",
      "qiskit.transpiler.passes.basis.basis_translator - ForkProcess-8 - INFO: Basis translation instructions replaced in 0.000s.\n",
      "qiskit.transpiler.passes.basis.basis_translator - ForkProcess-7 - INFO: Basis translation instructions replaced in 0.000s.\n",
      "qiskit.transpiler.runningpassmanager - ForkProcess-8 - INFO: Pass: BasisTranslator - 142.57407 (ms)\n",
      "qiskit.transpiler.runningpassmanager - ForkProcess-7 - INFO: Pass: BasisTranslator - 144.40155 (ms)\n",
      "qiskit.transpiler.runningpassmanager - ForkProcess-8 - INFO: Pass: CheckGateDirection - 0.15712 (ms)\n",
      "qiskit.transpiler.runningpassmanager - ForkProcess-7 - INFO: Pass: CheckGateDirection - 0.17142 (ms)\n",
      "qiskit.transpiler.runningpassmanager - ForkProcess-8 - INFO: Pass: GateDirection - 0.28253 (ms)\n",
      "qiskit.transpiler.runningpassmanager - ForkProcess-8 - INFO: Pass: RemoveResetInZeroState - 0.07534 (ms)\n",
      "qiskit.transpiler.runningpassmanager - ForkProcess-7 - INFO: Pass: GateDirection - 0.24128 (ms)\n",
      "qiskit.transpiler.runningpassmanager - ForkProcess-8 - INFO: Pass: Depth - 0.14544 (ms)\n",
      "qiskit.transpiler.runningpassmanager - ForkProcess-7 - INFO: Pass: RemoveResetInZeroState - 0.08249 (ms)\n",
      "qiskit.transpiler.runningpassmanager - ForkProcess-8 - INFO: Pass: FixedPoint - 0.04268 (ms)\n",
      "qiskit.transpiler.runningpassmanager - ForkProcess-7 - INFO: Pass: Depth - 0.16069 (ms)\n",
      "qiskit.transpiler.runningpassmanager - ForkProcess-8 - INFO: Pass: Size - 0.14091 (ms)\n",
      "qiskit.transpiler.runningpassmanager - ForkProcess-7 - INFO: Pass: FixedPoint - 0.03624 (ms)\n",
      "qiskit.transpiler.runningpassmanager - ForkProcess-8 - INFO: Pass: FixedPoint - 0.01359 (ms)\n",
      "qiskit.transpiler.runningpassmanager - ForkProcess-7 - INFO: Pass: Size - 0.10967 (ms)\n",
      "qiskit.transpiler.runningpassmanager - ForkProcess-7 - INFO: Pass: FixedPoint - 0.02694 (ms)\n",
      "qiskit.transpiler.runningpassmanager - ForkProcess-8 - INFO: Pass: Optimize1qGatesDecomposition - 4.01998 (ms)\n",
      "qiskit.transpiler.runningpassmanager - ForkProcess-8 - INFO: Pass: CXCancellation - 0.13161 (ms)\n",
      "qiskit.transpiler.runningpassmanager - ForkProcess-7 - INFO: Pass: Optimize1qGatesDecomposition - 3.88145 (ms)\n",
      "qiskit.transpiler.runningpassmanager - ForkProcess-8 - INFO: Pass: GatesInBasis - 0.12183 (ms)\n",
      "qiskit.transpiler.runningpassmanager - ForkProcess-7 - INFO: Pass: CXCancellation - 0.20623 (ms)\n",
      "qiskit.transpiler.runningpassmanager - ForkProcess-8 - INFO: Pass: Depth - 0.06962 (ms)\n",
      "qiskit.transpiler.runningpassmanager - ForkProcess-7 - INFO: Pass: GatesInBasis - 0.06723 (ms)\n",
      "qiskit.transpiler.runningpassmanager - ForkProcess-8 - INFO: Pass: FixedPoint - 0.02122 (ms)\n",
      "qiskit.transpiler.runningpassmanager - ForkProcess-8 - INFO: Pass: Size - 0.04506 (ms)\n",
      "qiskit.transpiler.runningpassmanager - ForkProcess-8 - INFO: Pass: FixedPoint - 0.03147 (ms)\n",
      "qiskit.transpiler.runningpassmanager - ForkProcess-7 - INFO: Pass: Depth - 0.11611 (ms)\n",
      "qiskit.transpiler.runningpassmanager - ForkProcess-7 - INFO: Pass: FixedPoint - 0.01955 (ms)\n",
      "qiskit.transpiler.runningpassmanager - ForkProcess-8 - INFO: Pass: Optimize1qGatesDecomposition - 1.07360 (ms)\n",
      "qiskit.transpiler.runningpassmanager - ForkProcess-7 - INFO: Pass: Size - 0.06151 (ms)\n",
      "qiskit.transpiler.runningpassmanager - ForkProcess-8 - INFO: Pass: CXCancellation - 0.10633 (ms)\n",
      "qiskit.transpiler.runningpassmanager - ForkProcess-7 - INFO: Pass: FixedPoint - 0.02623 (ms)\n",
      "qiskit.transpiler.runningpassmanager - ForkProcess-8 - INFO: Pass: GatesInBasis - 0.07534 (ms)\n",
      "qiskit.transpiler.runningpassmanager - ForkProcess-7 - INFO: Pass: Optimize1qGatesDecomposition - 1.08242 (ms)\n",
      "qiskit.transpiler.runningpassmanager - ForkProcess-8 - INFO: Pass: Depth - 0.07391 (ms)\n",
      "qiskit.transpiler.runningpassmanager - ForkProcess-8 - INFO: Pass: FixedPoint - 0.02074 (ms)\n",
      "qiskit.transpiler.runningpassmanager - ForkProcess-8 - INFO: Pass: Size - 0.05603 (ms)\n",
      "qiskit.transpiler.runningpassmanager - ForkProcess-8 - INFO: Pass: FixedPoint - 0.02646 (ms)\n",
      "qiskit.transpiler.runningpassmanager - ForkProcess-8 - INFO: Pass: ContainsInstruction - 0.05937 (ms)\n",
      "qiskit.transpiler.runningpassmanager - ForkProcess-7 - INFO: Pass: CXCancellation - 0.08416 (ms)\n",
      "qiskit.transpiler.runningpassmanager - ForkProcess-7 - INFO: Pass: GatesInBasis - 0.05841 (ms)\n",
      "qiskit.transpiler.runningpassmanager - ForkProcess-7 - INFO: Pass: Depth - 0.06700 (ms)\n",
      "qiskit.transpiler.runningpassmanager - ForkProcess-7 - INFO: Pass: FixedPoint - 0.02432 (ms)\n",
      "qiskit.transpiler.runningpassmanager - ForkProcess-7 - INFO: Pass: Size - 0.04792 (ms)\n",
      "qiskit.transpiler.runningpassmanager - ForkProcess-7 - INFO: Pass: FixedPoint - 0.02933 (ms)\n",
      "qiskit.transpiler.runningpassmanager - ForkProcess-7 - INFO: Pass: ContainsInstruction - 0.06461 (ms)\n",
      "qiskit.compiler.transpiler - MainProcess - INFO: Total Transpile Time - 393.94832 (ms)\n"
     ]
    }
   ],
   "source": [
    "transpile(circuits, backend);"
   ]
  },
  {
   "cell_type": "markdown",
   "metadata": {},
   "source": [
    "Now the format for the log messages has been changed and it includes a process name for each of the transpilation processes so it's at least clear which log messages go together.\n",
    "\n",
    "There are many different options for how you can configure, this example is pretty limited. Refer to the documentation for more examples and options to build more sophisticated use cases that suit your specific use case or preferences."
   ]
  },
  {
   "cell_type": "code",
   "execution_count": 35,
   "metadata": {
    "ExecuteTime": {
     "end_time": "2019-12-10T21:48:10.920429Z",
     "start_time": "2019-12-10T21:48:10.912305Z"
    },
    "scrolled": false
   },
   "outputs": [
    {
     "data": {
      "text/html": [
       "<h3>Version Information</h3><table><tr><th>Qiskit Software</th><th>Version</th></tr><tr><td><code>qiskit-terra</code></td><td>0.22.3</td></tr><tr><td><code>qiskit-aer</code></td><td>0.11.2</td></tr><tr><td><code>qiskit-ignis</code></td><td>0.7.0</td></tr><tr><td><code>qiskit-ibmq-provider</code></td><td>0.19.2</td></tr><tr><td><code>qiskit</code></td><td>0.39.4</td></tr><tr><th>System information</th></tr><tr><td>Python version</td><td>3.10.6</td></tr><tr><td>Python compiler</td><td>GCC 11.3.0</td></tr><tr><td>Python build</td><td>main, Nov 14 2022 16:10:14</td></tr><tr><td>OS</td><td>Linux</td></tr><tr><td>CPUs</td><td>4</td></tr><tr><td>Memory (Gb)</td><td>3.7695083618164062</td></tr><tr><td colspan='2'>Thu Dec 22 18:19:13 2022 JST</td></tr></table>"
      ],
      "text/plain": [
       "<IPython.core.display.HTML object>"
      ]
     },
     "metadata": {},
     "output_type": "display_data"
    },
    {
     "data": {
      "text/html": [
       "<div style='width: 100%; background-color:#d5d9e0;padding-left: 10px; padding-bottom: 10px; padding-right: 10px; padding-top: 5px'><h3>This code is a part of Qiskit</h3><p>&copy; Copyright IBM 2017, 2022.</p><p>This code is licensed under the Apache License, Version 2.0. You may<br>obtain a copy of this license in the LICENSE.txt file in the root directory<br> of this source tree or at http://www.apache.org/licenses/LICENSE-2.0.<p>Any modifications or derivative works of this code must retain this<br>copyright notice, and modified files need to carry a notice indicating<br>that they have been altered from the originals.</p></div>"
      ],
      "text/plain": [
       "<IPython.core.display.HTML object>"
      ]
     },
     "metadata": {},
     "output_type": "display_data"
    }
   ],
   "source": [
    "import qiskit.tools.jupyter\n",
    "%qiskit_version_table\n",
    "%qiskit_copyright"
   ]
  },
  {
   "cell_type": "code",
   "execution_count": null,
   "metadata": {},
   "outputs": [],
   "source": []
  }
 ],
 "metadata": {
  "celltoolbar": "Tags",
  "kernelspec": {
   "display_name": "Python 3",
   "language": "python",
   "name": "python3"
  },
  "language_info": {
   "codemirror_mode": {
    "name": "ipython",
    "version": 3
   },
   "file_extension": ".py",
   "mimetype": "text/x-python",
   "name": "python",
   "nbconvert_exporter": "python",
   "pygments_lexer": "ipython3",
   "version": "3.10.6"
  },
  "varInspector": {
   "cols": {
    "lenName": 16,
    "lenType": 16,
    "lenVar": 40
   },
   "kernels_config": {
    "python": {
     "delete_cmd_postfix": "",
     "delete_cmd_prefix": "del ",
     "library": "var_list.py",
     "varRefreshCmd": "print(var_dic_list())"
    },
    "r": {
     "delete_cmd_postfix": ") ",
     "delete_cmd_prefix": "rm(",
     "library": "var_list.r",
     "varRefreshCmd": "cat(var_dic_list()) "
    }
   },
   "types_to_exclude": [
    "module",
    "function",
    "builtin_function_or_method",
    "instance",
    "_Feature"
   ],
   "window_display": false
  },
  "vscode": {
   "interpreter": {
    "hash": "916dbcbb3f70747c44a77c7bcd40155683ae19c65e1c03b4aa3499c5328201f1"
   }
  }
 },
 "nbformat": 4,
 "nbformat_minor": 2
}
