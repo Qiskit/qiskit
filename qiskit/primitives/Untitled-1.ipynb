{
 "cells": [
  {
   "cell_type": "code",
   "execution_count": 1,
   "metadata": {},
   "outputs": [
    {
     "name": "stdout",
     "output_type": "stream",
     "text": [
      "{1: 1}\n",
      "{0: 1}\n",
      "{1: 1}\n",
      "{1: 1}\n",
      "{0: 1}\n",
      "{1: 1}\n",
      "{1: 1}\n",
      "{1: 1}\n",
      "{0: 1}\n",
      "{0: 1}\n"
     ]
    }
   ],
   "source": [
    "from qiskit import QuantumCircuit\n",
    "from qiskit.primitives import StatevectorSampler\n",
    "\n",
    "qc = QuantumCircuit(1)\n",
    "qc.h(0)\n",
    "qc.measure_all()\n",
    "\n",
    "sampler = StatevectorSampler(seed=42)\n",
    "res = sampler.run([(qc, None, 1) for _ in range(10)]).result()\n",
    "\n",
    "for r in res:\n",
    "    print(r.data.meas.get_int_counts())"
   ]
  }
 ],
 "metadata": {
  "kernelspec": {
   "display_name": "qiskitdev (3.12.3)",
   "language": "python",
   "name": "python3"
  },
  "language_info": {
   "codemirror_mode": {
    "name": "ipython",
    "version": 3
   },
   "file_extension": ".py",
   "mimetype": "text/x-python",
   "name": "python",
   "nbconvert_exporter": "python",
   "pygments_lexer": "ipython3",
   "version": "3.12.3"
  }
 },
 "nbformat": 4,
 "nbformat_minor": 2
}
