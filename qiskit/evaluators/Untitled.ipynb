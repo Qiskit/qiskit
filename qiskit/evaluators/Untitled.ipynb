{
 "cells": [
  {
   "cell_type": "code",
   "execution_count": 1,
   "id": "bdb5aeda-f519-4dcd-b7d5-162f1089b1f5",
   "metadata": {
    "tags": []
   },
   "outputs": [],
   "source": [
    "from qiskit_nature.converters.second_quantization import QubitConverter\n",
    "from qiskit_nature.mappers.second_quantization import JordanWignerMapper\n",
    "from qiskit_nature.operators.second_quantization import FermionicOp"
   ]
  },
  {
   "cell_type": "code",
   "execution_count": 19,
   "id": "05625079-60c2-48b3-8203-9ce9f4a35ab7",
   "metadata": {},
   "outputs": [
    {
     "name": "stderr",
     "output_type": "stream",
     "text": [
      "The original qubit operator only contains 1 qubits! Skipping the requested two-qubit reduction!\n"
     ]
    },
    {
     "name": "stdout",
     "output_type": "stream",
     "text": [
      "0.5 * I\n",
      "- 0.5 * Z\n"
     ]
    }
   ],
   "source": [
    "print(QubitConverter(mapper=JordanWignerMapper()).convert(FermionicOp(\"+_0 -_0\")))"
   ]
  },
  {
   "cell_type": "code",
   "execution_count": 20,
   "id": "8d64ec65-485c-4b80-94f5-a61d05dad083",
   "metadata": {},
   "outputs": [
    {
     "name": "stderr",
     "output_type": "stream",
     "text": [
      "The original qubit operator only contains 1 qubits! Skipping the requested two-qubit reduction!\n",
      "The original qubit operator only contains 1 qubits! Skipping the requested two-qubit reduction!\n"
     ]
    },
    {
     "name": "stdout",
     "output_type": "stream",
     "text": [
      "0.5 * I\n",
      "+ 0.5 * Z\n"
     ]
    }
   ],
   "source": [
    "print(\n",
    "    (\n",
    "        QubitConverter(mapper=JordanWignerMapper()).convert(FermionicOp(\"+\"))\n",
    "        @ QubitConverter(mapper=JordanWignerMapper()).convert(FermionicOp(\"-\"))\n",
    "    ).reduce()\n",
    ")"
   ]
  },
  {
   "cell_type": "code",
   "execution_count": 21,
   "id": "625f544f-0690-4f7c-b9e6-be2b039f2b5a",
   "metadata": {},
   "outputs": [
    {
     "name": "stderr",
     "output_type": "stream",
     "text": [
      "The original qubit operator only contains 1 qubits! Skipping the requested two-qubit reduction!\n"
     ]
    },
    {
     "name": "stdout",
     "output_type": "stream",
     "text": [
      "0.5 * X\n",
      "+ 0.5j * Y\n"
     ]
    }
   ],
   "source": [
    "print(QubitConverter(mapper=JordanWignerMapper()).convert(FermionicOp(\"+\")))"
   ]
  },
  {
   "cell_type": "code",
   "execution_count": 22,
   "id": "26cf6842-1d4d-4e0c-ab5a-ea61780c2227",
   "metadata": {},
   "outputs": [
    {
     "name": "stderr",
     "output_type": "stream",
     "text": [
      "The original qubit operator only contains 1 qubits! Skipping the requested two-qubit reduction!\n"
     ]
    },
    {
     "name": "stdout",
     "output_type": "stream",
     "text": [
      "0.5 * X\n",
      "+ -0.5j * Y\n"
     ]
    }
   ],
   "source": [
    "print(QubitConverter(mapper=JordanWignerMapper()).convert(FermionicOp(\"-\")))"
   ]
  },
  {
   "cell_type": "code",
   "execution_count": 6,
   "id": "b81248d0-e00e-418d-bc9d-db1b066b450e",
   "metadata": {},
   "outputs": [],
   "source": [
    "from openfermion import (\n",
    "    FermionOperator,\n",
    "    binary_code_transform,\n",
    "    jordan_wigner,\n",
    "    parity_code,\n",
    ")"
   ]
  },
  {
   "cell_type": "code",
   "execution_count": 23,
   "id": "161fd2ec-3f62-434d-9743-5f16e41d862d",
   "metadata": {},
   "outputs": [
    {
     "data": {
      "text/plain": [
       "0.5 [X0] +\n",
       "-0.5j [Y0]"
      ]
     },
     "execution_count": 23,
     "metadata": {},
     "output_type": "execute_result"
    }
   ],
   "source": [
    "jordan_wigner(FermionOperator(\"0^\"))"
   ]
  },
  {
   "cell_type": "code",
   "execution_count": 24,
   "id": "b93c71cd-42ed-4c86-8904-f6591ba90f4f",
   "metadata": {},
   "outputs": [
    {
     "data": {
      "text/plain": [
       "0.5 [X0] +\n",
       "0.5j [Y0]"
      ]
     },
     "execution_count": 24,
     "metadata": {},
     "output_type": "execute_result"
    }
   ],
   "source": [
    "jordan_wigner(FermionOperator(\"0\"))"
   ]
  },
  {
   "cell_type": "code",
   "execution_count": 25,
   "id": "30d72956-1850-467b-8c43-9ded8f3395ae",
   "metadata": {},
   "outputs": [
    {
     "data": {
      "text/plain": [
       "(0.5+0j) [] +\n",
       "(-0.5+0j) [Z0]"
      ]
     },
     "execution_count": 25,
     "metadata": {},
     "output_type": "execute_result"
    }
   ],
   "source": [
    "jordan_wigner(FermionOperator(\"0^ 0\"))"
   ]
  },
  {
   "cell_type": "code",
   "execution_count": 26,
   "id": "3a07f2b3-1c02-4096-a192-5bbbc724e51b",
   "metadata": {},
   "outputs": [
    {
     "data": {
      "text/plain": [
       "(0.5+0j) [] +\n",
       "(0.5+0j) [Z0]"
      ]
     },
     "execution_count": 26,
     "metadata": {},
     "output_type": "execute_result"
    }
   ],
   "source": [
    "jordan_wigner(FermionOperator(\"0 0^\"))"
   ]
  },
  {
   "cell_type": "code",
   "execution_count": 12,
   "id": "6ad1f748-2e5b-46fe-b54e-d0400799abaf",
   "metadata": {},
   "outputs": [
    {
     "data": {
      "text/plain": [
       "(0.5+0j) [] +\n",
       "(-0.5+0j) [Z0]"
      ]
     },
     "execution_count": 12,
     "metadata": {},
     "output_type": "execute_result"
    }
   ],
   "source": [
    "jordan_wigner(FermionOperator(\"0^\")) * jordan_wigner(FermionOperator(\"0\"))"
   ]
  },
  {
   "cell_type": "code",
   "execution_count": 13,
   "id": "05d9cc7b-0685-4785-9743-024a25f1e2a1",
   "metadata": {},
   "outputs": [],
   "source": [
    "def parity(fermion_operator, n_modes):\n",
    "    return binary_code_transform(fermion_operator, parity_code(n_modes))"
   ]
  },
  {
   "cell_type": "markdown",
   "id": "9af560af-f830-4d30-ba1f-74e031c3912e",
   "metadata": {},
   "source": [
    "         -0.81054798160031430 * (I ^ I ^ I ^ I)\n",
    "        - 0.22575349071287365 * (Z ^ Z ^ I ^ I)\n",
    "        + 0.12091263243164174 * (I ^ I ^ Z ^ I)\n",
    "        + 0.12091263243164174 * (Z ^ I ^ Z ^ I)\n",
    "        + 0.17218393211855787 * (I ^ Z ^ Z ^ I)\n",
    "        + 0.17218393211855818 * (I ^ I ^ I ^ Z)\n",
    "        + 0.16614543242281926 * (I ^ Z ^ I ^ Z)\n",
    "        + 0.16614543242281926 * (Z ^ Z ^ I ^ Z)\n",
    "        - 0.22575349071287362 * (I ^ I ^ Z ^ Z)\n",
    "        + 0.16892753854646372 * (I ^ Z ^ Z ^ Z)\n",
    "        + 0.17464343053355980 * (Z ^ Z ^ Z ^ Z)\n",
    "        + 0.04523279999117751 * (I ^ X ^ I ^ X)\n",
    "        + 0.04523279999117751 * (Z ^ X ^ I ^ X)\n",
    "        - 0.04523279999117751 * (I ^ X ^ Z ^ X)\n",
    "        - 0.04523279999117751 * (Z ^ X ^ Z ^ X)"
   ]
  },
  {
   "cell_type": "code",
   "execution_count": 14,
   "id": "6d7cd60f-3be2-42d8-9060-cb5b1fe7cf61",
   "metadata": {},
   "outputs": [],
   "source": [
    "fer = (\n",
    "    (0.18093119996471013 + 0j) * FermionOperator(\"0^ 1 2^ 3\")\n",
    "    + (-0.18093119996470997 + 0j) * FermionOperator(\"0^ 1 2 3^\")\n",
    "    + (-0.18093119996470997 + 0j) * FermionOperator(\"0 1^ 2^ 3\")\n",
    "    + (0.1809311999647102 + 0j) * FermionOperator(\"0 1^ 2 3^\")\n",
    "    + (-0.47189600935029435 + 0j) * FermionOperator(\"3^ 3\")\n",
    "    + (-1.2563390710389655 + 0j) * FermionOperator(\"2^ 2\")\n",
    "    + (0.48365052972656697 + 0j) * FermionOperator(\"2^ 2 3^ 3\")\n",
    "    + (-0.47189600935029435 + 0j) * FermionOperator(\"1^ 1\")\n",
    "    + (0.6985737221342392 + 0j) * FermionOperator(\"1^ 1 3^ 3\")\n",
    "    + (0.664581729691277 + 0j) * FermionOperator(\"1^ 1 2^ 2\")\n",
    "    + (-1.2563390710389655 + 0j) * FermionOperator(\"0^ 0\")\n",
    "    + (0.664581729691277 + 0j) * FermionOperator(\"0^ 0 3^ 3\")\n",
    "    + (0.6757101541858549 + 0j) * FermionOperator(\"0^ 0 2^ 2\")\n",
    "    + (0.48365052972656697 + 0j) * FermionOperator(\"0^ 0 1^ 1\")\n",
    ")"
   ]
  },
  {
   "cell_type": "code",
   "execution_count": 15,
   "id": "b1882cda-85b1-4065-a7c4-32c25065208b",
   "metadata": {},
   "outputs": [
    {
     "data": {
      "text/plain": [
       "-0.8105479816003144 [] +\n",
       "-0.04523279999117751 [X0 Z1 X2] +\n",
       "-0.04523279999117751 [X0 Z1 X2 Z3] +\n",
       "0.04523279999117751 [X0 X2] +\n",
       "0.04523279999117751 [X0 X2 Z3] +\n",
       "0.17218393211855798 [Z0] +\n",
       "-0.22575349071287362 [Z0 Z1] +\n",
       "0.16892753854646372 [Z0 Z1 Z2] +\n",
       "0.1746434305335598 [Z0 Z1 Z2 Z3] +\n",
       "0.16614543242281926 [Z0 Z2] +\n",
       "0.16614543242281926 [Z0 Z2 Z3] +\n",
       "0.12091263243164174 [Z1] +\n",
       "0.172183932118558 [Z1 Z2] +\n",
       "0.12091263243164174 [Z1 Z3] +\n",
       "-0.22575349071287362 [Z2 Z3]"
      ]
     },
     "execution_count": 15,
     "metadata": {},
     "output_type": "execute_result"
    }
   ],
   "source": [
    "parity(fer, 4)"
   ]
  },
  {
   "cell_type": "code",
   "execution_count": 16,
   "id": "c784ad90-3a5f-4bd1-aec2-bfa2a7095297",
   "metadata": {},
   "outputs": [
    {
     "data": {
      "text/plain": [
       "0.5 [X0 X1] +\n",
       "(-0-0.5j) [Y0 X1]"
      ]
     },
     "execution_count": 16,
     "metadata": {},
     "output_type": "execute_result"
    }
   ],
   "source": [
    "parity(FermionOperator(\"0^\"), 2)"
   ]
  },
  {
   "cell_type": "code",
   "execution_count": 17,
   "id": "14077ffe-fd42-49d1-b96d-2459a8442e9c",
   "metadata": {},
   "outputs": [
    {
     "ename": "NameError",
     "evalue": "name 'IIII' is not defined",
     "output_type": "error",
     "traceback": [
      "\u001b[0;31m---------------------------------------------------------------------------\u001b[0m",
      "\u001b[0;31mNameError\u001b[0m                                 Traceback (most recent call last)",
      "\u001b[0;32m/var/folders/lm/t8c48n6s2sbfy3ms9yl50fy80000gn/T/ipykernel_25726/2157126664.py\u001b[0m in \u001b[0;36m<module>\u001b[0;34m\u001b[0m\n\u001b[0;32m----> 1\u001b[0;31m \u001b[0;34m-\u001b[0m\u001b[0;36m0.8105479816003143\u001b[0m \u001b[0;34m*\u001b[0m \u001b[0mIIII\u001b[0m\u001b[0;34m\u001b[0m\u001b[0;34m\u001b[0m\u001b[0m\n\u001b[0m\u001b[1;32m      2\u001b[0m \u001b[0;34m+\u001b[0m \u001b[0;36m0.22575349071287365\u001b[0m \u001b[0;34m*\u001b[0m \u001b[0mZZII\u001b[0m\u001b[0;34m\u001b[0m\u001b[0;34m\u001b[0m\u001b[0m\n\u001b[1;32m      3\u001b[0m \u001b[0;34m+\u001b[0m \u001b[0;36m0.12091263243164174\u001b[0m \u001b[0;34m*\u001b[0m \u001b[0mIIZI\u001b[0m\u001b[0;34m\u001b[0m\u001b[0;34m\u001b[0m\u001b[0m\n\u001b[1;32m      4\u001b[0m \u001b[0;34m+\u001b[0m \u001b[0;36m0.12091263243164174\u001b[0m \u001b[0;34m*\u001b[0m \u001b[0mZIZI\u001b[0m\u001b[0;34m\u001b[0m\u001b[0;34m\u001b[0m\u001b[0m\n\u001b[1;32m      5\u001b[0m \u001b[0;34m-\u001b[0m \u001b[0;36m0.17218393211855787\u001b[0m \u001b[0;34m*\u001b[0m \u001b[0mIZZI\u001b[0m\u001b[0;34m\u001b[0m\u001b[0;34m\u001b[0m\u001b[0m\n",
      "\u001b[0;31mNameError\u001b[0m: name 'IIII' is not defined"
     ]
    }
   ],
   "source": [
    "-0.8105479816003143 * IIII\n",
    "+0.22575349071287365 * ZZII\n",
    "+0.12091263243164174 * IIZI\n",
    "+0.12091263243164174 * ZIZI\n",
    "-0.17218393211855787 * IZZI\n",
    "-0.17218393211855818 * IIIZ\n",
    "+0.16614543242281926 * IZIZ\n",
    "+0.16614543242281926 * ZZIZ\n",
    "+0.22575349071287362 * IIZZ\n",
    "+0.16892753854646372 * IZZZ\n",
    "+0.1746434305335598 * ZZZZ\n",
    "+0.04523279999117751 * IXIX\n",
    "+0.04523279999117751 * ZXIX\n",
    "-0.04523279999117751 * IXZX\n",
    "-0.04523279999117751 * ZXZX"
   ]
  },
  {
   "cell_type": "code",
   "execution_count": null,
   "id": "4f44a190-9bcb-4e2a-917e-4e05d73e2f1c",
   "metadata": {},
   "outputs": [],
   "source": [
    "from qiskit.circuit.library import RealAmplitudes"
   ]
  }
 ],
 "metadata": {
  "kernelspec": {
   "display_name": "Nature",
   "language": "python",
   "name": "nature-dev"
  },
  "language_info": {
   "codemirror_mode": {
    "name": "ipython",
    "version": 3
   },
   "file_extension": ".py",
   "mimetype": "text/x-python",
   "name": "python",
   "nbconvert_exporter": "python",
   "pygments_lexer": "ipython3",
   "version": "3.8.5"
  }
 },
 "nbformat": 4,
 "nbformat_minor": 5
}
