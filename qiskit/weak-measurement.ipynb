{
 "cells": [
  {
   "cell_type": "code",
   "execution_count": 3,
   "id": "751a2201",
   "metadata": {},
   "outputs": [],
   "source": [
    "import qiskit\n",
    "from qiskit import QuantumCircuit, QuantumRegister, ClassicalRegister\n",
    "def g_operator(qc, qreg, creg):\n",
    "    \"\"\"Apply the G operator to the qubit.\"\"\"\n",
    "    # Apply the Hadamard gate to the qubit.\n",
    "    qc.h(qreg[0])\n",
    "    # Apply the controlled-NOT gate to the qubit, controlled on the classical bit.\n",
    "    qc.cx(qreg[0], creg[0])"
   ]
  },
  {
   "cell_type": "code",
   "execution_count": 4,
   "id": "8cd67751",
   "metadata": {},
   "outputs": [
    {
     "ename": "SyntaxError",
     "evalue": "invalid decimal literal (3892692316.py, line 10)",
     "output_type": "error",
     "traceback": [
      "\u001b[0;36m  Cell \u001b[0;32mIn[4], line 10\u001b[0;36m\u001b[0m\n\u001b[0;31m    G = |0⟩⟨0| + e^(iπ/2)|1⟩⟨1|\u001b[0m\n\u001b[0m         ^\u001b[0m\n\u001b[0;31mSyntaxError\u001b[0m\u001b[0;31m:\u001b[0m invalid decimal literal\n"
     ]
    }
   ],
   "source": [
    "import qiskit\n",
    "from qiskit import QuantumCircuit, QuantumRegister, ClassicalRegister, pulse\n",
    "qreg = QuantumRegister(1)\n",
    "creg = ClassicalRegister(1)\n",
    "circuit = QuantumCircuit(qreg, creg)\n",
    "circuit.h(qreg[0])\n",
    "circuit.cx(qreg[0], creg[0])\n",
    "pulse = pulse.Gaussian(duration=100, amp=0.5, sigma=10)\n",
    "pulse.\n",
    "circuit.play(pulse, qreg[0])\n",
    "#G = |0⟩⟨0| + e^(iπ/2)|1⟩⟨1|"
   ]
  }
 ],
 "metadata": {
  "kernelspec": {
   "display_name": "Python 3 (ipykernel)",
   "language": "python",
   "name": "python3"
  },
  "language_info": {
   "codemirror_mode": {
    "name": "ipython",
    "version": 3
   },
   "file_extension": ".py",
   "mimetype": "text/x-python",
   "name": "python",
   "nbconvert_exporter": "python",
   "pygments_lexer": "ipython3",
   "version": "3.10.9"
  }
 },
 "nbformat": 4,
 "nbformat_minor": 5
}
