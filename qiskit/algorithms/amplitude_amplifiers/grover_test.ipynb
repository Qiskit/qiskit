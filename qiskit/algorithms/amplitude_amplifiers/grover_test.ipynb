{
 "cells": [
  {
   "cell_type": "code",
   "execution_count": 1,
   "metadata": {},
   "outputs": [],
   "source": [
    "%load_ext autoreload\n",
    "%autoreload 2"
   ]
  },
  {
   "cell_type": "code",
   "execution_count": 2,
   "metadata": {},
   "outputs": [],
   "source": [
    "import itertools\n",
    "import numpy as np\n",
    "\n",
    "from qiskit import BasicAer, QuantumCircuit\n",
    "from qiskit.utils import QuantumInstance\n",
    "from qiskit.algorithms import Grover, AmplificationProblem\n",
    "from qiskit.circuit.library import GroverOperator, PhaseOracle\n",
    "from qiskit.quantum_info import Operator, Statevector\n",
    "from qiskit.primitives import Sampler"
   ]
  },
  {
   "cell_type": "code",
   "execution_count": 4,
   "metadata": {},
   "outputs": [
    {
     "name": "stdout",
     "output_type": "stream",
     "text": [
      "{   'assignment': '11',\n",
      "    'circuit_results': [   {'11': 1024},\n",
      "                           {'00': 238, '01': 253, '10': 263, '11': 270},\n",
      "                           {'00': 238, '01': 253, '10': 263, '11': 270},\n",
      "                           {'11': 1024}],\n",
      "    'iterations': [1, 2, 3, 4],\n",
      "    'max_probability': 1.0,\n",
      "    'oracle_evaluation': False,\n",
      "    'top_measurement': '11'}\n"
     ]
    },
    {
     "name": "stderr",
     "output_type": "stream",
     "text": [
      "<ipython-input-4-2a18fe2beec7>:8: DeprecationWarning: Passing `quantum_instance` to Grover is deprecated as of 0.18, and will be removed no earlier than 3 months after that release date. You should use `sampler` instead. \n",
      "  grover = Grover([1, 2, 3, 4], quantum_instance=qasm)\n"
     ]
    }
   ],
   "source": [
    "oracle = QuantumCircuit(2)\n",
    "oracle.cz(0, 1)\n",
    "expected_grover_op = GroverOperator(oracle=oracle)\n",
    "\n",
    "qasm = QuantumInstance(\n",
    "    BasicAer.get_backend(\"qasm_simulator\"), seed_simulator=12, seed_transpiler=32\n",
    ")\n",
    "grover = Grover([1, 2, 3, 4], quantum_instance=qasm)\n",
    "problem = AmplificationProblem(oracle, is_good_state=[\"00\"])\n",
    "result = grover.amplify(problem)\n",
    "print(result)"
   ]
  },
  {
   "cell_type": "code",
   "execution_count": 5,
   "metadata": {},
   "outputs": [
    {
     "name": "stdout",
     "output_type": "stream",
     "text": [
      "{   'assignment': '0',\n",
      "    'circuit_results': [   {   '0': 1.3217493523837133e-34,\n",
      "                               '1': 4.149038501347628e-33,\n",
      "                               '10': 6.233011424684497e-34,\n",
      "                               '11': 0.9999999999999987},\n",
      "                           {   '0': 0.2499999999999994,\n",
      "                               '1': 0.2499999999999994,\n",
      "                               '10': 0.2499999999999994,\n",
      "                               '11': 0.24999999999999933},\n",
      "                           {   '0': 0.2499999999999991,\n",
      "                               '1': 0.2499999999999991,\n",
      "                               '10': 0.2499999999999991,\n",
      "                               '11': 0.2499999999999991},\n",
      "                           {   '0': 0.2499999999999994,\n",
      "                               '1': 0.2499999999999994,\n",
      "                               '10': 0.2499999999999994,\n",
      "                               '11': 0.24999999999999933}],\n",
      "    'iterations': [1, 2, 3, 4],\n",
      "    'max_probability': 0.2499999999999994,\n",
      "    'oracle_evaluation': False,\n",
      "    'top_measurement': '0'}\n"
     ]
    }
   ],
   "source": [
    "oracle = QuantumCircuit(2)\n",
    "oracle.cz(0, 1)\n",
    "expected_grover_op = GroverOperator(oracle=oracle)\n",
    "\n",
    "sampler = Sampler()\n",
    "grover = Grover([1, 2, 3, 4], sampler=sampler)\n",
    "problem = AmplificationProblem(oracle, is_good_state=[\"00\"])\n",
    "result = grover.amplify(problem)\n",
    "print(result)"
   ]
  },
  {
   "cell_type": "code",
   "execution_count": null,
   "metadata": {},
   "outputs": [],
   "source": []
  }
 ],
 "metadata": {
  "kernelspec": {
   "display_name": "Python 3.9.10 ('qiskit-dev')",
   "language": "python",
   "name": "python3"
  },
  "language_info": {
   "codemirror_mode": {
    "name": "ipython",
    "version": 3
   },
   "file_extension": ".py",
   "mimetype": "text/x-python",
   "name": "python",
   "nbconvert_exporter": "python",
   "pygments_lexer": "ipython3",
   "version": "3.9.10"
  },
  "orig_nbformat": 4,
  "vscode": {
   "interpreter": {
    "hash": "f1a41df7da10cd24510c983ddc233573433bf6fa7c929b34f93385353151d1a4"
   }
  }
 },
 "nbformat": 4,
 "nbformat_minor": 2
}
