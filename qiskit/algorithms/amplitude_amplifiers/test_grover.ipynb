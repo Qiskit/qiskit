{
 "cells": [
  {
   "cell_type": "code",
   "execution_count": 1,
   "metadata": {},
   "outputs": [],
   "source": [
    "%load_ext autoreload\n",
    "%autoreload 2"
   ]
  },
  {
   "cell_type": "code",
   "execution_count": 2,
   "metadata": {},
   "outputs": [],
   "source": [
    "import itertools\n",
    "import numpy as np\n",
    "from ddt import ddt, data\n",
    "\n",
    "\n",
    "from qiskit import BasicAer, QuantumCircuit\n",
    "from qiskit.utils import QuantumInstance\n",
    "from qiskit.algorithms import Grover, AmplificationProblem\n",
    "from qiskit.circuit.library import GroverOperator, PhaseOracle\n",
    "from qiskit.primitives import Sampler\n",
    "from qiskit.quantum_info import Operator, Statevector"
   ]
  },
  {
   "cell_type": "code",
   "execution_count": 3,
   "metadata": {},
   "outputs": [
    {
     "name": "stdout",
     "output_type": "stream",
     "text": [
      "{   'assignment': '11',\n",
      "    'circuit_results': [   {'11': 1024},\n",
      "                           {'00': 238, '01': 253, '10': 263, '11': 270},\n",
      "                           {'00': 238, '01': 253, '10': 263, '11': 270},\n",
      "                           {'11': 1024}],\n",
      "    'iterations': [1, 2, 3, 4],\n",
      "    'max_probability': 1.0,\n",
      "    'oracle_evaluation': False,\n",
      "    'top_measurement': '11'}\n"
     ]
    }
   ],
   "source": [
    "oracle = QuantumCircuit(2)\n",
    "oracle.cz(0, 1)\n",
    "# is_good_state=['00'] is intentionally selected to obtain a list of results\n",
    "problem = AmplificationProblem(oracle, is_good_state=[\"00\"])\n",
    "grover = Grover(\n",
    "    iterations=[1, 2, 3, 4],\n",
    "    quantum_instance=QuantumInstance(\n",
    "        BasicAer.get_backend(\"qasm_simulator\"), seed_simulator=12, seed_transpiler=32\n",
    "    ),\n",
    ")\n",
    "result = grover.amplify(problem)\n",
    "expected_results = [\n",
    "    {\"11\": 1024},\n",
    "    {\"00\": 238, \"01\": 253, \"10\": 263, \"11\": 270},\n",
    "    {\"00\": 238, \"01\": 253, \"10\": 263, \"11\": 270},\n",
    "    {\"11\": 1024},\n",
    "]\n",
    "print(result)"
   ]
  },
  {
   "cell_type": "code",
   "execution_count": 4,
   "metadata": {},
   "outputs": [
    {
     "name": "stdout",
     "output_type": "stream",
     "text": [
      "   ┌───┐\n",
      "q: ┤ Z ├\n",
      "   └───┘\n"
     ]
    }
   ],
   "source": [
    "oracle = PhaseOracle(\"x | x\")\n",
    "print(oracle)"
   ]
  },
  {
   "cell_type": "code",
   "execution_count": 5,
   "metadata": {},
   "outputs": [
    {
     "name": "stdout",
     "output_type": "stream",
     "text": [
      "{   'assignment': '00',\n",
      "    'circuit_results': [   array([0.+0.000000e+00j, 0.+0.000000e+00j, 0.+0.000000e+00j,\n",
      "       1.+3.061617e-16j]),\n",
      "                           array([-0.5-8.41170949e-17j, -0.5-1.45349435e-16j, -0.5-8.41170949e-17j,\n",
      "        0.5+1.45349435e-16j]),\n",
      "                           array([-0.5+7.66951701e-17j, -0.5+7.66951701e-17j, -0.5-2.06581775e-16j,\n",
      "       -0.5-2.06581775e-16j])],\n",
      "    'iterations': [1, 2, 3],\n",
      "    'max_probability': 0.2499999999999995,\n",
      "    'oracle_evaluation': True,\n",
      "    'top_measurement': '00'}\n"
     ]
    }
   ],
   "source": [
    "oracle = QuantumCircuit(2)\n",
    "oracle.cz(0, 1)\n",
    "# is_good_state=['00'] is intentionally selected to obtain a list of results\n",
    "problem = AmplificationProblem(oracle, is_good_state=[\"00\"])\n",
    "grover = Grover(\n",
    "    iterations=[1, 2, 3, 4],\n",
    "    quantum_instance=QuantumInstance(\n",
    "        BasicAer.get_backend(\"statevector_simulator\"), seed_simulator=12, seed_transpiler=32\n",
    "    ),\n",
    ")\n",
    "result = grover.amplify(problem)\n",
    "expected_results = [\n",
    "    {\"11\": 1024},\n",
    "    {\"00\": 238, \"01\": 253, \"10\": 263, \"11\": 270},\n",
    "    {\"00\": 238, \"01\": 253, \"10\": 263, \"11\": 270},\n",
    "    {\"11\": 1024},\n",
    "]\n",
    "print(result)"
   ]
  },
  {
   "cell_type": "code",
   "execution_count": 6,
   "metadata": {},
   "outputs": [],
   "source": [
    "grover.quantum_instance = QuantumInstance(\n",
    "    BasicAer.get_backend(\"statevector_simulator\"), seed_simulator=12, seed_transpiler=32\n",
    ")"
   ]
  },
  {
   "cell_type": "code",
   "execution_count": 7,
   "metadata": {},
   "outputs": [
    {
     "name": "stdout",
     "output_type": "stream",
     "text": [
      "{   'assignment': '00',\n",
      "    'circuit_results': [   {   '00': 1.3217493523837133e-34,\n",
      "                               '01': 4.149038501347628e-33,\n",
      "                               '10': 6.233011424684497e-34,\n",
      "                               '11': 0.9999999999999987},\n",
      "                           {   '00': 0.2499999999999994,\n",
      "                               '01': 0.2499999999999994,\n",
      "                               '10': 0.2499999999999994,\n",
      "                               '11': 0.24999999999999933}],\n",
      "    'iterations': [1, 2],\n",
      "    'max_probability': 0.2499999999999994,\n",
      "    'oracle_evaluation': True,\n",
      "    'top_measurement': '00'}\n"
     ]
    }
   ],
   "source": [
    "oracle = QuantumCircuit(2)\n",
    "oracle.cz(0, 1)\n",
    "# is_good_state=['00'] is intentionally selected to obtain a list of results\n",
    "problem = AmplificationProblem(oracle, is_good_state=[\"00\"])\n",
    "sampler = Sampler()\n",
    "grover = Grover(iterations=[1, 2, 3, 4], sampler=sampler)\n",
    "result = grover.amplify(problem)\n",
    "expected_results = [\n",
    "    {\"11\": 1024},\n",
    "    {\"00\": 238, \"01\": 253, \"10\": 263, \"11\": 270},\n",
    "    {\"00\": 238, \"01\": 253, \"10\": 263, \"11\": 270},\n",
    "    {\"11\": 1024},\n",
    "]\n",
    "print(result)"
   ]
  },
  {
   "cell_type": "code",
   "execution_count": 10,
   "metadata": {},
   "outputs": [
    {
     "name": "stdout",
     "output_type": "stream",
     "text": [
      "None\n"
     ]
    }
   ],
   "source": [
    "print(sampler.run_options.get(\"shots\"))"
   ]
  },
  {
   "cell_type": "code",
   "execution_count": 21,
   "metadata": {},
   "outputs": [],
   "source": [
    "sampler = Sampler(run_options={\"shots\": 0})"
   ]
  },
  {
   "cell_type": "code",
   "execution_count": 28,
   "metadata": {},
   "outputs": [
    {
     "name": "stdout",
     "output_type": "stream",
     "text": [
      "{   'assignment': '00',\n",
      "    'circuit_results': [   {'00': 0.0, '01': 0.0, '10': 0.0, '11': 1.0},\n",
      "                           {'00': 0.5, '01': 0.3, '10': 0.1, '11': 0.1}],\n",
      "    'iterations': [1, 2],\n",
      "    'max_probability': 0.5,\n",
      "    'oracle_evaluation': True,\n",
      "    'top_measurement': '00'}\n"
     ]
    }
   ],
   "source": [
    "oracle = QuantumCircuit(2)\n",
    "oracle.cz(0, 1)\n",
    "# is_good_state=['00'] is intentionally selected to obtain a list of results\n",
    "problem = AmplificationProblem(oracle, is_good_state=[\"00\"])\n",
    "sampler = Sampler(run_options={\"shots\": 10, \"seed\": 12345678})\n",
    "grover = Grover(iterations=[1, 2, 3, 4], sampler=sampler)\n",
    "result = grover.amplify(problem)\n",
    "expected_results = [\n",
    "    {\"11\": 1024},\n",
    "    {\"00\": 238, \"01\": 253, \"10\": 263, \"11\": 270},\n",
    "    {\"00\": 238, \"01\": 253, \"10\": 263, \"11\": 270},\n",
    "    {\"11\": 1024},\n",
    "]\n",
    "print(result)"
   ]
  },
  {
   "cell_type": "code",
   "execution_count": null,
   "metadata": {},
   "outputs": [],
   "source": []
  }
 ],
 "metadata": {
  "kernelspec": {
   "display_name": "Python 3.9.10 ('qiskit-dev')",
   "language": "python",
   "name": "python3"
  },
  "language_info": {
   "codemirror_mode": {
    "name": "ipython",
    "version": 3
   },
   "file_extension": ".py",
   "mimetype": "text/x-python",
   "name": "python",
   "nbconvert_exporter": "python",
   "pygments_lexer": "ipython3",
   "version": "3.9.10"
  },
  "orig_nbformat": 4,
  "vscode": {
   "interpreter": {
    "hash": "f1a41df7da10cd24510c983ddc233573433bf6fa7c929b34f93385353151d1a4"
   }
  }
 },
 "nbformat": 4,
 "nbformat_minor": 2
}
