{
 "cells": [
  {
   "cell_type": "code",
   "execution_count": 5,
   "metadata": {},
   "outputs": [],
   "source": [
    "from rx_builder import RXCalibrationBuilder\n",
    "from qiskit.providers.fake_provider import FakeBelemV2\n",
    "from qiskit import QuantumCircuit\n",
    "from qiskit.circuit.library.standard_gates import RXGate, RZGate, HGate, CXGate, SXGate\n",
    "from qiskit.dagcircuit import DAGCircuit\n",
    "from qiskit import QuantumRegister, ClassicalRegister, QuantumCircuit\n",
    "from qiskit.converters import circuit_to_dag\n",
    "from qiskit.providers.fake_provider import FakeBelemV2\n",
    "from qiskit.transpiler import InstructionProperties, PassManagerConfig, PassManager\n",
    "from qiskit.transpiler.preset_passmanagers import level_1_pass_manager\n",
    "from qiskit.circuit import Parameter, Instruction\n",
    "\n",
    "import numpy as np"
   ]
  },
  {
   "cell_type": "code",
   "execution_count": 6,
   "metadata": {},
   "outputs": [],
   "source": [
    "backend = FakeBelemV2()\n",
    "\n",
    "# adding RX gates to backend\n",
    "rx_properties = {(i,): InstructionProperties() for i in range(backend.num_qubits)}\n",
    "backend.target.add_instruction(RXGate(Parameter(\"theta\")), properties=rx_properties)"
   ]
  },
  {
   "cell_type": "code",
   "execution_count": 7,
   "metadata": {},
   "outputs": [],
   "source": [
    "config = PassManagerConfig.from_backend(backend=backend, seed_transpiler=230804)\n",
    "original_pm = level_1_pass_manager(config)\n",
    "pm_with_rx_angle_pass = level_1_pass_manager(config)"
   ]
  },
  {
   "cell_type": "code",
   "execution_count": 9,
   "metadata": {},
   "outputs": [],
   "source": [
    "pm_with_rx_angle_pass.stages\n",
    "pm_with_rx_angle_pass.post_optimization = PassManager(\n",
    "    RXCalibrationBuilder(target=backend.target, resolution_in_radian=0.1)\n",
    ")"
   ]
  },
  {
   "cell_type": "code",
   "execution_count": 13,
   "metadata": {},
   "outputs": [],
   "source": [
    "rx_cal_builder = RXCalibrationBuilder(target=backend.target, resolution_in_radian=0.1)"
   ]
  },
  {
   "cell_type": "code",
   "execution_count": 12,
   "metadata": {},
   "outputs": [
    {
     "data": {
      "image/png": "[encoded data removed]",
      "text/plain": [
       "<Figure size 269.064x117.056 with 1 Axes>"
      ]
     },
     "execution_count": 12,
     "metadata": {},
     "output_type": "execute_result"
    }
   ],
   "source": [
    "qc = QuantumCircuit(1)\n",
    "qc.rx(0.3, 0)\n",
    "qc.rx(0.303, 0)\n",
    "qc.draw(\"mpl\")"
   ]
  },
  {
   "cell_type": "code",
   "execution_count": 14,
   "metadata": {},
   "outputs": [],
   "source": [
    "tc = rx_cal_builder(qc)"
   ]
  },
  {
   "cell_type": "code",
   "execution_count": 15,
   "metadata": {},
   "outputs": [
    {
     "data": {
      "image/png": "[encoded data removed]",
      "text/plain": [
       "<Figure size 436.286x117.056 with 1 Axes>"
      ]
     },
     "execution_count": 15,
     "metadata": {},
     "output_type": "execute_result"
    }
   ],
   "source": [
    "tc.draw(\"mpl\")"
   ]
  },
  {
   "cell_type": "code",
   "execution_count": 16,
   "metadata": {},
   "outputs": [
    {
     "data": {
      "text/plain": [
       "{0: array([0.3])}"
      ]
     },
     "execution_count": 16,
     "metadata": {},
     "output_type": "execute_result"
    }
   ],
   "source": [
    "rx_cal_builder.already_generated"
   ]
  },
  {
   "cell_type": "code",
   "execution_count": 17,
   "metadata": {},
   "outputs": [
    {
     "data": {
      "text/plain": [
       "{'rx': {((0,),\n",
       "   (0.3,)): ScheduleBlock(Play(Drag(duration=160, sigma=40, beta=-2.4030014266125312, amp=0.02219793978081927, angle=0), DriveChannel(0)), name=\"block0\", transform=AlignLeft()),\n",
       "  ((0,),\n",
       "   (0.303,)): ScheduleBlock(Play(Drag(duration=160, sigma=40, beta=-2.4030014266125312, amp=0.02219793978081927, angle=0), DriveChannel(0)), name=\"block0\", transform=AlignLeft())}}"
      ]
     },
     "execution_count": 17,
     "metadata": {},
     "output_type": "execute_result"
    }
   ],
   "source": [
    "tc.calibrations"
   ]
  },
  {
   "cell_type": "code",
   "execution_count": 18,
   "metadata": {},
   "outputs": [
    {
     "data": {
      "text/plain": [
       "ParameterView([])"
      ]
     },
     "execution_count": 18,
     "metadata": {},
     "output_type": "execute_result"
    }
   ],
   "source": []
  },
  {
   "cell_type": "code",
   "execution_count": null,
   "metadata": {},
   "outputs": [],
   "source": []
  }
 ],
 "metadata": {
  "kernelspec": {
   "display_name": "jaeun_env",
   "language": "python",
   "name": "python3"
  },
  "language_info": {
   "codemirror_mode": {
    "name": "ipython",
    "version": 3
   },
   "file_extension": ".py",
   "mimetype": "text/x-python",
   "name": "python",
   "nbconvert_exporter": "python",
   "pygments_lexer": "ipython3",
   "version": "3.11.3"
  },
  "orig_nbformat": 4
 },
 "nbformat": 4,
 "nbformat_minor": 2
}
