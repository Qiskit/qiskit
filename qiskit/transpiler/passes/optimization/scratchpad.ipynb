{
 "cells": [
  {
   "cell_type": "code",
   "execution_count": 1,
   "metadata": {},
   "outputs": [],
   "source": [
    "from qiskit import QuantumCircuit\n",
    "from qiskit.circuit.library.standard_gates import RXGate, RZGate, HGate, CXGate, SXGate\n",
    "from qiskit.dagcircuit import DAGCircuit\n",
    "from qiskit import QuantumRegister, ClassicalRegister, QuantumCircuit\n",
    "from qiskit.converters import circuit_to_dag\n",
    "from qiskit.providers.fake_provider import FakeBelemV2\n",
    "from qiskit.transpiler import InstructionProperties, PassManagerConfig, PassManager\n",
    "from qiskit.transpiler.preset_passmanagers import level_1_pass_manager\n",
    "from qiskit.circuit import Parameter, Instruction\n",
    "\n",
    "import numpy as np"
   ]
  },
  {
   "cell_type": "code",
   "execution_count": 4,
   "metadata": {},
   "outputs": [
    {
     "ename": "SyntaxError",
     "evalue": "invalid syntax (658745864.py, line 1)",
     "output_type": "error",
     "traceback": [
      "\u001b[0;36m  Cell \u001b[0;32mIn[4], line 1\u001b[0;36m\u001b[0m\n\u001b[0;31m    from ../calibration.builders import RXCalibrationBuilder\u001b[0m\n\u001b[0m           ^\u001b[0m\n\u001b[0;31mSyntaxError\u001b[0m\u001b[0;31m:\u001b[0m invalid syntax\n"
     ]
    }
   ],
   "source": [
    "from normalize_rx_angle import NormalizeRXAngle"
   ]
  },
  {
   "cell_type": "code",
   "execution_count": 3,
   "metadata": {},
   "outputs": [],
   "source": [
    "backend = FakeBelemV2()\n",
    "\n",
    "# adding RX gates to backend\n",
    "rx_properties = {(i,): InstructionProperties() for i in range(backend.num_qubits)}\n",
    "backend.target.add_instruction(RXGate(Parameter(\"theta\")), properties=rx_properties)"
   ]
  },
  {
   "cell_type": "code",
   "execution_count": 4,
   "metadata": {},
   "outputs": [],
   "source": [
    "config = PassManagerConfig.from_backend(backend=backend, seed_transpiler=230804)\n",
    "original_pm = level_1_pass_manager(config)\n",
    "pm_with_rx_angle_pass = level_1_pass_manager(config)"
   ]
  },
  {
   "cell_type": "code",
   "execution_count": 5,
   "metadata": {},
   "outputs": [],
   "source": [
    "pm_with_rx_angle_pass.stages\n",
    "pm_with_rx_angle_pass.post_optimization = PassManager(NormalizeRXAngle(backend.target))"
   ]
  },
  {
   "cell_type": "code",
   "execution_count": 6,
   "metadata": {},
   "outputs": [],
   "source": [
    "# pm_with_rx_angle_pass.passes()"
   ]
  },
  {
   "cell_type": "code",
   "execution_count": 7,
   "metadata": {},
   "outputs": [
    {
     "data": {
      "image/png": "[encoded data removed]",
      "text/plain": [
       "<Figure size 538.33x367.889 with 1 Axes>"
      ]
     },
     "execution_count": 7,
     "metadata": {},
     "output_type": "execute_result"
    }
   ],
   "source": [
    "# some random circuit\n",
    "q = QuantumRegister(3, \"q\")\n",
    "c = ClassicalRegister(3, \"c\")\n",
    "circ = QuantumCircuit(q, c)\n",
    "circ.rx(1.5 * np.pi, q[0])\n",
    "circ.sx(q[1])\n",
    "circ.cx(q[0], q[1])\n",
    "circ.rx(0.7, q[0])\n",
    "circ.rx(-0.4, q[1])\n",
    "circ.rz(0.3, q[2])\n",
    "circ.rx(-np.pi / 2, q[2])\n",
    "circ.measure(q[0], c[0])\n",
    "circ.rz(0.5, q[1]).c_if(c, 2)\n",
    "circ.draw(output=\"mpl\")"
   ]
  },
  {
   "cell_type": "code",
   "execution_count": 10,
   "metadata": {},
   "outputs": [],
   "source": [
    "# transpiled_circuit = pm_with_rx_angle_pass.run(circ)\n",
    "transpiled_circuit = original_pm.run(circ)"
   ]
  },
  {
   "cell_type": "code",
   "execution_count": 19,
   "metadata": {},
   "outputs": [
    {
     "data": {
      "text/plain": [
       "CircuitInstruction(operation=Instruction(name='rx', num_qubits=1, num_clbits=0, params=[-1.5707963267948968]), qubits=(Qubit(QuantumRegister(5, 'q'), 0),), clbits=())"
      ]
     },
     "execution_count": 19,
     "metadata": {},
     "output_type": "execute_result"
    }
   ],
   "source": [
    "transpiled_circuit[0]"
   ]
  },
  {
   "cell_type": "code",
   "execution_count": 22,
   "metadata": {},
   "outputs": [
    {
     "data": {
      "text/plain": [
       "[-1.5707963267948968]"
      ]
     },
     "execution_count": 22,
     "metadata": {},
     "output_type": "execute_result"
    }
   ],
   "source": [
    "transpiled_circuit[0].operation.params"
   ]
  },
  {
   "cell_type": "code",
   "execution_count": 11,
   "metadata": {},
   "outputs": [],
   "source": [
    "dag = circuit_to_dag(transpiled_circuit)"
   ]
  },
  {
   "cell_type": "code",
   "execution_count": 12,
   "metadata": {},
   "outputs": [
    {
     "ename": "AttributeError",
     "evalue": "'DAGCircuit' object has no attribute 'find_bit'",
     "output_type": "error",
     "traceback": [
      "\u001b[0;31m---------------------------------------------------------------------------\u001b[0m",
      "\u001b[0;31mAttributeError\u001b[0m                            Traceback (most recent call last)",
      "Cell \u001b[0;32mIn[12], line 1\u001b[0m\n\u001b[0;32m----> 1\u001b[0m dag\u001b[39m.\u001b[39;49mfind_bit(op_node\u001b[39m.\u001b[39mqargs)\n",
      "\u001b[0;31mAttributeError\u001b[0m: 'DAGCircuit' object has no attribute 'find_bit'"
     ]
    }
   ],
   "source": [
    "dag.find_bit(op_node.qargs)"
   ]
  },
  {
   "cell_type": "code",
   "execution_count": 16,
   "metadata": {},
   "outputs": [
    {
     "name": "stdout",
     "output_type": "stream",
     "text": [
      "Instruction(name='rx', num_qubits=1, num_clbits=0, params=[-1.5707963267948968])\n",
      "Instruction(name='rx', num_qubits=1, num_clbits=0, params=[1.5707963267948966])\n",
      "Instruction(name='cx', num_qubits=2, num_clbits=0, params=[])\n",
      "Instruction(name='rx', num_qubits=1, num_clbits=0, params=[0.7])\n",
      "Instruction(name='rx', num_qubits=1, num_clbits=0, params=[-0.4])\n",
      "Instruction(name='rz', num_qubits=1, num_clbits=0, params=[0.2999999999999998])\n",
      "Instruction(name='rx', num_qubits=1, num_clbits=0, params=[-1.5707963267948966])\n",
      "Instruction(name='measure', num_qubits=1, num_clbits=1, params=[])\n",
      "Instruction(name='rz', num_qubits=1, num_clbits=0, params=[0.5])\n"
     ]
    }
   ],
   "source": [
    "for op_node in dag.op_nodes():\n",
    "    print(op_node.op)"
   ]
  },
  {
   "cell_type": "code",
   "execution_count": 12,
   "metadata": {},
   "outputs": [
    {
     "ename": "NameError",
     "evalue": "name 'dag' is not defined",
     "output_type": "error",
     "traceback": [
      "\u001b[0;31m---------------------------------------------------------------------------\u001b[0m",
      "\u001b[0;31mNameError\u001b[0m                                 Traceback (most recent call last)",
      "Cell \u001b[0;32mIn[12], line 1\u001b[0m\n\u001b[0;32m----> 1\u001b[0m dag\u001b[39m.\u001b[39mproperties()\n",
      "\u001b[0;31mNameError\u001b[0m: name 'dag' is not defined"
     ]
    }
   ],
   "source": [
    "dag.properties()"
   ]
  },
  {
   "cell_type": "code",
   "execution_count": 13,
   "metadata": {},
   "outputs": [
    {
     "data": {
      "text/plain": [
       "dict_keys(['id', 'rz', 'sx', 'x', 'cx', 'reset', 'measure', 'delay', 'rx'])"
      ]
     },
     "execution_count": 13,
     "metadata": {},
     "output_type": "execute_result"
    }
   ],
   "source": [
    "backend.target.operation_names"
   ]
  },
  {
   "cell_type": "code",
   "execution_count": 20,
   "metadata": {},
   "outputs": [
    {
     "data": {
      "text/plain": [
       "True"
      ]
     },
     "execution_count": 20,
     "metadata": {},
     "output_type": "execute_result"
    }
   ],
   "source": [
    "backend.target.has_calibration(\"sx\", (0,))"
   ]
  },
  {
   "cell_type": "code",
   "execution_count": 29,
   "metadata": {},
   "outputs": [
    {
     "data": {
      "text/plain": [
       "4"
      ]
     },
     "execution_count": 29,
     "metadata": {},
     "output_type": "execute_result"
    }
   ],
   "source": [
    "circ.count_ops()[\"rx\"]"
   ]
  },
  {
   "cell_type": "code",
   "execution_count": 35,
   "metadata": {},
   "outputs": [
    {
     "data": {
      "text/plain": [
       "{}"
      ]
     },
     "execution_count": 35,
     "metadata": {},
     "output_type": "execute_result"
    }
   ],
   "source": [
    "transpiled_circuit.calibrations[\"rx\"]"
   ]
  },
  {
   "cell_type": "code",
   "execution_count": null,
   "metadata": {},
   "outputs": [],
   "source": []
  }
 ],
 "metadata": {
  "kernelspec": {
   "display_name": "jaeun_env",
   "language": "python",
   "name": "python3"
  },
  "language_info": {
   "codemirror_mode": {
    "name": "ipython",
    "version": 3
   },
   "file_extension": ".py",
   "mimetype": "text/x-python",
   "name": "python",
   "nbconvert_exporter": "python",
   "pygments_lexer": "ipython3",
   "version": "3.11.3"
  },
  "orig_nbformat": 4
 },
 "nbformat": 4,
 "nbformat_minor": 2
}
